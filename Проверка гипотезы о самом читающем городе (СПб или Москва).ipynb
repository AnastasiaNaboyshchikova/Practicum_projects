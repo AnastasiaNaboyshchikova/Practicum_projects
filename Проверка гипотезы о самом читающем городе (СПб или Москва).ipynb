{
 "cells": [
  {
   "cell_type": "markdown",
   "id": "_E41Wr5fqnFT",
   "metadata": {
    "id": "_E41Wr5fqnFT"
   },
   "source": [
    "# Часть 1. Проверка гипотезы в Python и составление аналитической записки"
   ]
  },
  {
   "cell_type": "markdown",
   "id": "Z5_6nf-FrY7o",
   "metadata": {
    "id": "Z5_6nf-FrY7o"
   },
   "source": [
    "Вы предобработали данные в SQL, и теперь они готовы для проверки гипотезы в Python. Загрузите данные пользователей из Москвы и Санкт-Петербурга c суммой часов их активности из файла yandex_knigi_data.csv. Если работаете локально, скачать файл можно по ссылке.\n",
    "\n",
    "Проверьте наличие дубликатов в идентификаторах пользователей. Сравните размеры групп, их статистики и распределение.\n",
    "\n",
    "Напомним, как выглядит гипотеза: пользователи из Санкт-Петербурга проводят в среднем больше времени за чтением и прослушиванием книг в приложении, чем пользователи из Москвы. Попробуйте статистически это доказать, используя одностороннюю проверку гипотезы с двумя выборками:\n",
    "\n",
    "Нулевая гипотеза $H_0: \\mu_{\\text{СПб}} \\leq \\mu_{\\text{Москва}}$ <br> Среднее время активности пользователей в Санкт-Петербурге не больше, чем в Москве.\n",
    "\n",
    "Альтернативная гипотеза $H_1: \\mu_{\\text{СПб}} > \\mu_{\\text{Москва}}$ <br> Среднее время активности пользователей в Санкт-Петербурге больше, и это различие статистически значимо.\n",
    "\n",
    "По результатам анализа данных подготовьте аналитическую записку, в которой опишите:\n",
    "\n",
    "Выбранный тип t-теста и уровень статистической значимости.\n",
    "\n",
    "Результат теста, или p-value.\n",
    "\n",
    "Вывод на основе полученного p-value, то есть интерпретацию результатов.\n",
    "\n",
    "Одну или две возможные причины, объясняющие полученные результаты."
   ]
  },
  {
   "cell_type": "markdown",
   "id": "e06910dd",
   "metadata": {
    "id": "e06910dd"
   },
   "source": [
    "# Проверка гипотезы в Python, что пользователи из Санкт-Петербурга проводят в среднем больше времени за чтением и прослушиванием книг в приложении, чем пользователи из Москвы.\n",
    "\n",
    "- Автор: Набойщикова Анастасия Дмитриевна\n",
    "- Дата: 11.06.2025"
   ]
  },
  {
   "cell_type": "markdown",
   "id": "4149134c",
   "metadata": {
    "id": "4149134c"
   },
   "source": [
    "## Цели и задачи проекта\n",
    "\n",
    "<font color='#777778'>В этом блоке перечислите цель проекта и те задачи, которые вы решаете. Можно использовать описания проекта, но будет полезно, если вы сформулируете основную цель проекта самостоятельно.</font>\n",
    "\n",
    "Основной целью проекта является проведение анализа данных пользователей из двух городов — Москвы и Санкт-Петербурга, с целью проверки гипотезы о том, что пользователи из Санкт-Петербурга проводят больше времени за чтением и прослушиванием книг в приложении, чем пользователи из Москвы.  \n",
    "\n",
    "Проект включает в себя два этапа:  \n",
    "\n",
    "Проверка гипотезы о различиях в среднем времени активности между пользователями из Санкт-Петербурга и Москвы с использованием t-теста.  \n",
    "\n",
    "Оценка результатов A/B-тестирования для анализа влияния нового интерфейса на конверсию пользователей в покупателей в интернет-магазине BitMotion Kit.\n",
    "\n"
   ]
  },
  {
   "cell_type": "markdown",
   "id": "728986ea",
   "metadata": {
    "id": "728986ea"
   },
   "source": [
    "## Описание данных  \n",
    "\n",
    "Данные:  \n",
    "    \n",
    "https://code.s3.yandex.net/datasets/yandex_knigi_data.csv — файл с суммой часов их активности пользователей из Москвы и Санкт-Петербурга.  \n",
    "\n",
    "Структура файла:  \n",
    "\n",
    "- city — название города, в котором зарегистрирован пользователь;  \n",
    "- puid — уникальный идентификатор пользователя;  \n",
    "- hours — количество часов, проведённых пользователем в сервисе.  \n"
   ]
  },
  {
   "cell_type": "markdown",
   "id": "4fecaf95",
   "metadata": {
    "id": "4fecaf95"
   },
   "source": [
    "## Содержимое проекта\n",
    "\n",
    "<font color='#777778'>Перечислите основные шаги проекта или напишите оглавление. Используйте описание проекта, чтобы зафиксировать основные шаги.</font>\n",
    "\n",
    "- Загрузка и предварительный анализ данных.  \n",
    "- Очистка данных: удаление дубликатов.  \n",
    "- Разделение данных по группам.  \n",
    "\n",
    "Исследовательский анализ:  \n",
    "- статистики распределений,  \n",
    "- визуализация,  \n",
    "- проверка нормальности распределения.   \n",
    "- Проверка гипотезы (односторонний Welch’s t-test).  \n",
    "- Интерпретация результатов.  \n",
    "- Выводы и рекомендации. "
   ]
  },
  {
   "cell_type": "markdown",
   "id": "6f7d21d6",
   "metadata": {
    "id": "6f7d21d6"
   },
   "source": [
    "## 1. Загрузка данных и знакомство с ними\n",
    "\n",
    "Загрузите данные пользователей из Москвы и Санкт-Петербурга c их активностью (суммой часов чтения и прослушивания) из файла `/datasets/yandex_knigi_data.csv`."
   ]
  },
  {
   "cell_type": "code",
   "execution_count": 1,
   "id": "05faf34b",
   "metadata": {
    "id": "05faf34b"
   },
   "outputs": [],
   "source": [
    "import pandas as pd"
   ]
  },
  {
   "cell_type": "code",
   "execution_count": 2,
   "id": "ce87c1db",
   "metadata": {
    "id": "ce87c1db"
   },
   "outputs": [],
   "source": [
    "data = pd.read_csv('/datasets/yandex_knigi_data.csv')"
   ]
  },
  {
   "cell_type": "code",
   "execution_count": 3,
   "id": "f68a7419",
   "metadata": {
    "id": "f68a7419"
   },
   "outputs": [
    {
     "data": {
      "text/html": [
       "<div>\n",
       "<style scoped>\n",
       "    .dataframe tbody tr th:only-of-type {\n",
       "        vertical-align: middle;\n",
       "    }\n",
       "\n",
       "    .dataframe tbody tr th {\n",
       "        vertical-align: top;\n",
       "    }\n",
       "\n",
       "    .dataframe thead th {\n",
       "        text-align: right;\n",
       "    }\n",
       "</style>\n",
       "<table border=\"1\" class=\"dataframe\">\n",
       "  <thead>\n",
       "    <tr style=\"text-align: right;\">\n",
       "      <th></th>\n",
       "      <th>Unnamed: 0</th>\n",
       "      <th>city</th>\n",
       "      <th>puid</th>\n",
       "      <th>hours</th>\n",
       "    </tr>\n",
       "  </thead>\n",
       "  <tbody>\n",
       "    <tr>\n",
       "      <th>0</th>\n",
       "      <td>0</td>\n",
       "      <td>Москва</td>\n",
       "      <td>9668</td>\n",
       "      <td>26.167776</td>\n",
       "    </tr>\n",
       "    <tr>\n",
       "      <th>1</th>\n",
       "      <td>1</td>\n",
       "      <td>Москва</td>\n",
       "      <td>16598</td>\n",
       "      <td>82.111217</td>\n",
       "    </tr>\n",
       "    <tr>\n",
       "      <th>2</th>\n",
       "      <td>2</td>\n",
       "      <td>Москва</td>\n",
       "      <td>80401</td>\n",
       "      <td>4.656906</td>\n",
       "    </tr>\n",
       "    <tr>\n",
       "      <th>3</th>\n",
       "      <td>3</td>\n",
       "      <td>Москва</td>\n",
       "      <td>140205</td>\n",
       "      <td>1.840556</td>\n",
       "    </tr>\n",
       "    <tr>\n",
       "      <th>4</th>\n",
       "      <td>4</td>\n",
       "      <td>Москва</td>\n",
       "      <td>248755</td>\n",
       "      <td>151.326434</td>\n",
       "    </tr>\n",
       "  </tbody>\n",
       "</table>\n",
       "</div>"
      ],
      "text/plain": [
       "   Unnamed: 0    city    puid       hours\n",
       "0           0  Москва    9668   26.167776\n",
       "1           1  Москва   16598   82.111217\n",
       "2           2  Москва   80401    4.656906\n",
       "3           3  Москва  140205    1.840556\n",
       "4           4  Москва  248755  151.326434"
      ]
     },
     "execution_count": 3,
     "metadata": {},
     "output_type": "execute_result"
    }
   ],
   "source": [
    "data.head()"
   ]
  },
  {
   "cell_type": "code",
   "execution_count": 4,
   "id": "dc2b250f",
   "metadata": {},
   "outputs": [
    {
     "name": "stdout",
     "output_type": "stream",
     "text": [
      "<class 'pandas.core.frame.DataFrame'>\n",
      "RangeIndex: 8784 entries, 0 to 8783\n",
      "Data columns (total 4 columns):\n",
      " #   Column      Non-Null Count  Dtype  \n",
      "---  ------      --------------  -----  \n",
      " 0   Unnamed: 0  8784 non-null   int64  \n",
      " 1   city        8784 non-null   object \n",
      " 2   puid        8784 non-null   int64  \n",
      " 3   hours       8784 non-null   float64\n",
      "dtypes: float64(1), int64(2), object(1)\n",
      "memory usage: 274.6+ KB\n"
     ]
    }
   ],
   "source": [
    "data.info()"
   ]
  },
  {
   "cell_type": "markdown",
   "id": "dd5d83eb",
   "metadata": {},
   "source": [
    "___Строк: 8784  \n",
    "Колонок: 4   \n",
    "Во всех колонках одинаковое количество строк, пропусков нет  \n",
    "Типы данных в столбцах: float64, int64, object___  "
   ]
  },
  {
   "cell_type": "markdown",
   "id": "956e82e2",
   "metadata": {
    "id": "956e82e2"
   },
   "source": [
    "## 2. Проверка гипотезы в Python\n",
    "\n",
    "Гипотеза звучит так: пользователи из Санкт-Петербурга проводят в среднем больше времени за чтением и прослушиванием книг в приложении, чем пользователи из Москвы. Попробуйте статистически это доказать, используя одностороннюю проверку гипотезы с двумя выборками:\n",
    "\n",
    "- Нулевая гипотеза H₀: Средняя активность пользователей в часах в двух группах (Москва и Санкт-Петербург) не различается.\n",
    "\n",
    "- Альтернативная гипотеза H₁: Средняя активность пользователей в Санкт-Петербурге больше, и это различие статистически значимо."
   ]
  },
  {
   "cell_type": "code",
   "execution_count": 5,
   "id": "33b12a57",
   "metadata": {},
   "outputs": [
    {
     "name": "stdout",
     "output_type": "stream",
     "text": [
      "Количество дубликатов пользователей: 244\n",
      "Общее количество пользователей до удаления дубликатов: 8784\n",
      "Количество пользователей после удаления дубликатов: 8540\n"
     ]
    }
   ],
   "source": [
    "# Проверяем данные на дубликаты \n",
    "duplicate_puids = data[data.duplicated(subset='puid')]\n",
    "\n",
    "# Подсчитаем количество дубликатов\n",
    "num_duplicates = len(duplicate_puids)\n",
    "\n",
    "# Выводим количество дубликатов\n",
    "print(f\"Количество дубликатов пользователей: {num_duplicates}\")\n",
    "\n",
    "# Подсчитаем общее количество пользователей до удаления дубликатов\n",
    "print(f\"Общее количество пользователей до удаления дубликатов: {len(data)}\")\n",
    "\n",
    "# Удалим дубликаты пользователей\n",
    "data_cleaned = data.drop_duplicates(subset='puid', keep='first')\n",
    "\n",
    "# Подсчитаем количество пользователей после удаления дубликатов\n",
    "print(f\"Количество пользователей после удаления дубликатов: {len(data_cleaned)}\")"
   ]
  },
  {
   "cell_type": "markdown",
   "id": "1c2d3525",
   "metadata": {},
   "source": [
    "___Были выявлены и удалены 244 дубликата___"
   ]
  },
  {
   "cell_type": "code",
   "execution_count": 6,
   "id": "cdce5182",
   "metadata": {},
   "outputs": [
    {
     "name": "stdout",
     "output_type": "stream",
     "text": [
      "Количество пользователей в Москве: 6234\n",
      "Количество пользователей в Санкт-Петербурге: 2306\n",
      "\n",
      "Статистика для Москвы:\n",
      "count    6234.000000\n",
      "mean       10.881092\n",
      "std        36.851683\n",
      "min         0.000018\n",
      "25%         0.059903\n",
      "50%         0.924498\n",
      "75%         5.939972\n",
      "max       857.209373\n",
      "Name: hours, dtype: float64\n",
      "\n",
      "Статистика для Санкт-Петербурга:\n",
      "count    2306.000000\n",
      "mean       11.264433\n",
      "std        39.831755\n",
      "min         0.000025\n",
      "25%         0.060173\n",
      "50%         0.875355\n",
      "75%         6.138424\n",
      "max       978.764775\n",
      "Name: hours, dtype: float64\n"
     ]
    },
    {
     "data": {
      "image/png": "[encoded data removed]",
      "text/plain": [
       "<Figure size 1008x432 with 1 Axes>"
      ]
     },
     "metadata": {
      "needs_background": "light"
     },
     "output_type": "display_data"
    }
   ],
   "source": [
    "import matplotlib.pyplot as plt\n",
    "\n",
    "# Разделим данные на группы по городам\n",
    "moscow_data_cleaned = data_cleaned[data_cleaned['city'] == 'Москва']\n",
    "spb_data_cleaned = data_cleaned[data_cleaned['city'] == 'Санкт-Петербург']\n",
    "\n",
    "# Подсчитаем количество пользователей в каждой группе\n",
    "print(f\"Количество пользователей в Москве: {len(moscow_data_cleaned)}\")\n",
    "print(f\"Количество пользователей в Санкт-Петербурге: {len(spb_data_cleaned)}\")\n",
    "\n",
    "# Выведем статистику по обеим группам\n",
    "moscow_stats_cleaned = moscow_data_cleaned['hours'].describe()\n",
    "spb_stats_cleaned = spb_data_cleaned['hours'].describe()\n",
    "\n",
    "print(\"\\nСтатистика для Москвы:\")\n",
    "print(moscow_stats_cleaned)\n",
    "\n",
    "print(\"\\nСтатистика для Санкт-Петербурга:\")\n",
    "print(spb_stats_cleaned)\n",
    "\n",
    "# Визуализируем распределение данных по группам \n",
    "plt.figure(figsize=(14, 6))\n",
    "\n",
    "# Гистограмма для Москвы\n",
    "plt.hist(moscow_data_cleaned['hours'], bins=30, alpha=0.6, label='Москва', color='orange')\n",
    "\n",
    "# Гистограмма для Санкт-Петербурга\n",
    "plt.hist(spb_data_cleaned['hours'], bins=30, alpha=0.6, label='Санкт-Петербург', color='green')\n",
    "\n",
    "# Устанавливаем диапазон оси X от 0 до 300 (для лучшей наглядности)\n",
    "plt.xlim(0, 300)\n",
    "\n",
    "# Добавляем сетку на график (для лучшей читаемости)\n",
    "plt.grid(True, which='both', axis='both', linestyle='--', linewidth=0.5)\n",
    "\n",
    "# Добавляем заголовок и подписи осей\n",
    "plt.title('Сравнение распределеня часов активности пользователей в Москве и Санкт-Петербурге', fontsize=14)\n",
    "plt.xlabel('Часы активности', fontsize=12)\n",
    "plt.ylabel('Количество пользователей', fontsize=12)\n",
    "\n",
    "# Легенда\n",
    "plt.legend()\n",
    "\n",
    "# Покажем график\n",
    "plt.show()"
   ]
  },
  {
   "cell_type": "markdown",
   "id": "6c80e603",
   "metadata": {},
   "source": [
    "___Всего пользователей: 8540  \n",
    "Количество пользователей в Москве: 6234  \n",
    "Количество пользователей в Санкт-Петербурге: 2306___\n",
    "\n",
    "___Для проверки нашей гипотезы мы выберем односторонний t-тест для независимых выборок (Welch's t-test) по следующим причинам:___  \n",
    "___- Независимость выборок: наши группы пользователей из Москвы и Санкт-Петербурга представляют собой независимые выборки, так как активность пользователей из одного города никак не зависит от активности пользователей из другого.___    \n",
    "___- Нормальность распределения: t-тест устойчив к умеренным нарушениям нормального распределения.___  \n",
    "___- Несоответствие дисперсий: мы не знаем, похожи ли колебания активности в Москве и Санкт-петерьурге. Поэтому используем вариант t-теста, допускающий разные дисперсии (Welch's t-test).___. "
   ]
  },
  {
   "cell_type": "markdown",
   "id": "4f58fd85",
   "metadata": {},
   "source": [
    "___Нулевая гипотеза H₀: Среднее время активности пользователей в Москве и Санкт-Петербурге одинаково.  \n",
    "Альтернативная гипотеза H₁: Среднее время активности пользователей в Санкт-Петербурге больше.___"
   ]
  },
  {
   "cell_type": "code",
   "execution_count": 7,
   "id": "91c237ae",
   "metadata": {},
   "outputs": [
    {
     "name": "stdout",
     "output_type": "stream",
     "text": [
      "\n",
      "Результаты t-теста:\n",
      "t-статистика: 0.4028\n",
      "p-значение: 0.3436\n",
      "Нулевая гипотеза принимается. Наблюдается недостаточное доказательство различия в активности пользователей (p=0.3436).\n"
     ]
    }
   ],
   "source": [
    "import scipy.stats as stats\n",
    "\n",
    "# Проведем t-тест для проверки гипотезы\n",
    "\n",
    "t_statistic, p_value = stats.ttest_ind(spb_data_cleaned['hours'], moscow_data_cleaned['hours'], equal_var=False, alternative='greater')\n",
    "\n",
    "# Уровень значимости (стандартный уровень)\n",
    "alpha = 0.05\n",
    "\n",
    "# Выводим результаты t-теста\n",
    "print(f\"\\nРезультаты t-теста:\")\n",
    "print(f\"t-статистика: {t_statistic:.4f}\")\n",
    "print(f\"p-значение: {p_value:.4f}\")\n",
    "\n",
    "# Интерпретация результатов\n",
    "if p_value < alpha:\n",
    "    print(f\"Нулевая гипотеза отклоняется. Существует значительное различие в активности пользователей в пользу Санкт-Петербурга (p={p_value:.4f}).\")\n",
    "else:\n",
    "    print(f\"Нулевая гипотеза принимается. Наблюдается недостаточное доказательство различия в активности пользователей (p={p_value:.4f}).\")\n",
    "\n"
   ]
  },
  {
   "cell_type": "markdown",
   "id": "68da863b",
   "metadata": {},
   "source": [
    "___Полученные результаты t-теста свидетельствуют о том, что нет статистически значимой разницы в активности пользователей из Москвы и Санкт-Петербурга. Различия, если они и имеются, настолько малы, что не превышают порог статистической значимости (p = 0.3436).___"
   ]
  },
  {
   "cell_type": "markdown",
   "id": "6953e84c",
   "metadata": {
    "id": "6953e84c"
   },
   "source": [
    "## 3. Аналитическая записка\n",
    "По результатам анализа данных подготовьте аналитическую записку, в которой опишете:\n",
    "\n",
    "- Выбранный тип t-теста и уровень статистической значимости.\n",
    "\n",
    "- Результат теста, или p-value.\n",
    "\n",
    "- Вывод на основе полученного p-value, то есть интерпретацию результатов.\n",
    "\n",
    "- Одну или две возможные причины, объясняющие полученные результаты.\n",
    "\n"
   ]
  },
  {
   "cell_type": "markdown",
   "id": "hc1d6jVISegz",
   "metadata": {
    "id": "hc1d6jVISegz"
   },
   "source": [
    "___1. Выбранный тип t-теста и уровень значимости:___  \n",
    "\n",
    "Использовался односторонний t-тест для независимых выборок (Welch's t-test).  \n",
    "Уровень значимости α=0.05.  \n",
    "\n",
    "___2. Результат теста (p-value):___  \n",
    "\n",
    "t-статистика: 0.4028  \n",
    "p-value: 0.3436  \n",
    "\n",
    "___3. Вывод на основе p-value:___ \n",
    "\n",
    "Так как p-value (0.3436) больше уровня значимости (α=0.05), соответсвенно нулевая гипотеза принимается.  \n",
    "Между активностью пользователей из Москвы и Санкт-Петербурга нет статистически значимой разницы.  \n",
    "\n",
    "___4. Возможные причины отсутствия различий:___  \n",
    "\n",
    "Маленькая выборка для Санкт-Петербурга (всего 2306 пользователей против 6234 в Москве).  \n",
    "Похожие привычки и модели поведения пользователей в обоих городах."
   ]
  },
  {
   "cell_type": "markdown",
   "id": "NqOUIYhbrIfC",
   "metadata": {
    "id": "NqOUIYhbrIfC"
   },
   "source": [
    "# Часть 2. Анализ результатов A/B-тестирования"
   ]
  },
  {
   "cell_type": "markdown",
   "id": "tDwMKFNGsClr",
   "metadata": {
    "id": "tDwMKFNGsClr"
   },
   "source": [
    "Теперь вам нужно проанализировать другие данные. Представьте, что к вам обратились представители интернет-магазина BitMotion Kit, в котором продаются геймифицированные товары для тех, кто ведёт здоровый образ жизни. У него есть своя целевая аудитория, даже появились хиты продаж: эспандер со счётчиком и напоминанием, так и подстольный велотренажёр с Bluetooth.\n",
    "\n",
    "В будущем компания хочет расширить ассортимент товаров. Но перед этим нужно решить одну проблему. Интерфейс онлайн-магазина слишком сложен для пользователей — об этом говорят отзывы.\n",
    "\n",
    "Чтобы привлечь новых клиентов и увеличить число продаж, владельцы магазина разработали новую версию сайта и протестировали его на части пользователей. По задумке, это решение доказуемо повысит количество пользователей, которые совершат покупку.\n",
    "\n",
    "Ваша задача — провести оценку результатов A/B-теста. В вашем распоряжении:\n",
    "\n",
    "* данные о действиях пользователей и распределении их на группы,\n",
    "\n",
    "* техническое задание.\n",
    "\n",
    "Оцените корректность проведения теста и проанализируйте его результаты."
   ]
  },
  {
   "cell_type": "markdown",
   "id": "UNXAAyF5r9Rk",
   "metadata": {
    "id": "UNXAAyF5r9Rk"
   },
   "source": [
    "## 1. Опишите цели исследования.\n",
    "\n"
   ]
  },
  {
   "cell_type": "markdown",
   "id": "kHx-51yES8bd",
   "metadata": {
    "id": "kHx-51yES8bd"
   },
   "source": [
    "Цель исследования — оценить влияние новой версии интерфейса сайта на поведение пользователей. Ожидаемый эффект — увеличение доли пользователей, совершающих покупку."
   ]
  },
  {
   "cell_type": "markdown",
   "id": "_CZryx2OsH-s",
   "metadata": {
    "id": "_CZryx2OsH-s"
   },
   "source": [
    "## 2. Загрузите данные, оцените их целостность.\n"
   ]
  },
  {
   "cell_type": "code",
   "execution_count": 8,
   "id": "DjFcJbeGsTIg",
   "metadata": {
    "id": "DjFcJbeGsTIg"
   },
   "outputs": [],
   "source": [
    "participants = pd.read_csv('https://code.s3.yandex.net/datasets/ab_test_participants.csv')\n",
    "events = pd.read_csv('https://code.s3.yandex.net/datasets/ab_test_events.zip',\n",
    "                     parse_dates=['event_dt'], low_memory=False)"
   ]
  },
  {
   "cell_type": "code",
   "execution_count": 9,
   "id": "8f3c617f",
   "metadata": {},
   "outputs": [
    {
     "name": "stdout",
     "output_type": "stream",
     "text": [
      "Данные участников теста:\n",
      "<class 'pandas.core.frame.DataFrame'>\n",
      "RangeIndex: 14525 entries, 0 to 14524\n",
      "Data columns (total 4 columns):\n",
      " #   Column   Non-Null Count  Dtype \n",
      "---  ------   --------------  ----- \n",
      " 0   user_id  14525 non-null  object\n",
      " 1   group    14525 non-null  object\n",
      " 2   ab_test  14525 non-null  object\n",
      " 3   device   14525 non-null  object\n",
      "dtypes: object(4)\n",
      "memory usage: 454.0+ KB\n",
      "None\n",
      "            user_id group                  ab_test   device\n",
      "0  0002CE61FF2C4011     B        interface_eu_test      Mac\n",
      "1  001064FEAAB631A1     B  recommender_system_test  Android\n",
      "2  001064FEAAB631A1     A        interface_eu_test  Android\n",
      "3  0010A1C096941592     A  recommender_system_test  Android\n",
      "4  001E72F50D1C48FA     A        interface_eu_test      Mac\n",
      "\n",
      "Данные событий:\n",
      "<class 'pandas.core.frame.DataFrame'>\n",
      "RangeIndex: 787286 entries, 0 to 787285\n",
      "Data columns (total 4 columns):\n",
      " #   Column      Non-Null Count   Dtype         \n",
      "---  ------      --------------   -----         \n",
      " 0   user_id     787286 non-null  object        \n",
      " 1   event_dt    787286 non-null  datetime64[ns]\n",
      " 2   event_name  787286 non-null  object        \n",
      " 3   details     249022 non-null  object        \n",
      "dtypes: datetime64[ns](1), object(3)\n",
      "memory usage: 24.0+ MB\n",
      "None\n",
      "            user_id            event_dt                        event_name  \\\n",
      "0            GLOBAL 2020-12-01 00:00:00  End of Black Friday Ads Campaign   \n",
      "1  CCBE9E7E99F94A08 2020-12-01 00:00:11                      registration   \n",
      "2            GLOBAL 2020-12-01 00:00:25                      product_page   \n",
      "3  CCBE9E7E99F94A08 2020-12-01 00:00:33                             login   \n",
      "4  CCBE9E7E99F94A08 2020-12-01 00:00:52                      product_page   \n",
      "\n",
      "       details  \n",
      "0  ZONE_CODE15  \n",
      "1          0.0  \n",
      "2          NaN  \n",
      "3          NaN  \n",
      "4          NaN  \n"
     ]
    }
   ],
   "source": [
    "# Информация о данных участников теста\n",
    "print('Данные участников теста:')\n",
    "print(participants.info())\n",
    "print(participants.head())\n",
    "\n",
    "# Информация о данных событий\n",
    "print('\\nДанные событий:')\n",
    "print(events.info())\n",
    "print(events.head())"
   ]
  },
  {
   "cell_type": "markdown",
   "id": "0fdea4a8",
   "metadata": {},
   "source": [
    "___Данные участников испытаний (participants):___  \n",
    "Количество строк: 14 525.  \n",
    "Столбцы: 4   \n",
    "Во всех колонках одинаковое количество строк, пропусков нет  \n",
    "Типы данных в столбцах: object    \n",
    "\n",
    "__Данные событий (events):___  \n",
    "Количество строк: 787 286.  \n",
    "Столбцы:4  \n",
    "Во всех колонках одинаковое количество строк, пропусков есть в столбце details, но он не является для нас значимым  \n",
    "Типы данных в столбцах: datetime и object\n",
    "\n",
    "___Вывод:___  \n",
    "В данных participants и events нет пропущенных значений по ключевым столбцам, нужным для дальнейшего анализа.  \n",
    "Данные участники разбиты на две группы (A и B), каждая из которых участвовала в своем эксперименте.  "
   ]
  },
  {
   "cell_type": "markdown",
   "id": "CnzA-efasUrk",
   "metadata": {
    "id": "CnzA-efasUrk"
   },
   "source": [
    "## 3. По таблице `ab_test_participants` оцените корректность проведения теста:\n",
    "\n",
    "   3\\.1 Выделите пользователей, участвующих в тесте, и проверьте:\n",
    "\n",
    "   - соответствие требованиям технического задания,\n",
    "\n",
    "   - равномерность распределения пользователей по группам теста,\n",
    "\n",
    "   - отсутствие пересечений с конкурирующим тестом (нет пользователей, участвующих одновременно в двух тестовых группах)."
   ]
  },
  {
   "cell_type": "code",
   "execution_count": 10,
   "id": "9cddeccc",
   "metadata": {},
   "outputs": [
    {
     "name": "stdout",
     "output_type": "stream",
     "text": [
      "Количество дубликатов в participants: 0\n",
      "Количество дубликатов в events: 36318\n",
      "Количество строк в participants после удаления дубликатов: 14525\n",
      "Количество строк в events после удаления дубликатов: 750968\n"
     ]
    }
   ],
   "source": [
    "# Проверим наличие дубликатов в участниках\n",
    "dups_participants = participants.duplicated().sum()\n",
    "print(f\"Количество дубликатов в participants: {dups_participants}\")\n",
    "\n",
    "# Проверим наличие дубликатов в событиях\n",
    "dups_events = events.duplicated().sum()\n",
    "print(f\"Количество дубликатов в events: {dups_events}\")\n",
    "\n",
    "# Удалим дубликаты из участников\n",
    "participants_cleaned = participants.drop_duplicates()\n",
    "\n",
    "# Удалим дубликаты из событий\n",
    "events_cleaned = events.drop_duplicates()\n",
    "\n",
    "# Подсчитаем количество строк после удаления дубликатов\n",
    "print(f\"Количество строк в participants после удаления дубликатов: {len(participants_cleaned)}\")\n",
    "print(f\"Количество строк в events после удаления дубликатов: {len(events_cleaned)}\")"
   ]
  },
  {
   "cell_type": "code",
   "execution_count": 11,
   "id": "360bc72a",
   "metadata": {
    "scrolled": true
   },
   "outputs": [
    {
     "name": "stdout",
     "output_type": "stream",
     "text": [
      "\n",
      "Распределение пользователей по группам после чистки:\n",
      "A    4952\n",
      "B    5011\n",
      "Name: group, dtype: int64\n",
      "\n",
      "Пересечения между тестами после чистки: не обнаружены \n"
     ]
    }
   ],
   "source": [
    "# Найдём пользователей, участвующих в нескольких тестах\n",
    "crossover_check = participants_cleaned.groupby('user_id')['ab_test'].nunique()\n",
    "users_in_multiple_tests = crossover_check[crossover_check > 1]\n",
    "\n",
    "# Исключим этих пользователей из общего списка\n",
    "clean_participants = participants_cleaned[~participants_cleaned['user_id'].isin(users_in_multiple_tests.index)]\n",
    "\n",
    "# Выделим только участников теста 'interface_eu_test'\n",
    "relevant_participants = clean_participants[clean_participants['ab_test'] == 'interface_eu_test']\n",
    "\n",
    "# Проверим распределение по группам \n",
    "group_distribution = relevant_participants['group'].value_counts().loc[['A', 'B']]\n",
    "print(\"\\nРаспределение пользователей по группам после чистки:\")\n",
    "print(group_distribution)\n",
    "\n",
    "# Повторная проверка на пересечение \n",
    "crossover_check_clean = clean_participants.groupby('user_id')['ab_test'].nunique()\n",
    "users_in_multiple_tests_clean = crossover_check_clean[crossover_check_clean > 1]\n",
    "\n",
    "# Вывод по результатам проверки\n",
    "if users_in_multiple_tests_clean.empty:\n",
    "    print(\"\\nПересечения между тестами после чистки: не обнаружены \")\n",
    "else:\n",
    "    print(\"\\nПересечения между тестами после чистки: обнаружены \")\n",
    "    print(users_in_multiple_tests_clean)\n"
   ]
  },
  {
   "cell_type": "markdown",
   "id": "4cb58f0a",
   "metadata": {},
   "source": [
    "___Удалены дубликаты и участники, пересекавшиеся с другими тестами.___ \n",
    "\n",
    "___Оставлены пользователи, участвовавшие только в interface_eu_test.___  \n",
    "\n",
    "___Распределение:___\n",
    "- Группа A — 4952 пользователей\n",
    "- Группа B — 5011 пользователей\n",
    "___Распределение довольно равномерно.  \n",
    "\n",
    "___Пересечений между тестами не обнаружено.___\n"
   ]
  },
  {
   "cell_type": "markdown",
   "id": "GjulgSrlsqUU",
   "metadata": {
    "id": "GjulgSrlsqUU"
   },
   "source": [
    "3\\.2 Проанализируйте данные о пользовательской активности по таблице `ab_test_events`:\n",
    "\n",
    "- оставьте только события, связанные с участвующими в изучаемом тесте пользователями;"
   ]
  },
  {
   "cell_type": "code",
   "execution_count": 12,
   "id": "412a2f57",
   "metadata": {},
   "outputs": [
    {
     "name": "stdout",
     "output_type": "stream",
     "text": [
      "Количество событий, связанных с пользователями теста 'interface_eu_test': 68074\n",
      "Примеры событий:\n",
      "                user_id            event_dt    event_name details\n",
      "64672  5F506CEBEDC05D30 2020-12-06 14:10:01  registration     0.0\n",
      "64946  51278A006E918D97 2020-12-06 14:37:25  registration    -3.8\n",
      "66585  A0C1E8EFAD874D8B 2020-12-06 17:20:22  registration   -3.32\n",
      "67873  275A8D6254ACF530 2020-12-06 19:36:54  registration   -0.48\n",
      "67930  0B704EB2DC7FCA4B 2020-12-06 19:42:20  registration     0.0\n"
     ]
    }
   ],
   "source": [
    "# Получим список user_id, участвующих в interface_eu_test\n",
    "relevant_user_ids = relevant_participants['user_id'].unique()\n",
    "\n",
    "# Оставим только события этих пользователей\n",
    "relevant_events = events_cleaned[events_cleaned['user_id'].isin(relevant_user_ids)].copy()\n",
    "\n",
    "# Вывод результатов\n",
    "print(f\"Количество событий, связанных с пользователями теста 'interface_eu_test': {len(relevant_events)}\")\n",
    "print(\"Примеры событий:\")\n",
    "print(relevant_events.head())"
   ]
  },
  {
   "cell_type": "markdown",
   "id": "fBZ4DC2xswZJ",
   "metadata": {
    "id": "fBZ4DC2xswZJ"
   },
   "source": [
    "- определите горизонт анализа: рассчитайте время (лайфтайм) совершения события пользователем после регистрации и оставьте только те события, которые были выполнены в течение первых семи дней с момента регистрации;"
   ]
  },
  {
   "cell_type": "code",
   "execution_count": 13,
   "id": "sES4-dKts0Yb",
   "metadata": {
    "id": "sES4-dKts0Yb"
   },
   "outputs": [
    {
     "name": "stdout",
     "output_type": "stream",
     "text": [
      "\n",
      "Количество событий за первые 7 дней после регистрации: 58692\n",
      "Примеры событий:\n",
      "            user_id            event_dt    event_name details  \\\n",
      "0  5F506CEBEDC05D30 2020-12-06 14:10:01  registration     0.0   \n",
      "1  51278A006E918D97 2020-12-06 14:37:25  registration    -3.8   \n",
      "2  A0C1E8EFAD874D8B 2020-12-06 17:20:22  registration   -3.32   \n",
      "3  275A8D6254ACF530 2020-12-06 19:36:54  registration   -0.48   \n",
      "4  0B704EB2DC7FCA4B 2020-12-06 19:42:20  registration     0.0   \n",
      "\n",
      "      registration_dt  lifetime_days  \n",
      "0 2020-12-06 14:10:01              0  \n",
      "1 2020-12-06 14:37:25              0  \n",
      "2 2020-12-06 17:20:22              0  \n",
      "3 2020-12-06 19:36:54              0  \n",
      "4 2020-12-06 19:42:20              0  \n"
     ]
    }
   ],
   "source": [
    "# Найдём дату регистрации для каждого пользователя\n",
    "registrations = relevant_events[relevant_events['event_name'] == 'registration']\n",
    "first_reg = registrations.groupby('user_id')['event_dt'].min().rename('registration_dt')\n",
    "\n",
    "# Присоединим к таблице событий дату регистрации\n",
    "relevant_events = relevant_events.merge(first_reg, on='user_id', how='left')\n",
    "\n",
    "# Посчитаем lifetime (в днях)\n",
    "relevant_events['lifetime_days'] = (relevant_events['event_dt'] - relevant_events['registration_dt']).dt.days\n",
    "\n",
    "# Оставим события только за первые 7 дней\n",
    "events_within_7_days = relevant_events[relevant_events['lifetime_days'] < 7].copy()\n",
    "\n",
    "# Вывод результатов\n",
    "print(f\"\\nКоличество событий за первые 7 дней после регистрации: {len(events_within_7_days)}\")\n",
    "print(\"Примеры событий:\")\n",
    "print(events_within_7_days.head())"
   ]
  },
  {
   "cell_type": "markdown",
   "id": "7cf1df48",
   "metadata": {},
   "source": [
    "Оцените достаточность выборки для получения статистически значимых результатов A/B-теста. Заданные параметры:\n",
    "\n",
    "- базовый показатель конверсии — 30%,\n",
    "\n",
    "- мощность теста — 80%,\n",
    "\n",
    "- достоверность теста — 95%."
   ]
  },
  {
   "cell_type": "code",
   "execution_count": 14,
   "id": "7d97b466",
   "metadata": {},
   "outputs": [
    {
     "name": "stdout",
     "output_type": "stream",
     "text": [
      "Необходимое количество пользователей в каждой группе: 3762\n"
     ]
    }
   ],
   "source": [
    "from statsmodels.stats.power import NormalIndPower\n",
    "from statsmodels.stats.proportion import proportion_effectsize\n",
    "\n",
    "# Заданные параметры\n",
    "baseline = 0.30\n",
    "target = 0.33  \n",
    "alpha = 0.05\n",
    "power = 0.80\n",
    "\n",
    "# Эффект размера (Cohen's h)\n",
    "effect_size = proportion_effectsize(baseline, target)\n",
    "\n",
    "# Расчёт необходимого размера выборки на группу\n",
    "analysis = NormalIndPower()\n",
    "sample_size_per_group = analysis.solve_power(effect_size=effect_size, power=power, alpha=alpha, alternative='two-sided')\n",
    "\n",
    "print(f\"Необходимое количество пользователей в каждой группе: {round(sample_size_per_group)}\")"
   ]
  },
  {
   "cell_type": "markdown",
   "id": "0a09b242",
   "metadata": {},
   "source": [
    "___Количество пользователей в группах (4952 и 5011) превышает необходимое — выборка достаточна для статистически значимых выводов.___"
   ]
  },
  {
   "cell_type": "markdown",
   "id": "SadyUDgZs0t3",
   "metadata": {
    "id": "SadyUDgZs0t3"
   },
   "source": [
    "- рассчитайте для каждой группы количество посетителей, сделавших покупку, и общее количество посетителей."
   ]
  },
  {
   "cell_type": "code",
   "execution_count": 15,
   "id": "7ph853Xks4sy",
   "metadata": {
    "id": "7ph853Xks4sy"
   },
   "outputs": [
    {
     "name": "stdout",
     "output_type": "stream",
     "text": [
      "Количество пользователей, сделавших покупку, по группам:\n",
      "group\n",
      "A    1638\n",
      "B    1782\n",
      "Name: user_id, dtype: int64\n",
      "\n",
      "Общее количество пользователей по группам:\n",
      "group\n",
      "A    4952\n",
      "B    5011\n",
      "Name: user_id, dtype: int64\n"
     ]
    }
   ],
   "source": [
    "# Отфильтруем события с покупками\n",
    "purchase_events = events_cleaned[(events_cleaned['user_id'].isin(relevant_participants['user_id'])) & \n",
    "                                 (events_cleaned['event_name'] == 'purchase')]  # если в данных 'purchase'\n",
    "\n",
    "# Количество уникальных пользователей, сделавших покупку, по группам\n",
    "buyers = purchase_events.groupby('user_id').size().reset_index()[['user_id']]\n",
    "buyers = buyers.merge(relevant_participants[['user_id', 'group']], on='user_id', how='left')\n",
    "\n",
    "# Считаем количество покупателей по группам\n",
    "buyers_count = buyers.groupby('group')['user_id'].nunique()\n",
    "\n",
    "# Считаем общее количество пользователей по группам\n",
    "total_users = relevant_participants.groupby('group')['user_id'].nunique()\n",
    "\n",
    "# Выводим результаты\n",
    "print(\"Количество пользователей, сделавших покупку, по группам:\")\n",
    "print(buyers_count)\n",
    "\n",
    "print(\"\\nОбщее количество пользователей по группам:\")\n",
    "print(total_users)\n"
   ]
  },
  {
   "cell_type": "markdown",
   "id": "sh1JpGvAs5E3",
   "metadata": {
    "id": "sh1JpGvAs5E3"
   },
   "source": [
    "- сделайте предварительный общий вывод об изменении пользовательской активности в тестовой группе по сравнению с контрольной."
   ]
  },
  {
   "cell_type": "markdown",
   "id": "be6d5ce7",
   "metadata": {
    "id": "hHTHPkJYs8mE"
   },
   "source": [
    "___Тест проведён корректно с учётом требований технического задания, данные очищены и подготовлены для анализа. Количество участников в каждой группе превышает необходимое для выявления статистически значимых изменений.___  \n",
    "\n",
    "___По предварительным данным, в тестовой группе B наблюдается рост числа пользователей, совершивших покупку (1782 против 1638 в группе A), что может свидетельствовать о положительном влиянии новой версии сайта на конверсию.___  \n",
    "\n",
    "___Для окончательных выводов потребуется провести статистический тест на значимость различий (например, z-тест пропорций), чтобы подтвердить, что улучшение не случайно.___"
   ]
  },
  {
   "cell_type": "markdown",
   "id": "IKZ1Oo3Ws919",
   "metadata": {
    "id": "IKZ1Oo3Ws919"
   },
   "source": [
    "## 4. Проведите оценку результатов A/B-тестирования:"
   ]
  },
  {
   "cell_type": "markdown",
   "id": "dcUdBSmvtC-E",
   "metadata": {
    "id": "dcUdBSmvtC-E"
   },
   "source": [
    "- Проверьте изменение конверсии подходящим статистическим тестом, учитывая все этапы проверки гипотез."
   ]
  },
  {
   "cell_type": "markdown",
   "id": "1b3d0ee8",
   "metadata": {},
   "source": [
    "___H₀ Конверсия в группе B меньше или равна конверсии в группе A   \n",
    "H₁ Конверсия в группе B больше, чем в группе A___\n",
    "\n",
    "___Так как у нас две независимые выборки и бинарный исход (покупка / нет), используем Z-тест для пропорций (двусторонний).___"
   ]
  },
  {
   "cell_type": "code",
   "execution_count": 16,
   "id": "c3b99b73",
   "metadata": {},
   "outputs": [
    {
     "name": "stdout",
     "output_type": "stream",
     "text": [
      "Z-статистика: 2.6112\n",
      "P-значение: 0.0045\n"
     ]
    }
   ],
   "source": [
    "from statsmodels.stats.proportion import proportions_ztest\n",
    "\n",
    "# Число пользователей, совершивших покупку, в группах B и A\n",
    "buyers = [1782, 1638]  # B, A\n",
    "\n",
    "# Общее число пользователей в группах B и A\n",
    "total = [5011, 4952]\n",
    "\n",
    "# Проводим односторонний Z-тест с альтернативой \"B > A\"\n",
    "z_stat, p_value = proportions_ztest(count=buyers, nobs=total, alternative='larger')\n",
    "\n",
    "print(f\"Z-статистика: {z_stat:.4f}\")\n",
    "print(f\"P-значение: {p_value:.4f}\")"
   ]
  },
  {
   "cell_type": "markdown",
   "id": "9jkyKOjgtGoc",
   "metadata": {
    "id": "9jkyKOjgtGoc"
   },
   "source": [
    "- Опишите выводы по проведённой оценке результатов A/B-тестирования. Что можно сказать про результаты A/B-тестирования? Был ли достигнут ожидаемый эффект в изменении конверсии?"
   ]
  },
  {
   "cell_type": "markdown",
   "id": "npoPPSKytKvR",
   "metadata": {
    "id": "npoPPSKytKvR"
   },
   "source": [
    "___Выводы:___  \n",
    "Рекомендуется внедрить новую версию интерфейса на основной сайт, так как она способствует росту продаж.  \n",
    "\n",
    "___Рекомендации:___\n",
    "\n",
    "- Зафиксировать успешные изменения и перейти к масштабированию.  \n",
    "- Проводить аналогичные тесты при внесении дальнейших изменений.  "
   ]
  }
 ],
 "metadata": {
  "ExecuteTimeLog": [
   {
    "duration": 9,
    "start_time": "2025-06-09T17:25:50.230Z"
   },
   {
    "duration": 4,
    "start_time": "2025-06-09T17:25:53.228Z"
   },
   {
    "duration": 112,
    "start_time": "2025-06-09T17:25:53.617Z"
   },
   {
    "duration": 9,
    "start_time": "2025-06-09T17:25:54.195Z"
   },
   {
    "duration": 24,
    "start_time": "2025-06-09T17:26:58.447Z"
   },
   {
    "duration": 8,
    "start_time": "2025-06-09T17:26:59.429Z"
   },
   {
    "duration": 11,
    "start_time": "2025-06-09T17:27:29.562Z"
   },
   {
    "duration": 1646,
    "start_time": "2025-06-09T18:16:35.824Z"
   },
   {
    "duration": 1992,
    "start_time": "2025-06-09T18:16:53.463Z"
   },
   {
    "duration": 13,
    "start_time": "2025-06-09T18:18:55.683Z"
   },
   {
    "duration": 8,
    "start_time": "2025-06-09T18:19:08.372Z"
   },
   {
    "duration": 1649,
    "start_time": "2025-06-09T18:20:11.880Z"
   },
   {
    "duration": 14,
    "start_time": "2025-06-09T18:23:15.367Z"
   },
   {
    "duration": 21,
    "start_time": "2025-06-09T18:27:26.581Z"
   },
   {
    "duration": 50,
    "start_time": "2025-06-10T09:16:33.696Z"
   },
   {
    "duration": 358,
    "start_time": "2025-06-10T09:16:44.791Z"
   },
   {
    "duration": 25,
    "start_time": "2025-06-10T09:16:45.151Z"
   },
   {
    "duration": 80,
    "start_time": "2025-06-10T09:16:45.178Z"
   },
   {
    "duration": 55,
    "start_time": "2025-06-10T09:16:45.260Z"
   },
   {
    "duration": 472,
    "start_time": "2025-06-10T09:16:45.317Z"
   },
   {
    "duration": 713,
    "start_time": "2025-06-10T09:16:45.791Z"
   },
   {
    "duration": 1749,
    "start_time": "2025-06-10T09:16:46.509Z"
   },
   {
    "duration": 251,
    "start_time": "2025-06-10T09:18:41.755Z"
   },
   {
    "duration": 236,
    "start_time": "2025-06-10T09:19:21.187Z"
   },
   {
    "duration": 253,
    "start_time": "2025-06-10T09:21:36.903Z"
   },
   {
    "duration": 323,
    "start_time": "2025-06-10T09:22:30.977Z"
   },
   {
    "duration": 264,
    "start_time": "2025-06-10T09:24:01.335Z"
   },
   {
    "duration": 247,
    "start_time": "2025-06-10T09:24:15.022Z"
   },
   {
    "duration": 243,
    "start_time": "2025-06-10T09:26:07.852Z"
   },
   {
    "duration": 16,
    "start_time": "2025-06-10T09:26:57.763Z"
   },
   {
    "duration": 248,
    "start_time": "2025-06-10T09:27:09.290Z"
   },
   {
    "duration": 253,
    "start_time": "2025-06-10T09:33:20.062Z"
   },
   {
    "duration": 368,
    "start_time": "2025-06-10T09:33:47.972Z"
   },
   {
    "duration": 36,
    "start_time": "2025-06-10T09:33:48.342Z"
   },
   {
    "duration": 14,
    "start_time": "2025-06-10T09:33:48.380Z"
   },
   {
    "duration": 12,
    "start_time": "2025-06-10T09:33:48.395Z"
   },
   {
    "duration": 995,
    "start_time": "2025-06-10T09:33:48.409Z"
   },
   {
    "duration": 2135,
    "start_time": "2025-06-10T09:33:49.406Z"
   },
   {
    "duration": 259,
    "start_time": "2025-06-10T09:35:10.357Z"
   },
   {
    "duration": 254,
    "start_time": "2025-06-10T09:35:20.515Z"
   },
   {
    "duration": 256,
    "start_time": "2025-06-10T09:35:47.972Z"
   },
   {
    "duration": 245,
    "start_time": "2025-06-10T09:36:13.939Z"
   },
   {
    "duration": 374,
    "start_time": "2025-06-10T09:36:26.388Z"
   },
   {
    "duration": 288,
    "start_time": "2025-06-10T09:37:56.172Z"
   },
   {
    "duration": 291,
    "start_time": "2025-06-10T09:38:15.977Z"
   },
   {
    "duration": 288,
    "start_time": "2025-06-10T09:38:30.259Z"
   },
   {
    "duration": 271,
    "start_time": "2025-06-10T09:38:40.796Z"
   },
   {
    "duration": 251,
    "start_time": "2025-06-10T09:38:57.874Z"
   },
   {
    "duration": 520,
    "start_time": "2025-06-10T09:41:08.607Z"
   },
   {
    "duration": 286,
    "start_time": "2025-06-10T09:41:25.689Z"
   },
   {
    "duration": 393,
    "start_time": "2025-06-10T09:51:57.813Z"
   },
   {
    "duration": 330,
    "start_time": "2025-06-10T10:01:18.008Z"
   },
   {
    "duration": 293,
    "start_time": "2025-06-10T10:02:28.997Z"
   },
   {
    "duration": 1113,
    "start_time": "2025-06-10T11:48:22.175Z"
   },
   {
    "duration": 409,
    "start_time": "2025-06-10T11:48:35.998Z"
   },
   {
    "duration": 25,
    "start_time": "2025-06-10T11:48:36.409Z"
   },
   {
    "duration": 15,
    "start_time": "2025-06-10T11:48:36.435Z"
   },
   {
    "duration": 68,
    "start_time": "2025-06-10T11:48:36.452Z"
   },
   {
    "duration": 1002,
    "start_time": "2025-06-10T11:48:36.523Z"
   },
   {
    "duration": 427,
    "start_time": "2025-06-10T11:48:37.527Z"
   },
   {
    "duration": 1823,
    "start_time": "2025-06-10T11:48:37.956Z"
   },
   {
    "duration": 264,
    "start_time": "2025-06-10T11:51:08.534Z"
   },
   {
    "duration": 272,
    "start_time": "2025-06-10T11:57:32.392Z"
   },
   {
    "duration": 422,
    "start_time": "2025-06-10T12:16:13.205Z"
   },
   {
    "duration": 24,
    "start_time": "2025-06-10T12:16:13.629Z"
   },
   {
    "duration": 13,
    "start_time": "2025-06-10T12:16:13.654Z"
   },
   {
    "duration": 11,
    "start_time": "2025-06-10T12:16:13.669Z"
   },
   {
    "duration": 989,
    "start_time": "2025-06-10T12:16:13.682Z"
   },
   {
    "duration": 287,
    "start_time": "2025-06-10T12:16:14.672Z"
   },
   {
    "duration": 1523,
    "start_time": "2025-06-10T12:16:14.961Z"
   },
   {
    "duration": 266,
    "start_time": "2025-06-10T12:48:20.100Z"
   },
   {
    "duration": 7,
    "start_time": "2025-06-10T12:48:55.211Z"
   },
   {
    "duration": 259,
    "start_time": "2025-06-10T12:49:15.863Z"
   },
   {
    "duration": 262,
    "start_time": "2025-06-10T12:50:53.548Z"
   },
   {
    "duration": 10,
    "start_time": "2025-06-10T12:56:21.661Z"
   },
   {
    "duration": 9,
    "start_time": "2025-06-10T13:05:24.935Z"
   },
   {
    "duration": 8,
    "start_time": "2025-06-10T13:06:16.678Z"
   },
   {
    "duration": 376,
    "start_time": "2025-06-10T13:06:28.194Z"
   },
   {
    "duration": 8,
    "start_time": "2025-06-10T16:13:15.489Z"
   },
   {
    "duration": 272,
    "start_time": "2025-06-10T16:13:52.184Z"
   },
   {
    "duration": 270,
    "start_time": "2025-06-10T16:14:19.165Z"
   },
   {
    "duration": 15,
    "start_time": "2025-06-10T16:31:18.352Z"
   },
   {
    "duration": 256,
    "start_time": "2025-06-10T16:31:44.259Z"
   },
   {
    "duration": 261,
    "start_time": "2025-06-10T16:32:34.521Z"
   },
   {
    "duration": 403,
    "start_time": "2025-06-10T16:32:43.952Z"
   },
   {
    "duration": 36,
    "start_time": "2025-06-10T16:32:44.357Z"
   },
   {
    "duration": 127,
    "start_time": "2025-06-10T16:32:44.394Z"
   },
   {
    "duration": 10,
    "start_time": "2025-06-10T16:32:44.523Z"
   },
   {
    "duration": 954,
    "start_time": "2025-06-10T16:32:44.536Z"
   },
   {
    "duration": 7,
    "start_time": "2025-06-10T16:32:45.492Z"
   },
   {
    "duration": 274,
    "start_time": "2025-06-10T16:32:45.501Z"
   },
   {
    "duration": 6,
    "start_time": "2025-06-10T16:32:45.776Z"
   },
   {
    "duration": 1449,
    "start_time": "2025-06-10T16:32:45.783Z"
   },
   {
    "duration": 429,
    "start_time": "2025-06-10T16:50:25.706Z"
   },
   {
    "duration": 25,
    "start_time": "2025-06-10T16:50:26.137Z"
   },
   {
    "duration": 16,
    "start_time": "2025-06-10T16:50:26.164Z"
   },
   {
    "duration": 28,
    "start_time": "2025-06-10T16:50:26.181Z"
   },
   {
    "duration": 30,
    "start_time": "2025-06-10T16:50:26.212Z"
   },
   {
    "duration": 553,
    "start_time": "2025-06-10T16:50:26.244Z"
   },
   {
    "duration": 502,
    "start_time": "2025-06-10T16:50:26.799Z"
   },
   {
    "duration": 1552,
    "start_time": "2025-06-10T16:50:27.303Z"
   },
   {
    "duration": 1437,
    "start_time": "2025-06-10T18:27:39.744Z"
   },
   {
    "duration": 1548,
    "start_time": "2025-06-10T18:31:21.644Z"
   },
   {
    "duration": 1498,
    "start_time": "2025-06-10T18:40:00.078Z"
   },
   {
    "duration": 1587,
    "start_time": "2025-06-10T18:41:15.991Z"
   },
   {
    "duration": 1640,
    "start_time": "2025-06-10T18:50:33.889Z"
   },
   {
    "duration": 2170,
    "start_time": "2025-06-10T18:51:19.250Z"
   },
   {
    "duration": 1453,
    "start_time": "2025-06-10T18:52:38.692Z"
   },
   {
    "duration": 140,
    "start_time": "2025-06-10T18:55:10.883Z"
   },
   {
    "duration": 151,
    "start_time": "2025-06-10T18:56:01.627Z"
   },
   {
    "duration": 5,
    "start_time": "2025-06-10T19:30:52.164Z"
   },
   {
    "duration": 8,
    "start_time": "2025-06-10T19:31:15.184Z"
   },
   {
    "duration": 21,
    "start_time": "2025-06-10T19:31:46.698Z"
   },
   {
    "duration": 544,
    "start_time": "2025-06-10T19:52:44.802Z"
   },
   {
    "duration": 537,
    "start_time": "2025-06-10T19:57:15.818Z"
   },
   {
    "duration": 529,
    "start_time": "2025-06-10T20:05:39.749Z"
   },
   {
    "duration": 19,
    "start_time": "2025-06-10T20:06:16.572Z"
   },
   {
    "duration": 32,
    "start_time": "2025-06-10T20:07:55.757Z"
   },
   {
    "duration": 19,
    "start_time": "2025-06-10T20:12:50.847Z"
   },
   {
    "duration": 22,
    "start_time": "2025-06-10T20:14:05.304Z"
   },
   {
    "duration": 372,
    "start_time": "2025-06-11T12:38:15.184Z"
   },
   {
    "duration": 37,
    "start_time": "2025-06-11T12:38:15.558Z"
   },
   {
    "duration": 16,
    "start_time": "2025-06-11T12:38:15.596Z"
   },
   {
    "duration": 21,
    "start_time": "2025-06-11T12:38:15.613Z"
   },
   {
    "duration": 10,
    "start_time": "2025-06-11T12:38:15.636Z"
   },
   {
    "duration": 873,
    "start_time": "2025-06-11T12:38:15.647Z"
   },
   {
    "duration": 496,
    "start_time": "2025-06-11T12:38:16.522Z"
   },
   {
    "duration": 1750,
    "start_time": "2025-06-11T12:38:17.020Z"
   },
   {
    "duration": 137,
    "start_time": "2025-06-11T12:38:18.772Z"
   },
   {
    "duration": 727,
    "start_time": "2025-06-11T12:38:18.910Z"
   },
   {
    "duration": 106,
    "start_time": "2025-06-11T12:38:19.638Z"
   },
   {
    "duration": 0,
    "start_time": "2025-06-11T12:38:19.745Z"
   },
   {
    "duration": 10,
    "start_time": "2025-06-11T12:43:53.496Z"
   },
   {
    "duration": 11,
    "start_time": "2025-06-11T12:45:00.975Z"
   },
   {
    "duration": 10,
    "start_time": "2025-06-11T12:45:02.163Z"
   },
   {
    "duration": 444,
    "start_time": "2025-06-11T12:45:19.407Z"
   },
   {
    "duration": 25,
    "start_time": "2025-06-11T12:45:19.853Z"
   },
   {
    "duration": 18,
    "start_time": "2025-06-11T12:45:19.880Z"
   },
   {
    "duration": 32,
    "start_time": "2025-06-11T12:45:19.900Z"
   },
   {
    "duration": 19,
    "start_time": "2025-06-11T12:45:19.934Z"
   },
   {
    "duration": 565,
    "start_time": "2025-06-11T12:45:19.955Z"
   },
   {
    "duration": 487,
    "start_time": "2025-06-11T12:45:20.522Z"
   },
   {
    "duration": 1457,
    "start_time": "2025-06-11T12:45:21.011Z"
   },
   {
    "duration": 138,
    "start_time": "2025-06-11T12:45:22.470Z"
   },
   {
    "duration": 728,
    "start_time": "2025-06-11T12:45:22.610Z"
   },
   {
    "duration": 112,
    "start_time": "2025-06-11T12:45:23.340Z"
   },
   {
    "duration": 0,
    "start_time": "2025-06-11T12:45:23.454Z"
   },
   {
    "duration": 418,
    "start_time": "2025-06-11T12:58:10.031Z"
   },
   {
    "duration": 32,
    "start_time": "2025-06-11T13:00:34.581Z"
   },
   {
    "duration": 32,
    "start_time": "2025-06-11T13:01:00.800Z"
   },
   {
    "duration": 32,
    "start_time": "2025-06-11T13:01:21.648Z"
   },
   {
    "duration": 33,
    "start_time": "2025-06-11T13:03:56.163Z"
   },
   {
    "duration": 76,
    "start_time": "2025-06-11T13:11:22.456Z"
   },
   {
    "duration": 111,
    "start_time": "2025-06-11T13:13:05.600Z"
   },
   {
    "duration": 15,
    "start_time": "2025-06-11T13:13:34.648Z"
   },
   {
    "duration": 78,
    "start_time": "2025-06-11T13:14:42.022Z"
   },
   {
    "duration": 58,
    "start_time": "2025-06-11T13:15:17.149Z"
   },
   {
    "duration": 77,
    "start_time": "2025-06-11T13:18:31.482Z"
   },
   {
    "duration": 53,
    "start_time": "2025-06-11T13:18:52.107Z"
   },
   {
    "duration": 1466,
    "start_time": "2025-06-11T13:19:16.630Z"
   },
   {
    "duration": 73,
    "start_time": "2025-06-11T13:19:28.033Z"
   },
   {
    "duration": 53,
    "start_time": "2025-06-11T13:19:29.856Z"
   },
   {
    "duration": 1427,
    "start_time": "2025-06-11T13:20:25.816Z"
   },
   {
    "duration": 413,
    "start_time": "2025-06-11T13:20:36.266Z"
   },
   {
    "duration": 25,
    "start_time": "2025-06-11T13:20:36.681Z"
   },
   {
    "duration": 34,
    "start_time": "2025-06-11T13:20:36.708Z"
   },
   {
    "duration": 19,
    "start_time": "2025-06-11T13:20:36.744Z"
   },
   {
    "duration": 157,
    "start_time": "2025-06-11T13:20:36.765Z"
   },
   {
    "duration": 592,
    "start_time": "2025-06-11T13:20:36.925Z"
   },
   {
    "duration": 507,
    "start_time": "2025-06-11T13:20:37.520Z"
   },
   {
    "duration": 1631,
    "start_time": "2025-06-11T13:20:38.029Z"
   },
   {
    "duration": 140,
    "start_time": "2025-06-11T13:20:39.662Z"
   },
   {
    "duration": 724,
    "start_time": "2025-06-11T13:20:39.804Z"
   },
   {
    "duration": 41,
    "start_time": "2025-06-11T13:20:40.530Z"
   },
   {
    "duration": 94,
    "start_time": "2025-06-11T13:20:40.573Z"
   },
   {
    "duration": 68,
    "start_time": "2025-06-11T13:20:40.669Z"
   },
   {
    "duration": 22,
    "start_time": "2025-06-11T13:22:22.943Z"
   },
   {
    "duration": 14,
    "start_time": "2025-06-11T13:23:19.082Z"
   },
   {
    "duration": 139,
    "start_time": "2025-06-11T13:24:03.115Z"
   },
   {
    "duration": 427,
    "start_time": "2025-06-11T13:28:00.437Z"
   },
   {
    "duration": 27,
    "start_time": "2025-06-11T13:28:00.866Z"
   },
   {
    "duration": 17,
    "start_time": "2025-06-11T13:28:00.895Z"
   },
   {
    "duration": 43,
    "start_time": "2025-06-11T13:28:00.915Z"
   },
   {
    "duration": 11,
    "start_time": "2025-06-11T13:28:00.960Z"
   },
   {
    "duration": 610,
    "start_time": "2025-06-11T13:28:00.973Z"
   },
   {
    "duration": 533,
    "start_time": "2025-06-11T13:28:01.585Z"
   },
   {
    "duration": 1695,
    "start_time": "2025-06-11T13:28:02.120Z"
   },
   {
    "duration": 143,
    "start_time": "2025-06-11T13:28:03.817Z"
   },
   {
    "duration": 766,
    "start_time": "2025-06-11T13:28:03.963Z"
   },
   {
    "duration": 36,
    "start_time": "2025-06-11T13:28:04.731Z"
   },
   {
    "duration": 102,
    "start_time": "2025-06-11T13:28:04.769Z"
   },
   {
    "duration": 109,
    "start_time": "2025-06-11T13:28:04.873Z"
   },
   {
    "duration": 21,
    "start_time": "2025-06-11T13:28:04.983Z"
   },
   {
    "duration": 151,
    "start_time": "2025-06-11T13:28:05.006Z"
   },
   {
    "duration": 887,
    "start_time": "2025-06-11T17:02:06.052Z"
   },
   {
    "duration": 5,
    "start_time": "2025-06-11T17:05:15.978Z"
   },
   {
    "duration": 5,
    "start_time": "2025-06-11T17:05:57.492Z"
   },
   {
    "duration": 4,
    "start_time": "2025-06-11T17:09:26.848Z"
   },
   {
    "duration": 5,
    "start_time": "2025-06-11T17:10:56.134Z"
   },
   {
    "duration": 6,
    "start_time": "2025-06-11T17:35:21.852Z"
   },
   {
    "duration": 5,
    "start_time": "2025-06-11T17:41:51.270Z"
   },
   {
    "duration": 405,
    "start_time": "2025-06-11T18:16:08.877Z"
   },
   {
    "duration": 28,
    "start_time": "2025-06-11T18:16:09.284Z"
   },
   {
    "duration": 69,
    "start_time": "2025-06-11T18:16:09.313Z"
   },
   {
    "duration": 11,
    "start_time": "2025-06-11T18:16:09.384Z"
   },
   {
    "duration": 9,
    "start_time": "2025-06-11T18:16:09.397Z"
   },
   {
    "duration": 830,
    "start_time": "2025-06-11T18:16:09.408Z"
   },
   {
    "duration": 517,
    "start_time": "2025-06-11T18:16:10.240Z"
   },
   {
    "duration": 1535,
    "start_time": "2025-06-11T18:16:10.759Z"
   },
   {
    "duration": 140,
    "start_time": "2025-06-11T18:16:12.296Z"
   },
   {
    "duration": 674,
    "start_time": "2025-06-11T18:16:12.437Z"
   },
   {
    "duration": 33,
    "start_time": "2025-06-11T18:16:13.113Z"
   },
   {
    "duration": 83,
    "start_time": "2025-06-11T18:16:13.147Z"
   },
   {
    "duration": 60,
    "start_time": "2025-06-11T18:16:13.232Z"
   },
   {
    "duration": 18,
    "start_time": "2025-06-11T18:16:13.294Z"
   },
   {
    "duration": 186,
    "start_time": "2025-06-11T18:16:13.313Z"
   },
   {
    "duration": 55,
    "start_time": "2025-06-11T18:16:13.501Z"
   },
   {
    "duration": 402,
    "start_time": "2025-06-11T18:23:41.885Z"
   },
   {
    "duration": 24,
    "start_time": "2025-06-11T18:23:42.290Z"
   },
   {
    "duration": 15,
    "start_time": "2025-06-11T18:23:42.315Z"
   },
   {
    "duration": 11,
    "start_time": "2025-06-11T18:23:42.332Z"
   },
   {
    "duration": 9,
    "start_time": "2025-06-11T18:23:42.345Z"
   },
   {
    "duration": 549,
    "start_time": "2025-06-11T18:23:42.356Z"
   },
   {
    "duration": 433,
    "start_time": "2025-06-11T18:23:42.906Z"
   },
   {
    "duration": 1640,
    "start_time": "2025-06-11T18:23:43.340Z"
   },
   {
    "duration": 146,
    "start_time": "2025-06-11T18:23:44.982Z"
   },
   {
    "duration": 726,
    "start_time": "2025-06-11T18:23:45.130Z"
   },
   {
    "duration": 50,
    "start_time": "2025-06-11T18:23:45.858Z"
   },
   {
    "duration": 74,
    "start_time": "2025-06-11T18:23:45.910Z"
   },
   {
    "duration": 52,
    "start_time": "2025-06-11T18:23:45.985Z"
   },
   {
    "duration": 39,
    "start_time": "2025-06-11T18:23:46.040Z"
   },
   {
    "duration": 113,
    "start_time": "2025-06-11T18:23:46.080Z"
   },
   {
    "duration": 4,
    "start_time": "2025-06-11T18:23:46.195Z"
   },
   {
    "duration": 429,
    "start_time": "2025-06-11T18:26:53.761Z"
   },
   {
    "duration": 24,
    "start_time": "2025-06-11T18:26:54.192Z"
   },
   {
    "duration": 14,
    "start_time": "2025-06-11T18:26:54.218Z"
   },
   {
    "duration": 11,
    "start_time": "2025-06-11T18:26:54.234Z"
   },
   {
    "duration": 14,
    "start_time": "2025-06-11T18:26:54.248Z"
   },
   {
    "duration": 525,
    "start_time": "2025-06-11T18:26:54.264Z"
   },
   {
    "duration": 451,
    "start_time": "2025-06-11T18:26:54.790Z"
   },
   {
    "duration": 1407,
    "start_time": "2025-06-11T18:26:55.242Z"
   },
   {
    "duration": 139,
    "start_time": "2025-06-11T18:26:56.651Z"
   },
   {
    "duration": 665,
    "start_time": "2025-06-11T18:26:56.791Z"
   },
   {
    "duration": 39,
    "start_time": "2025-06-11T18:26:57.458Z"
   },
   {
    "duration": 77,
    "start_time": "2025-06-11T18:26:57.499Z"
   },
   {
    "duration": 90,
    "start_time": "2025-06-11T18:26:57.577Z"
   },
   {
    "duration": 19,
    "start_time": "2025-06-11T18:26:57.669Z"
   },
   {
    "duration": 122,
    "start_time": "2025-06-11T18:26:57.689Z"
   },
   {
    "duration": 5,
    "start_time": "2025-06-11T18:26:57.812Z"
   }
  ],
  "colab": {
   "provenance": [],
   "toc_visible": true
  },
  "kernelspec": {
   "display_name": "Python 3 (ipykernel)",
   "language": "python",
   "name": "python3"
  },
  "language_info": {
   "codemirror_mode": {
    "name": "ipython",
    "version": 3
   },
   "file_extension": ".py",
   "mimetype": "text/x-python",
   "name": "python",
   "nbconvert_exporter": "python",
   "pygments_lexer": "ipython3",
   "version": "3.9.5"
  },
  "toc": {
   "base_numbering": 1,
   "nav_menu": {},
   "number_sections": true,
   "sideBar": true,
   "skip_h1_title": true,
   "title_cell": "Table of Contents",
   "title_sidebar": "Contents",
   "toc_cell": false,
   "toc_position": {
    "height": "calc(100% - 180px)",
    "left": "10px",
    "top": "150px",
    "width": "165px"
   },
   "toc_section_display": true,
   "toc_window_display": true
  }
 },
 "nbformat": 4,
 "nbformat_minor": 5
}
