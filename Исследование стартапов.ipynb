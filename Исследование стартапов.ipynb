{
 "cells": [
  {
   "cell_type": "markdown",
   "metadata": {
    "id": "4mJbK1knrJgz"
   },
   "source": [
    "# Проект: Исследование стартапов\n",
    "\n",
    "\n",
    "- Автор: Набойщикова Анастасия Дмитриевна\n",
    "- Дата: 16.04.2025"
   ]
  },
  {
   "cell_type": "markdown",
   "metadata": {
    "id": "P6j0r3worJg0"
   },
   "source": [
    "## Введение"
   ]
  },
  {
   "cell_type": "markdown",
   "metadata": {
    "id": "8lQtbsIUyFG6"
   },
   "source": [
    "### Цели и задачи проекта\n",
    "\n",
    "Целью настоящего проекта является предоставлнение информации для выхода финансовой компании на инвестиционный рынок для приобретения, развития и последующей продажи перспективных стартапов. Для достижения этой цели планируется проведение всестороннего исследования на основе исторических данных.\n",
    "\n",
    "\n",
    "### Описание данных\n",
    "\n",
    "Таблица ___acquisition___ содержит информацию о покупках одними компаниями других компаний:\n",
    "- id — идентификатор покупки.\n",
    "- acquiring_company_id — идентификатор покупающей компании.\n",
    "- acquired_company_id — идентификатор покупаемой компании.\n",
    "- term_code — варианты расчёта.\n",
    "- price_amount — сумма сделки.\n",
    "- acquired_at — дата сделки.   \n",
    "\n",
    "Таблица ___company_and_rounds___ содержит информацию о компаниях и раундах финансирования:\n",
    "- company ID — идентификатор компании.\n",
    "- name — название компании.\n",
    "- category code — категория области деятельности компании.\n",
    "- status — статус компании.\n",
    "- founded at — дата инвестирования.\n",
    "- closed at — дата закрытия компании.\n",
    "- domain — официальный сайт компании.\n",
    "- network username — ник компании в сети.\n",
    "- country code — код страны компании.\n",
    "- investment rounds — число инвестиционных раундов.\n",
    "- funding rounds — число раундов финансирования.\n",
    "- funding total — сумма финансирования.\n",
    "- milestones — вехи финансирования.\n",
    "- funding round id — идентификатор этапа финансирования.\n",
    "- company id — идентификатор компании.\n",
    "- funded at — дата финансирования.\n",
    "- funding round type — тип финансирования.\n",
    "- raised amount — сумма финансирования.\n",
    "- pre money valuation — предварительная денежная оценка.\n",
    "- participants — число участников.\n",
    "- is first round — является ли раунд первым.\n",
    "- is last round — является раунд последним.\n",
    "\n",
    "Таблица ___education___ содержит информацию об образовании сотрудника:\n",
    "- id — идентификатор записи об образовании.\n",
    "- person_id — идентификатор работника.\n",
    "- instituition — название учебного заведения.\n",
    "- graduated_at — дата получения образования.\n",
    "\n",
    "Таблица ___people___ содержит информацию о сотрудниках:\n",
    "- id — идентификатор сотрудника.\n",
    "- first_name — имя сотрудника.\n",
    "- last_name — фамилия сотрудника.\n",
    "- company_id — идентификатор компании.\n",
    "- network_username — ник в социальных сетях.\n",
    "\n",
    "Таблица ___degrees___ содержит информацию о типе образования сотрудника:\n",
    "- id — идентификатор записи.\n",
    "- object_id — идентификатор сотрудника.\n",
    "- degree_type — тип образования.\n",
    "- subject — специальность.\n",
    "\n",
    "\n",
    "\n",
    "\n",
    "<u>___Дополнительные таблицы:___</u>\n",
    "    \n",
    "Таблица ___fund___ cодержит информацию о фондах:\n",
    "- id — идентификатор фонда.\n",
    "- name — название фонда.\n",
    "- category_code — категория области деятельности компании.\n",
    "- founded_at — дата создания фонда.\n",
    "- domain — сайт фонда.\n",
    "- network_username — ник фонда в сети.\n",
    "- country_code — код страны фонда.\n",
    "- investment_rounds — число инвестиционных раундов.\n",
    "- invested_companies — число профинансированных компаний.\n",
    "- milestones — вехи финансирования.\n",
    "\n",
    "\n",
    "Таблица ___investment___ содержит информацию о раундах инвестирования:\n",
    "- id — идентификатор этапа инвестирования.\n",
    "- funding_round_id — идентификатор раунда инвестирования.\n",
    "- company_id — индентификатор компании.\n",
    "- funding_round_type — тип финансирования.\n",
    "- fund_id — идентификатор фонда.\n",
    "\n",
    "### Содержимое проекта\n",
    "\n",
    "- Загрузка и знакомство с данными.\n",
    "- Предобработка данных.\n",
    "- Исследовательский анализ данных.\n",
    "- Итоговый вывод и рекомендации."
   ]
  },
  {
   "cell_type": "markdown",
   "metadata": {
    "id": "xqr6uttCrJg0"
   },
   "source": [
    "\n",
    "## Шаг 1. Знакомство с данными: загрузка и первичная предобработка\n",
    "\n",
    "Названия файлов:\n",
    "* acquisition.csv\n",
    "* company_and_rounds.csv\n",
    "* people.csv\n",
    "* education.csv\n",
    "* degrees.csv\n",
    "\n",
    "Опциональные датасеты:\n",
    "* fund.csv\n",
    "* investment.csv\n",
    "\n",
    "\n",
    "Они находятся в папке datasets, если вы выполняете работу на платформе. В случае, если вы делаете работу локально, доступ к файлам в папке можно получить по адресу `https://code.s3.yandex.net/datasets/` + имя файла.\n",
    "\n",
    "### 1.1. Вывод общей информации, исправление названия столбцов\n",
    "\n",
    "- Загрузите все данные по проекту.\n",
    "- Проверьте названия столбцов.\n",
    "- Выведите информацию, которая необходима вам для принятия решений о предобработке, для каждого из датасетов."
   ]
  },
  {
   "cell_type": "code",
   "execution_count": 1,
   "metadata": {
    "colab": {
     "base_uri": "https://localhost:8080/"
    },
    "id": "W_W4jRazrJg0",
    "outputId": "d2409aad-233f-4bb4-ec71-7da96594f9df",
    "vscode": {
     "languageId": "plaintext"
    }
   },
   "outputs": [
    {
     "name": "stdout",
     "output_type": "stream",
     "text": [
      "Requirement already satisfied: missingno in /opt/conda/lib/python3.9/site-packages (0.5.2)\n",
      "Requirement already satisfied: matplotlib in /opt/conda/lib/python3.9/site-packages (from missingno) (3.3.4)\n",
      "Requirement already satisfied: numpy in /opt/conda/lib/python3.9/site-packages (from missingno) (1.21.1)\n",
      "Requirement already satisfied: seaborn in /opt/conda/lib/python3.9/site-packages (from missingno) (0.11.1)\n",
      "Requirement already satisfied: scipy in /opt/conda/lib/python3.9/site-packages (from missingno) (1.9.1)\n",
      "Requirement already satisfied: kiwisolver>=1.0.1 in /opt/conda/lib/python3.9/site-packages (from matplotlib->missingno) (1.4.4)\n",
      "Requirement already satisfied: cycler>=0.10 in /opt/conda/lib/python3.9/site-packages (from matplotlib->missingno) (0.11.0)\n",
      "Requirement already satisfied: pyparsing!=2.0.4,!=2.1.2,!=2.1.6,>=2.0.3 in /opt/conda/lib/python3.9/site-packages (from matplotlib->missingno) (2.4.7)\n",
      "Requirement already satisfied: python-dateutil>=2.1 in /opt/conda/lib/python3.9/site-packages (from matplotlib->missingno) (2.8.1)\n",
      "Requirement already satisfied: pillow>=6.2.0 in /opt/conda/lib/python3.9/site-packages (from matplotlib->missingno) (8.4.0)\n",
      "Requirement already satisfied: six>=1.5 in /opt/conda/lib/python3.9/site-packages (from python-dateutil>=2.1->matplotlib->missingno) (1.16.0)\n",
      "Requirement already satisfied: pandas>=0.23 in /opt/conda/lib/python3.9/site-packages (from seaborn->missingno) (1.2.4)\n",
      "Requirement already satisfied: pytz>=2017.3 in /opt/conda/lib/python3.9/site-packages (from pandas>=0.23->seaborn->missingno) (2021.1)\n",
      "Note: you may need to restart the kernel to use updated packages.\n"
     ]
    }
   ],
   "source": [
    "# Импортируем библиотеки\n",
    "import pandas as pd\n",
    "import numpy as np\n",
    "#!pip install missingno\n",
    "%pip install missingno\n",
    "import missingno as msno \n",
    "from sklearn.preprocessing import OrdinalEncoder \n",
    "\n",
    "# Загружаем библиотеки для визуализации данных\n",
    "import matplotlib.pyplot as plt\n",
    "import seaborn as sns\n",
    "\n",
    "# Загружаем библиотеку для расчета коэффициента корееляции phi_k\n",
    "#try:\n",
    "#    from phik import phik_matrix \n",
    "#except:\n",
    "#    #!pip install phik\n",
    "#    %pip install phik\n",
    "#    from phik import phik_matrix "
   ]
  },
  {
   "cell_type": "code",
   "execution_count": 2,
   "metadata": {},
   "outputs": [],
   "source": [
    "# Выгружаем данные в переменные\n",
    "acquisition = pd.read_csv('https://code.s3.yandex.net/datasets/acquisition.csv')\n",
    "company_and_rounds = pd.read_csv('https://code.s3.yandex.net/datasets/company_and_rounds.csv')\n",
    "education = pd.read_csv('https://code.s3.yandex.net/datasets/education.csv')\n",
    "people = pd.read_csv('https://code.s3.yandex.net/datasets/people.csv')\n",
    "degrees = pd.read_csv('https://code.s3.yandex.net/datasets/degrees.csv')\n",
    "fund = pd.read_csv('https://code.s3.yandex.net/datasets/fund.csv')\n",
    "investment = pd.read_csv('https://code.s3.yandex.net/datasets/investment.csv')"
   ]
  },
  {
   "cell_type": "code",
   "execution_count": 3,
   "metadata": {},
   "outputs": [
    {
     "data": {
      "text/html": [
       "<div>\n",
       "<style scoped>\n",
       "    .dataframe tbody tr th:only-of-type {\n",
       "        vertical-align: middle;\n",
       "    }\n",
       "\n",
       "    .dataframe tbody tr th {\n",
       "        vertical-align: top;\n",
       "    }\n",
       "\n",
       "    .dataframe thead th {\n",
       "        text-align: right;\n",
       "    }\n",
       "</style>\n",
       "<table border=\"1\" class=\"dataframe\">\n",
       "  <thead>\n",
       "    <tr style=\"text-align: right;\">\n",
       "      <th></th>\n",
       "      <th>id</th>\n",
       "      <th>acquiring_company_id</th>\n",
       "      <th>acquired_company_id</th>\n",
       "      <th>term_code</th>\n",
       "      <th>price_amount</th>\n",
       "      <th>acquired_at</th>\n",
       "    </tr>\n",
       "  </thead>\n",
       "  <tbody>\n",
       "    <tr>\n",
       "      <th>0</th>\n",
       "      <td>1</td>\n",
       "      <td>11</td>\n",
       "      <td>10</td>\n",
       "      <td>NaN</td>\n",
       "      <td>20000000</td>\n",
       "      <td>2007-05-30</td>\n",
       "    </tr>\n",
       "    <tr>\n",
       "      <th>1</th>\n",
       "      <td>7</td>\n",
       "      <td>59</td>\n",
       "      <td>72</td>\n",
       "      <td>cash</td>\n",
       "      <td>60000000</td>\n",
       "      <td>2007-07-01</td>\n",
       "    </tr>\n",
       "    <tr>\n",
       "      <th>2</th>\n",
       "      <td>8</td>\n",
       "      <td>24</td>\n",
       "      <td>132</td>\n",
       "      <td>cash</td>\n",
       "      <td>280000000</td>\n",
       "      <td>2007-05-01</td>\n",
       "    </tr>\n",
       "    <tr>\n",
       "      <th>3</th>\n",
       "      <td>9</td>\n",
       "      <td>59</td>\n",
       "      <td>155</td>\n",
       "      <td>cash</td>\n",
       "      <td>100000000</td>\n",
       "      <td>2007-06-01</td>\n",
       "    </tr>\n",
       "    <tr>\n",
       "      <th>4</th>\n",
       "      <td>10</td>\n",
       "      <td>212</td>\n",
       "      <td>215</td>\n",
       "      <td>cash</td>\n",
       "      <td>25000000</td>\n",
       "      <td>2007-07-01</td>\n",
       "    </tr>\n",
       "  </tbody>\n",
       "</table>\n",
       "</div>"
      ],
      "text/plain": [
       "   id  acquiring_company_id  acquired_company_id term_code  price_amount  \\\n",
       "0   1                    11                   10       NaN      20000000   \n",
       "1   7                    59                   72      cash      60000000   \n",
       "2   8                    24                  132      cash     280000000   \n",
       "3   9                    59                  155      cash     100000000   \n",
       "4  10                   212                  215      cash      25000000   \n",
       "\n",
       "  acquired_at  \n",
       "0  2007-05-30  \n",
       "1  2007-07-01  \n",
       "2  2007-05-01  \n",
       "3  2007-06-01  \n",
       "4  2007-07-01  "
      ]
     },
     "execution_count": 3,
     "metadata": {},
     "output_type": "execute_result"
    }
   ],
   "source": [
    "# изучаем информацию датасета acquisition для этого выводим первые 5 строк датасета\n",
    "acquisition.head()"
   ]
  },
  {
   "cell_type": "code",
   "execution_count": 4,
   "metadata": {},
   "outputs": [
    {
     "name": "stdout",
     "output_type": "stream",
     "text": [
      "<class 'pandas.core.frame.DataFrame'>\n",
      "RangeIndex: 9407 entries, 0 to 9406\n",
      "Data columns (total 6 columns):\n",
      " #   Column                Non-Null Count  Dtype \n",
      "---  ------                --------------  ----- \n",
      " 0   id                    9407 non-null   int64 \n",
      " 1   acquiring_company_id  9407 non-null   int64 \n",
      " 2   acquired_company_id   9407 non-null   int64 \n",
      " 3   term_code             1831 non-null   object\n",
      " 4   price_amount          9407 non-null   int64 \n",
      " 5   acquired_at           9378 non-null   object\n",
      "dtypes: int64(4), object(2)\n",
      "memory usage: 441.1+ KB\n"
     ]
    }
   ],
   "source": [
    "# изучаем информацию датасета acquisition для дальнейшего анализа\n",
    "acquisition.info()"
   ]
  },
  {
   "cell_type": "code",
   "execution_count": 5,
   "metadata": {},
   "outputs": [
    {
     "data": {
      "text/plain": [
       "id                       0.0\n",
       "acquiring_company_id     0.0\n",
       "acquired_company_id      0.0\n",
       "term_code               80.5\n",
       "price_amount             0.0\n",
       "acquired_at              0.3\n",
       "dtype: float64"
      ]
     },
     "execution_count": 5,
     "metadata": {},
     "output_type": "execute_result"
    }
   ],
   "source": [
    "# изучаем количество пропусков в столбце acquisition\n",
    "round(acquisition.isna().mean()*100,1)"
   ]
  },
  {
   "cell_type": "markdown",
   "metadata": {},
   "source": [
    "В датасете ___acquisition___ содержится 6 столбцов и 9407 строк, обьем занимаемой памяти составляет примерно 441.1 КБ., названия столбцов в подходящем стиле snake_case.\n",
    "\n",
    "Есть большое количество пропусков в столбце term_code (80.5%) и немного пропусков в столбце acquired_at (0.3%)\n",
    "\n",
    "В датасете содеражтся данные двух типов: object и int64.\n",
    "\n",
    "В столбце term_code оставим пропуски так как их заполнение может привести к искажению данных для исследования.\n",
    "\n",
    "Столбец acquired_at лучше перевести из object в datetime64 (значение даты)."
   ]
  },
  {
   "cell_type": "code",
   "execution_count": 6,
   "metadata": {
    "id": "2Tm4Pk__Felf"
   },
   "outputs": [
    {
     "data": {
      "text/html": [
       "<div>\n",
       "<style scoped>\n",
       "    .dataframe tbody tr th:only-of-type {\n",
       "        vertical-align: middle;\n",
       "    }\n",
       "\n",
       "    .dataframe tbody tr th {\n",
       "        vertical-align: top;\n",
       "    }\n",
       "\n",
       "    .dataframe thead th {\n",
       "        text-align: right;\n",
       "    }\n",
       "</style>\n",
       "<table border=\"1\" class=\"dataframe\">\n",
       "  <thead>\n",
       "    <tr style=\"text-align: right;\">\n",
       "      <th></th>\n",
       "      <th>company  ID</th>\n",
       "      <th>name</th>\n",
       "      <th>category  code</th>\n",
       "      <th>status</th>\n",
       "      <th>founded  at</th>\n",
       "      <th>closed  at</th>\n",
       "      <th>domain</th>\n",
       "      <th>network  username</th>\n",
       "      <th>country  code</th>\n",
       "      <th>investment  rounds</th>\n",
       "      <th>...</th>\n",
       "      <th>milestones</th>\n",
       "      <th>funding  round  id</th>\n",
       "      <th>company  id</th>\n",
       "      <th>funded  at</th>\n",
       "      <th>funding  round  type</th>\n",
       "      <th>raised  amount</th>\n",
       "      <th>pre  money  valuation</th>\n",
       "      <th>participants</th>\n",
       "      <th>is  first  round</th>\n",
       "      <th>is  last  round</th>\n",
       "    </tr>\n",
       "  </thead>\n",
       "  <tbody>\n",
       "    <tr>\n",
       "      <th>0</th>\n",
       "      <td>1.0</td>\n",
       "      <td>Wetpaint</td>\n",
       "      <td>web</td>\n",
       "      <td>operating</td>\n",
       "      <td>2005-10-17</td>\n",
       "      <td>NaN</td>\n",
       "      <td>wetpaint-inc.com</td>\n",
       "      <td>BachelrWetpaint</td>\n",
       "      <td>USA</td>\n",
       "      <td>0.0</td>\n",
       "      <td>...</td>\n",
       "      <td>5.0</td>\n",
       "      <td>888.0</td>\n",
       "      <td>1.0</td>\n",
       "      <td>2005-10-01</td>\n",
       "      <td>series-a</td>\n",
       "      <td>5250000.0</td>\n",
       "      <td>0.0</td>\n",
       "      <td>2.0</td>\n",
       "      <td>0.0</td>\n",
       "      <td>1.0</td>\n",
       "    </tr>\n",
       "    <tr>\n",
       "      <th>1</th>\n",
       "      <td>1.0</td>\n",
       "      <td>Wetpaint</td>\n",
       "      <td>web</td>\n",
       "      <td>operating</td>\n",
       "      <td>2005-10-17</td>\n",
       "      <td>NaN</td>\n",
       "      <td>wetpaint-inc.com</td>\n",
       "      <td>BachelrWetpaint</td>\n",
       "      <td>USA</td>\n",
       "      <td>0.0</td>\n",
       "      <td>...</td>\n",
       "      <td>5.0</td>\n",
       "      <td>889.0</td>\n",
       "      <td>1.0</td>\n",
       "      <td>2007-01-01</td>\n",
       "      <td>series-b</td>\n",
       "      <td>9500000.0</td>\n",
       "      <td>0.0</td>\n",
       "      <td>3.0</td>\n",
       "      <td>0.0</td>\n",
       "      <td>0.0</td>\n",
       "    </tr>\n",
       "    <tr>\n",
       "      <th>2</th>\n",
       "      <td>1.0</td>\n",
       "      <td>Wetpaint</td>\n",
       "      <td>web</td>\n",
       "      <td>operating</td>\n",
       "      <td>2005-10-17</td>\n",
       "      <td>NaN</td>\n",
       "      <td>wetpaint-inc.com</td>\n",
       "      <td>BachelrWetpaint</td>\n",
       "      <td>USA</td>\n",
       "      <td>0.0</td>\n",
       "      <td>...</td>\n",
       "      <td>5.0</td>\n",
       "      <td>2312.0</td>\n",
       "      <td>1.0</td>\n",
       "      <td>2008-05-19</td>\n",
       "      <td>series-c+</td>\n",
       "      <td>25000000.0</td>\n",
       "      <td>0.0</td>\n",
       "      <td>4.0</td>\n",
       "      <td>1.0</td>\n",
       "      <td>0.0</td>\n",
       "    </tr>\n",
       "    <tr>\n",
       "      <th>3</th>\n",
       "      <td>10.0</td>\n",
       "      <td>Flektor</td>\n",
       "      <td>games_video</td>\n",
       "      <td>acquired</td>\n",
       "      <td>NaN</td>\n",
       "      <td>NaN</td>\n",
       "      <td>flektor.com</td>\n",
       "      <td>NaN</td>\n",
       "      <td>USA</td>\n",
       "      <td>0.0</td>\n",
       "      <td>...</td>\n",
       "      <td>0.0</td>\n",
       "      <td>NaN</td>\n",
       "      <td>NaN</td>\n",
       "      <td>NaN</td>\n",
       "      <td>NaN</td>\n",
       "      <td>NaN</td>\n",
       "      <td>NaN</td>\n",
       "      <td>NaN</td>\n",
       "      <td>NaN</td>\n",
       "      <td>NaN</td>\n",
       "    </tr>\n",
       "    <tr>\n",
       "      <th>4</th>\n",
       "      <td>100.0</td>\n",
       "      <td>There</td>\n",
       "      <td>games_video</td>\n",
       "      <td>acquired</td>\n",
       "      <td>NaN</td>\n",
       "      <td>NaN</td>\n",
       "      <td>there.com</td>\n",
       "      <td>NaN</td>\n",
       "      <td>USA</td>\n",
       "      <td>0.0</td>\n",
       "      <td>...</td>\n",
       "      <td>4.0</td>\n",
       "      <td>NaN</td>\n",
       "      <td>NaN</td>\n",
       "      <td>NaN</td>\n",
       "      <td>NaN</td>\n",
       "      <td>NaN</td>\n",
       "      <td>NaN</td>\n",
       "      <td>NaN</td>\n",
       "      <td>NaN</td>\n",
       "      <td>NaN</td>\n",
       "    </tr>\n",
       "  </tbody>\n",
       "</table>\n",
       "<p>5 rows × 22 columns</p>\n",
       "</div>"
      ],
      "text/plain": [
       "   company  ID      name category  code     status founded  at closed  at  \\\n",
       "0          1.0  Wetpaint            web  operating  2005-10-17        NaN   \n",
       "1          1.0  Wetpaint            web  operating  2005-10-17        NaN   \n",
       "2          1.0  Wetpaint            web  operating  2005-10-17        NaN   \n",
       "3         10.0   Flektor    games_video   acquired         NaN        NaN   \n",
       "4        100.0     There    games_video   acquired         NaN        NaN   \n",
       "\n",
       "             domain network  username country  code  investment  rounds  ...  \\\n",
       "0  wetpaint-inc.com   BachelrWetpaint           USA                 0.0  ...   \n",
       "1  wetpaint-inc.com   BachelrWetpaint           USA                 0.0  ...   \n",
       "2  wetpaint-inc.com   BachelrWetpaint           USA                 0.0  ...   \n",
       "3       flektor.com               NaN           USA                 0.0  ...   \n",
       "4         there.com               NaN           USA                 0.0  ...   \n",
       "\n",
       "   milestones  funding  round  id  company  id  funded  at  \\\n",
       "0         5.0               888.0          1.0  2005-10-01   \n",
       "1         5.0               889.0          1.0  2007-01-01   \n",
       "2         5.0              2312.0          1.0  2008-05-19   \n",
       "3         0.0                 NaN          NaN         NaN   \n",
       "4         4.0                 NaN          NaN         NaN   \n",
       "\n",
       "   funding  round  type raised  amount pre  money  valuation  participants  \\\n",
       "0              series-a      5250000.0                   0.0           2.0   \n",
       "1              series-b      9500000.0                   0.0           3.0   \n",
       "2             series-c+     25000000.0                   0.0           4.0   \n",
       "3                   NaN            NaN                   NaN           NaN   \n",
       "4                   NaN            NaN                   NaN           NaN   \n",
       "\n",
       "   is  first  round  is  last  round  \n",
       "0               0.0              1.0  \n",
       "1               0.0              0.0  \n",
       "2               1.0              0.0  \n",
       "3               NaN              NaN  \n",
       "4               NaN              NaN  \n",
       "\n",
       "[5 rows x 22 columns]"
      ]
     },
     "execution_count": 6,
     "metadata": {},
     "output_type": "execute_result"
    }
   ],
   "source": [
    "# изучаем информацию датасета company_and_rounds для этого выводим первые 5 строк датасета\n",
    "company_and_rounds.head()"
   ]
  },
  {
   "cell_type": "code",
   "execution_count": 7,
   "metadata": {},
   "outputs": [
    {
     "name": "stdout",
     "output_type": "stream",
     "text": [
      "<class 'pandas.core.frame.DataFrame'>\n",
      "RangeIndex: 217774 entries, 0 to 217773\n",
      "Data columns (total 22 columns):\n",
      " #   Column                 Non-Null Count   Dtype  \n",
      "---  ------                 --------------   -----  \n",
      " 0   company  ID            217472 non-null  float64\n",
      " 1   name                   217472 non-null  object \n",
      " 2   category  code         143886 non-null  object \n",
      " 3   status                 217472 non-null  object \n",
      " 4   founded  at            109956 non-null  object \n",
      " 5   closed  at             3449 non-null    object \n",
      " 6   domain                 147159 non-null  object \n",
      " 7   network  username      95534 non-null   object \n",
      " 8   country  code          108607 non-null  object \n",
      " 9   investment  rounds     217472 non-null  float64\n",
      " 10  funding  rounds        217472 non-null  float64\n",
      " 11  funding  total         217472 non-null  float64\n",
      " 12  milestones             217472 non-null  float64\n",
      " 13  funding  round  id     52928 non-null   float64\n",
      " 14  company  id            52928 non-null   float64\n",
      " 15  funded  at             52680 non-null   object \n",
      " 16  funding  round  type   52928 non-null   object \n",
      " 17  raised  amount         52928 non-null   float64\n",
      " 18  pre  money  valuation  52928 non-null   float64\n",
      " 19  participants           52928 non-null   float64\n",
      " 20  is  first  round       52928 non-null   float64\n",
      " 21  is  last  round        52928 non-null   float64\n",
      "dtypes: float64(12), object(10)\n",
      "memory usage: 36.6+ MB\n"
     ]
    }
   ],
   "source": [
    "# изучаем информацию датасета company_and_rounds для дальнейшего анализа\n",
    "company_and_rounds.info()"
   ]
  },
  {
   "cell_type": "code",
   "execution_count": 8,
   "metadata": {
    "id": "oNqJ2qpRFebv"
   },
   "outputs": [
    {
     "data": {
      "text/plain": [
       "company  ID               0.1\n",
       "name                      0.1\n",
       "category  code           33.9\n",
       "status                    0.1\n",
       "founded  at              49.5\n",
       "closed  at               98.4\n",
       "domain                   32.4\n",
       "network  username        56.1\n",
       "country  code            50.1\n",
       "investment  rounds        0.1\n",
       "funding  rounds           0.1\n",
       "funding  total            0.1\n",
       "milestones                0.1\n",
       "funding  round  id       75.7\n",
       "company  id              75.7\n",
       "funded  at               75.8\n",
       "funding  round  type     75.7\n",
       "raised  amount           75.7\n",
       "pre  money  valuation    75.7\n",
       "participants             75.7\n",
       "is  first  round         75.7\n",
       "is  last  round          75.7\n",
       "dtype: float64"
      ]
     },
     "execution_count": 8,
     "metadata": {},
     "output_type": "execute_result"
    }
   ],
   "source": [
    "# изучаем количество пропусков в столбце company_and_rounds\n",
    "round(company_and_rounds.isna().mean()*100,1)"
   ]
  },
  {
   "cell_type": "markdown",
   "metadata": {},
   "source": [
    "В датасете ___company_and_rounds___ содержится 22 столбца и 217774 строк, обьем занимаемой памяти составляет примерно 36.6 КБ., \n",
    "\n",
    "Названия столбцов нужно привести к подходящему стилю snake_case, но перед этим переименовать один из столбцов company  ID или company  id, так как при приведении к стилю snake_case названия будут дублировать друг-друга.\n",
    "\n",
    "Во всех столбцах присутствуют пропуски.\n",
    "\n",
    "В датасете содеражтся данные двух типов: object и float64.\n",
    "Столбец founded at, funded at  и closed at лучше перевести из object в datetime64 (значение даты)."
   ]
  },
  {
   "cell_type": "code",
   "execution_count": 9,
   "metadata": {},
   "outputs": [],
   "source": [
    "# переименовываем столбцы company id и company ID для исключения дальнейшего дубляжа названий\n",
    "company_and_rounds = company_and_rounds.rename(columns={'company  ID': 'company_id'})\n",
    "company_and_rounds = company_and_rounds.rename(columns={'company  id': 'company_id_round'})\n",
    "# приводим колонки датафрейма company_and_rounds к принятому snake case\n",
    "company_and_rounds.columns = company_and_rounds.columns.str.replace('\\s+', '_', regex=True).str.lower()"
   ]
  },
  {
   "cell_type": "code",
   "execution_count": 10,
   "metadata": {},
   "outputs": [
    {
     "name": "stdout",
     "output_type": "stream",
     "text": [
      "<class 'pandas.core.frame.DataFrame'>\n",
      "RangeIndex: 217774 entries, 0 to 217773\n",
      "Data columns (total 22 columns):\n",
      " #   Column               Non-Null Count   Dtype  \n",
      "---  ------               --------------   -----  \n",
      " 0   company_id           217472 non-null  float64\n",
      " 1   name                 217472 non-null  object \n",
      " 2   category_code        143886 non-null  object \n",
      " 3   status               217472 non-null  object \n",
      " 4   founded_at           109956 non-null  object \n",
      " 5   closed_at            3449 non-null    object \n",
      " 6   domain               147159 non-null  object \n",
      " 7   network_username     95534 non-null   object \n",
      " 8   country_code         108607 non-null  object \n",
      " 9   investment_rounds    217472 non-null  float64\n",
      " 10  funding_rounds       217472 non-null  float64\n",
      " 11  funding_total        217472 non-null  float64\n",
      " 12  milestones           217472 non-null  float64\n",
      " 13  funding_round_id     52928 non-null   float64\n",
      " 14  company_id_round     52928 non-null   float64\n",
      " 15  funded_at            52680 non-null   object \n",
      " 16  funding_round_type   52928 non-null   object \n",
      " 17  raised_amount        52928 non-null   float64\n",
      " 18  pre_money_valuation  52928 non-null   float64\n",
      " 19  participants         52928 non-null   float64\n",
      " 20  is_first_round       52928 non-null   float64\n",
      " 21  is_last_round        52928 non-null   float64\n",
      "dtypes: float64(12), object(10)\n",
      "memory usage: 36.6+ MB\n"
     ]
    }
   ],
   "source": [
    "# проверяем как теперь выглядят названия колонок в датафрейме\n",
    "company_and_rounds.info()"
   ]
  },
  {
   "cell_type": "markdown",
   "metadata": {},
   "source": [
    "Приведение названий столбцов датафрейма company_and_rounds к принятым стандартам написания названий работает корректно, названия столбцов теперь отображаются верно"
   ]
  },
  {
   "cell_type": "code",
   "execution_count": 11,
   "metadata": {},
   "outputs": [
    {
     "data": {
      "text/html": [
       "<div>\n",
       "<style scoped>\n",
       "    .dataframe tbody tr th:only-of-type {\n",
       "        vertical-align: middle;\n",
       "    }\n",
       "\n",
       "    .dataframe tbody tr th {\n",
       "        vertical-align: top;\n",
       "    }\n",
       "\n",
       "    .dataframe thead th {\n",
       "        text-align: right;\n",
       "    }\n",
       "</style>\n",
       "<table border=\"1\" class=\"dataframe\">\n",
       "  <thead>\n",
       "    <tr style=\"text-align: right;\">\n",
       "      <th></th>\n",
       "      <th>id</th>\n",
       "      <th>person_id</th>\n",
       "      <th>instituition</th>\n",
       "      <th>graduated_at</th>\n",
       "    </tr>\n",
       "  </thead>\n",
       "  <tbody>\n",
       "    <tr>\n",
       "      <th>0</th>\n",
       "      <td>1</td>\n",
       "      <td>6117</td>\n",
       "      <td>NaN</td>\n",
       "      <td>NaN</td>\n",
       "    </tr>\n",
       "    <tr>\n",
       "      <th>1</th>\n",
       "      <td>2</td>\n",
       "      <td>6136</td>\n",
       "      <td>Washington University, St. Louis</td>\n",
       "      <td>1990-01-01</td>\n",
       "    </tr>\n",
       "    <tr>\n",
       "      <th>2</th>\n",
       "      <td>3</td>\n",
       "      <td>6136</td>\n",
       "      <td>Boston University</td>\n",
       "      <td>1992-01-01</td>\n",
       "    </tr>\n",
       "    <tr>\n",
       "      <th>3</th>\n",
       "      <td>4</td>\n",
       "      <td>6005</td>\n",
       "      <td>University of Greenwich</td>\n",
       "      <td>2006-01-01</td>\n",
       "    </tr>\n",
       "    <tr>\n",
       "      <th>4</th>\n",
       "      <td>5</td>\n",
       "      <td>5832</td>\n",
       "      <td>Rice University</td>\n",
       "      <td>NaN</td>\n",
       "    </tr>\n",
       "  </tbody>\n",
       "</table>\n",
       "</div>"
      ],
      "text/plain": [
       "   id  person_id                      instituition graduated_at\n",
       "0   1       6117                               NaN          NaN\n",
       "1   2       6136  Washington University, St. Louis   1990-01-01\n",
       "2   3       6136                 Boston University   1992-01-01\n",
       "3   4       6005           University of Greenwich   2006-01-01\n",
       "4   5       5832                   Rice University          NaN"
      ]
     },
     "execution_count": 11,
     "metadata": {},
     "output_type": "execute_result"
    }
   ],
   "source": [
    "# изучаем информацию датасета education для этого выводим первые 5 строк датасета\n",
    "education.head()"
   ]
  },
  {
   "cell_type": "code",
   "execution_count": 12,
   "metadata": {},
   "outputs": [
    {
     "name": "stdout",
     "output_type": "stream",
     "text": [
      "<class 'pandas.core.frame.DataFrame'>\n",
      "RangeIndex: 109610 entries, 0 to 109609\n",
      "Data columns (total 4 columns):\n",
      " #   Column        Non-Null Count   Dtype \n",
      "---  ------        --------------   ----- \n",
      " 0   id            109610 non-null  int64 \n",
      " 1   person_id     109610 non-null  int64 \n",
      " 2   instituition  109555 non-null  object\n",
      " 3   graduated_at  58054 non-null   object\n",
      "dtypes: int64(2), object(2)\n",
      "memory usage: 3.3+ MB\n"
     ]
    }
   ],
   "source": [
    "# изучаем информацию датасета education для дальнейшего анализа\n",
    "education.info()"
   ]
  },
  {
   "cell_type": "code",
   "execution_count": 13,
   "metadata": {},
   "outputs": [
    {
     "data": {
      "text/plain": [
       "id               0.0\n",
       "person_id        0.0\n",
       "instituition     0.1\n",
       "graduated_at    47.0\n",
       "dtype: float64"
      ]
     },
     "execution_count": 13,
     "metadata": {},
     "output_type": "execute_result"
    }
   ],
   "source": [
    "# изучаем количество пропусков в столбце education\n",
    "round(education.isna().mean()*100,1)"
   ]
  },
  {
   "cell_type": "markdown",
   "metadata": {},
   "source": [
    "В датасете ___education___ содержится 4 столбца и 109610 строк, обьем занимаемой памяти составляет примерно 3.3 МБ., названия столбцов соответствуют стилю snake_case.\n",
    "\n",
    "Большое количество пропусков присутствует в столбце graduated_at (47%) и незначительное колтичество пропусков есть в столбце instituition.\n",
    "\n",
    "В датасете содеражтся данные двух типов: object и float64.\n",
    "\n",
    "Столбец graduated_at лучше перевести из object в datetime64 (значение даты)."
   ]
  },
  {
   "cell_type": "code",
   "execution_count": 14,
   "metadata": {},
   "outputs": [
    {
     "data": {
      "text/html": [
       "<div>\n",
       "<style scoped>\n",
       "    .dataframe tbody tr th:only-of-type {\n",
       "        vertical-align: middle;\n",
       "    }\n",
       "\n",
       "    .dataframe tbody tr th {\n",
       "        vertical-align: top;\n",
       "    }\n",
       "\n",
       "    .dataframe thead th {\n",
       "        text-align: right;\n",
       "    }\n",
       "</style>\n",
       "<table border=\"1\" class=\"dataframe\">\n",
       "  <thead>\n",
       "    <tr style=\"text-align: right;\">\n",
       "      <th></th>\n",
       "      <th>id</th>\n",
       "      <th>first_name</th>\n",
       "      <th>last_name</th>\n",
       "      <th>company_id</th>\n",
       "      <th>network_username</th>\n",
       "    </tr>\n",
       "  </thead>\n",
       "  <tbody>\n",
       "    <tr>\n",
       "      <th>0</th>\n",
       "      <td>10</td>\n",
       "      <td>Mark</td>\n",
       "      <td>Zuckerberg</td>\n",
       "      <td>5.0</td>\n",
       "      <td>NaN</td>\n",
       "    </tr>\n",
       "    <tr>\n",
       "      <th>1</th>\n",
       "      <td>100</td>\n",
       "      <td>Peter</td>\n",
       "      <td>Lester</td>\n",
       "      <td>27.0</td>\n",
       "      <td>NaN</td>\n",
       "    </tr>\n",
       "    <tr>\n",
       "      <th>2</th>\n",
       "      <td>1000</td>\n",
       "      <td>Dr. Steven</td>\n",
       "      <td>E. Saunders</td>\n",
       "      <td>292.0</td>\n",
       "      <td>NaN</td>\n",
       "    </tr>\n",
       "    <tr>\n",
       "      <th>3</th>\n",
       "      <td>10000</td>\n",
       "      <td>Neil</td>\n",
       "      <td>Capel</td>\n",
       "      <td>2526.0</td>\n",
       "      <td>NaN</td>\n",
       "    </tr>\n",
       "    <tr>\n",
       "      <th>4</th>\n",
       "      <td>100000</td>\n",
       "      <td>Sue</td>\n",
       "      <td>Pilsch</td>\n",
       "      <td>NaN</td>\n",
       "      <td>NaN</td>\n",
       "    </tr>\n",
       "  </tbody>\n",
       "</table>\n",
       "</div>"
      ],
      "text/plain": [
       "       id  first_name    last_name  company_id network_username\n",
       "0      10        Mark   Zuckerberg         5.0              NaN\n",
       "1     100       Peter       Lester        27.0              NaN\n",
       "2    1000  Dr. Steven  E. Saunders       292.0              NaN\n",
       "3   10000        Neil        Capel      2526.0              NaN\n",
       "4  100000         Sue       Pilsch         NaN              NaN"
      ]
     },
     "execution_count": 14,
     "metadata": {},
     "output_type": "execute_result"
    }
   ],
   "source": [
    "# изучаем информацию датасета people для этого выводим первые 5 строк датасета\n",
    "people.head()"
   ]
  },
  {
   "cell_type": "code",
   "execution_count": 15,
   "metadata": {},
   "outputs": [
    {
     "name": "stdout",
     "output_type": "stream",
     "text": [
      "<class 'pandas.core.frame.DataFrame'>\n",
      "RangeIndex: 226709 entries, 0 to 226708\n",
      "Data columns (total 5 columns):\n",
      " #   Column            Non-Null Count   Dtype  \n",
      "---  ------            --------------   -----  \n",
      " 0   id                226709 non-null  int64  \n",
      " 1   first_name        226704 non-null  object \n",
      " 2   last_name         226708 non-null  object \n",
      " 3   company_id        34615 non-null   float64\n",
      " 4   network_username  38867 non-null   object \n",
      "dtypes: float64(1), int64(1), object(3)\n",
      "memory usage: 8.6+ MB\n"
     ]
    }
   ],
   "source": [
    "# изучаем информацию датасета people для дальнейшего анализа\n",
    "people.info()"
   ]
  },
  {
   "cell_type": "code",
   "execution_count": 16,
   "metadata": {},
   "outputs": [
    {
     "data": {
      "text/plain": [
       "id                   0.0\n",
       "first_name           0.0\n",
       "last_name            0.0\n",
       "company_id          84.7\n",
       "network_username    82.9\n",
       "dtype: float64"
      ]
     },
     "execution_count": 16,
     "metadata": {},
     "output_type": "execute_result"
    }
   ],
   "source": [
    "# изучаем количество пропусков в столбце people\n",
    "round(people.isna().mean()*100,1)"
   ]
  },
  {
   "cell_type": "markdown",
   "metadata": {},
   "source": [
    "В датасете ___people___ содержится 5 столбцов и 226709 строк, обьем занимаемой памяти составляет примерно 8.6 МБ., названия столбцов соответствуют стилю snake_case.\n",
    "\n",
    "Большое количество пропусков присутствует в столбцах company_id (84.7%) и network_username (82.9%).\n",
    "\n",
    "В датасете содеражтся данные двух типов: int64, object и float64."
   ]
  },
  {
   "cell_type": "code",
   "execution_count": 17,
   "metadata": {},
   "outputs": [
    {
     "data": {
      "text/html": [
       "<div>\n",
       "<style scoped>\n",
       "    .dataframe tbody tr th:only-of-type {\n",
       "        vertical-align: middle;\n",
       "    }\n",
       "\n",
       "    .dataframe tbody tr th {\n",
       "        vertical-align: top;\n",
       "    }\n",
       "\n",
       "    .dataframe thead th {\n",
       "        text-align: right;\n",
       "    }\n",
       "</style>\n",
       "<table border=\"1\" class=\"dataframe\">\n",
       "  <thead>\n",
       "    <tr style=\"text-align: right;\">\n",
       "      <th></th>\n",
       "      <th>id</th>\n",
       "      <th>object_id</th>\n",
       "      <th>degree_type</th>\n",
       "      <th>subject</th>\n",
       "    </tr>\n",
       "  </thead>\n",
       "  <tbody>\n",
       "    <tr>\n",
       "      <th>0</th>\n",
       "      <td>1</td>\n",
       "      <td>p:6117</td>\n",
       "      <td>MBA</td>\n",
       "      <td>NaN</td>\n",
       "    </tr>\n",
       "    <tr>\n",
       "      <th>1</th>\n",
       "      <td>2</td>\n",
       "      <td>p:6136</td>\n",
       "      <td>BA</td>\n",
       "      <td>English, French</td>\n",
       "    </tr>\n",
       "    <tr>\n",
       "      <th>2</th>\n",
       "      <td>3</td>\n",
       "      <td>p:6136</td>\n",
       "      <td>MS</td>\n",
       "      <td>Mass Communication</td>\n",
       "    </tr>\n",
       "    <tr>\n",
       "      <th>3</th>\n",
       "      <td>4</td>\n",
       "      <td>p:6005</td>\n",
       "      <td>MS</td>\n",
       "      <td>Internet Technology</td>\n",
       "    </tr>\n",
       "    <tr>\n",
       "      <th>4</th>\n",
       "      <td>5</td>\n",
       "      <td>p:5832</td>\n",
       "      <td>BCS</td>\n",
       "      <td>Computer Science, Psychology</td>\n",
       "    </tr>\n",
       "  </tbody>\n",
       "</table>\n",
       "</div>"
      ],
      "text/plain": [
       "   id object_id degree_type                       subject\n",
       "0   1    p:6117         MBA                           NaN\n",
       "1   2    p:6136          BA               English, French\n",
       "2   3    p:6136          MS            Mass Communication\n",
       "3   4    p:6005          MS           Internet Technology\n",
       "4   5    p:5832         BCS  Computer Science, Psychology"
      ]
     },
     "execution_count": 17,
     "metadata": {},
     "output_type": "execute_result"
    }
   ],
   "source": [
    "# изучаем информацию датасета degrees для этого выводим первые 5 строк датасета\n",
    "degrees.head()"
   ]
  },
  {
   "cell_type": "code",
   "execution_count": 18,
   "metadata": {},
   "outputs": [
    {
     "name": "stdout",
     "output_type": "stream",
     "text": [
      "<class 'pandas.core.frame.DataFrame'>\n",
      "RangeIndex: 109610 entries, 0 to 109609\n",
      "Data columns (total 4 columns):\n",
      " #   Column       Non-Null Count   Dtype \n",
      "---  ------       --------------   ----- \n",
      " 0   id           109610 non-null  int64 \n",
      " 1   object_id    109610 non-null  object\n",
      " 2   degree_type  98392 non-null   object\n",
      " 3   subject      81298 non-null   object\n",
      "dtypes: int64(1), object(3)\n",
      "memory usage: 3.3+ MB\n"
     ]
    }
   ],
   "source": [
    "# изучаем информацию датасета degrees для дальнейшего анализа\n",
    "degrees.info()"
   ]
  },
  {
   "cell_type": "code",
   "execution_count": 19,
   "metadata": {},
   "outputs": [
    {
     "data": {
      "text/plain": [
       "id              0.0\n",
       "object_id       0.0\n",
       "degree_type    10.2\n",
       "subject        25.8\n",
       "dtype: float64"
      ]
     },
     "execution_count": 19,
     "metadata": {},
     "output_type": "execute_result"
    }
   ],
   "source": [
    "# изучаем количество пропусков в столбце degrees\n",
    "round(degrees.isna().mean()*100,1)"
   ]
  },
  {
   "cell_type": "markdown",
   "metadata": {},
   "source": [
    "В датасете ___degrees___ содержится 4 столбца и 109610 строк, обьем занимаемой памяти составляет примерно 3.3 МБ., названия столбцов соответствуют стилю snake_case.\n",
    "\n",
    "Пропуски присутствуют в столбцах degree_type (10.2%) и subject (25.8%).\n",
    "\n",
    "В датасете содеражтся данные двух типов: int64 и object."
   ]
  },
  {
   "cell_type": "code",
   "execution_count": 20,
   "metadata": {},
   "outputs": [
    {
     "data": {
      "text/html": [
       "<div>\n",
       "<style scoped>\n",
       "    .dataframe tbody tr th:only-of-type {\n",
       "        vertical-align: middle;\n",
       "    }\n",
       "\n",
       "    .dataframe tbody tr th {\n",
       "        vertical-align: top;\n",
       "    }\n",
       "\n",
       "    .dataframe thead th {\n",
       "        text-align: right;\n",
       "    }\n",
       "</style>\n",
       "<table border=\"1\" class=\"dataframe\">\n",
       "  <thead>\n",
       "    <tr style=\"text-align: right;\">\n",
       "      <th></th>\n",
       "      <th>id</th>\n",
       "      <th>name</th>\n",
       "      <th>founded_at</th>\n",
       "      <th>domain</th>\n",
       "      <th>network_username</th>\n",
       "      <th>country_code</th>\n",
       "      <th>investment_rounds</th>\n",
       "      <th>invested_companies</th>\n",
       "      <th>milestones</th>\n",
       "    </tr>\n",
       "  </thead>\n",
       "  <tbody>\n",
       "    <tr>\n",
       "      <th>0</th>\n",
       "      <td>13131</td>\n",
       "      <td>NaN</td>\n",
       "      <td>NaN</td>\n",
       "      <td>NaN</td>\n",
       "      <td>NaN</td>\n",
       "      <td>NaN</td>\n",
       "      <td>0</td>\n",
       "      <td>0</td>\n",
       "      <td>0</td>\n",
       "    </tr>\n",
       "    <tr>\n",
       "      <th>1</th>\n",
       "      <td>1</td>\n",
       "      <td>Greylock Partners</td>\n",
       "      <td>1965-01-01</td>\n",
       "      <td>greylock.com</td>\n",
       "      <td>greylockvc</td>\n",
       "      <td>USA</td>\n",
       "      <td>307</td>\n",
       "      <td>196</td>\n",
       "      <td>0</td>\n",
       "    </tr>\n",
       "    <tr>\n",
       "      <th>2</th>\n",
       "      <td>10</td>\n",
       "      <td>Mission Ventures</td>\n",
       "      <td>1996-01-01</td>\n",
       "      <td>missionventures.com</td>\n",
       "      <td>NaN</td>\n",
       "      <td>USA</td>\n",
       "      <td>58</td>\n",
       "      <td>33</td>\n",
       "      <td>0</td>\n",
       "    </tr>\n",
       "    <tr>\n",
       "      <th>3</th>\n",
       "      <td>100</td>\n",
       "      <td>Kapor Enterprises, Inc.</td>\n",
       "      <td>NaN</td>\n",
       "      <td>kei.com</td>\n",
       "      <td>NaN</td>\n",
       "      <td>USA</td>\n",
       "      <td>2</td>\n",
       "      <td>1</td>\n",
       "      <td>0</td>\n",
       "    </tr>\n",
       "    <tr>\n",
       "      <th>4</th>\n",
       "      <td>1000</td>\n",
       "      <td>Speed Ventures</td>\n",
       "      <td>NaN</td>\n",
       "      <td>NaN</td>\n",
       "      <td>NaN</td>\n",
       "      <td>NaN</td>\n",
       "      <td>0</td>\n",
       "      <td>0</td>\n",
       "      <td>1</td>\n",
       "    </tr>\n",
       "  </tbody>\n",
       "</table>\n",
       "</div>"
      ],
      "text/plain": [
       "      id                     name  founded_at               domain  \\\n",
       "0  13131                      NaN         NaN                  NaN   \n",
       "1      1        Greylock Partners  1965-01-01         greylock.com   \n",
       "2     10         Mission Ventures  1996-01-01  missionventures.com   \n",
       "3    100  Kapor Enterprises, Inc.         NaN              kei.com   \n",
       "4   1000           Speed Ventures         NaN                  NaN   \n",
       "\n",
       "  network_username country_code  investment_rounds  invested_companies  \\\n",
       "0              NaN          NaN                  0                   0   \n",
       "1       greylockvc          USA                307                 196   \n",
       "2              NaN          USA                 58                  33   \n",
       "3              NaN          USA                  2                   1   \n",
       "4              NaN          NaN                  0                   0   \n",
       "\n",
       "   milestones  \n",
       "0           0  \n",
       "1           0  \n",
       "2           0  \n",
       "3           0  \n",
       "4           1  "
      ]
     },
     "execution_count": 20,
     "metadata": {},
     "output_type": "execute_result"
    }
   ],
   "source": [
    "# изучаем информацию датасета fund для этого выводим первые 5 строк датасета\n",
    "fund.head()"
   ]
  },
  {
   "cell_type": "code",
   "execution_count": 21,
   "metadata": {},
   "outputs": [
    {
     "name": "stdout",
     "output_type": "stream",
     "text": [
      "<class 'pandas.core.frame.DataFrame'>\n",
      "RangeIndex: 11652 entries, 0 to 11651\n",
      "Data columns (total 9 columns):\n",
      " #   Column              Non-Null Count  Dtype \n",
      "---  ------              --------------  ----- \n",
      " 0   id                  11652 non-null  int64 \n",
      " 1   name                11650 non-null  object\n",
      " 2   founded_at          4605 non-null   object\n",
      " 3   domain              7362 non-null   object\n",
      " 4   network_username    2149 non-null   object\n",
      " 5   country_code        7053 non-null   object\n",
      " 6   investment_rounds   11652 non-null  int64 \n",
      " 7   invested_companies  11652 non-null  int64 \n",
      " 8   milestones          11652 non-null  int64 \n",
      "dtypes: int64(4), object(5)\n",
      "memory usage: 819.4+ KB\n"
     ]
    }
   ],
   "source": [
    "# изучаем информацию датасета fund для дальнейшего анализа\n",
    "fund.info()"
   ]
  },
  {
   "cell_type": "code",
   "execution_count": 22,
   "metadata": {},
   "outputs": [
    {
     "data": {
      "text/plain": [
       "id                     0.0\n",
       "name                   0.0\n",
       "founded_at            60.5\n",
       "domain                36.8\n",
       "network_username      81.6\n",
       "country_code          39.5\n",
       "investment_rounds      0.0\n",
       "invested_companies     0.0\n",
       "milestones             0.0\n",
       "dtype: float64"
      ]
     },
     "execution_count": 22,
     "metadata": {},
     "output_type": "execute_result"
    }
   ],
   "source": [
    "# изучаем количество пропусков в столбце fund\n",
    "round(fund.isna().mean()*100,1)"
   ]
  },
  {
   "cell_type": "markdown",
   "metadata": {},
   "source": [
    "В датасете ___fund___ содержится 9 столбцов и 11652 строк, обьем занимаемой памяти составляет примерно 819.4 КБ., названия столбцов соответствуют стилю snake_case.\n",
    "\n",
    "Пропуски присутствуют в столбцах founded_at (60.5%), domain (36.8%), network_username (81.6%) и country_code (39.5%).\n",
    "\n",
    "В датасете содеражтся данные двух типов: int64 и object.\n",
    "Столбец founded_at лучше перевести из object в datetime64 (значение даты)."
   ]
  },
  {
   "cell_type": "code",
   "execution_count": 23,
   "metadata": {},
   "outputs": [
    {
     "data": {
      "text/html": [
       "<div>\n",
       "<style scoped>\n",
       "    .dataframe tbody tr th:only-of-type {\n",
       "        vertical-align: middle;\n",
       "    }\n",
       "\n",
       "    .dataframe tbody tr th {\n",
       "        vertical-align: top;\n",
       "    }\n",
       "\n",
       "    .dataframe thead th {\n",
       "        text-align: right;\n",
       "    }\n",
       "</style>\n",
       "<table border=\"1\" class=\"dataframe\">\n",
       "  <thead>\n",
       "    <tr style=\"text-align: right;\">\n",
       "      <th></th>\n",
       "      <th>id</th>\n",
       "      <th>funding_round_id</th>\n",
       "      <th>company_id</th>\n",
       "      <th>fund_id</th>\n",
       "    </tr>\n",
       "  </thead>\n",
       "  <tbody>\n",
       "    <tr>\n",
       "      <th>0</th>\n",
       "      <td>1</td>\n",
       "      <td>1</td>\n",
       "      <td>4</td>\n",
       "      <td>1</td>\n",
       "    </tr>\n",
       "    <tr>\n",
       "      <th>1</th>\n",
       "      <td>2</td>\n",
       "      <td>1</td>\n",
       "      <td>4</td>\n",
       "      <td>2</td>\n",
       "    </tr>\n",
       "    <tr>\n",
       "      <th>2</th>\n",
       "      <td>3</td>\n",
       "      <td>3</td>\n",
       "      <td>5</td>\n",
       "      <td>4</td>\n",
       "    </tr>\n",
       "    <tr>\n",
       "      <th>3</th>\n",
       "      <td>4</td>\n",
       "      <td>4</td>\n",
       "      <td>5</td>\n",
       "      <td>1</td>\n",
       "    </tr>\n",
       "    <tr>\n",
       "      <th>4</th>\n",
       "      <td>5</td>\n",
       "      <td>4</td>\n",
       "      <td>5</td>\n",
       "      <td>5</td>\n",
       "    </tr>\n",
       "  </tbody>\n",
       "</table>\n",
       "</div>"
      ],
      "text/plain": [
       "   id  funding_round_id  company_id  fund_id\n",
       "0   1                 1           4        1\n",
       "1   2                 1           4        2\n",
       "2   3                 3           5        4\n",
       "3   4                 4           5        1\n",
       "4   5                 4           5        5"
      ]
     },
     "execution_count": 23,
     "metadata": {},
     "output_type": "execute_result"
    }
   ],
   "source": [
    "# изучаем информацию датасета investment для этого выводим первые 5 строк датасета\n",
    "investment.head()"
   ]
  },
  {
   "cell_type": "code",
   "execution_count": 24,
   "metadata": {},
   "outputs": [
    {
     "name": "stdout",
     "output_type": "stream",
     "text": [
      "<class 'pandas.core.frame.DataFrame'>\n",
      "RangeIndex: 61403 entries, 0 to 61402\n",
      "Data columns (total 4 columns):\n",
      " #   Column            Non-Null Count  Dtype\n",
      "---  ------            --------------  -----\n",
      " 0   id                61403 non-null  int64\n",
      " 1   funding_round_id  61403 non-null  int64\n",
      " 2   company_id        61403 non-null  int64\n",
      " 3   fund_id           61403 non-null  int64\n",
      "dtypes: int64(4)\n",
      "memory usage: 1.9 MB\n"
     ]
    }
   ],
   "source": [
    "# изучаем информацию датасета investment для дальнейшего анализа\n",
    "investment.info()"
   ]
  },
  {
   "cell_type": "code",
   "execution_count": 25,
   "metadata": {},
   "outputs": [
    {
     "data": {
      "text/plain": [
       "id                  0.0\n",
       "funding_round_id    0.0\n",
       "company_id          0.0\n",
       "fund_id             0.0\n",
       "dtype: float64"
      ]
     },
     "execution_count": 25,
     "metadata": {},
     "output_type": "execute_result"
    }
   ],
   "source": [
    "# изучаем количество пропусков в столбце investment\n",
    "round(investment.isna().mean()*100,1)"
   ]
  },
  {
   "cell_type": "markdown",
   "metadata": {},
   "source": [
    "В датасете ___investment___ содержится 4 столбца и 61403 строк, обьем занимаемой памяти составляет примерно 1.9 МБ., названия столбцов соответствуют стилю snake_case.\n",
    "\n",
    "Пропуски в данных отсутствуют.\n",
    "\n",
    "В датасете содеражтся данные типы int64."
   ]
  },
  {
   "cell_type": "markdown",
   "metadata": {},
   "source": [
    "#### <u>Вывод после просмотра общей информации предоставленных данных и исправления названия столбцов:<u>\n",
    "- были выявлены столбцы с неверными типами данных (данные о дате), которые в дальнейшем будут приводится к данным типа datetime64;\n",
    "- выявлено большое количество пропусков в данных во всех датасетах кроме investment;\n",
    "- были выявлены несоотвествия названия столбцов в датафрейме company_and_rounds и приведены к общепринятым нормам."
   ]
  },
  {
   "cell_type": "markdown",
   "metadata": {
    "id": "mg2gEwh0rJg0"
   },
   "source": [
    "### 1.2. Смена типов и анализ пропусков\n",
    "\n",
    "- Обработайте типы данных в столбцах, которые хранят значения даты и времени, если это необходимо.\n",
    "- Оцените полноту данных — сделайте предварительный вывод, достаточно ли данных для решения задач проекта."
   ]
  },
  {
   "cell_type": "code",
   "execution_count": 26,
   "metadata": {
    "id": "FsL0A8RBrJg1",
    "vscode": {
     "languageId": "plaintext"
    }
   },
   "outputs": [],
   "source": [
    "# Приводим столбцы содержащие даты к типу datetime\n",
    "acquisition['acquired_at'] = pd.to_datetime(acquisition['acquired_at'])\n",
    "\n",
    "company_and_rounds['founded_at'] = pd.to_datetime(company_and_rounds['founded_at'])\n",
    "company_and_rounds['closed_at'] = pd.to_datetime(company_and_rounds['closed_at'])\n",
    "company_and_rounds['funded_at'] = pd.to_datetime(company_and_rounds['funded_at'])\n",
    "\n",
    "education['graduated_at'] = pd.to_datetime(education['graduated_at'])\n",
    "\n",
    "fund['founded_at'] = pd.to_datetime(fund['founded_at'])"
   ]
  },
  {
   "cell_type": "code",
   "execution_count": 28,
   "metadata": {
    "id": "46VskrGyFeJ-"
   },
   "outputs": [
    {
     "name": "stdout",
     "output_type": "stream",
     "text": [
      "<class 'pandas.core.frame.DataFrame'>\n",
      "RangeIndex: 9407 entries, 0 to 9406\n",
      "Data columns (total 6 columns):\n",
      " #   Column                Non-Null Count  Dtype         \n",
      "---  ------                --------------  -----         \n",
      " 0   id                    9407 non-null   int64         \n",
      " 1   acquiring_company_id  9407 non-null   int64         \n",
      " 2   acquired_company_id   9407 non-null   int64         \n",
      " 3   term_code             1831 non-null   object        \n",
      " 4   price_amount          9407 non-null   int64         \n",
      " 5   acquired_at           9378 non-null   datetime64[ns]\n",
      "dtypes: datetime64[ns](1), int64(4), object(1)\n",
      "memory usage: 441.1+ KB\n"
     ]
    }
   ],
   "source": [
    "# проверим изменения типа данных \n",
    "acquisition.info()"
   ]
  },
  {
   "cell_type": "code",
   "execution_count": 29,
   "metadata": {
    "id": "DEg1tl8DFeBn"
   },
   "outputs": [
    {
     "name": "stdout",
     "output_type": "stream",
     "text": [
      "<class 'pandas.core.frame.DataFrame'>\n",
      "RangeIndex: 217774 entries, 0 to 217773\n",
      "Data columns (total 22 columns):\n",
      " #   Column               Non-Null Count   Dtype         \n",
      "---  ------               --------------   -----         \n",
      " 0   company_id           217472 non-null  float64       \n",
      " 1   name                 217472 non-null  object        \n",
      " 2   category_code        143886 non-null  object        \n",
      " 3   status               217472 non-null  object        \n",
      " 4   founded_at           109956 non-null  datetime64[ns]\n",
      " 5   closed_at            3449 non-null    datetime64[ns]\n",
      " 6   domain               147159 non-null  object        \n",
      " 7   network_username     95534 non-null   object        \n",
      " 8   country_code         108607 non-null  object        \n",
      " 9   investment_rounds    217472 non-null  float64       \n",
      " 10  funding_rounds       217472 non-null  float64       \n",
      " 11  funding_total        217472 non-null  float64       \n",
      " 12  milestones           217472 non-null  float64       \n",
      " 13  funding_round_id     52928 non-null   float64       \n",
      " 14  company_id_round     52928 non-null   float64       \n",
      " 15  funded_at            52680 non-null   datetime64[ns]\n",
      " 16  funding_round_type   52928 non-null   object        \n",
      " 17  raised_amount        52928 non-null   float64       \n",
      " 18  pre_money_valuation  52928 non-null   float64       \n",
      " 19  participants         52928 non-null   float64       \n",
      " 20  is_first_round       52928 non-null   float64       \n",
      " 21  is_last_round        52928 non-null   float64       \n",
      "dtypes: datetime64[ns](3), float64(12), object(7)\n",
      "memory usage: 36.6+ MB\n"
     ]
    }
   ],
   "source": [
    "# проверим изменения типа данных \n",
    "company_and_rounds.info()"
   ]
  },
  {
   "cell_type": "code",
   "execution_count": 30,
   "metadata": {},
   "outputs": [
    {
     "name": "stdout",
     "output_type": "stream",
     "text": [
      "<class 'pandas.core.frame.DataFrame'>\n",
      "RangeIndex: 109610 entries, 0 to 109609\n",
      "Data columns (total 4 columns):\n",
      " #   Column        Non-Null Count   Dtype         \n",
      "---  ------        --------------   -----         \n",
      " 0   id            109610 non-null  int64         \n",
      " 1   person_id     109610 non-null  int64         \n",
      " 2   instituition  109555 non-null  object        \n",
      " 3   graduated_at  58054 non-null   datetime64[ns]\n",
      "dtypes: datetime64[ns](1), int64(2), object(1)\n",
      "memory usage: 3.3+ MB\n"
     ]
    }
   ],
   "source": [
    "# проверим изменения типа данных \n",
    "education.info()"
   ]
  },
  {
   "cell_type": "markdown",
   "metadata": {},
   "source": [
    "#### <u>Вывод после смены типа данных и анализа пропусков:<u>\n",
    "    \n",
    "- все столбцы с датами успешно переведены в тип datetime64;\n",
    "- При более внимательном изучении пропусков в датафреймах был сделан вывод, что пропущенных значений в датафреймах либо слишком много, либо незначительно мало:\n",
    "    - Например, в датафрейме ___acquisition___ в столбце term_code пропущено 80.5% значений, а в столбце acquired_at всего 0.3%.\n",
    "    - В датафрейме ___company_and_rounds___ в столбцах funding_round_id, company_id, funded_at, funding_round_type, raised_amount, pre_money_valuation, participants,is_first_round, is_last_round и closed_at пропущено более 75% данных, в столбцах category_code, founded_at, domain, network_username, country_code пропущено от 33% до 56% даных, а в столбцах name, status, investment_rounds, funding_rounds, funding_total, milestones пропущено всего 0.1%.\n",
    "    - В датафрейме ___education___ в столбце graduated_at пропущено 47.0% данных, а в столбце instituition всего 0.1%.\n",
    "    - В датафрейме ___people___ в столбцах company_id и network_username пропцщено 84.7% и 82.9% данных.\n",
    "    - В датафрейме ___degrees___ в столбцах degree_type и subject пропцщено 10.2% и 25.8%.\n",
    "    - В датафрейме ___fund___  в столбцах founded_at, domain, network_username и country_code пропцщено от 36% до 81% данных.\n",
    "    \n",
    "Таким образом, на основании проведенного анализа пропусков в данных видно что многие столбцы содержат значительное количество отсутствующих значений, что может негативно сказаться на точности и надежности последующих анализов. Учитывая специфику данных и задачи проекта, было принято решение не заполнять пропуски, поскольку это может привести к искусственному искажению информации и снижению достоверности результатов."
   ]
  },
  {
   "cell_type": "markdown",
   "metadata": {
    "id": "u60cHsn6rJg1"
   },
   "source": [
    "## Шаг 2. Предобработка данных, предварительное исследование"
   ]
  },
  {
   "cell_type": "markdown",
   "metadata": {
    "id": "g2bHIIjcrJg1"
   },
   "source": [
    "\n",
    "### 2.1. Раунды финансирования по годам\n",
    "\n",
    "Задание необходимо выполнить без объединения и дополнительной предобработки на основе датасета `company_and_rounds.csv`.\n",
    "\n",
    "- Составьте сводную таблицу по годам, в которой на основании столбца `raised_amount` для каждого года указан:\n",
    "    - типичный размер средств, выделяемый в рамках одного раунда;\n",
    "    - общее количество раундов финансирования за этот год.\n",
    "    \n",
    "- Оставьте в таблице информацию только для тех лет, для которых есть информация о более чем 50 раундах финансирования.\n",
    "- На основе получившейся таблицы постройте график, который будет отражать динамику типичного размера средств, которые стартапы получали в рамках одного раунда финансирования.\n",
    "\n",
    "На основе полученных данных ответьте на вопросы:\n",
    "\n",
    "- В каком году типичный размер собранных в рамках одного раунда средств был максимален?\n",
    "- Какая тенденция по количеству раундов и выделяемых в рамках каждого раунда средств наблюдалась в 2013 году?"
   ]
  },
  {
   "cell_type": "code",
   "execution_count": 31,
   "metadata": {},
   "outputs": [
    {
     "data": {
      "text/html": [
       "<div>\n",
       "<style scoped>\n",
       "    .dataframe tbody tr th:only-of-type {\n",
       "        vertical-align: middle;\n",
       "    }\n",
       "\n",
       "    .dataframe tbody tr th {\n",
       "        vertical-align: top;\n",
       "    }\n",
       "\n",
       "    .dataframe thead th {\n",
       "        text-align: right;\n",
       "    }\n",
       "</style>\n",
       "<table border=\"1\" class=\"dataframe\">\n",
       "  <thead>\n",
       "    <tr style=\"text-align: right;\">\n",
       "      <th></th>\n",
       "      <th>year</th>\n",
       "      <th>median</th>\n",
       "      <th>count</th>\n",
       "    </tr>\n",
       "  </thead>\n",
       "  <tbody>\n",
       "    <tr>\n",
       "      <th>15</th>\n",
       "      <td>1999.0</td>\n",
       "      <td>2000000.0</td>\n",
       "      <td>76</td>\n",
       "    </tr>\n",
       "    <tr>\n",
       "      <th>16</th>\n",
       "      <td>2000.0</td>\n",
       "      <td>4200000.0</td>\n",
       "      <td>125</td>\n",
       "    </tr>\n",
       "    <tr>\n",
       "      <th>17</th>\n",
       "      <td>2001.0</td>\n",
       "      <td>3000000.0</td>\n",
       "      <td>96</td>\n",
       "    </tr>\n",
       "    <tr>\n",
       "      <th>18</th>\n",
       "      <td>2002.0</td>\n",
       "      <td>4200000.0</td>\n",
       "      <td>116</td>\n",
       "    </tr>\n",
       "    <tr>\n",
       "      <th>19</th>\n",
       "      <td>2003.0</td>\n",
       "      <td>3000000.0</td>\n",
       "      <td>159</td>\n",
       "    </tr>\n",
       "    <tr>\n",
       "      <th>20</th>\n",
       "      <td>2004.0</td>\n",
       "      <td>5000000.0</td>\n",
       "      <td>291</td>\n",
       "    </tr>\n",
       "    <tr>\n",
       "      <th>21</th>\n",
       "      <td>2005.0</td>\n",
       "      <td>5500000.0</td>\n",
       "      <td>1633</td>\n",
       "    </tr>\n",
       "    <tr>\n",
       "      <th>22</th>\n",
       "      <td>2006.0</td>\n",
       "      <td>5000000.0</td>\n",
       "      <td>2436</td>\n",
       "    </tr>\n",
       "    <tr>\n",
       "      <th>23</th>\n",
       "      <td>2007.0</td>\n",
       "      <td>3973320.0</td>\n",
       "      <td>3279</td>\n",
       "    </tr>\n",
       "    <tr>\n",
       "      <th>24</th>\n",
       "      <td>2008.0</td>\n",
       "      <td>3110000.0</td>\n",
       "      <td>3774</td>\n",
       "    </tr>\n",
       "    <tr>\n",
       "      <th>25</th>\n",
       "      <td>2009.0</td>\n",
       "      <td>2000000.0</td>\n",
       "      <td>4151</td>\n",
       "    </tr>\n",
       "    <tr>\n",
       "      <th>26</th>\n",
       "      <td>2010.0</td>\n",
       "      <td>1602500.0</td>\n",
       "      <td>6221</td>\n",
       "    </tr>\n",
       "    <tr>\n",
       "      <th>27</th>\n",
       "      <td>2011.0</td>\n",
       "      <td>1200000.0</td>\n",
       "      <td>9204</td>\n",
       "    </tr>\n",
       "    <tr>\n",
       "      <th>28</th>\n",
       "      <td>2012.0</td>\n",
       "      <td>1000000.0</td>\n",
       "      <td>9970</td>\n",
       "    </tr>\n",
       "    <tr>\n",
       "      <th>29</th>\n",
       "      <td>2013.0</td>\n",
       "      <td>1200000.0</td>\n",
       "      <td>11072</td>\n",
       "    </tr>\n",
       "  </tbody>\n",
       "</table>\n",
       "</div>"
      ],
      "text/plain": [
       "      year     median  count\n",
       "15  1999.0  2000000.0     76\n",
       "16  2000.0  4200000.0    125\n",
       "17  2001.0  3000000.0     96\n",
       "18  2002.0  4200000.0    116\n",
       "19  2003.0  3000000.0    159\n",
       "20  2004.0  5000000.0    291\n",
       "21  2005.0  5500000.0   1633\n",
       "22  2006.0  5000000.0   2436\n",
       "23  2007.0  3973320.0   3279\n",
       "24  2008.0  3110000.0   3774\n",
       "25  2009.0  2000000.0   4151\n",
       "26  2010.0  1602500.0   6221\n",
       "27  2011.0  1200000.0   9204\n",
       "28  2012.0  1000000.0   9970\n",
       "29  2013.0  1200000.0  11072"
      ]
     },
     "execution_count": 31,
     "metadata": {},
     "output_type": "execute_result"
    }
   ],
   "source": [
    "# Добавляем новый столбец с годомами\n",
    "company_and_rounds['year'] = company_and_rounds['funded_at'].dt.year\n",
    "\n",
    "# Группируем данные по годам и рассчитываем типичный размер средств (медиана) и общее количество раундов\n",
    "grouped_data = company_and_rounds.groupby('year')['raised_amount'].agg(['median', 'count']).reset_index()\n",
    "\n",
    "# Фильтруем данные, оставляя только те годы, для которых есть информация о более чем 50 раундах финансирования\n",
    "filtered_data = grouped_data[grouped_data['count'] > 50]\n",
    "# Выводим таблицу\n",
    "filtered_data"
   ]
  },
  {
   "cell_type": "code",
   "execution_count": 32,
   "metadata": {},
   "outputs": [
    {
     "data": {
      "image/png": "[encoded data removed]",
      "text/plain": [
       "<Figure size 1296x432 with 2 Axes>"
      ]
     },
     "metadata": {
      "needs_background": "light"
     },
     "output_type": "display_data"
    }
   ],
   "source": [
    "# Построение графика с двумя осями\n",
    "fig, ax1 = plt.subplots(figsize=(18, 6))\n",
    "\n",
    "# Первый график: Медианное финансирование\n",
    "ax1.plot(filtered_data['year'], filtered_data['median'], marker='o', label='Размер средств')\n",
    "ax1.set_xlabel('Год')\n",
    "ax1.set_ylabel('Сумма финансирования (млн.$)')\n",
    "ax1.tick_params(axis='y')\n",
    "ax1.grid(True)\n",
    "\n",
    "# Второй график: Количество раундов\n",
    "ax2 = ax1.twinx()  # Создаем вторую ось\n",
    "ax2.plot(filtered_data['year'], filtered_data['count'], marker='^', color='tab:green', label='Количество раундов')\n",
    "ax2.set_ylabel('Количество раундов')\n",
    "ax2.tick_params(axis='y')\n",
    "\n",
    "\n",
    "# Добавление делений по оси X и Y для второго графика\n",
    "years = filtered_data['year'].unique()\n",
    "ax2.set_xticks(years)  # Деления по оси X\n",
    "ax2.set_yticks(range(0, max(filtered_data['count']) + 1001, 1000)) \n",
    "\n",
    "# Добавляем легенду\n",
    "lines, labels = ax1.get_legend_handles_labels()\n",
    "lines2, labels2 = ax2.get_legend_handles_labels()\n",
    "ax1.legend(lines + lines2, labels + labels2, loc='best')\n",
    "\n",
    "# Настраиваем заголовок\n",
    "plt.title('Медианное финансирование по годам и количество раундов по годам')\n",
    "\n",
    "# Показываем график\n",
    "plt.show()"
   ]
  },
  {
   "cell_type": "markdown",
   "metadata": {
    "id": "8Fbz6KmzFdYP"
   },
   "source": [
    "#### <u>На основании представленных данных, ответим на интересующие нас вопросы.</u>\n",
    "\n",
    "- Максимальное значение медианы собранных средств наблюдается в 2005 году, которое составляет 5500000 долларов.\n",
    "- Количество раундов финансирования составило 11072.\n",
    "- Типичный размер средств, собранных в рамках одного раунда, составил 1200000 долларов.\n",
    "\n",
    "Тенденция по сравнению с предыдущими годами:\n",
    "\n",
    "- По сравнению с 2012 годом, количество раундов увеличилось примерно на 11% (с 9970 до 11072).\n",
    "- Размер средств, собираемых в рамках одного раунда, увеличился на 20% (с 1000000 долларов до 1200000 долларов).\n",
    "\n",
    "Таким образом, в 2013 году наблюдался небольшой рост как по количеству раундов, так и по размеру средств, выделяемых в рамках одного раунда."
   ]
  },
  {
   "cell_type": "markdown",
   "metadata": {
    "id": "45if1en1rJg2"
   },
   "source": [
    "\n",
    "### 2.2. Люди и их образование\n",
    "\n",
    "Заказчик хочет понять, зависит ли полнота сведений о сотрудниках (например, об их образовании) от размера компаний.\n",
    "\n",
    "- Оцените, насколько информация об образовании сотрудников полна. Используя датасеты `people.csv` и `education.csv`, разделите все компании на несколько групп по количеству сотрудников и оцените среднюю долю сотрудников без информации об образовании в каждой из групп. Обоснуйте выбранные границы групп.\n",
    "- Оцените, возможно ли для выполнения задания присоединить к этим таблицам ещё и таблицу `degrees.csv`."
   ]
  },
  {
   "cell_type": "code",
   "execution_count": 33,
   "metadata": {},
   "outputs": [
    {
     "data": {
      "text/plain": [
       "1      18117\n",
       "2       2709\n",
       "3        921\n",
       "4        450\n",
       "5        237\n",
       "6        138\n",
       "7        100\n",
       "8         59\n",
       "9         46\n",
       "11        30\n",
       "10        25\n",
       "13        17\n",
       "12        16\n",
       "14         8\n",
       "17         5\n",
       "16         4\n",
       "23         3\n",
       "15         3\n",
       "20         3\n",
       "18         3\n",
       "19         3\n",
       "21         2\n",
       "22         2\n",
       "56         2\n",
       "25         2\n",
       "29         2\n",
       "35         1\n",
       "47         1\n",
       "31         1\n",
       "48         1\n",
       "61         1\n",
       "51         1\n",
       "138        1\n",
       "26         1\n",
       "244        1\n",
       "72         1\n",
       "36         1\n",
       "39         1\n",
       "32         1\n",
       "150        1\n",
       "63         1\n",
       "Name: id, dtype: int64"
      ]
     },
     "execution_count": 33,
     "metadata": {},
     "output_type": "execute_result"
    }
   ],
   "source": [
    "# Подсчитаем количество сотрудников в каждой компании\n",
    "company_employees = people.groupby('company_id')['id'].nunique()\n",
    "\n",
    "# Подсчитаем количествао компаний с определенным количеством сотрудников\n",
    "company_employee_counts = company_employees.value_counts()\n",
    "company_employee_counts"
   ]
  },
  {
   "cell_type": "markdown",
   "metadata": {},
   "source": [
    "Из данных видно, что стартапы в принципе это обычно совсем небольшие компании.\n",
    "В наибольшем количестве стартапов работает 1 человек, далее количество компаний с сотрудниками от 2 человек резко  снижается более чем в 6.5 раз. Начиная с 8 человек в компании падает более чем в полтора раза по сравнению с 7 и дальше все меньше компаний имеют большее количество сотрудников.\n"
   ]
  },
  {
   "cell_type": "code",
   "execution_count": 34,
   "metadata": {},
   "outputs": [
    {
     "name": "stdout",
     "output_type": "stream",
     "text": [
      "Средняя доля сотрудников без информации об образовании:\n",
      "- Маленькие компании: 0.26\n",
      "- Средние компании: 0.38\n",
      "- Большие компании: 0.50\n"
     ]
    }
   ],
   "source": [
    "# Преобразование типов данных перед объединением\n",
    "people['id'] = people['id'].astype(str)\n",
    "education['person_id'] = education['person_id'].astype(str)\n",
    "degrees['object_id'] = degrees['object_id'].astype(str)\n",
    "\n",
    "# Объединение данных по person_id\n",
    "merged_data = pd.merge(people, education, left_on='id', right_on='person_id', how='left')\n",
    "\n",
    "# Объединение с таблицей degrees.csv по object_id, который соответствует person_id\n",
    "merged_data = pd.merge(merged_data, degrees, left_on='person_id', right_on='object_id', how='left')\n",
    "\n",
    "# Подсчет количества сотрудников в каждой компании\n",
    "company_sizes = merged_data.groupby('company_id')['person_id'].nunique()\n",
    "\n",
    "# Разделение компаний на группы по количеству сотрудников\n",
    "small_companies = company_sizes[company_sizes == 1]\n",
    "medium_companies = company_sizes[(company_sizes >= 2) & (company_sizes <= 7)]\n",
    "large_companies = company_sizes[company_sizes > 7]\n",
    "\n",
    "# Рассчитаем средние доли сотрудников без информации об образовании\n",
    "def calculate_missing_education_ratio(group):\n",
    "    group_size = len(group)\n",
    "    missing_education = group['graduated_at'].isna().sum()\n",
    "    return missing_education / group_size\n",
    "\n",
    "small_ratio = merged_data[merged_data['company_id'].isin(small_companies.index)].groupby('company_id').apply(calculate_missing_education_ratio).mean()\n",
    "medium_ratio = merged_data[merged_data['company_id'].isin(medium_companies.index)].groupby('company_id').apply(calculate_missing_education_ratio).mean()\n",
    "large_ratio = merged_data[merged_data['company_id'].isin(large_companies.index)].groupby('company_id').apply(calculate_missing_education_ratio).mean()\n",
    "\n",
    "# Выведем результаты\n",
    "print(f\"Средняя доля сотрудников без информации об образовании:\")\n",
    "print(f\"- Маленькие компании: {small_ratio:.2f}\")\n",
    "print(f\"- Средние компании: {medium_ratio:.2f}\")\n",
    "print(f\"- Большие компании: {large_ratio:.2f}\")"
   ]
  },
  {
   "cell_type": "code",
   "execution_count": 35,
   "metadata": {
    "id": "BThTjpLqFcsm"
   },
   "outputs": [
    {
     "data": {
      "image/png": "[encoded data removed]",
      "text/plain": [
       "<Figure size 1296x432 with 1 Axes>"
      ]
     },
     "metadata": {
      "needs_background": "light"
     },
     "output_type": "display_data"
    }
   ],
   "source": [
    "# Данные для графика\n",
    "company_groups = ['Маленькие компании', 'Средние компании', 'Крупные компании']\n",
    "missing_education_ratios = [small_ratio, medium_ratio, large_ratio]\n",
    "\n",
    "# Построение графика\n",
    "plt.figure(figsize=(18, 6))\n",
    "plt.bar(company_groups, missing_education_ratios, color='skyblue')\n",
    "plt.xlabel('Размер компании')\n",
    "plt.ylabel('Средняя доля сотрудников без информации об образовании')\n",
    "plt.title('Зависимость полноты информации об образовании от размера компании')\n",
    "plt.grid(axis='y', linestyle='--')\n",
    "plt.show()"
   ]
  },
  {
   "cell_type": "markdown",
   "metadata": {},
   "source": [
    "\n",
    "На данном этапе рабоыт с данными для выполнения задания по оценке полноты информации об образовании сотрудников в зависимости от размера компании,  таблица ___degrees.csv не требуется, но в будущем для заказчика они могут быть полезны, поэтому присоединим таблицу___.\n",
    "\n",
    "Таблица ___degrees.csv___ содержит информацию о типе образования, но для оценки полноты данных об образовании достаточно использовать таблицы ___people.csv___ и ___education.csv___. В этих таблицах уже есть основная информация, необходимая для анализа:\n",
    "- ___people.csv___ — содержит идентификационную информацию о сотрудниках и их принадлежности к компаниям.\n",
    "- ___education.csv___ — содержит информацию об образовании сотрудников.\n",
    "\n",
    "Объединили по столбцу ___object_id___ — идентификатор сотрудника датасет ___degrees___.\n",
    "Для этого пришлось поменять типы данных в строковые значения, так как хранящиемя данные в столбцах ___object_id___ и ___person_id___ хоть и похожа, но с добавление буквы впереди, что мешало объединению.\n"
   ]
  },
  {
   "cell_type": "markdown",
   "metadata": {
    "id": "Lz7qjM32xglW"
   },
   "source": [
    "### 2.3. Объединять или не объединять — вот в чём вопрос\n",
    "\n",
    "Некоторые названия столбцов встречаются в датасетах чаще других. В результате предварительной проверки датасетов было выяснено, что столбец `company_id` подходит для объединения данных.\n",
    "\n",
    "- Установите, подходит ли для объединения данных столбец `network_username`, который встречается в нескольких датасетах. Нам необходимо понимать, дублируется ли для разных датасетов информация в столбцах с таким названием, и если да — то насколько часто.\n",
    "- Оцените, можно ли использовать столбцы с именем `network_username` для объединения данных."
   ]
  },
  {
   "cell_type": "code",
   "execution_count": 36,
   "metadata": {
    "id": "zyI3rt0rxg1O"
   },
   "outputs": [],
   "source": [
    "# Подсчитаем уникальные значения в каждом датасете\n",
    "network_usernames_company_and_rounds = company_and_rounds['network_username'].dropna().unique()\n",
    "network_usernames_people = people['network_username'].dropna().unique()\n",
    "network_usernames_fund = fund['network_username'].dropna().unique()"
   ]
  },
  {
   "cell_type": "code",
   "execution_count": 37,
   "metadata": {
    "id": "RxOS5rwmFcNW"
   },
   "outputs": [
    {
     "data": {
      "text/plain": [
       "7"
      ]
     },
     "execution_count": 37,
     "metadata": {},
     "output_type": "execute_result"
    }
   ],
   "source": [
    "# Пересечения уникальных значений\n",
    "common_network_usernames = set(network_usernames_company_and_rounds).intersection(set(network_usernames_people)).intersection(set(network_usernames_fund))\n",
    "\n",
    "# Количество общих значений\n",
    "len(common_network_usernames)"
   ]
  },
  {
   "cell_type": "markdown",
   "metadata": {
    "id": "_7gjdrGOFcB2"
   },
   "source": [
    "Наличие всего 7 общих значений говорит о том, что столбец network_username слабо пересекается между разными датасетами. Это означает, что данные в этом поле относятся к разным видам данных.\n",
    "И действительно, если вернуться к описанию данных в самое начало проекта мы увидим что:\n",
    "- в датасете ___company_and_rounds___ (содержит информацию о компаниях и раундах финансирования) столбец network username означет ник компании в сети;\n",
    "- в датасете ___people___ (содержит информацию о сотрудниках) столбец network username означет ник сотрудника в социальных сетях;\n",
    "- в датасете ___fund___ (cодержит информацию о фондах:) столбец network username означет ник фонда в сети.\n",
    "\n",
    "___Таким образом network_usernames не подходит для объединения данных___."
   ]
  },
  {
   "cell_type": "markdown",
   "metadata": {
    "id": "EHcODomVrJg1"
   },
   "source": [
    "\n",
    "### 2.4. Проблемный датасет и причина возникновения пропусков\n",
    "\n",
    "Во время собственного анализа данных у заказчика больше всего вопросов возникло к датасету `company_and_rounds.csv`. В нём много пропусков как раз в информации о раундах, которая заказчику важна.\n",
    "\n",
    "- Любым удобным способом приведите данные в вид, который позволит в дальнейшем проводить анализ в разрезе отдельных компаний. Обратите внимание на структуру датасета, порядок и названия столбцов, проанализируйте значения.\n",
    "\n",
    "По гипотезе заказчика данные по компаниям из этой таблицы раньше хранились иначе, более удобным для исследования образом.\n",
    "\n",
    "- Максимальным образом сохраняя данные, сохранив их связность и исключив возможные возникающие при этом ошибки, подготовьте данные так, чтобы удобно было отобрать компании по параметрам и рассчитать показатели из расчёта на одну компанию без промежуточных агрегаций."
   ]
  },
  {
   "cell_type": "code",
   "execution_count": 38,
   "metadata": {},
   "outputs": [
    {
     "name": "stdout",
     "output_type": "stream",
     "text": [
      "<class 'pandas.core.frame.DataFrame'>\n",
      "RangeIndex: 217774 entries, 0 to 217773\n",
      "Data columns (total 23 columns):\n",
      " #   Column               Non-Null Count   Dtype         \n",
      "---  ------               --------------   -----         \n",
      " 0   company_id           217472 non-null  float64       \n",
      " 1   name                 217472 non-null  object        \n",
      " 2   category_code        143886 non-null  object        \n",
      " 3   status               217472 non-null  object        \n",
      " 4   founded_at           109956 non-null  datetime64[ns]\n",
      " 5   closed_at            3449 non-null    datetime64[ns]\n",
      " 6   domain               147159 non-null  object        \n",
      " 7   network_username     95534 non-null   object        \n",
      " 8   country_code         108607 non-null  object        \n",
      " 9   investment_rounds    217472 non-null  float64       \n",
      " 10  funding_rounds       217472 non-null  float64       \n",
      " 11  funding_total        217472 non-null  float64       \n",
      " 12  milestones           217472 non-null  float64       \n",
      " 13  funding_round_id     52928 non-null   float64       \n",
      " 14  company_id_round     52928 non-null   float64       \n",
      " 15  funded_at            52680 non-null   datetime64[ns]\n",
      " 16  funding_round_type   52928 non-null   object        \n",
      " 17  raised_amount        52928 non-null   float64       \n",
      " 18  pre_money_valuation  52928 non-null   float64       \n",
      " 19  participants         52928 non-null   float64       \n",
      " 20  is_first_round       52928 non-null   float64       \n",
      " 21  is_last_round        52928 non-null   float64       \n",
      " 22  year                 52680 non-null   float64       \n",
      "dtypes: datetime64[ns](3), float64(13), object(7)\n",
      "memory usage: 38.2+ MB\n"
     ]
    }
   ],
   "source": [
    "company_and_rounds.info()"
   ]
  },
  {
   "cell_type": "code",
   "execution_count": 39,
   "metadata": {},
   "outputs": [
    {
     "data": {
      "text/html": [
       "<div>\n",
       "<style scoped>\n",
       "    .dataframe tbody tr th:only-of-type {\n",
       "        vertical-align: middle;\n",
       "    }\n",
       "\n",
       "    .dataframe tbody tr th {\n",
       "        vertical-align: top;\n",
       "    }\n",
       "\n",
       "    .dataframe thead th {\n",
       "        text-align: right;\n",
       "    }\n",
       "</style>\n",
       "<table border=\"1\" class=\"dataframe\">\n",
       "  <thead>\n",
       "    <tr style=\"text-align: right;\">\n",
       "      <th></th>\n",
       "      <th>company_id</th>\n",
       "      <th>name</th>\n",
       "      <th>category_code</th>\n",
       "      <th>status</th>\n",
       "      <th>founded_at</th>\n",
       "      <th>closed_at</th>\n",
       "      <th>domain</th>\n",
       "      <th>network_username</th>\n",
       "      <th>country_code</th>\n",
       "      <th>investment_rounds</th>\n",
       "      <th>...</th>\n",
       "      <th>funding_round_id</th>\n",
       "      <th>company_id_round</th>\n",
       "      <th>funded_at</th>\n",
       "      <th>funding_round_type</th>\n",
       "      <th>raised_amount</th>\n",
       "      <th>pre_money_valuation</th>\n",
       "      <th>participants</th>\n",
       "      <th>is_first_round</th>\n",
       "      <th>is_last_round</th>\n",
       "      <th>year</th>\n",
       "    </tr>\n",
       "  </thead>\n",
       "  <tbody>\n",
       "    <tr>\n",
       "      <th>0</th>\n",
       "      <td>1.0</td>\n",
       "      <td>Wetpaint</td>\n",
       "      <td>web</td>\n",
       "      <td>operating</td>\n",
       "      <td>2005-10-17</td>\n",
       "      <td>NaT</td>\n",
       "      <td>wetpaint-inc.com</td>\n",
       "      <td>BachelrWetpaint</td>\n",
       "      <td>USA</td>\n",
       "      <td>0.0</td>\n",
       "      <td>...</td>\n",
       "      <td>888.0</td>\n",
       "      <td>1.0</td>\n",
       "      <td>2005-10-01</td>\n",
       "      <td>series-a</td>\n",
       "      <td>5250000.0</td>\n",
       "      <td>0.0</td>\n",
       "      <td>2.0</td>\n",
       "      <td>0.0</td>\n",
       "      <td>1.0</td>\n",
       "      <td>2005.0</td>\n",
       "    </tr>\n",
       "    <tr>\n",
       "      <th>1</th>\n",
       "      <td>1.0</td>\n",
       "      <td>Wetpaint</td>\n",
       "      <td>web</td>\n",
       "      <td>operating</td>\n",
       "      <td>2005-10-17</td>\n",
       "      <td>NaT</td>\n",
       "      <td>wetpaint-inc.com</td>\n",
       "      <td>BachelrWetpaint</td>\n",
       "      <td>USA</td>\n",
       "      <td>0.0</td>\n",
       "      <td>...</td>\n",
       "      <td>889.0</td>\n",
       "      <td>1.0</td>\n",
       "      <td>2007-01-01</td>\n",
       "      <td>series-b</td>\n",
       "      <td>9500000.0</td>\n",
       "      <td>0.0</td>\n",
       "      <td>3.0</td>\n",
       "      <td>0.0</td>\n",
       "      <td>0.0</td>\n",
       "      <td>2007.0</td>\n",
       "    </tr>\n",
       "    <tr>\n",
       "      <th>2</th>\n",
       "      <td>1.0</td>\n",
       "      <td>Wetpaint</td>\n",
       "      <td>web</td>\n",
       "      <td>operating</td>\n",
       "      <td>2005-10-17</td>\n",
       "      <td>NaT</td>\n",
       "      <td>wetpaint-inc.com</td>\n",
       "      <td>BachelrWetpaint</td>\n",
       "      <td>USA</td>\n",
       "      <td>0.0</td>\n",
       "      <td>...</td>\n",
       "      <td>2312.0</td>\n",
       "      <td>1.0</td>\n",
       "      <td>2008-05-19</td>\n",
       "      <td>series-c+</td>\n",
       "      <td>25000000.0</td>\n",
       "      <td>0.0</td>\n",
       "      <td>4.0</td>\n",
       "      <td>1.0</td>\n",
       "      <td>0.0</td>\n",
       "      <td>2008.0</td>\n",
       "    </tr>\n",
       "    <tr>\n",
       "      <th>3</th>\n",
       "      <td>10.0</td>\n",
       "      <td>Flektor</td>\n",
       "      <td>games_video</td>\n",
       "      <td>acquired</td>\n",
       "      <td>NaT</td>\n",
       "      <td>NaT</td>\n",
       "      <td>flektor.com</td>\n",
       "      <td>NaN</td>\n",
       "      <td>USA</td>\n",
       "      <td>0.0</td>\n",
       "      <td>...</td>\n",
       "      <td>NaN</td>\n",
       "      <td>NaN</td>\n",
       "      <td>NaT</td>\n",
       "      <td>NaN</td>\n",
       "      <td>NaN</td>\n",
       "      <td>NaN</td>\n",
       "      <td>NaN</td>\n",
       "      <td>NaN</td>\n",
       "      <td>NaN</td>\n",
       "      <td>NaN</td>\n",
       "    </tr>\n",
       "    <tr>\n",
       "      <th>4</th>\n",
       "      <td>100.0</td>\n",
       "      <td>There</td>\n",
       "      <td>games_video</td>\n",
       "      <td>acquired</td>\n",
       "      <td>NaT</td>\n",
       "      <td>NaT</td>\n",
       "      <td>there.com</td>\n",
       "      <td>NaN</td>\n",
       "      <td>USA</td>\n",
       "      <td>0.0</td>\n",
       "      <td>...</td>\n",
       "      <td>NaN</td>\n",
       "      <td>NaN</td>\n",
       "      <td>NaT</td>\n",
       "      <td>NaN</td>\n",
       "      <td>NaN</td>\n",
       "      <td>NaN</td>\n",
       "      <td>NaN</td>\n",
       "      <td>NaN</td>\n",
       "      <td>NaN</td>\n",
       "      <td>NaN</td>\n",
       "    </tr>\n",
       "  </tbody>\n",
       "</table>\n",
       "<p>5 rows × 23 columns</p>\n",
       "</div>"
      ],
      "text/plain": [
       "   company_id      name category_code     status founded_at closed_at  \\\n",
       "0         1.0  Wetpaint           web  operating 2005-10-17       NaT   \n",
       "1         1.0  Wetpaint           web  operating 2005-10-17       NaT   \n",
       "2         1.0  Wetpaint           web  operating 2005-10-17       NaT   \n",
       "3        10.0   Flektor   games_video   acquired        NaT       NaT   \n",
       "4       100.0     There   games_video   acquired        NaT       NaT   \n",
       "\n",
       "             domain network_username country_code  investment_rounds  ...  \\\n",
       "0  wetpaint-inc.com  BachelrWetpaint          USA                0.0  ...   \n",
       "1  wetpaint-inc.com  BachelrWetpaint          USA                0.0  ...   \n",
       "2  wetpaint-inc.com  BachelrWetpaint          USA                0.0  ...   \n",
       "3       flektor.com              NaN          USA                0.0  ...   \n",
       "4         there.com              NaN          USA                0.0  ...   \n",
       "\n",
       "   funding_round_id  company_id_round  funded_at  funding_round_type  \\\n",
       "0             888.0               1.0 2005-10-01            series-a   \n",
       "1             889.0               1.0 2007-01-01            series-b   \n",
       "2            2312.0               1.0 2008-05-19           series-c+   \n",
       "3               NaN               NaN        NaT                 NaN   \n",
       "4               NaN               NaN        NaT                 NaN   \n",
       "\n",
       "   raised_amount pre_money_valuation participants  is_first_round  \\\n",
       "0      5250000.0                 0.0          2.0             0.0   \n",
       "1      9500000.0                 0.0          3.0             0.0   \n",
       "2     25000000.0                 0.0          4.0             1.0   \n",
       "3            NaN                 NaN          NaN             NaN   \n",
       "4            NaN                 NaN          NaN             NaN   \n",
       "\n",
       "   is_last_round    year  \n",
       "0            1.0  2005.0  \n",
       "1            0.0  2007.0  \n",
       "2            0.0  2008.0  \n",
       "3            NaN     NaN  \n",
       "4            NaN     NaN  \n",
       "\n",
       "[5 rows x 23 columns]"
      ]
     },
     "execution_count": 39,
     "metadata": {},
     "output_type": "execute_result"
    }
   ],
   "source": [
    "company_and_rounds.head()"
   ]
  },
  {
   "cell_type": "markdown",
   "metadata": {},
   "source": [
    "В первой части работы с данными мы привели данные с датами (столбцы ___founded_at___, ___closed_at___ и ___unded_at___)  к типу ___datetime64.___ и привели названия колонок к общепринятому формату snake case.\n",
    "\n",
    "Можно привести столбцы ___company_id, company_id_round, funding_round_id, investment_rounds, participants___ к целочисленному значению типа int64.\n",
    "\n",
    "\n",
    "Теперь, при более внимательном рассмотрении датасета ___company_and_rounds___ можно предположить, что этот датасет состоит из двух дадатестов так как содержит информацию сразу о компаниях и раундах финансирования, поэтому следует его разделить на два разных датасета ___company___ и ___round___. \n",
    "\n",
    "Также проверим данные на дубликаты и приведем некоторые столбцы в датафрейме к нужному типу данных.\n",
    "\n",
    "\n",
    "С пропусками ничего делать не будем, так как их большое количество и при их заполнении будут искажены данные."
   ]
  },
  {
   "cell_type": "code",
   "execution_count": 40,
   "metadata": {},
   "outputs": [],
   "source": [
    "# Приведем выбранные столбцы к типу int64\n",
    "company_and_rounds['company_id'] = company_and_rounds['company_id'].astype('Int64')\n",
    "company_and_rounds['company_id_round'] = company_and_rounds['company_id_round'].astype('Int64')\n",
    "company_and_rounds['funding_round_id'] = company_and_rounds['funding_round_id'].astype('Int64')\n",
    "company_and_rounds['investment_rounds'] = company_and_rounds['investment_rounds'].astype('Int64')\n",
    "company_and_rounds['participants'] = company_and_rounds['participants'].astype('Int64')"
   ]
  },
  {
   "cell_type": "code",
   "execution_count": 41,
   "metadata": {},
   "outputs": [
    {
     "name": "stdout",
     "output_type": "stream",
     "text": [
      "<class 'pandas.core.frame.DataFrame'>\n",
      "RangeIndex: 217774 entries, 0 to 217773\n",
      "Data columns (total 23 columns):\n",
      " #   Column               Non-Null Count   Dtype         \n",
      "---  ------               --------------   -----         \n",
      " 0   company_id           217472 non-null  Int64         \n",
      " 1   name                 217472 non-null  object        \n",
      " 2   category_code        143886 non-null  object        \n",
      " 3   status               217472 non-null  object        \n",
      " 4   founded_at           109956 non-null  datetime64[ns]\n",
      " 5   closed_at            3449 non-null    datetime64[ns]\n",
      " 6   domain               147159 non-null  object        \n",
      " 7   network_username     95534 non-null   object        \n",
      " 8   country_code         108607 non-null  object        \n",
      " 9   investment_rounds    217472 non-null  Int64         \n",
      " 10  funding_rounds       217472 non-null  float64       \n",
      " 11  funding_total        217472 non-null  float64       \n",
      " 12  milestones           217472 non-null  float64       \n",
      " 13  funding_round_id     52928 non-null   Int64         \n",
      " 14  company_id_round     52928 non-null   Int64         \n",
      " 15  funded_at            52680 non-null   datetime64[ns]\n",
      " 16  funding_round_type   52928 non-null   object        \n",
      " 17  raised_amount        52928 non-null   float64       \n",
      " 18  pre_money_valuation  52928 non-null   float64       \n",
      " 19  participants         52928 non-null   Int64         \n",
      " 20  is_first_round       52928 non-null   float64       \n",
      " 21  is_last_round        52928 non-null   float64       \n",
      " 22  year                 52680 non-null   float64       \n",
      "dtypes: Int64(5), datetime64[ns](3), float64(8), object(7)\n",
      "memory usage: 39.3+ MB\n"
     ]
    }
   ],
   "source": [
    "# Выводим датасет company_and_rounds для ознакомления с данными и проверки типа данных\n",
    "company_and_rounds.info()"
   ]
  },
  {
   "cell_type": "code",
   "execution_count": 42,
   "metadata": {},
   "outputs": [],
   "source": [
    "# Разделяем датафрейм company_and_rounds на два отдельных датафрейма\n",
    "company = company_and_rounds.iloc[:, :13]\n",
    "rounds = company_and_rounds.loc[:, 'funding_round_id':]"
   ]
  },
  {
   "cell_type": "code",
   "execution_count": 43,
   "metadata": {},
   "outputs": [
    {
     "name": "stdout",
     "output_type": "stream",
     "text": [
      "<class 'pandas.core.frame.DataFrame'>\n",
      "RangeIndex: 217774 entries, 0 to 217773\n",
      "Data columns (total 13 columns):\n",
      " #   Column             Non-Null Count   Dtype         \n",
      "---  ------             --------------   -----         \n",
      " 0   company_id         217472 non-null  Int64         \n",
      " 1   name               217472 non-null  object        \n",
      " 2   category_code      143886 non-null  object        \n",
      " 3   status             217472 non-null  object        \n",
      " 4   founded_at         109956 non-null  datetime64[ns]\n",
      " 5   closed_at          3449 non-null    datetime64[ns]\n",
      " 6   domain             147159 non-null  object        \n",
      " 7   network_username   95534 non-null   object        \n",
      " 8   country_code       108607 non-null  object        \n",
      " 9   investment_rounds  217472 non-null  Int64         \n",
      " 10  funding_rounds     217472 non-null  float64       \n",
      " 11  funding_total      217472 non-null  float64       \n",
      " 12  milestones         217472 non-null  float64       \n",
      "dtypes: Int64(2), datetime64[ns](2), float64(3), object(6)\n",
      "memory usage: 22.0+ MB\n"
     ]
    }
   ],
   "source": [
    "# проверяем корректно ли разделился датафрейм\n",
    "company.info()"
   ]
  },
  {
   "cell_type": "code",
   "execution_count": 44,
   "metadata": {},
   "outputs": [
    {
     "data": {
      "text/plain": [
       "217774"
      ]
     },
     "execution_count": 44,
     "metadata": {},
     "output_type": "execute_result"
    }
   ],
   "source": [
    "start_company=company.shape[0]\n",
    "start_company"
   ]
  },
  {
   "cell_type": "code",
   "execution_count": 45,
   "metadata": {},
   "outputs": [
    {
     "name": "stdout",
     "output_type": "stream",
     "text": [
      "<class 'pandas.core.frame.DataFrame'>\n",
      "RangeIndex: 217774 entries, 0 to 217773\n",
      "Data columns (total 10 columns):\n",
      " #   Column               Non-Null Count  Dtype         \n",
      "---  ------               --------------  -----         \n",
      " 0   funding_round_id     52928 non-null  Int64         \n",
      " 1   company_id_round     52928 non-null  Int64         \n",
      " 2   funded_at            52680 non-null  datetime64[ns]\n",
      " 3   funding_round_type   52928 non-null  object        \n",
      " 4   raised_amount        52928 non-null  float64       \n",
      " 5   pre_money_valuation  52928 non-null  float64       \n",
      " 6   participants         52928 non-null  Int64         \n",
      " 7   is_first_round       52928 non-null  float64       \n",
      " 8   is_last_round        52928 non-null  float64       \n",
      " 9   year                 52680 non-null  float64       \n",
      "dtypes: Int64(3), datetime64[ns](1), float64(5), object(1)\n",
      "memory usage: 17.2+ MB\n"
     ]
    }
   ],
   "source": [
    "# проверяем корректно ли разделился датафрейм\n",
    "rounds.info()"
   ]
  },
  {
   "cell_type": "code",
   "execution_count": 46,
   "metadata": {},
   "outputs": [
    {
     "data": {
      "text/plain": [
       "217774"
      ]
     },
     "execution_count": 46,
     "metadata": {},
     "output_type": "execute_result"
    }
   ],
   "source": [
    "start_rounds = rounds.shape[0]\n",
    "start_rounds"
   ]
  },
  {
   "cell_type": "code",
   "execution_count": 47,
   "metadata": {},
   "outputs": [
    {
     "data": {
      "text/plain": [
       "21220"
      ]
     },
     "execution_count": 47,
     "metadata": {},
     "output_type": "execute_result"
    }
   ],
   "source": [
    "# проверяем полные дубликаты и считаем их кол-во\n",
    "company.duplicated().sum()\n"
   ]
  },
  {
   "cell_type": "code",
   "execution_count": 48,
   "metadata": {},
   "outputs": [
    {
     "data": {
      "text/plain": [
       "196554"
      ]
     },
     "execution_count": 48,
     "metadata": {},
     "output_type": "execute_result"
    }
   ],
   "source": [
    "# удаляем дубликаты и считаем количество строк после обработки в датасете company\n",
    "company = company.drop_duplicates()\n",
    "end_company = company.shape[0]\n",
    "end_company"
   ]
  },
  {
   "cell_type": "code",
   "execution_count": 49,
   "metadata": {},
   "outputs": [
    {
     "data": {
      "text/plain": [
       "164845"
      ]
     },
     "execution_count": 49,
     "metadata": {},
     "output_type": "execute_result"
    }
   ],
   "source": [
    "# проверяем полные дубликаты и считаем их кол-во\n",
    "rounds.duplicated().sum()"
   ]
  },
  {
   "cell_type": "code",
   "execution_count": 50,
   "metadata": {},
   "outputs": [
    {
     "data": {
      "text/plain": [
       "52929"
      ]
     },
     "execution_count": 50,
     "metadata": {},
     "output_type": "execute_result"
    }
   ],
   "source": [
    "# удаляем дубликаты и считаем количество строк после обработки в датасете round\n",
    "rounds = rounds.drop_duplicates()\n",
    "end_rounds = rounds.shape[0]\n",
    "end_rounds"
   ]
  },
  {
   "cell_type": "code",
   "execution_count": 51,
   "metadata": {},
   "outputs": [
    {
     "name": "stdout",
     "output_type": "stream",
     "text": [
      "Процент удаленных дубликатов в датасете company = 9.74%\n",
      "Процент удаленных дубликатов в датасете rounds = 75.70%\n"
     ]
    }
   ],
   "source": [
    "print(f'Процент удаленных дубликатов в датасете company = {((start_company - end_company) / start_company) * 100:.2f}%')\n",
    "\n",
    "# Предполагая, что start_rounds и end_rounds уже определены\n",
    "print(f'Процент удаленных дубликатов в датасете rounds = {((start_rounds - end_rounds) / start_rounds) * 100:.2f}%')"
   ]
  },
  {
   "cell_type": "markdown",
   "metadata": {},
   "source": [
    "В результате обработки датафрейма company_and_rounds мы:\n",
    "\n",
    "- продолжили приводить данные к нужному типу (в этот раз привели столбцы ___company_id, company_id_round, funding_round_id, investment_rounds, participants к целочисленному значению типа int64.___);\n",
    "- разделили датафрйем ___company_and_rounds___ на два датафрейма ___company___ и ___rounds___;\n",
    "- удалили дубликаты в разделенных датафреймах:\n",
    "    - процент удаленных дубликатов в датасете company = 9.74%;\n",
    "    - процент удаленных дубликатов в датасете rounds = 75.7%.\n"
   ]
  },
  {
   "cell_type": "markdown",
   "metadata": {
    "id": "bmVYhphNrJg2"
   },
   "source": [
    "\n",
    "## Шаг 3. Исследовательский анализ объединённых таблиц\n",
    "\n",
    "> Приступите к шагу 3 после проверки ревьюера.\n",
    "\n",
    "<big>Студентам нужно чётко сказать - проверять дальше или не проверять.</big>"
   ]
  },
  {
   "cell_type": "markdown",
   "metadata": {
    "id": "3Di6tCT3rJg2"
   },
   "source": [
    "\n",
    "### 3.1. Объединение данных\n",
    "\n",
    "Объедините данные для ответа на вопросы заказчика, которые касаются интересующих его компаний. Заказчика прежде всего интересуют те компании, которые меняли или готовы менять владельцев. Получение инвестиций или финансирования, по мнению заказчика, означает интерес к покупке или продаже компании.\n",
    "\n",
    "В качестве основы для объединённой таблицы возьмите данные из обработанного датасета `company_and_rounds.csv` — выберите только те компании, у которых указаны значения `funding_rounds` или `investment_rounds` больше нуля, или те, у которых в колонке `status` указано `acquired`. В результирующей таблице должно получиться порядка 40 тысяч компаний.\n",
    "\n",
    "Проверьте полноту и корректность получившейся таблицы. Далее работайте только с этими данными."
   ]
  },
  {
   "cell_type": "code",
   "execution_count": 52,
   "metadata": {
    "id": "93v3fEX5FgtP"
   },
   "outputs": [],
   "source": [
    "# Фильтруем данные по условию\n",
    "company = company[\n",
    "    (company['funding_rounds'] > 0) |\n",
    "    (company['investment_rounds'] > 0) |\n",
    "    (company['status'] == 'acquired')\n",
    "]"
   ]
  },
  {
   "cell_type": "code",
   "execution_count": 53,
   "metadata": {},
   "outputs": [
    {
     "name": "stdout",
     "output_type": "stream",
     "text": [
      "<class 'pandas.core.frame.DataFrame'>\n",
      "Int64Index: 40747 entries, 0 to 217469\n",
      "Data columns (total 13 columns):\n",
      " #   Column             Non-Null Count  Dtype         \n",
      "---  ------             --------------  -----         \n",
      " 0   company_id         40747 non-null  Int64         \n",
      " 1   name               40747 non-null  object        \n",
      " 2   category_code      35315 non-null  object        \n",
      " 3   status             40747 non-null  object        \n",
      " 4   founded_at         27807 non-null  datetime64[ns]\n",
      " 5   closed_at          2128 non-null   datetime64[ns]\n",
      " 6   domain             35754 non-null  object        \n",
      " 7   network_username   20850 non-null  object        \n",
      " 8   country_code       34742 non-null  object        \n",
      " 9   investment_rounds  40747 non-null  Int64         \n",
      " 10  funding_rounds     40747 non-null  float64       \n",
      " 11  funding_total      40747 non-null  float64       \n",
      " 12  milestones         40747 non-null  float64       \n",
      "dtypes: Int64(2), datetime64[ns](2), float64(3), object(6)\n",
      "memory usage: 4.4+ MB\n"
     ]
    }
   ],
   "source": [
    "# Выводим информацию о датасете после фильтрации данных по заданным параметрам\n",
    "company.info()"
   ]
  },
  {
   "cell_type": "code",
   "execution_count": 54,
   "metadata": {},
   "outputs": [
    {
     "data": {
      "text/html": [
       "<div>\n",
       "<style scoped>\n",
       "    .dataframe tbody tr th:only-of-type {\n",
       "        vertical-align: middle;\n",
       "    }\n",
       "\n",
       "    .dataframe tbody tr th {\n",
       "        vertical-align: top;\n",
       "    }\n",
       "\n",
       "    .dataframe thead th {\n",
       "        text-align: right;\n",
       "    }\n",
       "</style>\n",
       "<table border=\"1\" class=\"dataframe\">\n",
       "  <thead>\n",
       "    <tr style=\"text-align: right;\">\n",
       "      <th></th>\n",
       "      <th>company_id</th>\n",
       "      <th>name</th>\n",
       "      <th>category_code</th>\n",
       "      <th>status</th>\n",
       "      <th>founded_at</th>\n",
       "      <th>closed_at</th>\n",
       "      <th>domain</th>\n",
       "      <th>network_username</th>\n",
       "      <th>country_code</th>\n",
       "      <th>investment_rounds</th>\n",
       "      <th>funding_rounds</th>\n",
       "      <th>funding_total</th>\n",
       "      <th>milestones</th>\n",
       "    </tr>\n",
       "  </thead>\n",
       "  <tbody>\n",
       "    <tr>\n",
       "      <th>0</th>\n",
       "      <td>1</td>\n",
       "      <td>Wetpaint</td>\n",
       "      <td>web</td>\n",
       "      <td>operating</td>\n",
       "      <td>2005-10-17</td>\n",
       "      <td>NaT</td>\n",
       "      <td>wetpaint-inc.com</td>\n",
       "      <td>BachelrWetpaint</td>\n",
       "      <td>USA</td>\n",
       "      <td>0</td>\n",
       "      <td>3.0</td>\n",
       "      <td>39750000.0</td>\n",
       "      <td>5.0</td>\n",
       "    </tr>\n",
       "    <tr>\n",
       "      <th>3</th>\n",
       "      <td>10</td>\n",
       "      <td>Flektor</td>\n",
       "      <td>games_video</td>\n",
       "      <td>acquired</td>\n",
       "      <td>NaT</td>\n",
       "      <td>NaT</td>\n",
       "      <td>flektor.com</td>\n",
       "      <td>NaN</td>\n",
       "      <td>USA</td>\n",
       "      <td>0</td>\n",
       "      <td>0.0</td>\n",
       "      <td>0.0</td>\n",
       "      <td>0.0</td>\n",
       "    </tr>\n",
       "    <tr>\n",
       "      <th>4</th>\n",
       "      <td>100</td>\n",
       "      <td>There</td>\n",
       "      <td>games_video</td>\n",
       "      <td>acquired</td>\n",
       "      <td>NaT</td>\n",
       "      <td>NaT</td>\n",
       "      <td>there.com</td>\n",
       "      <td>NaN</td>\n",
       "      <td>USA</td>\n",
       "      <td>0</td>\n",
       "      <td>0.0</td>\n",
       "      <td>0.0</td>\n",
       "      <td>4.0</td>\n",
       "    </tr>\n",
       "    <tr>\n",
       "      <th>15</th>\n",
       "      <td>1001</td>\n",
       "      <td>FriendFeed</td>\n",
       "      <td>web</td>\n",
       "      <td>acquired</td>\n",
       "      <td>2007-10-01</td>\n",
       "      <td>NaT</td>\n",
       "      <td>friendfeed.com</td>\n",
       "      <td>friendfeed</td>\n",
       "      <td>USA</td>\n",
       "      <td>0</td>\n",
       "      <td>1.0</td>\n",
       "      <td>5000000.0</td>\n",
       "      <td>3.0</td>\n",
       "    </tr>\n",
       "    <tr>\n",
       "      <th>20</th>\n",
       "      <td>10014</td>\n",
       "      <td>Mobclix</td>\n",
       "      <td>mobile</td>\n",
       "      <td>acquired</td>\n",
       "      <td>2008-03-01</td>\n",
       "      <td>NaT</td>\n",
       "      <td>mobclix.com</td>\n",
       "      <td>mobclix</td>\n",
       "      <td>USA</td>\n",
       "      <td>0</td>\n",
       "      <td>1.0</td>\n",
       "      <td>0.0</td>\n",
       "      <td>4.0</td>\n",
       "    </tr>\n",
       "  </tbody>\n",
       "</table>\n",
       "</div>"
      ],
      "text/plain": [
       "    company_id        name category_code     status founded_at closed_at  \\\n",
       "0            1    Wetpaint           web  operating 2005-10-17       NaT   \n",
       "3           10     Flektor   games_video   acquired        NaT       NaT   \n",
       "4          100       There   games_video   acquired        NaT       NaT   \n",
       "15        1001  FriendFeed           web   acquired 2007-10-01       NaT   \n",
       "20       10014     Mobclix        mobile   acquired 2008-03-01       NaT   \n",
       "\n",
       "              domain network_username country_code  investment_rounds  \\\n",
       "0   wetpaint-inc.com  BachelrWetpaint          USA                  0   \n",
       "3        flektor.com              NaN          USA                  0   \n",
       "4          there.com              NaN          USA                  0   \n",
       "15    friendfeed.com       friendfeed          USA                  0   \n",
       "20       mobclix.com          mobclix          USA                  0   \n",
       "\n",
       "    funding_rounds  funding_total  milestones  \n",
       "0              3.0     39750000.0         5.0  \n",
       "3              0.0            0.0         0.0  \n",
       "4              0.0            0.0         4.0  \n",
       "15             1.0      5000000.0         3.0  \n",
       "20             1.0            0.0         4.0  "
      ]
     },
     "execution_count": 54,
     "metadata": {},
     "output_type": "execute_result"
    }
   ],
   "source": [
    "# Выводим первые 5 строк для проверки \n",
    "company.head()"
   ]
  },
  {
   "cell_type": "markdown",
   "metadata": {},
   "source": [
    "Под нужные нам параметры попали 40747 компаний."
   ]
  },
  {
   "cell_type": "markdown",
   "metadata": {
    "id": "DFHINkV3rJg2"
   },
   "source": [
    "\n",
    "### 3.2. Анализ выбросов\n",
    "\n",
    "Заказчика интересует обычный для рассматриваемого периода размер средств, который предоставлялся компаниям.\n",
    "\n",
    "- По предобработанному столбцу `funding_total` графическим способом оцените, какой размер общего финансирования для одной компании будет типичным, а какой — выбивающимся.\n",
    "- В процессе расчёта значений обратите внимание, например, на показатели, возвращаемые методом `.describe()`, — объясните их. Применимы ли к таким данным обычные способы нахождения типичных значений?"
   ]
  },
  {
   "cell_type": "code",
   "execution_count": 55,
   "metadata": {},
   "outputs": [
    {
     "data": {
      "text/plain": [
       "count    4.074700e+04\n",
       "mean     1.013561e+07\n",
       "std      5.646436e+07\n",
       "min      0.000000e+00\n",
       "25%      0.000000e+00\n",
       "50%      6.000000e+05\n",
       "75%      5.650650e+06\n",
       "max      5.700000e+09\n",
       "Name: funding_total, dtype: float64"
      ]
     },
     "execution_count": 55,
     "metadata": {},
     "output_type": "execute_result"
    }
   ],
   "source": [
    "# Выводим показатели методом describe\n",
    "company['funding_total'].describe()"
   ]
  },
  {
   "cell_type": "code",
   "execution_count": 56,
   "metadata": {},
   "outputs": [
    {
     "data": {
      "text/plain": [
       "count           40.747\n",
       "mean        10.135.610\n",
       "std         56.464.360\n",
       "min                  0\n",
       "25%                  0\n",
       "50%            600.000\n",
       "75%          5.650.650\n",
       "max      5.700.000.000\n",
       "Name: funding_total, dtype: object"
      ]
     },
     "execution_count": 56,
     "metadata": {},
     "output_type": "execute_result"
    }
   ],
   "source": [
    "# Выводим показатели методом describe и делаем их легкочитаемыми\n",
    "company['funding_total'].describe().map('{:,.0f}'.format).str.replace(',', '.')"
   ]
  },
  {
   "cell_type": "code",
   "execution_count": 57,
   "metadata": {},
   "outputs": [
    {
     "name": "stdout",
     "output_type": "stream",
     "text": [
      "Первый квартиль (Q1): 0.00\n",
      "Третий квартиль (Q3): 5650650.00\n",
      "Mежквартильный размах (IQR): 5650650.00\n"
     ]
    }
   ],
   "source": [
    "# Вычисляем IQR\n",
    "Q1 = company['funding_total'].quantile(0.25)  # Первый квартиль (25%)\n",
    "Q3 = company['funding_total'].quantile(0.75)  # Третий квартиль (75%)\n",
    "IQR = Q3 - Q1 \n",
    "\n",
    "print(f\"Первый квартиль (Q1): {Q1:.2f}\")\n",
    "print(f\"Третий квартиль (Q3): {Q3:.2f}\")\n",
    "print(f\"Mежквартильный размах (IQR): {IQR:.2f}\")"
   ]
  },
  {
   "cell_type": "markdown",
   "metadata": {},
   "source": [
    "___Основные выводы после вывода основных значений:____\n",
    "Среднее значение (mean) составляет около 10 миллионов, однако стандартное отклонение (std) — почти 56 миллионов. \n",
    "Это свидетельствует о высокой вариабельности значений вокруг среднего уровня.\n",
    "\n",
    "\n",
    "Диапазон от минимального (0) до максимального (5,7 миллиарда) показывает большую разницу между наименьшими и наибольшими значениями, отражающую значительную неоднородность выборки.\n",
    "\n",
    "\n",
    "Медиана (median, 50%) равна 600 тысяч, что значительно ниже среднего значения. Такая разница между средним и медианой также подтверждает наличие экстремальных выбросов (крупных сумм).\n",
    "\n",
    "\n",
    "Четвертичный разбиение демонстрирует, что половина наблюдений лежит в диапазоне от 0 до 600 тыс., а остальные распределены неравномерно вплоть до максимума в 5,7 млрд.\n",
    "\n",
    "\n",
    "__Таким образом, можно сделать вывод, что большинство компаний получили относительно небольшие суммы финансирования, тогда как небольшая доля получила чрезвычайно крупные инвестиции.__\n",
    "\n",
    "___Классические методы (такие как среднее значение) не подходят для таких данных, потому что присутствуют сильные выбросы. Наиболее подходящими методами для нахождения типичных значений здесь будут медиана и оценка через квартили.___\n",
    "\n",
    "___Таким образом типичным размером финансирования для одной компании будет  $600.000.___\n",
    "\n"
   ]
  },
  {
   "cell_type": "code",
   "execution_count": 58,
   "metadata": {
    "scrolled": true
   },
   "outputs": [
    {
     "data": {
      "image/png": "[encoded data removed]",
      "text/plain": [
       "<Figure size 1296x432 with 1 Axes>"
      ]
     },
     "metadata": {
      "needs_background": "light"
     },
     "output_type": "display_data"
    }
   ],
   "source": [
    "# Ящичковая диаграмма\n",
    "plt.figure(figsize=(18, 6))\n",
    "sns.boxplot(x=company['funding_total'], palette='Blues')\n",
    "plt.xticks(np.arange(min(company['funding_total']), max(company['funding_total']) + 1, step=250000000))\n",
    "plt.title('Диаграмма общего объема финансирования')\n",
    "plt.xlabel('Общее финансирование (млрд$)')\n",
    "plt.show()"
   ]
  },
  {
   "cell_type": "code",
   "execution_count": 59,
   "metadata": {},
   "outputs": [
    {
     "data": {
      "image/png": "[encoded data removed]",
      "text/plain": [
       "<Figure size 1296x432 with 1 Axes>"
      ]
     },
     "metadata": {
      "needs_background": "light"
     },
     "output_type": "display_data"
    }
   ],
   "source": [
    "# приближаем диаграмму для более четкой наглядности типичных значений \n",
    "plt.figure(figsize=(18, 6))\n",
    "sns.boxplot(x=company['funding_total'], palette='Blues')\n",
    "plt.title('Типичные значения финансирования')\n",
    "plt.xlabel('Общее финансирование (млрд$)')\n",
    "plt.xlim(-1000000, 50000000)  # сужаем диапазон до очень близких значений\n",
    "plt.xticks(ticks=np.arange(0, 50000001, 5000000), labels=[f'{val/1e9:.2f}' for val in np.arange(0, 500000001, 50000000)])  # деления по 5 млн долларов\n",
    "plt.show()"
   ]
  },
  {
   "cell_type": "markdown",
   "metadata": {},
   "source": [
    "___Судя по графику, можно сделать следующие выводы о распределении данных в столбце funding_total:____\n",
    "- видно множество точек, находящихся далеко выше \"усов\". Это указывает на наличие большого количества выбросов — компаний с необычайно высокими суммами финансирования;\n",
    "- видно, что большинство значений сконцентрированы в самом начале оси X (ближе к нулю), а правее значения резко уменьшаются, что говорит о сильно скошенном распределении. Большинство компаний имеют небольшие суммы финансирования, и лишь немногие — очень большие."
   ]
  },
  {
   "cell_type": "markdown",
   "metadata": {
    "id": "JqkRAQrIrJg2"
   },
   "source": [
    "\n",
    "### 3.3. Куплены забесплатно?\n",
    "\n",
    "- Исследуйте компании, которые были проданы за ноль или за один доллар, и при этом известно, что у них был ненулевой общий объём финансирования.\n",
    "\n",
    "- Рассчитайте аналитически верхнюю и нижнюю границу выбросов для столбца `funding_total` и укажите, каким процентилям границы соответствуют."
   ]
  },
  {
   "cell_type": "code",
   "execution_count": 60,
   "metadata": {},
   "outputs": [
    {
     "name": "stdout",
     "output_type": "stream",
     "text": [
      "<class 'pandas.core.frame.DataFrame'>\n",
      "Int64Index: 40890 entries, 0 to 40889\n",
      "Data columns (total 19 columns):\n",
      " #   Column                Non-Null Count  Dtype         \n",
      "---  ------                --------------  -----         \n",
      " 0   company_id            40890 non-null  Int64         \n",
      " 1   name                  40890 non-null  object        \n",
      " 2   category_code         35436 non-null  object        \n",
      " 3   status                40890 non-null  object        \n",
      " 4   founded_at            27911 non-null  datetime64[ns]\n",
      " 5   closed_at             2128 non-null   datetime64[ns]\n",
      " 6   domain                35883 non-null  object        \n",
      " 7   network_username      20938 non-null  object        \n",
      " 8   country_code          34858 non-null  object        \n",
      " 9   investment_rounds     40890 non-null  Int64         \n",
      " 10  funding_rounds        40890 non-null  float64       \n",
      " 11  funding_total         40890 non-null  float64       \n",
      " 12  milestones            40890 non-null  float64       \n",
      " 13  id                    9390 non-null   float64       \n",
      " 14  acquiring_company_id  9390 non-null   float64       \n",
      " 15  acquired_company_id   9390 non-null   float64       \n",
      " 16  term_code             1830 non-null   object        \n",
      " 17  price_amount          9390 non-null   float64       \n",
      " 18  acquired_at           9361 non-null   datetime64[ns]\n",
      "dtypes: Int64(2), datetime64[ns](3), float64(7), object(7)\n",
      "memory usage: 6.3+ MB\n"
     ]
    }
   ],
   "source": [
    "# Соединяем датафреймы company и acquisition для изучения цены продажи коспании и размера финансирования \n",
    "price_info = pd.merge(company, acquisition, left_on='company_id', right_on='acquired_company_id', how='left')\n",
    "# смотрим получившийся датафрейм\n",
    "price_info.info()"
   ]
  },
  {
   "cell_type": "code",
   "execution_count": 61,
   "metadata": {},
   "outputs": [
    {
     "data": {
      "text/plain": [
       "1618"
      ]
     },
     "execution_count": 61,
     "metadata": {},
     "output_type": "execute_result"
    }
   ],
   "source": [
    "# Фильтруем данные по заданным параметрам\n",
    "low_cost_sales = price_info.query('price_amount.isin([0, 1]) & (funding_total > 0)')\n",
    "\n",
    "# Смотрим количество таких компаний\n",
    "len(low_cost_sales)"
   ]
  },
  {
   "cell_type": "markdown",
   "metadata": {},
   "source": [
    "__1618 компаний попадают под заданные условия__"
   ]
  },
  {
   "cell_type": "code",
   "execution_count": 62,
   "metadata": {},
   "outputs": [
    {
     "name": "stdout",
     "output_type": "stream",
     "text": [
      "Нижняя граница выбросов: -18250000.00 (процентиль: 0.00%)\n",
      "Верхняя граница выбросов: 35750000.00 (процентиль: 0.36%)\n"
     ]
    }
   ],
   "source": [
    "# Вычисляем квартили\n",
    "Q1 = low_cost_sales['funding_total'].quantile(0.25)\n",
    "Q3 = low_cost_sales['funding_total'].quantile(0.75)\n",
    "IQR = Q3 - Q1\n",
    "\n",
    "# Границы выбросов\n",
    "lower_bound = Q1 - 1.5 * IQR\n",
    "upper_bound = Q3 + 1.5 * IQR\n",
    "\n",
    "# Процентили границ\n",
    "percentile_lower = low_cost_sales['funding_total'].lt(lower_bound).sum() / len(price_info) * 100\n",
    "percentile_upper = low_cost_sales['funding_total'].gt(upper_bound).sum() / len(price_info) * 100\n",
    "\n",
    "# Выводим результаты\n",
    "print(f\"Нижняя граница выбросов: {lower_bound:.2f} (процентиль: {percentile_lower:.2f}%)\")\n",
    "print(f\"Верхняя граница выбросов: {upper_bound:.2f} (процентиль: {percentile_upper:.2f}%)\")\n"
   ]
  },
  {
   "cell_type": "markdown",
   "metadata": {},
   "source": [
    "__Нижняя граница выбросов соответствует 0 процентилю, а верхняя граница соответствует 0.36 процентилю)__\n",
    "\n",
    "\n",
    "__Заменим значение нижней границы: Устанавливаем нижнюю границу на 0, так как отрицательных значений финансирования быть не может и визуализируем данные.__"
   ]
  },
  {
   "cell_type": "code",
   "execution_count": 63,
   "metadata": {},
   "outputs": [
    {
     "data": {
      "image/png": "[encoded data removed]",
      "text/plain": [
       "<Figure size 1296x432 with 1 Axes>"
      ]
     },
     "metadata": {
      "needs_background": "light"
     },
     "output_type": "display_data"
    }
   ],
   "source": [
    "# Новые границы\n",
    "lower_bound_new = 0\n",
    "upper_bound = 35750000\n",
    "\n",
    "# Фильтруем данные, оставляя только значения в границах\n",
    "filtered_data = low_cost_sales[(low_cost_sales['funding_total'] >= lower_bound_new) & (low_cost_sales['funding_total'] <= upper_bound)]\n",
    "\n",
    "# Строим гистограмму\n",
    "plt.figure(figsize=(18, 6))\n",
    "sns.histplot(filtered_data['funding_total'], bins=30, palette='Blues')\n",
    "plt.title('Распределение объемов финансирования компаний\\n(границы выбросов скорректированы)')\n",
    "plt.xlabel('Сумма финансирования')\n",
    "plt.ylabel('Количество компаний')\n",
    "plt.show()"
   ]
  },
  {
   "cell_type": "markdown",
   "metadata": {},
   "source": [
    "Большинство компаний, которые проданы за 0 и 1 доллар получили относительно небольшое финансирование: Наиболее высокая колонка находится в левой части графика, ближе к нулю. Это говорит о том, что основная масса компаний получила относительно малые суммы инвестиций.\n",
    "\n",
    "Чем больше сумма финансирования, тем меньше компаний: Гистограмма убывает вправо — с ростом объема финансирования количество таких компаний резко сокращается.\n",
    "\n",
    "Есть немного компаний с высоким уровнем финансирования: хотя их немного, такие компании всё же присутствуют в выборке.\n",
    "\n",
    "\n",
    "Возможные причины \"странных\" сделок:\n",
    "Компания может быть продана за символическую цену, из-за отсутствия интереса инвесторов (некоторые компании могут не привлекать инвесторов из-за отсутствия перспектив или недостаточной проработки бизнес-модели).\n",
    "\n",
    "Компании могут быть проданы за символическую цену, если покупатель заинтересован в активах или технологиях стартапа и готов вкладывать деньги в его дальнейшее развитие, и, возможно, сделки оформляются таким образом для упрощения юридических процедур или для минимизации налоговых обязательств."
   ]
  },
  {
   "cell_type": "markdown",
   "metadata": {
    "id": "mEiWpROjrJg2"
   },
   "source": [
    "\n",
    "### 3.4. Цены стартапов по категориям\n",
    "\n",
    "Категории стартапов с типично высокими ценами покупки стартапов и значительным разбросом цен могут быть привлекательными для крупных инвесторов, которые готовы к высоким рискам ради потенциально больших доходов. Среди категорий стартапов выделите категории стартапов, характеризующиеся:\n",
    "\n",
    "- типично высокими ценами;\n",
    "- и наибольшим разбросом цен за стартап.\n",
    "\n",
    "Объясните, почему решили составить топ именно из такого числа категорий и почему рассчитывали именно так."
   ]
  },
  {
   "cell_type": "code",
   "execution_count": 64,
   "metadata": {},
   "outputs": [
    {
     "name": "stdout",
     "output_type": "stream",
     "text": [
      "Количество строк до фильтрации: 40890\n",
      "Количество строк после фильтрации: 35001\n"
     ]
    }
   ],
   "source": [
    "# Определяем выбросы с помощью метода IQR\n",
    "Q1 = price_info['funding_total'].quantile(0.25)\n",
    "Q3 = price_info['funding_total'].quantile(0.75)\n",
    "IQR = Q3 - Q1\n",
    "\n",
    "# Определение верхней и нижней границы выбросов\n",
    "lower_bound = Q1 - 1.5 * IQR\n",
    "upper_bound = Q3 + 1.5 * IQR\n",
    "\n",
    "# Фильтруем данные, оставляя только значения в границах\n",
    "filtered_data = price_info[(price_info['funding_total'] >= lower_bound) & (price_info['funding_total'] <= upper_bound)]\n",
    "\n",
    "# Выводим информацию о количестве строк до и после фильтрации\n",
    "print(f\"Количество строк до фильтрации: {len(price_info)}\")\n",
    "print(f\"Количество строк после фильтрации: {len(filtered_data)}\")"
   ]
  },
  {
   "cell_type": "code",
   "execution_count": 65,
   "metadata": {},
   "outputs": [
    {
     "name": "stdout",
     "output_type": "stream",
     "text": [
      "Топ-5 категорий по максимальному значению финансирования:\n",
      "                     MAX\n",
      "category_code           \n",
      "automotive    14,069,800\n",
      "hardware      14,069,200\n",
      "software      14,060,000\n",
      "enterprise    14,050,000\n",
      "mobile        14,037,100\n",
      "\n",
      "Топ-5 категорий по стандартному отклонению:\n",
      "                    STD\n",
      "category_code          \n",
      "semiconductor 4,401,281\n",
      "cleantech     3,976,945\n",
      "security      3,799,439\n",
      "medical       3,733,473\n",
      "biotech       3,670,253\n"
     ]
    }
   ],
   "source": [
    "# Задаем опции для отображения чисел без экспоненты\n",
    "pd.options.display.float_format = '{:,.0f}'.format\n",
    "\n",
    "# Копируем нужные столбцы из отфильтрованных данных\n",
    "df_category_cost = filtered_data[['category_code', 'funding_total']].copy()\n",
    "\n",
    "# Группируем по категории и считаем MAX и STD\n",
    "grouped_std_and_max = df_category_cost.groupby('category_code').agg(\n",
    "    MAX=('funding_total', np.max),\n",
    "    STD=('funding_total', np.std)\n",
    ")\n",
    "\n",
    "# Сортируем по стандартной девиации (STD) в порядке убывания\n",
    "grouped_std = grouped_std_and_max[['STD']].sort_values(by='STD', ascending=False)\n",
    "\n",
    "# Сортируем по максимальному значению (MAX) в порядке убывания\n",
    "grouped_max = grouped_std_and_max[['MAX']].sort_values(by='MAX', ascending=False)\n",
    "\n",
    "# Выводим первые 5 записей обеих таблиц\n",
    "print(\"Топ-5 категорий по максимальному значению финансирования:\")\n",
    "print(grouped_max.head())\n",
    "\n",
    "print(\"\\nТоп-5 категорий по стандартному отклонению:\")\n",
    "print(grouped_std.head())"
   ]
  },
  {
   "cell_type": "markdown",
   "metadata": {},
   "source": [
    "__Топ-5 — это оптимальный компромисс между достаточным объемом информации и легкостью восприятия. Ограничиваясь пятью позициями, мы сосредотачиваемся на самых ярких примерах, что экономит время и усилия на анализ второстепенных данных.__\n",
    "    \n",
    "__Вывод по полученным данным:__\n",
    "\n",
    "Топ-5 категорий по максимальному значению финансирования:\n",
    "- Automotive: Максимальная сумма финансирования в этой категории составляет 14,069,800 долларов. Это может указывать на высокую привлекательность автомобильной отрасли для инвесторов.\n",
    "- Hardware: Вторая по величине сумма финансирования — 14,069,200 долларов. Это может быть связано с развитием технологий и оборудования.\n",
    "- Software: Третья по величине сумма финансирования — 14,060,000 долларов. Программное обеспечение остается одной из самых привлекательных отраслей для инвестиций.\n",
    "- Enterprise: Четвертая по величине сумма финансирования — 14,050,000 долларов. Это может быть связано с ростом корпоративных решений и технологий.\n",
    "- Mobile: Пятая по величине сумма финансирования — 14,037,100 долларов. Мобильные технологии продолжают привлекать внимание инвесторов.\n",
    "\n",
    "Топ-5 категорий по стандартному отклонению:\n",
    "- Semiconductor: Наибольшее стандартное отклонение — 4,401,281 долларов. Это указывает на высокую вариативность сумм финансирования в этой отрасли.\n",
    "- Cleantech: Второе по величине стандартное отклонение — 3,976,945 долларов. Это может быть связано с рисками и неопределенностью в области экологически чистых технологий.\n",
    "- Security: Третье по величине стандартное отклонение — 3,799,439 долларов. Это может быть связано с колебаниями в области кибербезопасности.\n",
    "- Medical: Четвертое по величине стандартное отклонение — 3,733,473 долларов. Медицинская отрасль также демонстрирует высокую вариативность сумм финансирования.\n",
    "- Biotech: Пятое по величине стандартное отклонение — 3,670,253 долларов. Биотехнологии остаются одной из самых рискованных, но и потенциально прибыльных отраслей.\n",
    "    \n",
    "    \n",
    "__Мы выбрали эти два критерия, чтобы выявить как наиболее дорогостоящие, так и наиболее рискованные категории, что формирует полную картину инвестиционной привлекательности.__"
   ]
  },
  {
   "cell_type": "markdown",
   "metadata": {
    "id": "ADOfyVY_rJg3"
   },
   "source": [
    "\n",
    "### 3.5. Сколько раундов продержится стартап перед покупкой\n",
    "\n",
    "- Необходимо проанализировать столбец `funding_rounds`. Исследуйте значения столбца. Заказчика интересует типичное значение количества раундов для каждого возможного статуса стартапа.\n",
    "- Постройте график, который отображает, сколько в среднем раундов финансирования проходило для стартапов из каждой группы. Сделайте выводы."
   ]
  },
  {
   "cell_type": "code",
   "execution_count": 66,
   "metadata": {
    "id": "hgXMPC4WrJg3",
    "vscode": {
     "languageId": "plaintext"
    }
   },
   "outputs": [
    {
     "data": {
      "text/plain": [
       "status\n",
       "acquired    0.52\n",
       "closed      1.38\n",
       "ipo         1.93\n",
       "operating   1.52\n",
       "Name: funding_rounds, dtype: float64"
      ]
     },
     "execution_count": 66,
     "metadata": {},
     "output_type": "execute_result"
    }
   ],
   "source": [
    "# выводим данные без округлений\n",
    "pd.set_option('display.float_format', '{:.2f}'.format)\n",
    "\n",
    "# Группируем данные по статусу стартапа и вычисляем среднее количество раундов\n",
    "avg_rounds_by_status = company.groupby('status')['funding_rounds'].mean()\n",
    "avg_rounds_by_status"
   ]
  },
  {
   "cell_type": "code",
   "execution_count": 67,
   "metadata": {
    "id": "pV3e7kw5Fj1Y"
   },
   "outputs": [
    {
     "data": {
      "image/png": "[encoded data removed]",
      "text/plain": [
       "<Figure size 720x432 with 1 Axes>"
      ]
     },
     "metadata": {
      "needs_background": "light"
     },
     "output_type": "display_data"
    }
   ],
   "source": [
    "# Построим график\n",
    "plt.figure(figsize=(10, 6))\n",
    "sns.barplot(x=avg_rounds_by_status.index, y=avg_rounds_by_status.values, palette='Blues')\n",
    "plt.title('Среднее количество раундов финансирования по статусу стартапа')\n",
    "plt.xlabel('Статус стартапа')\n",
    "plt.ylabel('Среднее количество раундов финансирования')\n",
    "plt.xticks(rotation=45)\n",
    "plt.show()"
   ]
  },
  {
   "cell_type": "markdown",
   "metadata": {},
   "source": [
    "__Стартапы с IPO__ проходят наибольшее количество раундов финансирования (в среднем около 2). Это логично, так как такие компании, как правило, проходят длинный путь развития перед выходом на публичный рынок.\n",
    "\n",
    "__Операционные (operating) стартапы__ также имеют достаточно высокое среднее число раундов — чуть меньше, чем IPO-компании. Это говорит о том, что действующие компании активно привлекают инвестиции на разных стадиях.\n",
    "\n",
    "__Закрытые (closed) стартапы__ проходят меньше раундов — примерно 1.4. Это может свидетельствовать о том, что они не смогли привлечь достаточно инвестиций и в итоге прекратили деятельность.\n",
    "\n",
    "__Приобретённые (acquired) стартапы__ имеют наименьшее среднее количество раундов — менее 0.5. Видимо, они быстро были куплены другими компаниями, не успев пройти много инвестиционных этапов.\n"
   ]
  },
  {
   "cell_type": "code",
   "execution_count": 68,
   "metadata": {},
   "outputs": [
    {
     "name": "stdout",
     "output_type": "stream",
     "text": [
      "status\n",
      "acquired    1.98\n",
      "closed      1.45\n",
      "ipo         2.55\n",
      "operating   1.72\n",
      "Name: funding_rounds, dtype: float64\n"
     ]
    },
    {
     "data": {
      "image/png": "[encoded data removed]",
      "text/plain": [
       "<Figure size 720x432 with 1 Axes>"
      ]
     },
     "metadata": {
      "needs_background": "light"
     },
     "output_type": "display_data"
    }
   ],
   "source": [
    "# Устанавливаем опцию для отображения чисел без округления\n",
    "pd.set_option('display.float_format', '{:.2f}'.format)\n",
    "\n",
    "# Фильтруем данные, оставляя только компании с ненулевым финансированием\n",
    "funded_companies = company[company['funding_total'] > 0]\n",
    "\n",
    "# Группируем данные по статусу стартапа и вычисляем среднее количество раундов\n",
    "avg_rounds_by_status = funded_companies.groupby('status')['funding_rounds'].mean()\n",
    "\n",
    "# Выводим результаты\n",
    "print(avg_rounds_by_status)\n",
    "\n",
    "# Построим график\n",
    "plt.figure(figsize=(10, 6))\n",
    "sns.barplot(x=avg_rounds_by_status.index, y=avg_rounds_by_status.values, palette='Blues')\n",
    "plt.title('Среднее количество раундов финансирования по статусу стартапа (только с финансированием)')\n",
    "plt.xlabel('Статус стартапа')\n",
    "plt.ylabel('Среднее количество раундов финансирования')\n",
    "plt.xticks(rotation=45)\n",
    "plt.show()"
   ]
  },
  {
   "cell_type": "markdown",
   "metadata": {},
   "source": [
    "__Отфильтрованные данные дают более точную картину, так как исключают компании с нулевым финансированием. Это позволяет лучше понять, сколько раундов финансирования проходят компании, которые действительно привлекли инвестиции.__\n",
    "\n",
    "__Изменилась и градация стартапов по статусу:__\n",
    "\n",
    "- IPO:Среднее количество раундов — 2.55. Это указывает на то, что компании, вышедшие на IPO, проходят значительное количество раундов финансирования, что логично, так как они обычно проходят долгий путь развития перед выходом на публичный рынок.\n",
    "\n",
    "- Operating:Среднее количество раундов — 1.72. Это говорит о том, что действующие компании активно привлекают инвестиции на разных стадиях.\n",
    "\n",
    "- Acquired:Среднее количество раундов — 1.98. Это может указывать на то, что приобретённые компании проходят несколько раундов финансирования перед продажей.\n",
    "\n",
    "- Closed:Среднее количество раундов — 1.45. Это может свидетельствовать о том, что закрытые компании не смогли привлечь достаточно инвестиций и в итоге прекратили деятельность.\n",
    "\n"
   ]
  },
  {
   "cell_type": "markdown",
   "metadata": {
    "id": "VAFEZ2HBrJg3"
   },
   "source": [
    "## Шаг 4. Итоговый вывод и рекомендации\n",
    "\n",
    "Опишите, что было сделано в проекте, какие были сделаны выводы, подкрепляют ли они друг друга или заставляют сомневаться в полученных результатах."
   ]
  },
  {
   "cell_type": "markdown",
   "metadata": {},
   "source": [
    "\n",
    "__1. Подготовка и предобработка данных__\n",
    "\n",
    "Данные были подготовленны к работе и хоть в них довольно много пропусков, информации достаточно для проведения объективкого исследования.\n",
    "\n",
    "__2. Анализ пропущенных значений__\n",
    "- Большинство датасетов содержат значительное количество пропусков:\n",
    "    - в некоторых столбцах (например, term_code, pre_money_valuation, participants) — более 75%пропусков;\n",
    "    - в других — незначительное количество (0.1–1%), что допустимо.\n",
    "- Принято решение не заполнять пропуски, так как это может исказить данные. Вместо этого — использовать фильтрацию и анализ только по полным строкам, где это возможно.\n",
    "\n",
    "__3. Исследование финансирования стартапов__\n",
    "- Проведена агрегация по годам:\n",
    "     - максимальная медиана средств, собранных в одном раунде, наблюдалась в 2005 году это 5,500,000 долларов;\n",
    "     - в 2013 году наблюдался рост по сравнению с 2012:\n",
    "        - количество раундов увеличилось на 11%;\n",
    "        - средний размер средств — на 20% (с 1,000,000 долларов до 1,200,000 долларов).\n",
    "- Типичное значение размера финансирования по компании — $600,000 (по медиане), что предпочтительнее, чем использование среднего из-за сильных выбросов.\n",
    "- График распределения funding_total показал:\n",
    "    - множество выбросов (очень крупные инвестиции у отдельных компаний);\n",
    "    - сильный скос распределения в сторону малых значений.\n",
    "\n",
    "__4. Образование и сотрудники__\n",
    "- Использованы датасеты people.csv и education.csv:\n",
    "    - Компании разделены по размеру:\n",
    "        - маленькие: 26% без информации об образовании;\n",
    "        - средние: 38%;\n",
    "        - крупные: 50%.\n",
    "    - Видна прямая связь: чем больше компания, тем выше доля сотрудников с неполной информацией об образовании.\n",
    "- Таблица degrees.csv была присоединена, но не критична для анализа полноты образования — полезна для последующих исследований.\n",
    "\n",
    "__5. Объединение данных__\n",
    "- Для объединения подходит только столбец company_id.\n",
    "- network_username использовать нельзя, так как в разных датасетах он означает разные сущности: компанию, человека или фонд.\n",
    "- Отобраны интересующие заказчика компании — те, кто получал инвестиции или был приобретён (~40,747 компаний).\n",
    "\n",
    "__6. Анализ стоимости стартапов__\n",
    "- Проданные за символическую цену (0 или 1 доллар) компании, как правило:\n",
    "    - получали мало инвестиций;\n",
    "    - представлены в левом сегменте распределения (низкие значения финансирования).\n",
    "- Гистограмма подтверждает: чем выше сумма инвестиций, тем меньше таких компаний.\n",
    "- Топ-5 категорий компаний по средней цене покупки и коэффициенту вариации:\n",
    "    - такой подход позволяет сосредоточиться на наиболее дорогих и рискованных отраслях.\n",
    "\n",
    "__7. Раунды финансирования по статусу компании__\n",
    "- IPO:Среднее количество раундов — 2.55. Это указывает на то, что компании, вышедшие на IPO, проходят значительное количество раундов финансирования, что логично, так как они обычно проходят долгий путь развития перед выходом на публичный рынок.\n",
    "\n",
    "- Operating:Среднее количество раундов — 1.72. Это говорит о том, что действующие компании активно привлекают инвестиции на разных стадиях.\n",
    "\n",
    "- Acquired:Среднее количество раундов — 1.98. Это может указывать на то, что приобретённые компании проходят несколько раундов финансирования перед продажей.\n",
    "\n",
    "- Closed:Среднее количество раундов — 1.45. Это может свидетельствовать о том, что закрытые компании не смогли привлечь достаточно инвестиций и в итоге прекратили деятельность.\n",
    "\n",
    "__Рекомендации:__\n",
    "\n",
    "__1. Инвестируйте в компании с сильной финансовой динамикой:__\n",
    "- ориентируйтесь на стартапы, у которых уже были 2 и более раундов финансирования, особенно если они находятся в статусе operating или IPO — это повышает вероятность успеха.\n",
    "- избегайте компаний с нулевыми инвестициями или только одним микрораундом — они чаще попадают в «закрытые» или «символически проданные».\n",
    "\n",
    "__2. Оценивайте сумму уже привлечённых инвестиций:__\n",
    "- стартапы с общим финансированием выше медианного ($600,000) — надёжнее, особенно если сумма не аномально высока (без выбросов).\n",
    "- большое количество малых инвестиций — тоже хороший признак: рынок в них верит.\n",
    "\n",
    "__3. Изучайте отраслевую принадлежность:__\n",
    "- сфокусируйтесь на 5 отраслей с высокой средней ценой приобретения и высоким риском (по коэффициенту вариации) — именно там чаще всего происходят прибыльные сделки.\n",
    "\n",
    "__4. Используйте данные о статусе компании:__\n",
    "- «Closed» чаще означает провал, а «Acquired» — быструю перепродажу (иногда выгодную);\n",
    "- «Operating» и «IPO» — долгосрочные кандидаты для роста и масштабирования.\n",
    "\n",
    "__5. Фильтруйте по полноте информации:__\n",
    "- Работайте только с компаниями, по которым есть досаточно информации о финансировании, дате основания, инвестиционных раундах — иначе высок риск ошибочных решений."
   ]
  }
 ],
 "metadata": {
  "ExecuteTimeLog": [
   {
    "duration": 50,
    "start_time": "2025-04-08T08:06:50.344Z"
   },
   {
    "duration": 6,
    "start_time": "2025-04-08T08:07:15.452Z"
   },
   {
    "duration": 7,
    "start_time": "2025-04-08T08:11:02.960Z"
   },
   {
    "duration": 8471,
    "start_time": "2025-04-08T08:11:21.257Z"
   },
   {
    "duration": 336,
    "start_time": "2025-04-08T08:11:29.731Z"
   },
   {
    "duration": 4440,
    "start_time": "2025-04-08T08:12:03.826Z"
   },
   {
    "duration": 157,
    "start_time": "2025-04-08T08:12:08.271Z"
   },
   {
    "duration": 1516,
    "start_time": "2025-04-08T08:12:56.545Z"
   },
   {
    "duration": 13,
    "start_time": "2025-04-08T08:13:45.117Z"
   },
   {
    "duration": 12,
    "start_time": "2025-04-08T08:14:03.592Z"
   },
   {
    "duration": 12,
    "start_time": "2025-04-08T08:14:10.718Z"
   },
   {
    "duration": 8,
    "start_time": "2025-04-08T08:14:16.976Z"
   },
   {
    "duration": 8,
    "start_time": "2025-04-08T08:20:42.925Z"
   },
   {
    "duration": 10,
    "start_time": "2025-04-08T08:20:54.108Z"
   },
   {
    "duration": 9,
    "start_time": "2025-04-08T08:21:31.077Z"
   },
   {
    "duration": 2220,
    "start_time": "2025-04-08T08:32:41.685Z"
   },
   {
    "duration": 8,
    "start_time": "2025-04-08T08:32:43.908Z"
   },
   {
    "duration": 169,
    "start_time": "2025-04-08T08:32:43.917Z"
   },
   {
    "duration": 12,
    "start_time": "2025-04-08T08:32:44.088Z"
   },
   {
    "duration": 3832,
    "start_time": "2025-04-08T08:32:51.778Z"
   },
   {
    "duration": 1324,
    "start_time": "2025-04-08T08:32:55.612Z"
   },
   {
    "duration": 13,
    "start_time": "2025-04-08T08:32:56.938Z"
   },
   {
    "duration": 13,
    "start_time": "2025-04-08T08:32:56.953Z"
   },
   {
    "duration": 22,
    "start_time": "2025-04-08T08:32:56.968Z"
   },
   {
    "duration": 23,
    "start_time": "2025-04-08T08:38:08.307Z"
   },
   {
    "duration": 97,
    "start_time": "2025-04-08T08:38:08.738Z"
   },
   {
    "duration": 94,
    "start_time": "2025-04-08T08:38:09.554Z"
   },
   {
    "duration": 2466,
    "start_time": "2025-04-08T08:40:24.021Z"
   },
   {
    "duration": 1618,
    "start_time": "2025-04-08T08:40:26.489Z"
   },
   {
    "duration": 9,
    "start_time": "2025-04-08T08:40:28.109Z"
   },
   {
    "duration": 18,
    "start_time": "2025-04-08T08:48:23.873Z"
   },
   {
    "duration": 22,
    "start_time": "2025-04-08T08:48:45.023Z"
   },
   {
    "duration": 9,
    "start_time": "2025-04-08T08:48:55.539Z"
   },
   {
    "duration": 93,
    "start_time": "2025-04-08T09:26:29.088Z"
   },
   {
    "duration": 19,
    "start_time": "2025-04-08T09:27:30.808Z"
   },
   {
    "duration": 16,
    "start_time": "2025-04-08T09:27:30.997Z"
   },
   {
    "duration": 52,
    "start_time": "2025-04-08T11:45:25.708Z"
   },
   {
    "duration": 6,
    "start_time": "2025-04-08T11:45:26.048Z"
   },
   {
    "duration": 6,
    "start_time": "2025-04-08T11:45:28.040Z"
   },
   {
    "duration": 8176,
    "start_time": "2025-04-08T11:45:39.514Z"
   },
   {
    "duration": 1848,
    "start_time": "2025-04-08T11:45:47.693Z"
   },
   {
    "duration": 15,
    "start_time": "2025-04-08T11:45:49.545Z"
   },
   {
    "duration": 14,
    "start_time": "2025-04-08T11:45:49.562Z"
   },
   {
    "duration": 20,
    "start_time": "2025-04-08T11:45:49.577Z"
   },
   {
    "duration": 49,
    "start_time": "2025-04-08T11:45:49.598Z"
   },
   {
    "duration": 120,
    "start_time": "2025-04-08T11:45:49.649Z"
   },
   {
    "duration": 104,
    "start_time": "2025-04-08T11:45:49.771Z"
   },
   {
    "duration": 8,
    "start_time": "2025-04-08T11:45:49.877Z"
   },
   {
    "duration": 21,
    "start_time": "2025-04-08T11:45:49.886Z"
   },
   {
    "duration": 34,
    "start_time": "2025-04-08T11:45:49.909Z"
   },
   {
    "duration": 17,
    "start_time": "2025-04-08T11:45:49.945Z"
   },
   {
    "duration": 30,
    "start_time": "2025-04-08T11:45:49.965Z"
   },
   {
    "duration": 37,
    "start_time": "2025-04-08T11:45:49.997Z"
   },
   {
    "duration": 24,
    "start_time": "2025-04-08T11:47:34.178Z"
   },
   {
    "duration": 123,
    "start_time": "2025-04-08T11:47:35.377Z"
   },
   {
    "duration": 12,
    "start_time": "2025-04-08T11:47:37.527Z"
   },
   {
    "duration": 10,
    "start_time": "2025-04-08T11:47:38.327Z"
   },
   {
    "duration": 4702,
    "start_time": "2025-04-08T11:48:00.629Z"
   },
   {
    "duration": 1378,
    "start_time": "2025-04-08T11:48:05.333Z"
   },
   {
    "duration": 14,
    "start_time": "2025-04-08T11:48:06.712Z"
   },
   {
    "duration": 23,
    "start_time": "2025-04-08T11:48:06.727Z"
   },
   {
    "duration": 12,
    "start_time": "2025-04-08T11:48:06.753Z"
   },
   {
    "duration": 26,
    "start_time": "2025-04-08T11:48:06.767Z"
   },
   {
    "duration": 142,
    "start_time": "2025-04-08T11:48:06.795Z"
   },
   {
    "duration": 131,
    "start_time": "2025-04-08T11:48:06.940Z"
   },
   {
    "duration": 9,
    "start_time": "2025-04-08T11:48:07.072Z"
   },
   {
    "duration": 37,
    "start_time": "2025-04-08T11:48:07.082Z"
   },
   {
    "duration": 47,
    "start_time": "2025-04-08T11:48:07.121Z"
   },
   {
    "duration": 118,
    "start_time": "2025-04-08T11:48:07.169Z"
   },
   {
    "duration": 0,
    "start_time": "2025-04-08T11:48:07.289Z"
   },
   {
    "duration": 0,
    "start_time": "2025-04-08T11:48:07.291Z"
   },
   {
    "duration": 10,
    "start_time": "2025-04-08T11:48:28.301Z"
   },
   {
    "duration": 10,
    "start_time": "2025-04-08T11:48:34.292Z"
   },
   {
    "duration": 1878,
    "start_time": "2025-04-08T11:50:45.556Z"
   },
   {
    "duration": 4500,
    "start_time": "2025-04-08T11:50:55.218Z"
   },
   {
    "duration": 2603,
    "start_time": "2025-04-08T11:50:59.720Z"
   },
   {
    "duration": 15,
    "start_time": "2025-04-08T11:51:02.325Z"
   },
   {
    "duration": 26,
    "start_time": "2025-04-08T11:51:02.343Z"
   },
   {
    "duration": 18,
    "start_time": "2025-04-08T11:51:02.372Z"
   },
   {
    "duration": 38,
    "start_time": "2025-04-08T11:51:02.393Z"
   },
   {
    "duration": 135,
    "start_time": "2025-04-08T11:51:02.433Z"
   },
   {
    "duration": 124,
    "start_time": "2025-04-08T11:51:02.569Z"
   },
   {
    "duration": 8,
    "start_time": "2025-04-08T11:51:02.695Z"
   },
   {
    "duration": 83,
    "start_time": "2025-04-08T11:51:02.705Z"
   },
   {
    "duration": 62,
    "start_time": "2025-04-08T11:51:02.790Z"
   },
   {
    "duration": 35,
    "start_time": "2025-04-08T11:51:02.855Z"
   },
   {
    "duration": 61,
    "start_time": "2025-04-08T11:51:02.892Z"
   },
   {
    "duration": 57,
    "start_time": "2025-04-08T11:51:02.958Z"
   },
   {
    "duration": 9,
    "start_time": "2025-04-08T11:55:57.366Z"
   },
   {
    "duration": 25,
    "start_time": "2025-04-08T11:55:57.791Z"
   },
   {
    "duration": 22,
    "start_time": "2025-04-08T11:55:58.190Z"
   },
   {
    "duration": 15,
    "start_time": "2025-04-08T11:59:51.759Z"
   },
   {
    "duration": 14,
    "start_time": "2025-04-08T11:59:52.076Z"
   },
   {
    "duration": 15,
    "start_time": "2025-04-08T11:59:52.641Z"
   },
   {
    "duration": 10,
    "start_time": "2025-04-08T12:03:39.259Z"
   },
   {
    "duration": 10,
    "start_time": "2025-04-08T12:03:39.498Z"
   },
   {
    "duration": 7,
    "start_time": "2025-04-08T12:03:39.699Z"
   },
   {
    "duration": 10035,
    "start_time": "2025-04-08T12:05:23.083Z"
   },
   {
    "duration": 4061,
    "start_time": "2025-04-08T12:05:33.120Z"
   },
   {
    "duration": 13,
    "start_time": "2025-04-08T12:05:37.183Z"
   },
   {
    "duration": 14,
    "start_time": "2025-04-08T12:05:37.198Z"
   },
   {
    "duration": 11,
    "start_time": "2025-04-08T12:05:37.215Z"
   },
   {
    "duration": 42,
    "start_time": "2025-04-08T12:05:37.228Z"
   },
   {
    "duration": 141,
    "start_time": "2025-04-08T12:05:37.272Z"
   },
   {
    "duration": 126,
    "start_time": "2025-04-08T12:05:37.415Z"
   },
   {
    "duration": 13,
    "start_time": "2025-04-08T12:05:37.544Z"
   },
   {
    "duration": 30,
    "start_time": "2025-04-08T12:05:37.559Z"
   },
   {
    "duration": 18,
    "start_time": "2025-04-08T12:05:37.590Z"
   },
   {
    "duration": 32,
    "start_time": "2025-04-08T12:05:37.610Z"
   },
   {
    "duration": 53,
    "start_time": "2025-04-08T12:05:37.645Z"
   },
   {
    "duration": 70,
    "start_time": "2025-04-08T12:05:37.702Z"
   },
   {
    "duration": 9,
    "start_time": "2025-04-08T12:05:37.774Z"
   },
   {
    "duration": 31,
    "start_time": "2025-04-08T12:05:37.785Z"
   },
   {
    "duration": 25,
    "start_time": "2025-04-08T12:05:37.837Z"
   },
   {
    "duration": 45,
    "start_time": "2025-04-08T12:05:37.864Z"
   },
   {
    "duration": 16,
    "start_time": "2025-04-08T12:05:37.910Z"
   },
   {
    "duration": 26,
    "start_time": "2025-04-08T12:05:37.928Z"
   },
   {
    "duration": 12,
    "start_time": "2025-04-08T12:05:37.956Z"
   },
   {
    "duration": 11,
    "start_time": "2025-04-08T12:05:37.970Z"
   },
   {
    "duration": 7,
    "start_time": "2025-04-08T12:05:37.983Z"
   },
   {
    "duration": 4566,
    "start_time": "2025-04-08T12:05:40.167Z"
   },
   {
    "duration": 2755,
    "start_time": "2025-04-08T12:05:44.741Z"
   },
   {
    "duration": 13,
    "start_time": "2025-04-08T12:05:47.498Z"
   },
   {
    "duration": 55,
    "start_time": "2025-04-08T12:05:47.512Z"
   },
   {
    "duration": 24,
    "start_time": "2025-04-08T12:05:47.570Z"
   },
   {
    "duration": 38,
    "start_time": "2025-04-08T12:05:47.596Z"
   },
   {
    "duration": 133,
    "start_time": "2025-04-08T12:05:47.635Z"
   },
   {
    "duration": 101,
    "start_time": "2025-04-08T12:05:47.770Z"
   },
   {
    "duration": 8,
    "start_time": "2025-04-08T12:05:47.872Z"
   },
   {
    "duration": 33,
    "start_time": "2025-04-08T12:05:47.882Z"
   },
   {
    "duration": 32,
    "start_time": "2025-04-08T12:05:47.917Z"
   },
   {
    "duration": 22,
    "start_time": "2025-04-08T12:05:47.951Z"
   },
   {
    "duration": 53,
    "start_time": "2025-04-08T12:05:47.975Z"
   },
   {
    "duration": 53,
    "start_time": "2025-04-08T12:05:48.039Z"
   },
   {
    "duration": 103,
    "start_time": "2025-04-08T12:05:48.093Z"
   },
   {
    "duration": 41,
    "start_time": "2025-04-08T12:05:48.198Z"
   },
   {
    "duration": 34,
    "start_time": "2025-04-08T12:05:48.243Z"
   },
   {
    "duration": 25,
    "start_time": "2025-04-08T12:05:48.278Z"
   },
   {
    "duration": 62,
    "start_time": "2025-04-08T12:05:48.305Z"
   },
   {
    "duration": 10,
    "start_time": "2025-04-08T12:05:48.369Z"
   },
   {
    "duration": 13,
    "start_time": "2025-04-08T12:05:48.381Z"
   },
   {
    "duration": 25,
    "start_time": "2025-04-08T12:05:48.396Z"
   },
   {
    "duration": 8,
    "start_time": "2025-04-08T12:05:48.423Z"
   },
   {
    "duration": 2941,
    "start_time": "2025-04-08T12:05:49.926Z"
   },
   {
    "duration": 2025,
    "start_time": "2025-04-08T12:05:52.869Z"
   },
   {
    "duration": 9,
    "start_time": "2025-04-08T12:05:54.896Z"
   },
   {
    "duration": 13,
    "start_time": "2025-04-08T12:05:54.907Z"
   },
   {
    "duration": 8,
    "start_time": "2025-04-08T12:05:54.922Z"
   },
   {
    "duration": 26,
    "start_time": "2025-04-08T12:05:54.932Z"
   },
   {
    "duration": 131,
    "start_time": "2025-04-08T12:05:54.960Z"
   },
   {
    "duration": 106,
    "start_time": "2025-04-08T12:05:55.093Z"
   },
   {
    "duration": 11,
    "start_time": "2025-04-08T12:05:55.201Z"
   },
   {
    "duration": 42,
    "start_time": "2025-04-08T12:05:55.214Z"
   },
   {
    "duration": 19,
    "start_time": "2025-04-08T12:05:55.259Z"
   },
   {
    "duration": 10,
    "start_time": "2025-04-08T12:05:55.280Z"
   },
   {
    "duration": 71,
    "start_time": "2025-04-08T12:05:55.292Z"
   },
   {
    "duration": 41,
    "start_time": "2025-04-08T12:05:55.365Z"
   },
   {
    "duration": 9,
    "start_time": "2025-04-08T12:05:55.407Z"
   },
   {
    "duration": 49,
    "start_time": "2025-04-08T12:05:55.418Z"
   },
   {
    "duration": 22,
    "start_time": "2025-04-08T12:05:55.469Z"
   },
   {
    "duration": 77,
    "start_time": "2025-04-08T12:05:55.493Z"
   },
   {
    "duration": 18,
    "start_time": "2025-04-08T12:05:55.572Z"
   },
   {
    "duration": 10,
    "start_time": "2025-04-08T12:05:55.594Z"
   },
   {
    "duration": 14,
    "start_time": "2025-04-08T12:05:55.606Z"
   },
   {
    "duration": 11,
    "start_time": "2025-04-08T12:05:55.727Z"
   },
   {
    "duration": 7,
    "start_time": "2025-04-08T12:05:55.861Z"
   },
   {
    "duration": 4455,
    "start_time": "2025-04-08T12:06:04.603Z"
   },
   {
    "duration": 2112,
    "start_time": "2025-04-08T12:06:09.061Z"
   },
   {
    "duration": 13,
    "start_time": "2025-04-08T12:06:11.175Z"
   },
   {
    "duration": 25,
    "start_time": "2025-04-08T12:06:11.190Z"
   },
   {
    "duration": 10,
    "start_time": "2025-04-08T12:06:11.217Z"
   },
   {
    "duration": 35,
    "start_time": "2025-04-08T12:06:11.229Z"
   },
   {
    "duration": 130,
    "start_time": "2025-04-08T12:06:11.266Z"
   },
   {
    "duration": 122,
    "start_time": "2025-04-08T12:06:11.397Z"
   },
   {
    "duration": 8,
    "start_time": "2025-04-08T12:06:11.520Z"
   },
   {
    "duration": 34,
    "start_time": "2025-04-08T12:06:11.539Z"
   },
   {
    "duration": 18,
    "start_time": "2025-04-08T12:06:11.574Z"
   },
   {
    "duration": 39,
    "start_time": "2025-04-08T12:06:11.594Z"
   },
   {
    "duration": 51,
    "start_time": "2025-04-08T12:06:11.635Z"
   },
   {
    "duration": 40,
    "start_time": "2025-04-08T12:06:11.690Z"
   },
   {
    "duration": 15,
    "start_time": "2025-04-08T12:06:11.739Z"
   },
   {
    "duration": 33,
    "start_time": "2025-04-08T12:06:11.757Z"
   },
   {
    "duration": 50,
    "start_time": "2025-04-08T12:06:11.792Z"
   },
   {
    "duration": 14,
    "start_time": "2025-04-08T12:06:11.844Z"
   },
   {
    "duration": 16,
    "start_time": "2025-04-08T12:06:11.860Z"
   },
   {
    "duration": 11,
    "start_time": "2025-04-08T12:06:11.879Z"
   },
   {
    "duration": 21,
    "start_time": "2025-04-08T12:06:11.892Z"
   },
   {
    "duration": 37,
    "start_time": "2025-04-08T12:06:11.915Z"
   },
   {
    "duration": 13,
    "start_time": "2025-04-08T12:06:11.956Z"
   },
   {
    "duration": 25,
    "start_time": "2025-04-08T12:38:40.761Z"
   },
   {
    "duration": 4,
    "start_time": "2025-04-08T12:38:43.861Z"
   },
   {
    "duration": 25,
    "start_time": "2025-04-08T12:38:44.822Z"
   },
   {
    "duration": 102,
    "start_time": "2025-04-08T12:39:17.330Z"
   },
   {
    "duration": 4151,
    "start_time": "2025-04-08T12:41:35.952Z"
   },
   {
    "duration": 2774,
    "start_time": "2025-04-08T12:41:40.105Z"
   },
   {
    "duration": 14,
    "start_time": "2025-04-08T12:41:42.881Z"
   },
   {
    "duration": 42,
    "start_time": "2025-04-08T12:41:42.896Z"
   },
   {
    "duration": 15,
    "start_time": "2025-04-08T12:41:42.941Z"
   },
   {
    "duration": 36,
    "start_time": "2025-04-08T12:41:42.957Z"
   },
   {
    "duration": 111,
    "start_time": "2025-04-08T12:41:42.995Z"
   },
   {
    "duration": 102,
    "start_time": "2025-04-08T12:41:43.107Z"
   },
   {
    "duration": 4,
    "start_time": "2025-04-08T12:41:43.211Z"
   },
   {
    "duration": 131,
    "start_time": "2025-04-08T12:41:43.216Z"
   },
   {
    "duration": 8,
    "start_time": "2025-04-08T12:41:43.349Z"
   },
   {
    "duration": 30,
    "start_time": "2025-04-08T12:41:43.358Z"
   },
   {
    "duration": 17,
    "start_time": "2025-04-08T12:41:43.390Z"
   },
   {
    "duration": 34,
    "start_time": "2025-04-08T12:41:43.410Z"
   },
   {
    "duration": 44,
    "start_time": "2025-04-08T12:41:43.446Z"
   },
   {
    "duration": 50,
    "start_time": "2025-04-08T12:41:43.492Z"
   },
   {
    "duration": 8,
    "start_time": "2025-04-08T12:41:43.543Z"
   },
   {
    "duration": 107,
    "start_time": "2025-04-08T12:41:43.553Z"
   },
   {
    "duration": 22,
    "start_time": "2025-04-08T12:41:43.661Z"
   },
   {
    "duration": 13,
    "start_time": "2025-04-08T12:41:43.685Z"
   },
   {
    "duration": 17,
    "start_time": "2025-04-08T12:41:43.700Z"
   },
   {
    "duration": 27,
    "start_time": "2025-04-08T12:41:43.719Z"
   },
   {
    "duration": 8,
    "start_time": "2025-04-08T12:41:43.748Z"
   },
   {
    "duration": 17,
    "start_time": "2025-04-08T12:41:43.757Z"
   },
   {
    "duration": 6,
    "start_time": "2025-04-08T12:41:43.776Z"
   },
   {
    "duration": 2073,
    "start_time": "2025-04-08T13:05:57.001Z"
   },
   {
    "duration": 2948,
    "start_time": "2025-04-08T13:07:10.595Z"
   },
   {
    "duration": 2150,
    "start_time": "2025-04-08T13:08:46.049Z"
   },
   {
    "duration": 12,
    "start_time": "2025-04-08T13:09:24.985Z"
   },
   {
    "duration": 101,
    "start_time": "2025-04-08T13:09:52.781Z"
   },
   {
    "duration": 4147,
    "start_time": "2025-04-08T13:11:49.351Z"
   },
   {
    "duration": 2691,
    "start_time": "2025-04-08T13:11:53.500Z"
   },
   {
    "duration": 13,
    "start_time": "2025-04-08T13:11:56.193Z"
   },
   {
    "duration": 14,
    "start_time": "2025-04-08T13:11:56.207Z"
   },
   {
    "duration": 17,
    "start_time": "2025-04-08T13:11:56.224Z"
   },
   {
    "duration": 27,
    "start_time": "2025-04-08T13:11:56.244Z"
   },
   {
    "duration": 117,
    "start_time": "2025-04-08T13:11:56.273Z"
   },
   {
    "duration": 110,
    "start_time": "2025-04-08T13:11:56.391Z"
   },
   {
    "duration": 4,
    "start_time": "2025-04-08T13:11:56.503Z"
   },
   {
    "duration": 119,
    "start_time": "2025-04-08T13:11:56.508Z"
   },
   {
    "duration": 13,
    "start_time": "2025-04-08T13:11:56.628Z"
   },
   {
    "duration": 38,
    "start_time": "2025-04-08T13:11:56.643Z"
   },
   {
    "duration": 18,
    "start_time": "2025-04-08T13:11:56.682Z"
   },
   {
    "duration": 10,
    "start_time": "2025-04-08T13:11:56.704Z"
   },
   {
    "duration": 58,
    "start_time": "2025-04-08T13:11:56.716Z"
   },
   {
    "duration": 38,
    "start_time": "2025-04-08T13:11:56.776Z"
   },
   {
    "duration": 25,
    "start_time": "2025-04-08T13:11:56.816Z"
   },
   {
    "duration": 29,
    "start_time": "2025-04-08T13:11:56.843Z"
   },
   {
    "duration": 23,
    "start_time": "2025-04-08T13:11:56.873Z"
   },
   {
    "duration": 11,
    "start_time": "2025-04-08T13:11:56.898Z"
   },
   {
    "duration": 14,
    "start_time": "2025-04-08T13:11:56.938Z"
   },
   {
    "duration": 63,
    "start_time": "2025-04-08T13:11:56.954Z"
   },
   {
    "duration": 16,
    "start_time": "2025-04-08T13:11:57.018Z"
   },
   {
    "duration": 16,
    "start_time": "2025-04-08T13:11:57.036Z"
   },
   {
    "duration": 8,
    "start_time": "2025-04-08T13:11:57.054Z"
   },
   {
    "duration": 1979,
    "start_time": "2025-04-08T13:11:57.064Z"
   },
   {
    "duration": 0,
    "start_time": "2025-04-08T13:11:59.046Z"
   },
   {
    "duration": 0,
    "start_time": "2025-04-08T13:11:59.047Z"
   },
   {
    "duration": 13,
    "start_time": "2025-04-08T13:14:27.028Z"
   },
   {
    "duration": 101,
    "start_time": "2025-04-08T13:14:28.353Z"
   },
   {
    "duration": 4133,
    "start_time": "2025-04-08T13:39:39.929Z"
   },
   {
    "duration": 2179,
    "start_time": "2025-04-08T13:39:44.064Z"
   },
   {
    "duration": 14,
    "start_time": "2025-04-08T13:39:46.245Z"
   },
   {
    "duration": 17,
    "start_time": "2025-04-08T13:39:46.261Z"
   },
   {
    "duration": 23,
    "start_time": "2025-04-08T13:39:46.279Z"
   },
   {
    "duration": 45,
    "start_time": "2025-04-08T13:39:46.304Z"
   },
   {
    "duration": 118,
    "start_time": "2025-04-08T13:39:46.351Z"
   },
   {
    "duration": 103,
    "start_time": "2025-04-08T13:39:46.471Z"
   },
   {
    "duration": 62,
    "start_time": "2025-04-08T13:39:46.575Z"
   },
   {
    "duration": 110,
    "start_time": "2025-04-08T13:39:46.640Z"
   },
   {
    "duration": 8,
    "start_time": "2025-04-08T13:39:46.752Z"
   },
   {
    "duration": 24,
    "start_time": "2025-04-08T13:39:46.761Z"
   },
   {
    "duration": 17,
    "start_time": "2025-04-08T13:39:46.787Z"
   },
   {
    "duration": 34,
    "start_time": "2025-04-08T13:39:46.805Z"
   },
   {
    "duration": 42,
    "start_time": "2025-04-08T13:39:46.841Z"
   },
   {
    "duration": 58,
    "start_time": "2025-04-08T13:39:46.884Z"
   },
   {
    "duration": 8,
    "start_time": "2025-04-08T13:39:46.944Z"
   },
   {
    "duration": 26,
    "start_time": "2025-04-08T13:39:46.954Z"
   },
   {
    "duration": 21,
    "start_time": "2025-04-08T13:39:46.982Z"
   },
   {
    "duration": 38,
    "start_time": "2025-04-08T13:39:47.005Z"
   },
   {
    "duration": 14,
    "start_time": "2025-04-08T13:39:47.044Z"
   },
   {
    "duration": 10,
    "start_time": "2025-04-08T13:39:47.059Z"
   },
   {
    "duration": 18,
    "start_time": "2025-04-08T13:39:47.071Z"
   },
   {
    "duration": 10,
    "start_time": "2025-04-08T13:39:47.091Z"
   },
   {
    "duration": 7,
    "start_time": "2025-04-08T13:39:47.102Z"
   },
   {
    "duration": 1739,
    "start_time": "2025-04-08T13:39:47.111Z"
   },
   {
    "duration": 0,
    "start_time": "2025-04-08T13:39:48.852Z"
   },
   {
    "duration": 0,
    "start_time": "2025-04-08T13:39:48.854Z"
   },
   {
    "duration": 19,
    "start_time": "2025-04-08T13:41:01.867Z"
   },
   {
    "duration": 102,
    "start_time": "2025-04-08T13:41:03.017Z"
   },
   {
    "duration": 86,
    "start_time": "2025-04-08T13:43:05.150Z"
   },
   {
    "duration": 113,
    "start_time": "2025-04-08T13:43:10.367Z"
   },
   {
    "duration": 45,
    "start_time": "2025-04-08T13:46:36.483Z"
   },
   {
    "duration": 102,
    "start_time": "2025-04-08T13:46:37.563Z"
   },
   {
    "duration": 4049,
    "start_time": "2025-04-08T13:46:49.596Z"
   },
   {
    "duration": 2889,
    "start_time": "2025-04-08T13:46:53.647Z"
   },
   {
    "duration": 13,
    "start_time": "2025-04-08T13:46:56.538Z"
   },
   {
    "duration": 14,
    "start_time": "2025-04-08T13:46:56.552Z"
   },
   {
    "duration": 11,
    "start_time": "2025-04-08T13:46:56.568Z"
   },
   {
    "duration": 26,
    "start_time": "2025-04-08T13:46:56.581Z"
   },
   {
    "duration": 141,
    "start_time": "2025-04-08T13:46:56.608Z"
   },
   {
    "duration": 106,
    "start_time": "2025-04-08T13:46:56.750Z"
   },
   {
    "duration": 101,
    "start_time": "2025-04-08T13:46:56.858Z"
   },
   {
    "duration": 111,
    "start_time": "2025-04-08T13:46:56.961Z"
   },
   {
    "duration": 7,
    "start_time": "2025-04-08T13:46:57.073Z"
   },
   {
    "duration": 49,
    "start_time": "2025-04-08T13:46:57.082Z"
   },
   {
    "duration": 16,
    "start_time": "2025-04-08T13:46:57.133Z"
   },
   {
    "duration": 9,
    "start_time": "2025-04-08T13:46:57.152Z"
   },
   {
    "duration": 43,
    "start_time": "2025-04-08T13:46:57.162Z"
   },
   {
    "duration": 49,
    "start_time": "2025-04-08T13:46:57.207Z"
   },
   {
    "duration": 9,
    "start_time": "2025-04-08T13:46:57.258Z"
   },
   {
    "duration": 26,
    "start_time": "2025-04-08T13:46:57.268Z"
   },
   {
    "duration": 47,
    "start_time": "2025-04-08T13:46:57.296Z"
   },
   {
    "duration": 10,
    "start_time": "2025-04-08T13:46:57.345Z"
   },
   {
    "duration": 17,
    "start_time": "2025-04-08T13:46:57.357Z"
   },
   {
    "duration": 10,
    "start_time": "2025-04-08T13:46:57.376Z"
   },
   {
    "duration": 7,
    "start_time": "2025-04-08T13:46:57.387Z"
   },
   {
    "duration": 42,
    "start_time": "2025-04-08T13:46:57.396Z"
   },
   {
    "duration": 8,
    "start_time": "2025-04-08T13:46:57.440Z"
   },
   {
    "duration": 1754,
    "start_time": "2025-04-08T13:46:57.449Z"
   },
   {
    "duration": 0,
    "start_time": "2025-04-08T13:46:59.206Z"
   },
   {
    "duration": 0,
    "start_time": "2025-04-08T13:46:59.207Z"
   },
   {
    "duration": 65,
    "start_time": "2025-04-08T13:47:29.183Z"
   },
   {
    "duration": 106,
    "start_time": "2025-04-08T13:47:30.054Z"
   },
   {
    "duration": 2641,
    "start_time": "2025-04-08T13:48:28.332Z"
   },
   {
    "duration": 2597,
    "start_time": "2025-04-08T13:48:30.976Z"
   },
   {
    "duration": 11,
    "start_time": "2025-04-08T13:48:33.575Z"
   },
   {
    "duration": 50,
    "start_time": "2025-04-08T13:48:33.588Z"
   },
   {
    "duration": 8,
    "start_time": "2025-04-08T13:48:33.640Z"
   },
   {
    "duration": 27,
    "start_time": "2025-04-08T13:48:33.650Z"
   },
   {
    "duration": 192,
    "start_time": "2025-04-08T13:48:33.679Z"
   },
   {
    "duration": 103,
    "start_time": "2025-04-08T13:48:33.873Z"
   },
   {
    "duration": 58,
    "start_time": "2025-04-08T13:48:33.979Z"
   },
   {
    "duration": 110,
    "start_time": "2025-04-08T13:48:34.043Z"
   },
   {
    "duration": 8,
    "start_time": "2025-04-08T13:48:35.232Z"
   },
   {
    "duration": 20,
    "start_time": "2025-04-08T13:48:35.516Z"
   },
   {
    "duration": 18,
    "start_time": "2025-04-08T13:48:35.759Z"
   },
   {
    "duration": 10,
    "start_time": "2025-04-08T13:48:36.334Z"
   },
   {
    "duration": 41,
    "start_time": "2025-04-08T13:48:36.598Z"
   },
   {
    "duration": 39,
    "start_time": "2025-04-08T13:48:36.951Z"
   },
   {
    "duration": 8,
    "start_time": "2025-04-08T13:48:37.769Z"
   },
   {
    "duration": 26,
    "start_time": "2025-04-08T13:48:38.109Z"
   },
   {
    "duration": 24,
    "start_time": "2025-04-08T13:48:38.532Z"
   },
   {
    "duration": 10,
    "start_time": "2025-04-08T13:48:39.343Z"
   },
   {
    "duration": 14,
    "start_time": "2025-04-08T13:48:39.734Z"
   },
   {
    "duration": 10,
    "start_time": "2025-04-08T13:48:40.143Z"
   },
   {
    "duration": 7,
    "start_time": "2025-04-08T13:48:41.249Z"
   },
   {
    "duration": 10,
    "start_time": "2025-04-08T13:48:41.719Z"
   },
   {
    "duration": 7,
    "start_time": "2025-04-08T13:48:42.201Z"
   },
   {
    "duration": 1862,
    "start_time": "2025-04-08T13:48:44.183Z"
   },
   {
    "duration": 0,
    "start_time": "2025-04-08T13:48:46.047Z"
   },
   {
    "duration": 0,
    "start_time": "2025-04-08T13:48:46.048Z"
   },
   {
    "duration": 5,
    "start_time": "2025-04-08T13:49:56.802Z"
   },
   {
    "duration": 65,
    "start_time": "2025-04-08T13:51:19.467Z"
   },
   {
    "duration": 106,
    "start_time": "2025-04-08T13:51:22.101Z"
   },
   {
    "duration": 4113,
    "start_time": "2025-04-08T13:51:50.578Z"
   },
   {
    "duration": 2389,
    "start_time": "2025-04-08T13:51:54.695Z"
   },
   {
    "duration": 13,
    "start_time": "2025-04-08T13:51:57.086Z"
   },
   {
    "duration": 21,
    "start_time": "2025-04-08T13:51:57.101Z"
   },
   {
    "duration": 12,
    "start_time": "2025-04-08T13:51:57.124Z"
   },
   {
    "duration": 27,
    "start_time": "2025-04-08T13:51:57.138Z"
   },
   {
    "duration": 111,
    "start_time": "2025-04-08T13:51:57.167Z"
   },
   {
    "duration": 109,
    "start_time": "2025-04-08T13:51:57.279Z"
   },
   {
    "duration": 104,
    "start_time": "2025-04-08T13:51:57.390Z"
   },
   {
    "duration": 115,
    "start_time": "2025-04-08T13:51:57.497Z"
   },
   {
    "duration": 8,
    "start_time": "2025-04-08T13:51:57.614Z"
   },
   {
    "duration": 42,
    "start_time": "2025-04-08T13:51:57.624Z"
   },
   {
    "duration": 17,
    "start_time": "2025-04-08T13:51:57.668Z"
   },
   {
    "duration": 11,
    "start_time": "2025-04-08T13:51:57.687Z"
   },
   {
    "duration": 59,
    "start_time": "2025-04-08T13:51:57.699Z"
   },
   {
    "duration": 39,
    "start_time": "2025-04-08T13:51:57.759Z"
   },
   {
    "duration": 8,
    "start_time": "2025-04-08T13:51:57.799Z"
   },
   {
    "duration": 47,
    "start_time": "2025-04-08T13:51:57.809Z"
   },
   {
    "duration": 21,
    "start_time": "2025-04-08T13:51:57.858Z"
   },
   {
    "duration": 13,
    "start_time": "2025-04-08T13:51:57.881Z"
   },
   {
    "duration": 15,
    "start_time": "2025-04-08T13:51:57.895Z"
   },
   {
    "duration": 34,
    "start_time": "2025-04-08T13:51:57.912Z"
   },
   {
    "duration": 11,
    "start_time": "2025-04-08T13:51:57.948Z"
   },
   {
    "duration": 11,
    "start_time": "2025-04-08T13:51:57.960Z"
   },
   {
    "duration": 7,
    "start_time": "2025-04-08T13:51:57.973Z"
   },
   {
    "duration": 1489,
    "start_time": "2025-04-08T13:51:57.982Z"
   },
   {
    "duration": 0,
    "start_time": "2025-04-08T13:51:59.473Z"
   },
   {
    "duration": 0,
    "start_time": "2025-04-08T13:51:59.474Z"
   },
   {
    "duration": 99,
    "start_time": "2025-04-08T13:52:20.600Z"
   },
   {
    "duration": 8,
    "start_time": "2025-04-08T13:52:42.902Z"
   },
   {
    "duration": 21,
    "start_time": "2025-04-08T13:52:43.073Z"
   },
   {
    "duration": 18,
    "start_time": "2025-04-08T13:52:43.240Z"
   },
   {
    "duration": 10,
    "start_time": "2025-04-08T13:52:43.599Z"
   },
   {
    "duration": 42,
    "start_time": "2025-04-08T13:52:43.757Z"
   },
   {
    "duration": 37,
    "start_time": "2025-04-08T13:52:43.975Z"
   },
   {
    "duration": 9,
    "start_time": "2025-04-08T13:52:44.398Z"
   },
   {
    "duration": 36,
    "start_time": "2025-04-08T13:52:44.660Z"
   },
   {
    "duration": 21,
    "start_time": "2025-04-08T13:52:44.943Z"
   },
   {
    "duration": 11,
    "start_time": "2025-04-08T13:52:45.433Z"
   },
   {
    "duration": 13,
    "start_time": "2025-04-08T13:52:45.868Z"
   },
   {
    "duration": 11,
    "start_time": "2025-04-08T13:52:46.246Z"
   },
   {
    "duration": 8,
    "start_time": "2025-04-08T13:52:46.681Z"
   },
   {
    "duration": 11,
    "start_time": "2025-04-08T13:52:46.951Z"
   },
   {
    "duration": 7,
    "start_time": "2025-04-08T13:52:47.142Z"
   },
   {
    "duration": 1530,
    "start_time": "2025-04-08T13:52:47.731Z"
   },
   {
    "duration": 0,
    "start_time": "2025-04-08T13:52:49.263Z"
   },
   {
    "duration": 0,
    "start_time": "2025-04-08T13:52:49.265Z"
   },
   {
    "duration": 1503,
    "start_time": "2025-04-08T15:02:37.117Z"
   },
   {
    "duration": 89,
    "start_time": "2025-04-08T15:03:29.818Z"
   },
   {
    "duration": 124,
    "start_time": "2025-04-08T15:03:32.685Z"
   },
   {
    "duration": 13,
    "start_time": "2025-04-08T15:03:33.218Z"
   },
   {
    "duration": 96,
    "start_time": "2025-04-08T15:03:34.190Z"
   },
   {
    "duration": 86,
    "start_time": "2025-04-08T15:04:43.193Z"
   },
   {
    "duration": 13,
    "start_time": "2025-04-08T15:04:43.751Z"
   },
   {
    "duration": 81,
    "start_time": "2025-04-08T15:04:45.631Z"
   },
   {
    "duration": 17,
    "start_time": "2025-04-08T15:05:08.635Z"
   },
   {
    "duration": 9,
    "start_time": "2025-04-08T15:05:48.410Z"
   },
   {
    "duration": 16,
    "start_time": "2025-04-08T15:06:10.035Z"
   },
   {
    "duration": 4169,
    "start_time": "2025-04-08T15:12:52.972Z"
   },
   {
    "duration": 2349,
    "start_time": "2025-04-08T15:12:57.143Z"
   },
   {
    "duration": 13,
    "start_time": "2025-04-08T15:12:59.494Z"
   },
   {
    "duration": 14,
    "start_time": "2025-04-08T15:12:59.508Z"
   },
   {
    "duration": 13,
    "start_time": "2025-04-08T15:12:59.524Z"
   },
   {
    "duration": 31,
    "start_time": "2025-04-08T15:12:59.539Z"
   },
   {
    "duration": 112,
    "start_time": "2025-04-08T15:12:59.572Z"
   },
   {
    "duration": 104,
    "start_time": "2025-04-08T15:12:59.686Z"
   },
   {
    "duration": 107,
    "start_time": "2025-04-08T15:12:59.792Z"
   },
   {
    "duration": 106,
    "start_time": "2025-04-08T15:12:59.900Z"
   },
   {
    "duration": 8,
    "start_time": "2025-04-08T15:13:00.008Z"
   },
   {
    "duration": 81,
    "start_time": "2025-04-08T15:13:00.019Z"
   },
   {
    "duration": 39,
    "start_time": "2025-04-08T15:13:00.102Z"
   },
   {
    "duration": 14,
    "start_time": "2025-04-08T15:13:00.146Z"
   },
   {
    "duration": 73,
    "start_time": "2025-04-08T15:13:00.162Z"
   },
   {
    "duration": 69,
    "start_time": "2025-04-08T15:13:00.238Z"
   },
   {
    "duration": 18,
    "start_time": "2025-04-08T15:13:00.309Z"
   },
   {
    "duration": 60,
    "start_time": "2025-04-08T15:13:00.329Z"
   },
   {
    "duration": 45,
    "start_time": "2025-04-08T15:13:00.391Z"
   },
   {
    "duration": 12,
    "start_time": "2025-04-08T15:13:00.438Z"
   },
   {
    "duration": 17,
    "start_time": "2025-04-08T15:13:00.452Z"
   },
   {
    "duration": 25,
    "start_time": "2025-04-08T15:13:00.472Z"
   },
   {
    "duration": 57,
    "start_time": "2025-04-08T15:13:00.498Z"
   },
   {
    "duration": 12,
    "start_time": "2025-04-08T15:13:00.557Z"
   },
   {
    "duration": 6,
    "start_time": "2025-04-08T15:13:00.571Z"
   },
   {
    "duration": 163,
    "start_time": "2025-04-08T15:13:00.579Z"
   },
   {
    "duration": 13,
    "start_time": "2025-04-08T15:13:00.743Z"
   },
   {
    "duration": 96,
    "start_time": "2025-04-08T15:13:00.757Z"
   },
   {
    "duration": 16,
    "start_time": "2025-04-08T15:13:00.855Z"
   },
   {
    "duration": 1363,
    "start_time": "2025-04-08T16:17:49.143Z"
   },
   {
    "duration": 12,
    "start_time": "2025-04-08T16:22:02.262Z"
   },
   {
    "duration": 12,
    "start_time": "2025-04-08T16:22:34.217Z"
   },
   {
    "duration": 1262,
    "start_time": "2025-04-08T16:22:43.860Z"
   },
   {
    "duration": 1342,
    "start_time": "2025-04-08T16:24:17.925Z"
   },
   {
    "duration": 1238,
    "start_time": "2025-04-08T16:24:51.861Z"
   },
   {
    "duration": 23,
    "start_time": "2025-04-08T16:25:10.926Z"
   },
   {
    "duration": 184,
    "start_time": "2025-04-08T16:25:40.244Z"
   },
   {
    "duration": 171,
    "start_time": "2025-04-08T16:27:26.378Z"
   },
   {
    "duration": 176,
    "start_time": "2025-04-08T16:29:06.337Z"
   },
   {
    "duration": 29,
    "start_time": "2025-04-08T16:31:05.011Z"
   },
   {
    "duration": 30,
    "start_time": "2025-04-08T16:44:13.230Z"
   },
   {
    "duration": 161,
    "start_time": "2025-04-08T16:45:37.594Z"
   },
   {
    "duration": 29,
    "start_time": "2025-04-08T16:55:07.003Z"
   },
   {
    "duration": 19,
    "start_time": "2025-04-08T17:18:24.856Z"
   },
   {
    "duration": 76,
    "start_time": "2025-04-08T17:19:18.360Z"
   },
   {
    "duration": 4057,
    "start_time": "2025-04-08T17:19:27.910Z"
   },
   {
    "duration": 4201,
    "start_time": "2025-04-08T17:20:05.762Z"
   },
   {
    "duration": 4063,
    "start_time": "2025-04-08T17:20:18.986Z"
   },
   {
    "duration": 4022,
    "start_time": "2025-04-08T17:20:28.228Z"
   },
   {
    "duration": 16,
    "start_time": "2025-04-08T17:21:10.403Z"
   },
   {
    "duration": 17,
    "start_time": "2025-04-08T17:22:18.559Z"
   },
   {
    "duration": 16,
    "start_time": "2025-04-08T17:24:27.559Z"
   },
   {
    "duration": 4582,
    "start_time": "2025-04-08T17:24:52.056Z"
   },
   {
    "duration": 2548,
    "start_time": "2025-04-08T17:28:55.614Z"
   },
   {
    "duration": 15,
    "start_time": "2025-04-08T17:34:08.778Z"
   },
   {
    "duration": 35,
    "start_time": "2025-04-08T17:34:29.955Z"
   },
   {
    "duration": 5,
    "start_time": "2025-04-08T17:34:45.043Z"
   },
   {
    "duration": 1237,
    "start_time": "2025-04-08T17:35:55.389Z"
   },
   {
    "duration": 21,
    "start_time": "2025-04-08T17:37:29.764Z"
   },
   {
    "duration": 2537,
    "start_time": "2025-04-08T17:49:44.178Z"
   },
   {
    "duration": 36,
    "start_time": "2025-04-08T17:51:44.912Z"
   },
   {
    "duration": 62,
    "start_time": "2025-04-08T17:52:43.312Z"
   },
   {
    "duration": 34,
    "start_time": "2025-04-08T17:54:00.562Z"
   },
   {
    "duration": 36,
    "start_time": "2025-04-08T17:54:10.182Z"
   },
   {
    "duration": 36,
    "start_time": "2025-04-08T17:55:09.712Z"
   },
   {
    "duration": 289,
    "start_time": "2025-04-08T17:56:46.457Z"
   },
   {
    "duration": 15,
    "start_time": "2025-04-08T18:02:07.380Z"
   },
   {
    "duration": 148,
    "start_time": "2025-04-08T18:02:37.031Z"
   },
   {
    "duration": 146,
    "start_time": "2025-04-08T18:06:09.500Z"
   },
   {
    "duration": 156,
    "start_time": "2025-04-08T18:07:09.599Z"
   },
   {
    "duration": 231,
    "start_time": "2025-04-08T18:09:20.611Z"
   },
   {
    "duration": 142,
    "start_time": "2025-04-08T18:09:27.879Z"
   },
   {
    "duration": 153,
    "start_time": "2025-04-08T18:09:45.798Z"
   },
   {
    "duration": 2612,
    "start_time": "2025-04-08T18:45:53.944Z"
   },
   {
    "duration": 162,
    "start_time": "2025-04-08T18:45:56.558Z"
   },
   {
    "duration": 2501,
    "start_time": "2025-04-08T18:47:46.283Z"
   },
   {
    "duration": 147,
    "start_time": "2025-04-08T18:47:59.002Z"
   },
   {
    "duration": 2573,
    "start_time": "2025-04-08T18:49:36.516Z"
   },
   {
    "duration": 160,
    "start_time": "2025-04-08T18:49:39.092Z"
   },
   {
    "duration": 1336,
    "start_time": "2025-04-08T19:45:21.443Z"
   },
   {
    "duration": 28,
    "start_time": "2025-04-08T19:45:39.459Z"
   },
   {
    "duration": 28,
    "start_time": "2025-04-08T19:45:50.094Z"
   },
   {
    "duration": 28,
    "start_time": "2025-04-08T19:46:30.259Z"
   },
   {
    "duration": 29,
    "start_time": "2025-04-08T19:47:07.127Z"
   },
   {
    "duration": 30,
    "start_time": "2025-04-08T19:47:16.632Z"
   },
   {
    "duration": 53,
    "start_time": "2025-04-08T19:47:51.697Z"
   },
   {
    "duration": 1359,
    "start_time": "2025-04-08T19:48:17.311Z"
   },
   {
    "duration": 45,
    "start_time": "2025-04-08T19:50:42.458Z"
   },
   {
    "duration": 107,
    "start_time": "2025-04-08T19:51:40.275Z"
   },
   {
    "duration": 94,
    "start_time": "2025-04-08T19:52:05.691Z"
   },
   {
    "duration": 89,
    "start_time": "2025-04-08T19:52:39.127Z"
   },
   {
    "duration": 90,
    "start_time": "2025-04-08T19:52:49.301Z"
   },
   {
    "duration": 24,
    "start_time": "2025-04-08T19:53:48.459Z"
   },
   {
    "duration": 4057,
    "start_time": "2025-04-08T20:22:28.063Z"
   },
   {
    "duration": 2528,
    "start_time": "2025-04-08T20:22:32.122Z"
   },
   {
    "duration": 13,
    "start_time": "2025-04-08T20:22:34.652Z"
   },
   {
    "duration": 28,
    "start_time": "2025-04-08T20:22:34.667Z"
   },
   {
    "duration": 35,
    "start_time": "2025-04-08T20:22:34.698Z"
   },
   {
    "duration": 31,
    "start_time": "2025-04-08T20:22:34.735Z"
   },
   {
    "duration": 116,
    "start_time": "2025-04-08T20:22:34.767Z"
   },
   {
    "duration": 106,
    "start_time": "2025-04-08T20:22:34.885Z"
   },
   {
    "duration": 102,
    "start_time": "2025-04-08T20:22:34.992Z"
   },
   {
    "duration": 121,
    "start_time": "2025-04-08T20:22:35.096Z"
   },
   {
    "duration": 10,
    "start_time": "2025-04-08T20:22:35.220Z"
   },
   {
    "duration": 69,
    "start_time": "2025-04-08T20:22:35.238Z"
   },
   {
    "duration": 22,
    "start_time": "2025-04-08T20:22:35.309Z"
   },
   {
    "duration": 10,
    "start_time": "2025-04-08T20:22:35.334Z"
   },
   {
    "duration": 43,
    "start_time": "2025-04-08T20:22:35.346Z"
   },
   {
    "duration": 50,
    "start_time": "2025-04-08T20:22:35.391Z"
   },
   {
    "duration": 9,
    "start_time": "2025-04-08T20:22:35.442Z"
   },
   {
    "duration": 25,
    "start_time": "2025-04-08T20:22:35.453Z"
   },
   {
    "duration": 23,
    "start_time": "2025-04-08T20:22:35.480Z"
   },
   {
    "duration": 37,
    "start_time": "2025-04-08T20:22:35.505Z"
   },
   {
    "duration": 16,
    "start_time": "2025-04-08T20:22:35.545Z"
   },
   {
    "duration": 27,
    "start_time": "2025-04-08T20:22:35.563Z"
   },
   {
    "duration": 37,
    "start_time": "2025-04-08T20:22:35.592Z"
   },
   {
    "duration": 17,
    "start_time": "2025-04-08T20:22:35.631Z"
   },
   {
    "duration": 9,
    "start_time": "2025-04-08T20:22:35.650Z"
   },
   {
    "duration": 172,
    "start_time": "2025-04-08T20:22:35.661Z"
   },
   {
    "duration": 12,
    "start_time": "2025-04-08T20:22:35.837Z"
   },
   {
    "duration": 92,
    "start_time": "2025-04-08T20:22:35.851Z"
   },
   {
    "duration": 18,
    "start_time": "2025-04-08T20:22:35.945Z"
   },
   {
    "duration": 161,
    "start_time": "2025-04-08T20:22:35.965Z"
   },
   {
    "duration": 176,
    "start_time": "2025-04-08T20:22:36.128Z"
   },
   {
    "duration": 44,
    "start_time": "2025-04-08T20:22:36.305Z"
   },
   {
    "duration": 2517,
    "start_time": "2025-04-08T20:22:36.351Z"
   },
   {
    "duration": 165,
    "start_time": "2025-04-08T20:22:38.869Z"
   },
   {
    "duration": 45,
    "start_time": "2025-04-08T20:22:39.037Z"
   },
   {
    "duration": 23,
    "start_time": "2025-04-08T20:22:39.084Z"
   },
   {
    "duration": 4,
    "start_time": "2025-04-08T20:22:39.137Z"
   },
   {
    "duration": 117,
    "start_time": "2025-04-08T20:23:35.007Z"
   },
   {
    "duration": 423,
    "start_time": "2025-04-08T20:23:45.978Z"
   },
   {
    "duration": 4,
    "start_time": "2025-04-08T20:24:55.094Z"
   },
   {
    "duration": 16,
    "start_time": "2025-04-08T20:24:55.445Z"
   },
   {
    "duration": 343,
    "start_time": "2025-04-08T20:25:09.129Z"
   },
   {
    "duration": 401,
    "start_time": "2025-04-08T20:25:11.013Z"
   },
   {
    "duration": 4095,
    "start_time": "2025-04-08T20:25:29.279Z"
   },
   {
    "duration": 2642,
    "start_time": "2025-04-08T20:25:33.377Z"
   },
   {
    "duration": 12,
    "start_time": "2025-04-08T20:25:36.021Z"
   },
   {
    "duration": 13,
    "start_time": "2025-04-08T20:25:36.034Z"
   },
   {
    "duration": 13,
    "start_time": "2025-04-08T20:25:36.049Z"
   },
   {
    "duration": 27,
    "start_time": "2025-04-08T20:25:36.063Z"
   },
   {
    "duration": 126,
    "start_time": "2025-04-08T20:25:36.091Z"
   },
   {
    "duration": 104,
    "start_time": "2025-04-08T20:25:36.219Z"
   },
   {
    "duration": 100,
    "start_time": "2025-04-08T20:25:36.325Z"
   },
   {
    "duration": 112,
    "start_time": "2025-04-08T20:25:36.426Z"
   },
   {
    "duration": 8,
    "start_time": "2025-04-08T20:25:36.540Z"
   },
   {
    "duration": 22,
    "start_time": "2025-04-08T20:25:36.550Z"
   },
   {
    "duration": 17,
    "start_time": "2025-04-08T20:25:36.574Z"
   },
   {
    "duration": 17,
    "start_time": "2025-04-08T20:25:36.594Z"
   },
   {
    "duration": 81,
    "start_time": "2025-04-08T20:25:36.637Z"
   },
   {
    "duration": 38,
    "start_time": "2025-04-08T20:25:36.720Z"
   },
   {
    "duration": 41,
    "start_time": "2025-04-08T20:25:36.760Z"
   },
   {
    "duration": 26,
    "start_time": "2025-04-08T20:25:36.802Z"
   },
   {
    "duration": 28,
    "start_time": "2025-04-08T20:25:36.830Z"
   },
   {
    "duration": 13,
    "start_time": "2025-04-08T20:25:36.860Z"
   },
   {
    "duration": 26,
    "start_time": "2025-04-08T20:25:36.875Z"
   },
   {
    "duration": 10,
    "start_time": "2025-04-08T20:25:36.903Z"
   },
   {
    "duration": 26,
    "start_time": "2025-04-08T20:25:36.914Z"
   },
   {
    "duration": 42,
    "start_time": "2025-04-08T20:25:36.942Z"
   },
   {
    "duration": 21,
    "start_time": "2025-04-08T20:25:36.986Z"
   },
   {
    "duration": 161,
    "start_time": "2025-04-08T20:25:37.009Z"
   },
   {
    "duration": 11,
    "start_time": "2025-04-08T20:25:37.171Z"
   },
   {
    "duration": 92,
    "start_time": "2025-04-08T20:25:37.184Z"
   },
   {
    "duration": 15,
    "start_time": "2025-04-08T20:25:37.278Z"
   },
   {
    "duration": 65,
    "start_time": "2025-04-08T20:25:37.295Z"
   },
   {
    "duration": 183,
    "start_time": "2025-04-08T20:25:37.361Z"
   },
   {
    "duration": 36,
    "start_time": "2025-04-08T20:25:37.545Z"
   },
   {
    "duration": 2405,
    "start_time": "2025-04-08T20:25:37.582Z"
   },
   {
    "duration": 153,
    "start_time": "2025-04-08T20:25:39.989Z"
   },
   {
    "duration": 46,
    "start_time": "2025-04-08T20:25:40.144Z"
   },
   {
    "duration": 23,
    "start_time": "2025-04-08T20:25:40.191Z"
   },
   {
    "duration": 22,
    "start_time": "2025-04-08T20:25:40.216Z"
   },
   {
    "duration": 382,
    "start_time": "2025-04-08T20:25:40.240Z"
   },
   {
    "duration": 405,
    "start_time": "2025-04-08T20:25:40.624Z"
   },
   {
    "duration": 311,
    "start_time": "2025-04-08T20:29:56.181Z"
   },
   {
    "duration": 18,
    "start_time": "2025-04-08T20:31:25.197Z"
   },
   {
    "duration": 189,
    "start_time": "2025-04-08T20:31:58.231Z"
   },
   {
    "duration": 147,
    "start_time": "2025-04-08T20:32:05.806Z"
   },
   {
    "duration": 4,
    "start_time": "2025-04-08T21:13:41.123Z"
   },
   {
    "duration": 4,
    "start_time": "2025-04-08T21:15:21.192Z"
   },
   {
    "duration": 4,
    "start_time": "2025-04-08T21:16:30.508Z"
   },
   {
    "duration": 5,
    "start_time": "2025-04-08T21:16:39.139Z"
   },
   {
    "duration": 10,
    "start_time": "2025-04-08T21:16:46.041Z"
   },
   {
    "duration": 4123,
    "start_time": "2025-04-08T21:18:20.435Z"
   },
   {
    "duration": 2463,
    "start_time": "2025-04-08T21:18:24.560Z"
   },
   {
    "duration": 13,
    "start_time": "2025-04-08T21:18:27.025Z"
   },
   {
    "duration": 30,
    "start_time": "2025-04-08T21:18:27.040Z"
   },
   {
    "duration": 42,
    "start_time": "2025-04-08T21:18:27.072Z"
   },
   {
    "duration": 38,
    "start_time": "2025-04-08T21:18:27.116Z"
   },
   {
    "duration": 115,
    "start_time": "2025-04-08T21:18:27.156Z"
   },
   {
    "duration": 106,
    "start_time": "2025-04-08T21:18:27.273Z"
   },
   {
    "duration": 106,
    "start_time": "2025-04-08T21:18:27.381Z"
   },
   {
    "duration": 110,
    "start_time": "2025-04-08T21:18:27.489Z"
   },
   {
    "duration": 8,
    "start_time": "2025-04-08T21:18:27.601Z"
   },
   {
    "duration": 35,
    "start_time": "2025-04-08T21:18:27.610Z"
   },
   {
    "duration": 17,
    "start_time": "2025-04-08T21:18:27.647Z"
   },
   {
    "duration": 9,
    "start_time": "2025-04-08T21:18:27.666Z"
   },
   {
    "duration": 65,
    "start_time": "2025-04-08T21:18:27.677Z"
   },
   {
    "duration": 39,
    "start_time": "2025-04-08T21:18:27.744Z"
   },
   {
    "duration": 27,
    "start_time": "2025-04-08T21:18:27.784Z"
   },
   {
    "duration": 36,
    "start_time": "2025-04-08T21:18:27.813Z"
   },
   {
    "duration": 21,
    "start_time": "2025-04-08T21:18:27.851Z"
   },
   {
    "duration": 27,
    "start_time": "2025-04-08T21:18:27.874Z"
   },
   {
    "duration": 27,
    "start_time": "2025-04-08T21:18:27.903Z"
   },
   {
    "duration": 10,
    "start_time": "2025-04-08T21:18:27.932Z"
   },
   {
    "duration": 28,
    "start_time": "2025-04-08T21:18:27.944Z"
   },
   {
    "duration": 13,
    "start_time": "2025-04-08T21:18:27.974Z"
   },
   {
    "duration": 43,
    "start_time": "2025-04-08T21:18:27.989Z"
   },
   {
    "duration": 165,
    "start_time": "2025-04-08T21:18:28.034Z"
   },
   {
    "duration": 11,
    "start_time": "2025-04-08T21:18:28.201Z"
   },
   {
    "duration": 142,
    "start_time": "2025-04-08T21:18:28.216Z"
   },
   {
    "duration": 17,
    "start_time": "2025-04-08T21:18:28.359Z"
   },
   {
    "duration": 30,
    "start_time": "2025-04-08T21:18:28.378Z"
   },
   {
    "duration": 195,
    "start_time": "2025-04-08T21:18:28.410Z"
   },
   {
    "duration": 44,
    "start_time": "2025-04-08T21:18:28.607Z"
   },
   {
    "duration": 3041,
    "start_time": "2025-04-08T21:18:28.652Z"
   },
   {
    "duration": 163,
    "start_time": "2025-04-08T21:18:31.695Z"
   },
   {
    "duration": 50,
    "start_time": "2025-04-08T21:18:31.860Z"
   },
   {
    "duration": 40,
    "start_time": "2025-04-08T21:18:31.911Z"
   },
   {
    "duration": 5,
    "start_time": "2025-04-08T21:18:31.953Z"
   },
   {
    "duration": 428,
    "start_time": "2025-04-08T21:18:31.960Z"
   },
   {
    "duration": 211,
    "start_time": "2025-04-08T21:18:32.390Z"
   },
   {
    "duration": 4,
    "start_time": "2025-04-08T21:18:32.603Z"
   },
   {
    "duration": 14,
    "start_time": "2025-04-08T21:18:32.609Z"
   },
   {
    "duration": 8372,
    "start_time": "2025-04-09T10:19:38.637Z"
   },
   {
    "duration": 2257,
    "start_time": "2025-04-09T10:19:47.011Z"
   },
   {
    "duration": 17,
    "start_time": "2025-04-09T10:19:49.273Z"
   },
   {
    "duration": 78,
    "start_time": "2025-04-09T10:19:49.293Z"
   },
   {
    "duration": 23,
    "start_time": "2025-04-09T10:19:49.373Z"
   },
   {
    "duration": 37,
    "start_time": "2025-04-09T10:19:49.398Z"
   },
   {
    "duration": 167,
    "start_time": "2025-04-09T10:19:49.436Z"
   },
   {
    "duration": 155,
    "start_time": "2025-04-09T10:19:49.605Z"
   },
   {
    "duration": 100,
    "start_time": "2025-04-09T10:19:49.763Z"
   },
   {
    "duration": 120,
    "start_time": "2025-04-09T10:19:49.865Z"
   },
   {
    "duration": 8,
    "start_time": "2025-04-09T10:19:49.987Z"
   },
   {
    "duration": 91,
    "start_time": "2025-04-09T10:19:49.997Z"
   },
   {
    "duration": 29,
    "start_time": "2025-04-09T10:19:50.091Z"
   },
   {
    "duration": 78,
    "start_time": "2025-04-09T10:19:50.121Z"
   },
   {
    "duration": 43,
    "start_time": "2025-04-09T10:19:50.201Z"
   },
   {
    "duration": 48,
    "start_time": "2025-04-09T10:19:50.245Z"
   },
   {
    "duration": 8,
    "start_time": "2025-04-09T10:19:50.294Z"
   },
   {
    "duration": 39,
    "start_time": "2025-04-09T10:19:50.303Z"
   },
   {
    "duration": 43,
    "start_time": "2025-04-09T10:19:50.344Z"
   },
   {
    "duration": 35,
    "start_time": "2025-04-09T10:19:50.389Z"
   },
   {
    "duration": 15,
    "start_time": "2025-04-09T10:19:50.426Z"
   },
   {
    "duration": 16,
    "start_time": "2025-04-09T10:19:50.443Z"
   },
   {
    "duration": 17,
    "start_time": "2025-04-09T10:19:50.461Z"
   },
   {
    "duration": 10,
    "start_time": "2025-04-09T10:19:50.480Z"
   },
   {
    "duration": 19,
    "start_time": "2025-04-09T10:19:50.492Z"
   },
   {
    "duration": 166,
    "start_time": "2025-04-09T10:19:50.513Z"
   },
   {
    "duration": 11,
    "start_time": "2025-04-09T10:19:50.681Z"
   },
   {
    "duration": 103,
    "start_time": "2025-04-09T10:19:50.694Z"
   },
   {
    "duration": 16,
    "start_time": "2025-04-09T10:19:50.799Z"
   },
   {
    "duration": 32,
    "start_time": "2025-04-09T10:19:50.817Z"
   },
   {
    "duration": 185,
    "start_time": "2025-04-09T10:19:50.866Z"
   },
   {
    "duration": 40,
    "start_time": "2025-04-09T10:19:51.054Z"
   },
   {
    "duration": 2510,
    "start_time": "2025-04-09T10:19:51.096Z"
   },
   {
    "duration": 188,
    "start_time": "2025-04-09T10:19:53.608Z"
   },
   {
    "duration": 64,
    "start_time": "2025-04-09T10:19:53.798Z"
   },
   {
    "duration": 24,
    "start_time": "2025-04-09T10:19:53.864Z"
   },
   {
    "duration": 13,
    "start_time": "2025-04-09T10:19:53.890Z"
   },
   {
    "duration": 388,
    "start_time": "2025-04-09T10:19:53.904Z"
   },
   {
    "duration": 200,
    "start_time": "2025-04-09T10:19:54.294Z"
   },
   {
    "duration": 5,
    "start_time": "2025-04-09T10:19:54.498Z"
   },
   {
    "duration": 31,
    "start_time": "2025-04-09T10:19:54.504Z"
   },
   {
    "duration": 48,
    "start_time": "2025-04-09T10:19:54.537Z"
   },
   {
    "duration": 3,
    "start_time": "2025-04-09T10:20:56.671Z"
   },
   {
    "duration": 4,
    "start_time": "2025-04-09T10:21:02.464Z"
   },
   {
    "duration": 3,
    "start_time": "2025-04-09T10:21:09.179Z"
   },
   {
    "duration": 4,
    "start_time": "2025-04-09T10:22:18.544Z"
   },
   {
    "duration": 168,
    "start_time": "2025-04-09T10:33:50.280Z"
   },
   {
    "duration": 39,
    "start_time": "2025-04-09T10:34:06.682Z"
   },
   {
    "duration": 82,
    "start_time": "2025-04-09T10:34:09.094Z"
   },
   {
    "duration": 8,
    "start_time": "2025-04-09T10:34:09.495Z"
   },
   {
    "duration": 15,
    "start_time": "2025-04-09T10:34:09.687Z"
   },
   {
    "duration": 13,
    "start_time": "2025-04-09T10:34:09.888Z"
   },
   {
    "duration": 9,
    "start_time": "2025-04-09T10:34:10.209Z"
   },
   {
    "duration": 39,
    "start_time": "2025-04-09T10:34:10.371Z"
   },
   {
    "duration": 37,
    "start_time": "2025-04-09T10:34:10.502Z"
   },
   {
    "duration": 7,
    "start_time": "2025-04-09T10:34:10.842Z"
   },
   {
    "duration": 25,
    "start_time": "2025-04-09T10:34:10.966Z"
   },
   {
    "duration": 21,
    "start_time": "2025-04-09T10:34:11.154Z"
   },
   {
    "duration": 11,
    "start_time": "2025-04-09T10:34:11.457Z"
   },
   {
    "duration": 13,
    "start_time": "2025-04-09T10:34:11.604Z"
   },
   {
    "duration": 10,
    "start_time": "2025-04-09T10:34:11.752Z"
   },
   {
    "duration": 8,
    "start_time": "2025-04-09T10:34:12.041Z"
   },
   {
    "duration": 9,
    "start_time": "2025-04-09T10:34:12.183Z"
   },
   {
    "duration": 7,
    "start_time": "2025-04-09T10:34:12.495Z"
   },
   {
    "duration": 123,
    "start_time": "2025-04-09T10:34:13.375Z"
   },
   {
    "duration": 9,
    "start_time": "2025-04-09T10:34:13.521Z"
   },
   {
    "duration": 78,
    "start_time": "2025-04-09T10:34:13.685Z"
   },
   {
    "duration": 16,
    "start_time": "2025-04-09T10:34:13.837Z"
   },
   {
    "duration": 24,
    "start_time": "2025-04-09T10:34:14.494Z"
   },
   {
    "duration": 145,
    "start_time": "2025-04-09T10:34:14.670Z"
   },
   {
    "duration": 33,
    "start_time": "2025-04-09T10:34:15.211Z"
   },
   {
    "duration": 2480,
    "start_time": "2025-04-09T10:34:15.560Z"
   },
   {
    "duration": 153,
    "start_time": "2025-04-09T10:34:18.041Z"
   },
   {
    "duration": 45,
    "start_time": "2025-04-09T10:34:18.195Z"
   },
   {
    "duration": 75,
    "start_time": "2025-04-09T10:34:18.242Z"
   },
   {
    "duration": 6,
    "start_time": "2025-04-09T10:34:18.319Z"
   },
   {
    "duration": 265,
    "start_time": "2025-04-09T10:34:18.327Z"
   },
   {
    "duration": 128,
    "start_time": "2025-04-09T10:34:18.593Z"
   },
   {
    "duration": 4,
    "start_time": "2025-04-09T10:34:18.723Z"
   },
   {
    "duration": 5,
    "start_time": "2025-04-09T10:34:18.728Z"
   },
   {
    "duration": 5,
    "start_time": "2025-04-09T10:34:18.735Z"
   },
   {
    "duration": 41,
    "start_time": "2025-04-09T10:36:57.696Z"
   },
   {
    "duration": 76,
    "start_time": "2025-04-09T10:36:59.825Z"
   },
   {
    "duration": 3982,
    "start_time": "2025-04-09T10:37:23.735Z"
   },
   {
    "duration": 2635,
    "start_time": "2025-04-09T10:37:27.719Z"
   },
   {
    "duration": 12,
    "start_time": "2025-04-09T10:37:30.355Z"
   },
   {
    "duration": 41,
    "start_time": "2025-04-09T10:37:30.369Z"
   },
   {
    "duration": 32,
    "start_time": "2025-04-09T10:37:30.412Z"
   },
   {
    "duration": 46,
    "start_time": "2025-04-09T10:37:30.446Z"
   },
   {
    "duration": 102,
    "start_time": "2025-04-09T10:37:30.493Z"
   },
   {
    "duration": 99,
    "start_time": "2025-04-09T10:37:30.597Z"
   },
   {
    "duration": 95,
    "start_time": "2025-04-09T10:37:30.698Z"
   },
   {
    "duration": 104,
    "start_time": "2025-04-09T10:37:30.794Z"
   },
   {
    "duration": 7,
    "start_time": "2025-04-09T10:37:30.900Z"
   },
   {
    "duration": 34,
    "start_time": "2025-04-09T10:37:30.909Z"
   },
   {
    "duration": 20,
    "start_time": "2025-04-09T10:37:30.944Z"
   },
   {
    "duration": 14,
    "start_time": "2025-04-09T10:37:30.967Z"
   },
   {
    "duration": 48,
    "start_time": "2025-04-09T10:37:30.982Z"
   },
   {
    "duration": 44,
    "start_time": "2025-04-09T10:37:31.031Z"
   },
   {
    "duration": 8,
    "start_time": "2025-04-09T10:37:31.076Z"
   },
   {
    "duration": 45,
    "start_time": "2025-04-09T10:37:31.086Z"
   },
   {
    "duration": 21,
    "start_time": "2025-04-09T10:37:31.132Z"
   },
   {
    "duration": 17,
    "start_time": "2025-04-09T10:37:31.154Z"
   },
   {
    "duration": 18,
    "start_time": "2025-04-09T10:37:31.173Z"
   },
   {
    "duration": 31,
    "start_time": "2025-04-09T10:37:31.192Z"
   },
   {
    "duration": 15,
    "start_time": "2025-04-09T10:37:31.225Z"
   },
   {
    "duration": 83,
    "start_time": "2025-04-09T10:37:31.242Z"
   },
   {
    "duration": 59,
    "start_time": "2025-04-09T10:37:31.327Z"
   },
   {
    "duration": 1042,
    "start_time": "2025-04-09T10:37:31.387Z"
   },
   {
    "duration": 0,
    "start_time": "2025-04-09T10:37:32.430Z"
   },
   {
    "duration": 0,
    "start_time": "2025-04-09T10:37:32.432Z"
   },
   {
    "duration": 0,
    "start_time": "2025-04-09T10:37:32.433Z"
   },
   {
    "duration": 0,
    "start_time": "2025-04-09T10:37:32.433Z"
   },
   {
    "duration": 0,
    "start_time": "2025-04-09T10:37:32.435Z"
   },
   {
    "duration": 0,
    "start_time": "2025-04-09T10:37:32.436Z"
   },
   {
    "duration": 0,
    "start_time": "2025-04-09T10:37:32.437Z"
   },
   {
    "duration": 0,
    "start_time": "2025-04-09T10:37:32.438Z"
   },
   {
    "duration": 0,
    "start_time": "2025-04-09T10:37:32.439Z"
   },
   {
    "duration": 0,
    "start_time": "2025-04-09T10:37:32.440Z"
   },
   {
    "duration": 0,
    "start_time": "2025-04-09T10:37:32.441Z"
   },
   {
    "duration": 0,
    "start_time": "2025-04-09T10:37:32.442Z"
   },
   {
    "duration": 0,
    "start_time": "2025-04-09T10:37:32.443Z"
   },
   {
    "duration": 0,
    "start_time": "2025-04-09T10:37:32.444Z"
   },
   {
    "duration": 0,
    "start_time": "2025-04-09T10:37:32.445Z"
   },
   {
    "duration": 0,
    "start_time": "2025-04-09T10:37:32.447Z"
   },
   {
    "duration": 151,
    "start_time": "2025-04-09T10:38:17.928Z"
   },
   {
    "duration": 11,
    "start_time": "2025-04-09T10:38:19.063Z"
   },
   {
    "duration": 75,
    "start_time": "2025-04-09T10:38:19.814Z"
   },
   {
    "duration": 15,
    "start_time": "2025-04-09T10:38:20.546Z"
   },
   {
    "duration": 1107,
    "start_time": "2025-04-09T10:38:29.664Z"
   },
   {
    "duration": 876,
    "start_time": "2025-04-09T10:38:36.364Z"
   },
   {
    "duration": 28,
    "start_time": "2025-04-09T10:38:42.097Z"
   },
   {
    "duration": 158,
    "start_time": "2025-04-09T10:38:47.073Z"
   },
   {
    "duration": 2328,
    "start_time": "2025-04-09T10:39:16.358Z"
   },
   {
    "duration": 149,
    "start_time": "2025-04-09T10:39:18.688Z"
   },
   {
    "duration": 43,
    "start_time": "2025-04-09T10:39:31.310Z"
   },
   {
    "duration": 45,
    "start_time": "2025-04-09T10:39:49.628Z"
   },
   {
    "duration": 22,
    "start_time": "2025-04-09T10:39:51.049Z"
   },
   {
    "duration": 4,
    "start_time": "2025-04-09T10:39:57.242Z"
   },
   {
    "duration": 345,
    "start_time": "2025-04-09T10:40:02.063Z"
   },
   {
    "duration": 14,
    "start_time": "2025-04-09T10:40:03.430Z"
   },
   {
    "duration": 172,
    "start_time": "2025-04-09T10:40:10.028Z"
   },
   {
    "duration": 4,
    "start_time": "2025-04-09T10:40:10.860Z"
   },
   {
    "duration": 3,
    "start_time": "2025-04-09T10:40:11.530Z"
   },
   {
    "duration": 4,
    "start_time": "2025-04-09T10:40:12.227Z"
   },
   {
    "duration": 3881,
    "start_time": "2025-04-09T10:40:40.958Z"
   },
   {
    "duration": 2493,
    "start_time": "2025-04-09T10:40:44.841Z"
   },
   {
    "duration": 17,
    "start_time": "2025-04-09T10:40:47.336Z"
   },
   {
    "duration": 74,
    "start_time": "2025-04-09T10:40:47.355Z"
   },
   {
    "duration": 11,
    "start_time": "2025-04-09T10:40:47.432Z"
   },
   {
    "duration": 28,
    "start_time": "2025-04-09T10:40:47.445Z"
   },
   {
    "duration": 168,
    "start_time": "2025-04-09T10:40:47.476Z"
   },
   {
    "duration": 99,
    "start_time": "2025-04-09T10:40:47.646Z"
   },
   {
    "duration": 102,
    "start_time": "2025-04-09T10:40:47.746Z"
   },
   {
    "duration": 105,
    "start_time": "2025-04-09T10:40:47.849Z"
   },
   {
    "duration": 9,
    "start_time": "2025-04-09T10:40:47.956Z"
   },
   {
    "duration": 32,
    "start_time": "2025-04-09T10:40:47.967Z"
   },
   {
    "duration": 14,
    "start_time": "2025-04-09T10:40:48.001Z"
   },
   {
    "duration": 7,
    "start_time": "2025-04-09T10:40:48.018Z"
   },
   {
    "duration": 63,
    "start_time": "2025-04-09T10:40:48.027Z"
   },
   {
    "duration": 90,
    "start_time": "2025-04-09T10:40:48.092Z"
   },
   {
    "duration": 8,
    "start_time": "2025-04-09T10:40:48.183Z"
   },
   {
    "duration": 108,
    "start_time": "2025-04-09T10:40:48.192Z"
   },
   {
    "duration": 32,
    "start_time": "2025-04-09T10:40:48.302Z"
   },
   {
    "duration": 10,
    "start_time": "2025-04-09T10:40:48.336Z"
   },
   {
    "duration": 17,
    "start_time": "2025-04-09T10:40:48.347Z"
   },
   {
    "duration": 9,
    "start_time": "2025-04-09T10:40:48.366Z"
   },
   {
    "duration": 16,
    "start_time": "2025-04-09T10:40:48.377Z"
   },
   {
    "duration": 21,
    "start_time": "2025-04-09T10:40:48.394Z"
   },
   {
    "duration": 8,
    "start_time": "2025-04-09T10:40:48.417Z"
   },
   {
    "duration": 153,
    "start_time": "2025-04-09T10:40:48.426Z"
   },
   {
    "duration": 11,
    "start_time": "2025-04-09T10:40:48.580Z"
   },
   {
    "duration": 89,
    "start_time": "2025-04-09T10:40:48.593Z"
   },
   {
    "duration": 16,
    "start_time": "2025-04-09T10:40:48.684Z"
   },
   {
    "duration": 28,
    "start_time": "2025-04-09T10:40:48.702Z"
   },
   {
    "duration": 191,
    "start_time": "2025-04-09T10:40:48.732Z"
   },
   {
    "duration": 41,
    "start_time": "2025-04-09T10:40:48.925Z"
   },
   {
    "duration": 2318,
    "start_time": "2025-04-09T10:40:48.968Z"
   },
   {
    "duration": 152,
    "start_time": "2025-04-09T10:40:51.288Z"
   },
   {
    "duration": 52,
    "start_time": "2025-04-09T10:40:51.442Z"
   },
   {
    "duration": 68,
    "start_time": "2025-04-09T10:40:51.496Z"
   },
   {
    "duration": 5,
    "start_time": "2025-04-09T10:40:51.566Z"
   },
   {
    "duration": 345,
    "start_time": "2025-04-09T10:40:51.573Z"
   },
   {
    "duration": 173,
    "start_time": "2025-04-09T10:40:51.920Z"
   },
   {
    "duration": 4,
    "start_time": "2025-04-09T10:40:52.095Z"
   },
   {
    "duration": 53,
    "start_time": "2025-04-09T10:40:52.105Z"
   },
   {
    "duration": 18,
    "start_time": "2025-04-09T10:40:52.160Z"
   },
   {
    "duration": 26,
    "start_time": "2025-04-09T10:49:23.780Z"
   },
   {
    "duration": 10,
    "start_time": "2025-04-09T10:49:24.396Z"
   },
   {
    "duration": 26,
    "start_time": "2025-04-09T10:50:54.213Z"
   },
   {
    "duration": 23,
    "start_time": "2025-04-09T10:51:01.147Z"
   },
   {
    "duration": 24,
    "start_time": "2025-04-09T11:50:39.064Z"
   },
   {
    "duration": 31,
    "start_time": "2025-04-09T11:50:39.732Z"
   },
   {
    "duration": 11,
    "start_time": "2025-04-09T11:50:40.147Z"
   },
   {
    "duration": 12,
    "start_time": "2025-04-09T11:52:48.726Z"
   },
   {
    "duration": 66,
    "start_time": "2025-04-09T11:53:01.866Z"
   },
   {
    "duration": 20,
    "start_time": "2025-04-09T11:53:15.948Z"
   },
   {
    "duration": 81,
    "start_time": "2025-04-09T11:53:46.578Z"
   },
   {
    "duration": 4,
    "start_time": "2025-04-09T11:55:02.499Z"
   },
   {
    "duration": 4,
    "start_time": "2025-04-09T11:55:24.398Z"
   },
   {
    "duration": 77,
    "start_time": "2025-04-09T11:55:41.191Z"
   },
   {
    "duration": 4,
    "start_time": "2025-04-09T11:55:42.496Z"
   },
   {
    "duration": 26,
    "start_time": "2025-04-09T11:55:44.417Z"
   },
   {
    "duration": 23,
    "start_time": "2025-04-09T11:55:46.888Z"
   },
   {
    "duration": 3902,
    "start_time": "2025-04-09T11:57:07.261Z"
   },
   {
    "duration": 3199,
    "start_time": "2025-04-09T11:57:11.165Z"
   },
   {
    "duration": 13,
    "start_time": "2025-04-09T11:57:14.365Z"
   },
   {
    "duration": 79,
    "start_time": "2025-04-09T11:57:14.380Z"
   },
   {
    "duration": 19,
    "start_time": "2025-04-09T11:57:14.461Z"
   },
   {
    "duration": 24,
    "start_time": "2025-04-09T11:57:14.481Z"
   },
   {
    "duration": 114,
    "start_time": "2025-04-09T11:57:14.507Z"
   },
   {
    "duration": 108,
    "start_time": "2025-04-09T11:57:14.622Z"
   },
   {
    "duration": 99,
    "start_time": "2025-04-09T11:57:14.731Z"
   },
   {
    "duration": 113,
    "start_time": "2025-04-09T11:57:14.833Z"
   },
   {
    "duration": 8,
    "start_time": "2025-04-09T11:57:14.948Z"
   },
   {
    "duration": 26,
    "start_time": "2025-04-09T11:57:14.962Z"
   },
   {
    "duration": 17,
    "start_time": "2025-04-09T11:57:14.989Z"
   },
   {
    "duration": 73,
    "start_time": "2025-04-09T11:57:15.007Z"
   },
   {
    "duration": 59,
    "start_time": "2025-04-09T11:57:15.082Z"
   },
   {
    "duration": 52,
    "start_time": "2025-04-09T11:57:15.142Z"
   },
   {
    "duration": 30,
    "start_time": "2025-04-09T11:57:15.196Z"
   },
   {
    "duration": 73,
    "start_time": "2025-04-09T11:57:15.228Z"
   },
   {
    "duration": 40,
    "start_time": "2025-04-09T11:57:15.303Z"
   },
   {
    "duration": 47,
    "start_time": "2025-04-09T11:57:15.345Z"
   },
   {
    "duration": 55,
    "start_time": "2025-04-09T11:57:15.393Z"
   },
   {
    "duration": 22,
    "start_time": "2025-04-09T11:57:15.450Z"
   },
   {
    "duration": 18,
    "start_time": "2025-04-09T11:57:15.474Z"
   },
   {
    "duration": 28,
    "start_time": "2025-04-09T11:57:15.493Z"
   },
   {
    "duration": 65,
    "start_time": "2025-04-09T11:57:15.523Z"
   },
   {
    "duration": 157,
    "start_time": "2025-04-09T11:57:15.589Z"
   },
   {
    "duration": 16,
    "start_time": "2025-04-09T11:57:15.748Z"
   },
   {
    "duration": 103,
    "start_time": "2025-04-09T11:57:15.769Z"
   },
   {
    "duration": 16,
    "start_time": "2025-04-09T11:57:15.874Z"
   },
   {
    "duration": 27,
    "start_time": "2025-04-09T11:57:15.892Z"
   },
   {
    "duration": 182,
    "start_time": "2025-04-09T11:57:15.920Z"
   },
   {
    "duration": 33,
    "start_time": "2025-04-09T11:57:16.103Z"
   },
   {
    "duration": 2505,
    "start_time": "2025-04-09T11:57:16.137Z"
   },
   {
    "duration": 152,
    "start_time": "2025-04-09T11:57:18.644Z"
   },
   {
    "duration": 45,
    "start_time": "2025-04-09T11:57:18.798Z"
   },
   {
    "duration": 31,
    "start_time": "2025-04-09T11:57:18.844Z"
   },
   {
    "duration": 91,
    "start_time": "2025-04-09T11:57:18.877Z"
   },
   {
    "duration": 4,
    "start_time": "2025-04-09T11:57:18.970Z"
   },
   {
    "duration": 31,
    "start_time": "2025-04-09T11:57:18.975Z"
   },
   {
    "duration": 350,
    "start_time": "2025-04-09T11:57:19.008Z"
   },
   {
    "duration": 176,
    "start_time": "2025-04-09T11:57:19.363Z"
   },
   {
    "duration": 5,
    "start_time": "2025-04-09T11:57:19.541Z"
   },
   {
    "duration": 29,
    "start_time": "2025-04-09T11:57:19.547Z"
   },
   {
    "duration": 8,
    "start_time": "2025-04-09T11:57:19.577Z"
   },
   {
    "duration": 25,
    "start_time": "2025-04-09T11:57:19.586Z"
   },
   {
    "duration": 68,
    "start_time": "2025-04-09T11:57:19.612Z"
   },
   {
    "duration": 32,
    "start_time": "2025-04-09T11:57:19.682Z"
   },
   {
    "duration": 27,
    "start_time": "2025-04-09T12:06:19.047Z"
   },
   {
    "duration": 4,
    "start_time": "2025-04-09T13:01:09.753Z"
   },
   {
    "duration": 30,
    "start_time": "2025-04-09T13:04:34.278Z"
   },
   {
    "duration": 77,
    "start_time": "2025-04-09T13:04:48.035Z"
   },
   {
    "duration": 108,
    "start_time": "2025-04-09T13:07:13.952Z"
   },
   {
    "duration": 9,
    "start_time": "2025-04-09T13:07:52.311Z"
   },
   {
    "duration": 8,
    "start_time": "2025-04-09T13:09:06.395Z"
   },
   {
    "duration": 7,
    "start_time": "2025-04-09T13:09:25.601Z"
   },
   {
    "duration": 6,
    "start_time": "2025-04-09T13:10:04.767Z"
   },
   {
    "duration": 19,
    "start_time": "2025-04-09T13:11:03.085Z"
   },
   {
    "duration": 78,
    "start_time": "2025-04-09T13:11:05.038Z"
   },
   {
    "duration": 4,
    "start_time": "2025-04-09T13:11:51.170Z"
   },
   {
    "duration": 287,
    "start_time": "2025-04-09T13:11:52.203Z"
   },
   {
    "duration": 141,
    "start_time": "2025-04-09T13:11:52.696Z"
   },
   {
    "duration": 3,
    "start_time": "2025-04-09T13:11:53.621Z"
   },
   {
    "duration": 4,
    "start_time": "2025-04-09T13:11:53.862Z"
   },
   {
    "duration": 4,
    "start_time": "2025-04-09T13:11:54.928Z"
   },
   {
    "duration": 3945,
    "start_time": "2025-04-09T13:12:05.184Z"
   },
   {
    "duration": 3417,
    "start_time": "2025-04-09T13:12:09.131Z"
   },
   {
    "duration": 13,
    "start_time": "2025-04-09T13:12:12.549Z"
   },
   {
    "duration": 18,
    "start_time": "2025-04-09T13:12:12.563Z"
   },
   {
    "duration": 24,
    "start_time": "2025-04-09T13:12:12.583Z"
   },
   {
    "duration": 25,
    "start_time": "2025-04-09T13:12:12.609Z"
   },
   {
    "duration": 102,
    "start_time": "2025-04-09T13:12:12.635Z"
   },
   {
    "duration": 98,
    "start_time": "2025-04-09T13:12:12.739Z"
   },
   {
    "duration": 91,
    "start_time": "2025-04-09T13:12:12.838Z"
   },
   {
    "duration": 112,
    "start_time": "2025-04-09T13:12:12.931Z"
   },
   {
    "duration": 17,
    "start_time": "2025-04-09T13:12:13.045Z"
   },
   {
    "duration": 47,
    "start_time": "2025-04-09T13:12:13.064Z"
   },
   {
    "duration": 16,
    "start_time": "2025-04-09T13:12:13.113Z"
   },
   {
    "duration": 10,
    "start_time": "2025-04-09T13:12:13.132Z"
   },
   {
    "duration": 46,
    "start_time": "2025-04-09T13:12:13.143Z"
   },
   {
    "duration": 37,
    "start_time": "2025-04-09T13:12:13.191Z"
   },
   {
    "duration": 9,
    "start_time": "2025-04-09T13:12:13.230Z"
   },
   {
    "duration": 38,
    "start_time": "2025-04-09T13:12:13.241Z"
   },
   {
    "duration": 21,
    "start_time": "2025-04-09T13:12:13.281Z"
   },
   {
    "duration": 10,
    "start_time": "2025-04-09T13:12:13.304Z"
   },
   {
    "duration": 13,
    "start_time": "2025-04-09T13:12:13.315Z"
   },
   {
    "duration": 33,
    "start_time": "2025-04-09T13:12:13.330Z"
   },
   {
    "duration": 16,
    "start_time": "2025-04-09T13:12:13.365Z"
   },
   {
    "duration": 13,
    "start_time": "2025-04-09T13:12:13.382Z"
   },
   {
    "duration": 6,
    "start_time": "2025-04-09T13:12:13.397Z"
   },
   {
    "duration": 168,
    "start_time": "2025-04-09T13:12:13.405Z"
   },
   {
    "duration": 11,
    "start_time": "2025-04-09T13:12:13.575Z"
   },
   {
    "duration": 92,
    "start_time": "2025-04-09T13:12:13.588Z"
   },
   {
    "duration": 15,
    "start_time": "2025-04-09T13:12:13.682Z"
   },
   {
    "duration": 78,
    "start_time": "2025-04-09T13:12:13.698Z"
   },
   {
    "duration": 163,
    "start_time": "2025-04-09T13:12:13.778Z"
   },
   {
    "duration": 43,
    "start_time": "2025-04-09T13:12:13.942Z"
   },
   {
    "duration": 2396,
    "start_time": "2025-04-09T13:12:13.986Z"
   },
   {
    "duration": 155,
    "start_time": "2025-04-09T13:12:16.384Z"
   },
   {
    "duration": 52,
    "start_time": "2025-04-09T13:12:16.540Z"
   },
   {
    "duration": 23,
    "start_time": "2025-04-09T13:12:16.594Z"
   },
   {
    "duration": 100,
    "start_time": "2025-04-09T13:12:16.618Z"
   },
   {
    "duration": 26,
    "start_time": "2025-04-09T13:12:16.720Z"
   },
   {
    "duration": 116,
    "start_time": "2025-04-09T13:12:16.748Z"
   },
   {
    "duration": 81,
    "start_time": "2025-04-09T13:12:16.866Z"
   },
   {
    "duration": 12,
    "start_time": "2025-04-09T13:12:16.951Z"
   },
   {
    "duration": 418,
    "start_time": "2025-04-09T13:12:16.965Z"
   },
   {
    "duration": 280,
    "start_time": "2025-04-09T13:12:17.385Z"
   },
   {
    "duration": 4,
    "start_time": "2025-04-09T13:12:17.667Z"
   },
   {
    "duration": 6,
    "start_time": "2025-04-09T13:12:17.672Z"
   },
   {
    "duration": 4,
    "start_time": "2025-04-09T13:12:17.680Z"
   },
   {
    "duration": 21,
    "start_time": "2025-04-09T13:12:17.686Z"
   },
   {
    "duration": 158,
    "start_time": "2025-04-09T13:12:17.709Z"
   },
   {
    "duration": 0,
    "start_time": "2025-04-09T13:12:17.869Z"
   },
   {
    "duration": 19,
    "start_time": "2025-04-09T13:18:49.536Z"
   },
   {
    "duration": 71,
    "start_time": "2025-04-09T13:18:51.041Z"
   },
   {
    "duration": 20,
    "start_time": "2025-04-09T13:18:52.355Z"
   },
   {
    "duration": 3895,
    "start_time": "2025-04-09T13:41:32.205Z"
   },
   {
    "duration": 3067,
    "start_time": "2025-04-09T13:41:36.102Z"
   },
   {
    "duration": 12,
    "start_time": "2025-04-09T13:41:39.171Z"
   },
   {
    "duration": 13,
    "start_time": "2025-04-09T13:41:39.185Z"
   },
   {
    "duration": 9,
    "start_time": "2025-04-09T13:41:39.200Z"
   },
   {
    "duration": 25,
    "start_time": "2025-04-09T13:41:39.210Z"
   },
   {
    "duration": 132,
    "start_time": "2025-04-09T13:41:39.236Z"
   },
   {
    "duration": 103,
    "start_time": "2025-04-09T13:41:39.370Z"
   },
   {
    "duration": 100,
    "start_time": "2025-04-09T13:41:39.475Z"
   },
   {
    "duration": 109,
    "start_time": "2025-04-09T13:41:39.577Z"
   },
   {
    "duration": 7,
    "start_time": "2025-04-09T13:41:39.688Z"
   },
   {
    "duration": 19,
    "start_time": "2025-04-09T13:41:39.697Z"
   },
   {
    "duration": 17,
    "start_time": "2025-04-09T13:41:39.718Z"
   },
   {
    "duration": 30,
    "start_time": "2025-04-09T13:41:39.737Z"
   },
   {
    "duration": 115,
    "start_time": "2025-04-09T13:41:39.768Z"
   },
   {
    "duration": 37,
    "start_time": "2025-04-09T13:41:39.884Z"
   },
   {
    "duration": 9,
    "start_time": "2025-04-09T13:41:39.923Z"
   },
   {
    "duration": 41,
    "start_time": "2025-04-09T13:41:39.933Z"
   },
   {
    "duration": 22,
    "start_time": "2025-04-09T13:41:39.975Z"
   },
   {
    "duration": 19,
    "start_time": "2025-04-09T13:41:39.999Z"
   },
   {
    "duration": 34,
    "start_time": "2025-04-09T13:41:40.019Z"
   },
   {
    "duration": 9,
    "start_time": "2025-04-09T13:41:40.055Z"
   },
   {
    "duration": 12,
    "start_time": "2025-04-09T13:41:40.066Z"
   },
   {
    "duration": 16,
    "start_time": "2025-04-09T13:41:40.080Z"
   },
   {
    "duration": 7,
    "start_time": "2025-04-09T13:41:40.098Z"
   },
   {
    "duration": 176,
    "start_time": "2025-04-09T13:41:40.107Z"
   },
   {
    "duration": 12,
    "start_time": "2025-04-09T13:41:40.284Z"
   },
   {
    "duration": 93,
    "start_time": "2025-04-09T13:41:40.298Z"
   },
   {
    "duration": 15,
    "start_time": "2025-04-09T13:41:40.393Z"
   },
   {
    "duration": 28,
    "start_time": "2025-04-09T13:41:40.410Z"
   },
   {
    "duration": 194,
    "start_time": "2025-04-09T13:41:40.439Z"
   },
   {
    "duration": 39,
    "start_time": "2025-04-09T13:41:40.635Z"
   },
   {
    "duration": 2502,
    "start_time": "2025-04-09T13:41:40.676Z"
   },
   {
    "duration": 156,
    "start_time": "2025-04-09T13:41:43.181Z"
   },
   {
    "duration": 52,
    "start_time": "2025-04-09T13:41:43.339Z"
   },
   {
    "duration": 22,
    "start_time": "2025-04-09T13:41:43.393Z"
   },
   {
    "duration": 92,
    "start_time": "2025-04-09T13:41:43.416Z"
   },
   {
    "duration": 26,
    "start_time": "2025-04-09T13:41:43.510Z"
   },
   {
    "duration": 58,
    "start_time": "2025-04-09T13:41:43.537Z"
   },
   {
    "duration": 82,
    "start_time": "2025-04-09T13:41:43.597Z"
   },
   {
    "duration": 4,
    "start_time": "2025-04-09T13:41:43.682Z"
   },
   {
    "duration": 339,
    "start_time": "2025-04-09T13:41:43.688Z"
   },
   {
    "duration": 178,
    "start_time": "2025-04-09T13:41:44.028Z"
   },
   {
    "duration": 4,
    "start_time": "2025-04-09T13:41:44.207Z"
   },
   {
    "duration": 19,
    "start_time": "2025-04-09T13:41:44.213Z"
   },
   {
    "duration": 10,
    "start_time": "2025-04-09T13:41:44.234Z"
   },
   {
    "duration": 23,
    "start_time": "2025-04-09T13:41:44.245Z"
   },
   {
    "duration": 69,
    "start_time": "2025-04-09T13:41:44.270Z"
   },
   {
    "duration": 32,
    "start_time": "2025-04-09T13:41:44.341Z"
   },
   {
    "duration": 13688,
    "start_time": "2025-04-09T18:09:13.424Z"
   },
   {
    "duration": 2514,
    "start_time": "2025-04-09T18:09:27.114Z"
   },
   {
    "duration": 11,
    "start_time": "2025-04-09T18:09:29.630Z"
   },
   {
    "duration": 11,
    "start_time": "2025-04-09T18:09:29.643Z"
   },
   {
    "duration": 15,
    "start_time": "2025-04-09T18:09:29.657Z"
   },
   {
    "duration": 29,
    "start_time": "2025-04-09T18:09:29.673Z"
   },
   {
    "duration": 105,
    "start_time": "2025-04-09T18:09:29.704Z"
   },
   {
    "duration": 97,
    "start_time": "2025-04-09T18:09:29.811Z"
   },
   {
    "duration": 95,
    "start_time": "2025-04-09T18:09:29.909Z"
   },
   {
    "duration": 98,
    "start_time": "2025-04-09T18:09:30.006Z"
   },
   {
    "duration": 24,
    "start_time": "2025-04-09T18:09:30.106Z"
   },
   {
    "duration": 62,
    "start_time": "2025-04-09T18:09:30.132Z"
   },
   {
    "duration": 38,
    "start_time": "2025-04-09T18:09:30.195Z"
   },
   {
    "duration": 23,
    "start_time": "2025-04-09T18:09:30.236Z"
   },
   {
    "duration": 70,
    "start_time": "2025-04-09T18:09:30.260Z"
   },
   {
    "duration": 35,
    "start_time": "2025-04-09T18:09:30.331Z"
   },
   {
    "duration": 18,
    "start_time": "2025-04-09T18:09:30.368Z"
   },
   {
    "duration": 39,
    "start_time": "2025-04-09T18:09:30.387Z"
   },
   {
    "duration": 56,
    "start_time": "2025-04-09T18:09:30.427Z"
   },
   {
    "duration": 16,
    "start_time": "2025-04-09T18:09:30.485Z"
   },
   {
    "duration": 25,
    "start_time": "2025-04-09T18:09:30.502Z"
   },
   {
    "duration": 10,
    "start_time": "2025-04-09T18:09:30.528Z"
   },
   {
    "duration": 17,
    "start_time": "2025-04-09T18:09:30.540Z"
   },
   {
    "duration": 15,
    "start_time": "2025-04-09T18:09:30.559Z"
   },
   {
    "duration": 12,
    "start_time": "2025-04-09T18:09:30.576Z"
   },
   {
    "duration": 164,
    "start_time": "2025-04-09T18:09:30.589Z"
   },
   {
    "duration": 23,
    "start_time": "2025-04-09T18:09:30.754Z"
   },
   {
    "duration": 146,
    "start_time": "2025-04-09T18:09:30.782Z"
   },
   {
    "duration": 15,
    "start_time": "2025-04-09T18:09:30.929Z"
   },
   {
    "duration": 39,
    "start_time": "2025-04-09T18:09:30.945Z"
   },
   {
    "duration": 165,
    "start_time": "2025-04-09T18:09:30.986Z"
   },
   {
    "duration": 43,
    "start_time": "2025-04-09T18:09:31.153Z"
   },
   {
    "duration": 2405,
    "start_time": "2025-04-09T18:09:31.198Z"
   },
   {
    "duration": 152,
    "start_time": "2025-04-09T18:09:33.605Z"
   },
   {
    "duration": 49,
    "start_time": "2025-04-09T18:09:33.759Z"
   },
   {
    "duration": 22,
    "start_time": "2025-04-09T18:09:33.810Z"
   },
   {
    "duration": 97,
    "start_time": "2025-04-09T18:09:33.834Z"
   },
   {
    "duration": 44,
    "start_time": "2025-04-09T18:09:33.933Z"
   },
   {
    "duration": 41,
    "start_time": "2025-04-09T18:09:33.983Z"
   },
   {
    "duration": 81,
    "start_time": "2025-04-09T18:09:34.025Z"
   },
   {
    "duration": 3,
    "start_time": "2025-04-09T18:09:34.110Z"
   },
   {
    "duration": 346,
    "start_time": "2025-04-09T18:09:34.115Z"
   },
   {
    "duration": 174,
    "start_time": "2025-04-09T18:09:34.462Z"
   },
   {
    "duration": 3,
    "start_time": "2025-04-09T18:09:34.638Z"
   },
   {
    "duration": 10,
    "start_time": "2025-04-09T18:09:34.642Z"
   },
   {
    "duration": 4,
    "start_time": "2025-04-09T18:09:34.653Z"
   },
   {
    "duration": 31,
    "start_time": "2025-04-09T18:09:34.658Z"
   },
   {
    "duration": 65,
    "start_time": "2025-04-09T18:09:34.691Z"
   },
   {
    "duration": 93,
    "start_time": "2025-04-09T18:09:34.758Z"
   },
   {
    "duration": 29,
    "start_time": "2025-04-09T18:09:34.852Z"
   },
   {
    "duration": 54,
    "start_time": "2025-04-09T19:08:46.309Z"
   },
   {
    "duration": 8414,
    "start_time": "2025-04-09T19:09:18.242Z"
   },
   {
    "duration": 214,
    "start_time": "2025-04-09T19:09:28.109Z"
   },
   {
    "duration": 14,
    "start_time": "2025-04-09T19:12:07.674Z"
   },
   {
    "duration": 13,
    "start_time": "2025-04-09T19:12:15.139Z"
   },
   {
    "duration": 14,
    "start_time": "2025-04-09T19:12:20.692Z"
   },
   {
    "duration": 4081,
    "start_time": "2025-04-09T19:12:31.071Z"
   },
   {
    "duration": 2343,
    "start_time": "2025-04-09T19:12:35.154Z"
   },
   {
    "duration": 13,
    "start_time": "2025-04-09T19:12:37.500Z"
   },
   {
    "duration": 39,
    "start_time": "2025-04-09T19:12:37.515Z"
   },
   {
    "duration": 93,
    "start_time": "2025-04-09T19:12:37.556Z"
   },
   {
    "duration": 28,
    "start_time": "2025-04-09T19:12:37.651Z"
   },
   {
    "duration": 154,
    "start_time": "2025-04-09T19:12:37.681Z"
   },
   {
    "duration": 106,
    "start_time": "2025-04-09T19:12:37.837Z"
   },
   {
    "duration": 107,
    "start_time": "2025-04-09T19:12:37.945Z"
   },
   {
    "duration": 112,
    "start_time": "2025-04-09T19:12:38.054Z"
   },
   {
    "duration": 9,
    "start_time": "2025-04-09T19:12:38.167Z"
   },
   {
    "duration": 23,
    "start_time": "2025-04-09T19:12:38.178Z"
   },
   {
    "duration": 41,
    "start_time": "2025-04-09T19:12:38.203Z"
   },
   {
    "duration": 12,
    "start_time": "2025-04-09T19:12:38.248Z"
   },
   {
    "duration": 44,
    "start_time": "2025-04-09T19:12:38.262Z"
   },
   {
    "duration": 60,
    "start_time": "2025-04-09T19:12:38.309Z"
   },
   {
    "duration": 10,
    "start_time": "2025-04-09T19:12:38.371Z"
   },
   {
    "duration": 36,
    "start_time": "2025-04-09T19:12:38.383Z"
   },
   {
    "duration": 39,
    "start_time": "2025-04-09T19:12:38.421Z"
   },
   {
    "duration": 19,
    "start_time": "2025-04-09T19:12:38.461Z"
   },
   {
    "duration": 24,
    "start_time": "2025-04-09T19:12:38.482Z"
   },
   {
    "duration": 19,
    "start_time": "2025-04-09T19:12:38.508Z"
   },
   {
    "duration": 11,
    "start_time": "2025-04-09T19:12:38.529Z"
   },
   {
    "duration": 36,
    "start_time": "2025-04-09T19:12:38.542Z"
   },
   {
    "duration": 9,
    "start_time": "2025-04-09T19:12:38.580Z"
   },
   {
    "duration": 245,
    "start_time": "2025-04-09T19:12:38.592Z"
   },
   {
    "duration": 11,
    "start_time": "2025-04-09T19:12:38.839Z"
   },
   {
    "duration": 94,
    "start_time": "2025-04-09T19:12:38.852Z"
   },
   {
    "duration": 18,
    "start_time": "2025-04-09T19:12:38.948Z"
   },
   {
    "duration": 29,
    "start_time": "2025-04-09T19:12:38.968Z"
   },
   {
    "duration": 208,
    "start_time": "2025-04-09T19:12:38.999Z"
   },
   {
    "duration": 40,
    "start_time": "2025-04-09T19:12:39.209Z"
   },
   {
    "duration": 2534,
    "start_time": "2025-04-09T19:12:39.251Z"
   },
   {
    "duration": 154,
    "start_time": "2025-04-09T19:12:41.787Z"
   },
   {
    "duration": 46,
    "start_time": "2025-04-09T19:12:41.943Z"
   },
   {
    "duration": 24,
    "start_time": "2025-04-09T19:12:41.991Z"
   },
   {
    "duration": 107,
    "start_time": "2025-04-09T19:12:42.017Z"
   },
   {
    "duration": 33,
    "start_time": "2025-04-09T19:12:42.126Z"
   },
   {
    "duration": 45,
    "start_time": "2025-04-09T19:12:42.161Z"
   },
   {
    "duration": 98,
    "start_time": "2025-04-09T19:12:42.208Z"
   },
   {
    "duration": 5,
    "start_time": "2025-04-09T19:12:42.310Z"
   },
   {
    "duration": 404,
    "start_time": "2025-04-09T19:12:42.317Z"
   },
   {
    "duration": 210,
    "start_time": "2025-04-09T19:12:42.723Z"
   },
   {
    "duration": 7,
    "start_time": "2025-04-09T19:12:42.935Z"
   },
   {
    "duration": 5,
    "start_time": "2025-04-09T19:12:42.944Z"
   },
   {
    "duration": 5,
    "start_time": "2025-04-09T19:12:42.952Z"
   },
   {
    "duration": 23,
    "start_time": "2025-04-09T19:12:42.959Z"
   },
   {
    "duration": 111,
    "start_time": "2025-04-09T19:12:42.985Z"
   },
   {
    "duration": 41,
    "start_time": "2025-04-09T19:12:43.098Z"
   },
   {
    "duration": 257,
    "start_time": "2025-04-09T19:13:29.907Z"
   },
   {
    "duration": 165,
    "start_time": "2025-04-09T19:13:47.719Z"
   },
   {
    "duration": 191,
    "start_time": "2025-04-09T19:14:14.135Z"
   },
   {
    "duration": 254,
    "start_time": "2025-04-09T19:15:31.609Z"
   },
   {
    "duration": 192,
    "start_time": "2025-04-09T19:15:37.947Z"
   },
   {
    "duration": 195,
    "start_time": "2025-04-09T19:16:40.521Z"
   },
   {
    "duration": 195,
    "start_time": "2025-04-09T19:16:59.674Z"
   },
   {
    "duration": 288,
    "start_time": "2025-04-09T19:17:37.370Z"
   },
   {
    "duration": 51,
    "start_time": "2025-04-10T07:05:58.321Z"
   },
   {
    "duration": 9,
    "start_time": "2025-04-10T07:06:06.256Z"
   },
   {
    "duration": 8715,
    "start_time": "2025-04-10T07:06:22.148Z"
   },
   {
    "duration": 2683,
    "start_time": "2025-04-10T07:06:30.866Z"
   },
   {
    "duration": 15,
    "start_time": "2025-04-10T07:06:33.551Z"
   },
   {
    "duration": 25,
    "start_time": "2025-04-10T07:06:33.568Z"
   },
   {
    "duration": 18,
    "start_time": "2025-04-10T07:06:33.595Z"
   },
   {
    "duration": 38,
    "start_time": "2025-04-10T07:06:33.615Z"
   },
   {
    "duration": 145,
    "start_time": "2025-04-10T07:06:33.655Z"
   },
   {
    "duration": 113,
    "start_time": "2025-04-10T07:06:33.801Z"
   },
   {
    "duration": 101,
    "start_time": "2025-04-10T07:06:33.916Z"
   },
   {
    "duration": 233,
    "start_time": "2025-04-10T07:06:34.020Z"
   },
   {
    "duration": 9,
    "start_time": "2025-04-10T07:06:34.255Z"
   },
   {
    "duration": 96,
    "start_time": "2025-04-10T07:06:34.266Z"
   },
   {
    "duration": 46,
    "start_time": "2025-04-10T07:06:34.364Z"
   },
   {
    "duration": 12,
    "start_time": "2025-04-10T07:06:34.412Z"
   },
   {
    "duration": 44,
    "start_time": "2025-04-10T07:06:34.425Z"
   },
   {
    "duration": 94,
    "start_time": "2025-04-10T07:06:34.472Z"
   },
   {
    "duration": 28,
    "start_time": "2025-04-10T07:06:34.568Z"
   },
   {
    "duration": 52,
    "start_time": "2025-04-10T07:06:34.598Z"
   },
   {
    "duration": 40,
    "start_time": "2025-04-10T07:06:34.653Z"
   },
   {
    "duration": 106,
    "start_time": "2025-04-10T07:06:34.695Z"
   },
   {
    "duration": 44,
    "start_time": "2025-04-10T07:06:34.803Z"
   },
   {
    "duration": 112,
    "start_time": "2025-04-10T07:06:34.849Z"
   },
   {
    "duration": 38,
    "start_time": "2025-04-10T07:06:34.963Z"
   },
   {
    "duration": 38,
    "start_time": "2025-04-10T07:06:35.003Z"
   },
   {
    "duration": 15,
    "start_time": "2025-04-10T07:06:35.043Z"
   },
   {
    "duration": 178,
    "start_time": "2025-04-10T07:06:35.060Z"
   },
   {
    "duration": 14,
    "start_time": "2025-04-10T07:06:35.241Z"
   },
   {
    "duration": 99,
    "start_time": "2025-04-10T07:06:35.260Z"
   },
   {
    "duration": 20,
    "start_time": "2025-04-10T07:06:35.361Z"
   },
   {
    "duration": 88,
    "start_time": "2025-04-10T07:06:35.383Z"
   },
   {
    "duration": 260,
    "start_time": "2025-04-10T07:06:35.473Z"
   },
   {
    "duration": 287,
    "start_time": "2025-04-10T07:06:35.735Z"
   },
   {
    "duration": 36,
    "start_time": "2025-04-10T07:06:36.024Z"
   },
   {
    "duration": 2762,
    "start_time": "2025-04-10T07:06:36.062Z"
   },
   {
    "duration": 147,
    "start_time": "2025-04-10T07:06:38.826Z"
   },
   {
    "duration": 57,
    "start_time": "2025-04-10T07:06:38.975Z"
   },
   {
    "duration": 22,
    "start_time": "2025-04-10T07:06:39.033Z"
   },
   {
    "duration": 93,
    "start_time": "2025-04-10T07:06:39.057Z"
   },
   {
    "duration": 27,
    "start_time": "2025-04-10T07:06:39.152Z"
   },
   {
    "duration": 59,
    "start_time": "2025-04-10T07:06:39.181Z"
   },
   {
    "duration": 86,
    "start_time": "2025-04-10T07:06:39.241Z"
   },
   {
    "duration": 5,
    "start_time": "2025-04-10T07:06:39.329Z"
   },
   {
    "duration": 364,
    "start_time": "2025-04-10T07:06:39.335Z"
   },
   {
    "duration": 188,
    "start_time": "2025-04-10T07:06:39.700Z"
   },
   {
    "duration": 4,
    "start_time": "2025-04-10T07:06:39.890Z"
   },
   {
    "duration": 71,
    "start_time": "2025-04-10T07:06:39.896Z"
   },
   {
    "duration": 174,
    "start_time": "2025-04-10T07:06:39.969Z"
   },
   {
    "duration": 18,
    "start_time": "2025-04-10T07:06:40.146Z"
   },
   {
    "duration": 70,
    "start_time": "2025-04-10T07:06:40.166Z"
   },
   {
    "duration": 67,
    "start_time": "2025-04-10T07:06:40.238Z"
   },
   {
    "duration": 247,
    "start_time": "2025-04-10T07:10:28.445Z"
   },
   {
    "duration": 362,
    "start_time": "2025-04-10T07:10:57.921Z"
   },
   {
    "duration": 250,
    "start_time": "2025-04-10T07:11:15.611Z"
   },
   {
    "duration": 245,
    "start_time": "2025-04-10T07:11:54.712Z"
   },
   {
    "duration": 269,
    "start_time": "2025-04-10T07:54:44.302Z"
   },
   {
    "duration": 254,
    "start_time": "2025-04-10T07:55:02.125Z"
   },
   {
    "duration": 277,
    "start_time": "2025-04-10T08:20:46.845Z"
   },
   {
    "duration": 268,
    "start_time": "2025-04-10T08:21:11.844Z"
   },
   {
    "duration": 285,
    "start_time": "2025-04-10T08:22:07.244Z"
   },
   {
    "duration": 139,
    "start_time": "2025-04-10T08:26:31.607Z"
   },
   {
    "duration": 9,
    "start_time": "2025-04-10T08:27:12.873Z"
   },
   {
    "duration": 9,
    "start_time": "2025-04-10T08:27:15.761Z"
   },
   {
    "duration": 14,
    "start_time": "2025-04-10T08:27:22.828Z"
   },
   {
    "duration": 1321,
    "start_time": "2025-04-10T08:28:26.502Z"
   },
   {
    "duration": 1423,
    "start_time": "2025-04-10T08:28:33.902Z"
   },
   {
    "duration": 1592,
    "start_time": "2025-04-10T08:28:44.287Z"
   },
   {
    "duration": 4243,
    "start_time": "2025-04-10T08:29:05.053Z"
   },
   {
    "duration": 3392,
    "start_time": "2025-04-10T08:29:09.298Z"
   },
   {
    "duration": 17,
    "start_time": "2025-04-10T08:29:12.692Z"
   },
   {
    "duration": 29,
    "start_time": "2025-04-10T08:29:12.711Z"
   },
   {
    "duration": 24,
    "start_time": "2025-04-10T08:29:12.742Z"
   },
   {
    "duration": 42,
    "start_time": "2025-04-10T08:29:12.767Z"
   },
   {
    "duration": 118,
    "start_time": "2025-04-10T08:29:12.811Z"
   },
   {
    "duration": 114,
    "start_time": "2025-04-10T08:29:12.931Z"
   },
   {
    "duration": 99,
    "start_time": "2025-04-10T08:29:13.046Z"
   },
   {
    "duration": 129,
    "start_time": "2025-04-10T08:29:13.149Z"
   },
   {
    "duration": 8,
    "start_time": "2025-04-10T08:29:13.280Z"
   },
   {
    "duration": 62,
    "start_time": "2025-04-10T08:29:13.290Z"
   },
   {
    "duration": 19,
    "start_time": "2025-04-10T08:29:13.354Z"
   },
   {
    "duration": 36,
    "start_time": "2025-04-10T08:29:13.375Z"
   },
   {
    "duration": 56,
    "start_time": "2025-04-10T08:29:13.412Z"
   },
   {
    "duration": 46,
    "start_time": "2025-04-10T08:29:13.470Z"
   },
   {
    "duration": 40,
    "start_time": "2025-04-10T08:29:13.521Z"
   },
   {
    "duration": 54,
    "start_time": "2025-04-10T08:29:13.562Z"
   },
   {
    "duration": 22,
    "start_time": "2025-04-10T08:29:13.618Z"
   },
   {
    "duration": 24,
    "start_time": "2025-04-10T08:29:13.642Z"
   },
   {
    "duration": 52,
    "start_time": "2025-04-10T08:29:13.667Z"
   },
   {
    "duration": 26,
    "start_time": "2025-04-10T08:29:13.721Z"
   },
   {
    "duration": 23,
    "start_time": "2025-04-10T08:29:13.750Z"
   },
   {
    "duration": 13,
    "start_time": "2025-04-10T08:29:13.775Z"
   },
   {
    "duration": 8,
    "start_time": "2025-04-10T08:29:13.791Z"
   },
   {
    "duration": 175,
    "start_time": "2025-04-10T08:29:13.801Z"
   },
   {
    "duration": 12,
    "start_time": "2025-04-10T08:29:13.978Z"
   },
   {
    "duration": 101,
    "start_time": "2025-04-10T08:29:13.994Z"
   },
   {
    "duration": 20,
    "start_time": "2025-04-10T08:29:14.096Z"
   },
   {
    "duration": 30,
    "start_time": "2025-04-10T08:29:14.120Z"
   },
   {
    "duration": 234,
    "start_time": "2025-04-10T08:29:14.152Z"
   },
   {
    "duration": 295,
    "start_time": "2025-04-10T08:29:14.388Z"
   },
   {
    "duration": 25,
    "start_time": "2025-04-10T08:29:14.685Z"
   },
   {
    "duration": 44,
    "start_time": "2025-04-10T08:29:14.713Z"
   },
   {
    "duration": 2630,
    "start_time": "2025-04-10T08:29:14.759Z"
   },
   {
    "duration": 195,
    "start_time": "2025-04-10T08:29:17.390Z"
   },
   {
    "duration": 63,
    "start_time": "2025-04-10T08:29:17.587Z"
   },
   {
    "duration": 28,
    "start_time": "2025-04-10T08:29:17.651Z"
   },
   {
    "duration": 104,
    "start_time": "2025-04-10T08:29:17.681Z"
   },
   {
    "duration": 48,
    "start_time": "2025-04-10T08:29:17.786Z"
   },
   {
    "duration": 44,
    "start_time": "2025-04-10T08:29:17.837Z"
   },
   {
    "duration": 110,
    "start_time": "2025-04-10T08:29:17.883Z"
   },
   {
    "duration": 19,
    "start_time": "2025-04-10T08:29:17.994Z"
   },
   {
    "duration": 424,
    "start_time": "2025-04-10T08:29:18.018Z"
   },
   {
    "duration": 209,
    "start_time": "2025-04-10T08:29:18.444Z"
   },
   {
    "duration": 5,
    "start_time": "2025-04-10T08:29:18.655Z"
   },
   {
    "duration": 25,
    "start_time": "2025-04-10T08:29:18.662Z"
   },
   {
    "duration": 26,
    "start_time": "2025-04-10T08:29:18.690Z"
   },
   {
    "duration": 33,
    "start_time": "2025-04-10T08:29:18.718Z"
   },
   {
    "duration": 82,
    "start_time": "2025-04-10T08:29:18.753Z"
   },
   {
    "duration": 21,
    "start_time": "2025-04-10T08:29:18.837Z"
   },
   {
    "duration": 110,
    "start_time": "2025-04-10T08:40:50.118Z"
   },
   {
    "duration": 10,
    "start_time": "2025-04-10T08:41:07.170Z"
   },
   {
    "duration": 11,
    "start_time": "2025-04-10T08:41:16.877Z"
   },
   {
    "duration": 11,
    "start_time": "2025-04-10T08:41:25.092Z"
   },
   {
    "duration": 34,
    "start_time": "2025-04-10T08:41:34.644Z"
   },
   {
    "duration": 116,
    "start_time": "2025-04-10T08:41:45.127Z"
   },
   {
    "duration": 21274,
    "start_time": "2025-04-10T08:42:41.319Z"
   },
   {
    "duration": 1334,
    "start_time": "2025-04-10T08:47:21.499Z"
   },
   {
    "duration": 271,
    "start_time": "2025-04-10T08:47:29.743Z"
   },
   {
    "duration": 284,
    "start_time": "2025-04-10T08:47:43.189Z"
   },
   {
    "duration": 4318,
    "start_time": "2025-04-10T08:49:26.119Z"
   },
   {
    "duration": 4420,
    "start_time": "2025-04-10T08:49:30.440Z"
   },
   {
    "duration": 13,
    "start_time": "2025-04-10T08:49:34.862Z"
   },
   {
    "duration": 16,
    "start_time": "2025-04-10T08:49:34.877Z"
   },
   {
    "duration": 10,
    "start_time": "2025-04-10T08:49:34.895Z"
   },
   {
    "duration": 35,
    "start_time": "2025-04-10T08:49:34.906Z"
   },
   {
    "duration": 130,
    "start_time": "2025-04-10T08:49:34.943Z"
   },
   {
    "duration": 98,
    "start_time": "2025-04-10T08:49:35.075Z"
   },
   {
    "duration": 109,
    "start_time": "2025-04-10T08:49:35.175Z"
   },
   {
    "duration": 180,
    "start_time": "2025-04-10T08:49:35.286Z"
   },
   {
    "duration": 8,
    "start_time": "2025-04-10T08:49:35.468Z"
   },
   {
    "duration": 39,
    "start_time": "2025-04-10T08:49:35.477Z"
   },
   {
    "duration": 20,
    "start_time": "2025-04-10T08:49:35.517Z"
   },
   {
    "duration": 15,
    "start_time": "2025-04-10T08:49:35.539Z"
   },
   {
    "duration": 58,
    "start_time": "2025-04-10T08:49:35.555Z"
   },
   {
    "duration": 38,
    "start_time": "2025-04-10T08:49:35.614Z"
   },
   {
    "duration": 17,
    "start_time": "2025-04-10T08:49:35.653Z"
   },
   {
    "duration": 39,
    "start_time": "2025-04-10T08:49:35.672Z"
   },
   {
    "duration": 23,
    "start_time": "2025-04-10T08:49:35.713Z"
   },
   {
    "duration": 26,
    "start_time": "2025-04-10T08:49:35.738Z"
   },
   {
    "duration": 33,
    "start_time": "2025-04-10T08:49:35.766Z"
   },
   {
    "duration": 10,
    "start_time": "2025-04-10T08:49:35.801Z"
   },
   {
    "duration": 10,
    "start_time": "2025-04-10T08:49:35.812Z"
   },
   {
    "duration": 29,
    "start_time": "2025-04-10T08:49:35.824Z"
   },
   {
    "duration": 26,
    "start_time": "2025-04-10T08:49:35.855Z"
   },
   {
    "duration": 166,
    "start_time": "2025-04-10T08:49:35.883Z"
   },
   {
    "duration": 11,
    "start_time": "2025-04-10T08:49:36.051Z"
   },
   {
    "duration": 106,
    "start_time": "2025-04-10T08:49:36.065Z"
   },
   {
    "duration": 16,
    "start_time": "2025-04-10T08:49:36.173Z"
   },
   {
    "duration": 38,
    "start_time": "2025-04-10T08:49:36.190Z"
   },
   {
    "duration": 216,
    "start_time": "2025-04-10T08:49:36.229Z"
   },
   {
    "duration": 264,
    "start_time": "2025-04-10T08:49:36.446Z"
   },
   {
    "duration": 17,
    "start_time": "2025-04-10T08:49:36.711Z"
   },
   {
    "duration": 1398,
    "start_time": "2025-04-10T08:49:36.729Z"
   },
   {
    "duration": 0,
    "start_time": "2025-04-10T08:49:38.129Z"
   },
   {
    "duration": 0,
    "start_time": "2025-04-10T08:49:38.130Z"
   },
   {
    "duration": 0,
    "start_time": "2025-04-10T08:49:38.131Z"
   },
   {
    "duration": 0,
    "start_time": "2025-04-10T08:49:38.133Z"
   },
   {
    "duration": 0,
    "start_time": "2025-04-10T08:49:38.134Z"
   },
   {
    "duration": 0,
    "start_time": "2025-04-10T08:49:38.135Z"
   },
   {
    "duration": 0,
    "start_time": "2025-04-10T08:49:38.136Z"
   },
   {
    "duration": 0,
    "start_time": "2025-04-10T08:49:38.138Z"
   },
   {
    "duration": 0,
    "start_time": "2025-04-10T08:49:38.139Z"
   },
   {
    "duration": 0,
    "start_time": "2025-04-10T08:49:38.140Z"
   },
   {
    "duration": 0,
    "start_time": "2025-04-10T08:49:38.141Z"
   },
   {
    "duration": 0,
    "start_time": "2025-04-10T08:49:38.142Z"
   },
   {
    "duration": 0,
    "start_time": "2025-04-10T08:49:38.143Z"
   },
   {
    "duration": 0,
    "start_time": "2025-04-10T08:49:38.144Z"
   },
   {
    "duration": 0,
    "start_time": "2025-04-10T08:49:38.145Z"
   },
   {
    "duration": 0,
    "start_time": "2025-04-10T08:49:38.146Z"
   },
   {
    "duration": 0,
    "start_time": "2025-04-10T08:49:38.147Z"
   },
   {
    "duration": 0,
    "start_time": "2025-04-10T08:49:38.148Z"
   },
   {
    "duration": 1486,
    "start_time": "2025-04-10T08:51:38.969Z"
   },
   {
    "duration": 1290,
    "start_time": "2025-04-10T08:51:57.068Z"
   },
   {
    "duration": 4184,
    "start_time": "2025-04-10T08:52:07.274Z"
   },
   {
    "duration": 3532,
    "start_time": "2025-04-10T08:52:11.460Z"
   },
   {
    "duration": 15,
    "start_time": "2025-04-10T08:52:14.995Z"
   },
   {
    "duration": 92,
    "start_time": "2025-04-10T08:52:15.013Z"
   },
   {
    "duration": 27,
    "start_time": "2025-04-10T08:52:15.107Z"
   },
   {
    "duration": 66,
    "start_time": "2025-04-10T08:52:15.137Z"
   },
   {
    "duration": 257,
    "start_time": "2025-04-10T08:52:15.206Z"
   },
   {
    "duration": 145,
    "start_time": "2025-04-10T08:52:15.465Z"
   },
   {
    "duration": 103,
    "start_time": "2025-04-10T08:52:15.612Z"
   },
   {
    "duration": 120,
    "start_time": "2025-04-10T08:52:15.717Z"
   },
   {
    "duration": 7,
    "start_time": "2025-04-10T08:52:15.839Z"
   },
   {
    "duration": 49,
    "start_time": "2025-04-10T08:52:15.848Z"
   },
   {
    "duration": 17,
    "start_time": "2025-04-10T08:52:15.899Z"
   },
   {
    "duration": 12,
    "start_time": "2025-04-10T08:52:15.918Z"
   },
   {
    "duration": 93,
    "start_time": "2025-04-10T08:52:15.932Z"
   },
   {
    "duration": 44,
    "start_time": "2025-04-10T08:52:16.028Z"
   },
   {
    "duration": 23,
    "start_time": "2025-04-10T08:52:16.073Z"
   },
   {
    "duration": 46,
    "start_time": "2025-04-10T08:52:16.098Z"
   },
   {
    "duration": 49,
    "start_time": "2025-04-10T08:52:16.146Z"
   },
   {
    "duration": 22,
    "start_time": "2025-04-10T08:52:16.198Z"
   },
   {
    "duration": 35,
    "start_time": "2025-04-10T08:52:16.222Z"
   },
   {
    "duration": 16,
    "start_time": "2025-04-10T08:52:16.259Z"
   },
   {
    "duration": 22,
    "start_time": "2025-04-10T08:52:16.277Z"
   },
   {
    "duration": 118,
    "start_time": "2025-04-10T08:52:16.301Z"
   },
   {
    "duration": 163,
    "start_time": "2025-04-10T08:52:16.421Z"
   },
   {
    "duration": 171,
    "start_time": "2025-04-10T08:52:16.586Z"
   },
   {
    "duration": 12,
    "start_time": "2025-04-10T08:52:16.760Z"
   },
   {
    "duration": 123,
    "start_time": "2025-04-10T08:52:16.775Z"
   },
   {
    "duration": 17,
    "start_time": "2025-04-10T08:52:16.900Z"
   },
   {
    "duration": 45,
    "start_time": "2025-04-10T08:52:16.919Z"
   },
   {
    "duration": 213,
    "start_time": "2025-04-10T08:52:16.966Z"
   },
   {
    "duration": 286,
    "start_time": "2025-04-10T08:52:17.180Z"
   },
   {
    "duration": 17,
    "start_time": "2025-04-10T08:52:17.468Z"
   },
   {
    "duration": 2102,
    "start_time": "2025-04-10T08:52:17.486Z"
   },
   {
    "duration": 0,
    "start_time": "2025-04-10T08:52:19.590Z"
   },
   {
    "duration": 0,
    "start_time": "2025-04-10T08:52:19.591Z"
   },
   {
    "duration": 0,
    "start_time": "2025-04-10T08:52:19.593Z"
   },
   {
    "duration": 0,
    "start_time": "2025-04-10T08:52:19.595Z"
   },
   {
    "duration": 0,
    "start_time": "2025-04-10T08:52:19.604Z"
   },
   {
    "duration": 0,
    "start_time": "2025-04-10T08:52:19.605Z"
   },
   {
    "duration": 0,
    "start_time": "2025-04-10T08:52:19.606Z"
   },
   {
    "duration": 0,
    "start_time": "2025-04-10T08:52:19.607Z"
   },
   {
    "duration": 0,
    "start_time": "2025-04-10T08:52:19.608Z"
   },
   {
    "duration": 0,
    "start_time": "2025-04-10T08:52:19.609Z"
   },
   {
    "duration": 0,
    "start_time": "2025-04-10T08:52:19.610Z"
   },
   {
    "duration": 0,
    "start_time": "2025-04-10T08:52:19.612Z"
   },
   {
    "duration": 0,
    "start_time": "2025-04-10T08:52:19.613Z"
   },
   {
    "duration": 0,
    "start_time": "2025-04-10T08:52:19.614Z"
   },
   {
    "duration": 0,
    "start_time": "2025-04-10T08:52:19.615Z"
   },
   {
    "duration": 0,
    "start_time": "2025-04-10T08:52:19.616Z"
   },
   {
    "duration": 0,
    "start_time": "2025-04-10T08:52:19.617Z"
   },
   {
    "duration": 0,
    "start_time": "2025-04-10T08:52:19.618Z"
   },
   {
    "duration": 1338,
    "start_time": "2025-04-10T08:54:24.231Z"
   },
   {
    "duration": 4218,
    "start_time": "2025-04-10T08:54:40.974Z"
   },
   {
    "duration": 3771,
    "start_time": "2025-04-10T08:54:45.194Z"
   },
   {
    "duration": 12,
    "start_time": "2025-04-10T08:54:48.968Z"
   },
   {
    "duration": 19,
    "start_time": "2025-04-10T08:54:48.981Z"
   },
   {
    "duration": 9,
    "start_time": "2025-04-10T08:54:49.002Z"
   },
   {
    "duration": 24,
    "start_time": "2025-04-10T08:54:49.013Z"
   },
   {
    "duration": 111,
    "start_time": "2025-04-10T08:54:49.039Z"
   },
   {
    "duration": 104,
    "start_time": "2025-04-10T08:54:49.152Z"
   },
   {
    "duration": 105,
    "start_time": "2025-04-10T08:54:49.258Z"
   },
   {
    "duration": 103,
    "start_time": "2025-04-10T08:54:49.364Z"
   },
   {
    "duration": 8,
    "start_time": "2025-04-10T08:54:49.468Z"
   },
   {
    "duration": 34,
    "start_time": "2025-04-10T08:54:49.477Z"
   },
   {
    "duration": 16,
    "start_time": "2025-04-10T08:54:49.512Z"
   },
   {
    "duration": 34,
    "start_time": "2025-04-10T08:54:49.530Z"
   },
   {
    "duration": 47,
    "start_time": "2025-04-10T08:54:49.566Z"
   },
   {
    "duration": 38,
    "start_time": "2025-04-10T08:54:49.615Z"
   },
   {
    "duration": 7,
    "start_time": "2025-04-10T08:54:49.654Z"
   },
   {
    "duration": 42,
    "start_time": "2025-04-10T08:54:49.663Z"
   },
   {
    "duration": 21,
    "start_time": "2025-04-10T08:54:49.707Z"
   },
   {
    "duration": 19,
    "start_time": "2025-04-10T08:54:49.730Z"
   },
   {
    "duration": 15,
    "start_time": "2025-04-10T08:54:49.750Z"
   },
   {
    "duration": 8,
    "start_time": "2025-04-10T08:54:49.767Z"
   },
   {
    "duration": 27,
    "start_time": "2025-04-10T08:54:49.779Z"
   },
   {
    "duration": 18,
    "start_time": "2025-04-10T08:54:49.808Z"
   },
   {
    "duration": 7,
    "start_time": "2025-04-10T08:54:49.827Z"
   },
   {
    "duration": 169,
    "start_time": "2025-04-10T08:54:49.835Z"
   },
   {
    "duration": 11,
    "start_time": "2025-04-10T08:54:50.005Z"
   },
   {
    "duration": 100,
    "start_time": "2025-04-10T08:54:50.017Z"
   },
   {
    "duration": 17,
    "start_time": "2025-04-10T08:54:50.118Z"
   },
   {
    "duration": 29,
    "start_time": "2025-04-10T08:54:50.137Z"
   },
   {
    "duration": 234,
    "start_time": "2025-04-10T08:54:50.167Z"
   },
   {
    "duration": 24886,
    "start_time": "2025-04-10T08:54:50.402Z"
   },
   {
    "duration": 291,
    "start_time": "2025-04-10T08:55:15.289Z"
   },
   {
    "duration": 29,
    "start_time": "2025-04-10T08:55:15.582Z"
   },
   {
    "duration": 1428,
    "start_time": "2025-04-10T08:55:15.613Z"
   },
   {
    "duration": 0,
    "start_time": "2025-04-10T08:55:17.044Z"
   },
   {
    "duration": 0,
    "start_time": "2025-04-10T08:55:17.045Z"
   },
   {
    "duration": 0,
    "start_time": "2025-04-10T08:55:17.047Z"
   },
   {
    "duration": 0,
    "start_time": "2025-04-10T08:55:17.048Z"
   },
   {
    "duration": 0,
    "start_time": "2025-04-10T08:55:17.050Z"
   },
   {
    "duration": 0,
    "start_time": "2025-04-10T08:55:17.052Z"
   },
   {
    "duration": 0,
    "start_time": "2025-04-10T08:55:17.053Z"
   },
   {
    "duration": 0,
    "start_time": "2025-04-10T08:55:17.055Z"
   },
   {
    "duration": 0,
    "start_time": "2025-04-10T08:55:17.057Z"
   },
   {
    "duration": 0,
    "start_time": "2025-04-10T08:55:17.058Z"
   },
   {
    "duration": 0,
    "start_time": "2025-04-10T08:55:17.060Z"
   },
   {
    "duration": 0,
    "start_time": "2025-04-10T08:55:17.062Z"
   },
   {
    "duration": 0,
    "start_time": "2025-04-10T08:55:17.063Z"
   },
   {
    "duration": 0,
    "start_time": "2025-04-10T08:55:17.065Z"
   },
   {
    "duration": 0,
    "start_time": "2025-04-10T08:55:17.066Z"
   },
   {
    "duration": 0,
    "start_time": "2025-04-10T08:55:17.068Z"
   },
   {
    "duration": 0,
    "start_time": "2025-04-10T08:55:17.104Z"
   },
   {
    "duration": 0,
    "start_time": "2025-04-10T08:55:17.106Z"
   },
   {
    "duration": 1409,
    "start_time": "2025-04-10T08:55:38.603Z"
   },
   {
    "duration": 3837,
    "start_time": "2025-04-10T08:55:47.846Z"
   },
   {
    "duration": 2563,
    "start_time": "2025-04-10T08:55:51.685Z"
   },
   {
    "duration": 12,
    "start_time": "2025-04-10T08:55:54.250Z"
   },
   {
    "duration": 69,
    "start_time": "2025-04-10T08:55:54.263Z"
   },
   {
    "duration": 51,
    "start_time": "2025-04-10T08:55:54.334Z"
   },
   {
    "duration": 235,
    "start_time": "2025-04-10T08:55:54.386Z"
   },
   {
    "duration": 109,
    "start_time": "2025-04-10T08:55:54.624Z"
   },
   {
    "duration": 109,
    "start_time": "2025-04-10T08:55:54.735Z"
   },
   {
    "duration": 95,
    "start_time": "2025-04-10T08:55:54.846Z"
   },
   {
    "duration": 108,
    "start_time": "2025-04-10T08:55:54.944Z"
   },
   {
    "duration": 8,
    "start_time": "2025-04-10T08:55:55.053Z"
   },
   {
    "duration": 21,
    "start_time": "2025-04-10T08:55:55.063Z"
   },
   {
    "duration": 33,
    "start_time": "2025-04-10T08:55:55.086Z"
   },
   {
    "duration": 13,
    "start_time": "2025-04-10T08:55:55.121Z"
   },
   {
    "duration": 48,
    "start_time": "2025-04-10T08:55:55.136Z"
   },
   {
    "duration": 50,
    "start_time": "2025-04-10T08:55:55.186Z"
   },
   {
    "duration": 169,
    "start_time": "2025-04-10T08:55:55.238Z"
   },
   {
    "duration": 38,
    "start_time": "2025-04-10T08:55:55.409Z"
   },
   {
    "duration": 77,
    "start_time": "2025-04-10T08:55:55.449Z"
   },
   {
    "duration": 12,
    "start_time": "2025-04-10T08:55:55.528Z"
   },
   {
    "duration": 14,
    "start_time": "2025-04-10T08:55:55.541Z"
   },
   {
    "duration": 11,
    "start_time": "2025-04-10T08:55:55.557Z"
   },
   {
    "duration": 17,
    "start_time": "2025-04-10T08:55:55.570Z"
   },
   {
    "duration": 10,
    "start_time": "2025-04-10T08:55:55.604Z"
   },
   {
    "duration": 13,
    "start_time": "2025-04-10T08:55:55.616Z"
   },
   {
    "duration": 193,
    "start_time": "2025-04-10T08:55:55.630Z"
   },
   {
    "duration": 12,
    "start_time": "2025-04-10T08:55:55.825Z"
   },
   {
    "duration": 92,
    "start_time": "2025-04-10T08:55:55.841Z"
   },
   {
    "duration": 16,
    "start_time": "2025-04-10T08:55:55.935Z"
   },
   {
    "duration": 29,
    "start_time": "2025-04-10T08:55:55.952Z"
   },
   {
    "duration": 212,
    "start_time": "2025-04-10T08:55:56.003Z"
   },
   {
    "duration": 360,
    "start_time": "2025-04-10T08:55:56.217Z"
   },
   {
    "duration": 260,
    "start_time": "2025-04-10T08:55:56.579Z"
   },
   {
    "duration": 16,
    "start_time": "2025-04-10T08:55:56.840Z"
   },
   {
    "duration": 1472,
    "start_time": "2025-04-10T08:55:56.858Z"
   },
   {
    "duration": 0,
    "start_time": "2025-04-10T08:55:58.331Z"
   },
   {
    "duration": 0,
    "start_time": "2025-04-10T08:55:58.332Z"
   },
   {
    "duration": 0,
    "start_time": "2025-04-10T08:55:58.334Z"
   },
   {
    "duration": 0,
    "start_time": "2025-04-10T08:55:58.335Z"
   },
   {
    "duration": 0,
    "start_time": "2025-04-10T08:55:58.336Z"
   },
   {
    "duration": 0,
    "start_time": "2025-04-10T08:55:58.337Z"
   },
   {
    "duration": 0,
    "start_time": "2025-04-10T08:55:58.338Z"
   },
   {
    "duration": 0,
    "start_time": "2025-04-10T08:55:58.339Z"
   },
   {
    "duration": 0,
    "start_time": "2025-04-10T08:55:58.340Z"
   },
   {
    "duration": 0,
    "start_time": "2025-04-10T08:55:58.341Z"
   },
   {
    "duration": 0,
    "start_time": "2025-04-10T08:55:58.342Z"
   },
   {
    "duration": 0,
    "start_time": "2025-04-10T08:55:58.343Z"
   },
   {
    "duration": 0,
    "start_time": "2025-04-10T08:55:58.344Z"
   },
   {
    "duration": 0,
    "start_time": "2025-04-10T08:55:58.345Z"
   },
   {
    "duration": 0,
    "start_time": "2025-04-10T08:55:58.346Z"
   },
   {
    "duration": 0,
    "start_time": "2025-04-10T08:55:58.348Z"
   },
   {
    "duration": 0,
    "start_time": "2025-04-10T08:55:58.348Z"
   },
   {
    "duration": 0,
    "start_time": "2025-04-10T08:55:58.350Z"
   },
   {
    "duration": 1514,
    "start_time": "2025-04-10T08:57:52.292Z"
   },
   {
    "duration": 3964,
    "start_time": "2025-04-10T08:57:59.332Z"
   },
   {
    "duration": 5565,
    "start_time": "2025-04-10T08:58:03.299Z"
   },
   {
    "duration": 12,
    "start_time": "2025-04-10T08:58:08.866Z"
   },
   {
    "duration": 37,
    "start_time": "2025-04-10T08:58:08.880Z"
   },
   {
    "duration": 33,
    "start_time": "2025-04-10T08:58:08.919Z"
   },
   {
    "duration": 24,
    "start_time": "2025-04-10T08:58:08.954Z"
   },
   {
    "duration": 107,
    "start_time": "2025-04-10T08:58:08.979Z"
   },
   {
    "duration": 107,
    "start_time": "2025-04-10T08:58:09.088Z"
   },
   {
    "duration": 107,
    "start_time": "2025-04-10T08:58:09.197Z"
   },
   {
    "duration": 109,
    "start_time": "2025-04-10T08:58:09.307Z"
   },
   {
    "duration": 9,
    "start_time": "2025-04-10T08:58:09.418Z"
   },
   {
    "duration": 35,
    "start_time": "2025-04-10T08:58:09.428Z"
   },
   {
    "duration": 31,
    "start_time": "2025-04-10T08:58:09.465Z"
   },
   {
    "duration": 22,
    "start_time": "2025-04-10T08:58:09.497Z"
   },
   {
    "duration": 51,
    "start_time": "2025-04-10T08:58:09.521Z"
   },
   {
    "duration": 43,
    "start_time": "2025-04-10T08:58:09.574Z"
   },
   {
    "duration": 13,
    "start_time": "2025-04-10T08:58:09.619Z"
   },
   {
    "duration": 50,
    "start_time": "2025-04-10T08:58:09.634Z"
   },
   {
    "duration": 21,
    "start_time": "2025-04-10T08:58:09.685Z"
   },
   {
    "duration": 12,
    "start_time": "2025-04-10T08:58:09.708Z"
   },
   {
    "duration": 15,
    "start_time": "2025-04-10T08:58:09.722Z"
   },
   {
    "duration": 25,
    "start_time": "2025-04-10T08:58:09.739Z"
   },
   {
    "duration": 12,
    "start_time": "2025-04-10T08:58:09.766Z"
   },
   {
    "duration": 12,
    "start_time": "2025-04-10T08:58:09.780Z"
   },
   {
    "duration": 11,
    "start_time": "2025-04-10T08:58:09.794Z"
   },
   {
    "duration": 171,
    "start_time": "2025-04-10T08:58:09.807Z"
   },
   {
    "duration": 12,
    "start_time": "2025-04-10T08:58:09.980Z"
   },
   {
    "duration": 91,
    "start_time": "2025-04-10T08:58:10.004Z"
   },
   {
    "duration": 16,
    "start_time": "2025-04-10T08:58:10.097Z"
   },
   {
    "duration": 28,
    "start_time": "2025-04-10T08:58:10.115Z"
   },
   {
    "duration": 225,
    "start_time": "2025-04-10T08:58:10.145Z"
   },
   {
    "duration": 394,
    "start_time": "2025-04-10T08:58:10.371Z"
   },
   {
    "duration": 250,
    "start_time": "2025-04-10T08:58:10.766Z"
   },
   {
    "duration": 16,
    "start_time": "2025-04-10T08:58:11.017Z"
   },
   {
    "duration": 1458,
    "start_time": "2025-04-10T08:58:11.034Z"
   },
   {
    "duration": 0,
    "start_time": "2025-04-10T08:58:12.493Z"
   },
   {
    "duration": 0,
    "start_time": "2025-04-10T08:58:12.495Z"
   },
   {
    "duration": 0,
    "start_time": "2025-04-10T08:58:12.504Z"
   },
   {
    "duration": 0,
    "start_time": "2025-04-10T08:58:12.505Z"
   },
   {
    "duration": 0,
    "start_time": "2025-04-10T08:58:12.506Z"
   },
   {
    "duration": 0,
    "start_time": "2025-04-10T08:58:12.507Z"
   },
   {
    "duration": 0,
    "start_time": "2025-04-10T08:58:12.508Z"
   },
   {
    "duration": 0,
    "start_time": "2025-04-10T08:58:12.510Z"
   },
   {
    "duration": 0,
    "start_time": "2025-04-10T08:58:12.511Z"
   },
   {
    "duration": 0,
    "start_time": "2025-04-10T08:58:12.512Z"
   },
   {
    "duration": 0,
    "start_time": "2025-04-10T08:58:12.513Z"
   },
   {
    "duration": 0,
    "start_time": "2025-04-10T08:58:12.514Z"
   },
   {
    "duration": 0,
    "start_time": "2025-04-10T08:58:12.516Z"
   },
   {
    "duration": 0,
    "start_time": "2025-04-10T08:58:12.516Z"
   },
   {
    "duration": 0,
    "start_time": "2025-04-10T08:58:12.518Z"
   },
   {
    "duration": 0,
    "start_time": "2025-04-10T08:58:12.519Z"
   },
   {
    "duration": 0,
    "start_time": "2025-04-10T08:58:12.520Z"
   },
   {
    "duration": 0,
    "start_time": "2025-04-10T08:58:12.521Z"
   },
   {
    "duration": 1397,
    "start_time": "2025-04-10T08:59:49.625Z"
   },
   {
    "duration": 3952,
    "start_time": "2025-04-10T08:59:57.147Z"
   },
   {
    "duration": 3508,
    "start_time": "2025-04-10T09:00:01.101Z"
   },
   {
    "duration": 12,
    "start_time": "2025-04-10T09:00:04.611Z"
   },
   {
    "duration": 64,
    "start_time": "2025-04-10T09:00:04.625Z"
   },
   {
    "duration": 13,
    "start_time": "2025-04-10T09:00:04.690Z"
   },
   {
    "duration": 23,
    "start_time": "2025-04-10T09:00:04.705Z"
   },
   {
    "duration": 113,
    "start_time": "2025-04-10T09:00:04.730Z"
   },
   {
    "duration": 105,
    "start_time": "2025-04-10T09:00:04.845Z"
   },
   {
    "duration": 106,
    "start_time": "2025-04-10T09:00:04.951Z"
   },
   {
    "duration": 101,
    "start_time": "2025-04-10T09:00:05.059Z"
   },
   {
    "duration": 8,
    "start_time": "2025-04-10T09:00:05.162Z"
   },
   {
    "duration": 68,
    "start_time": "2025-04-10T09:00:05.171Z"
   },
   {
    "duration": 38,
    "start_time": "2025-04-10T09:00:05.241Z"
   },
   {
    "duration": 30,
    "start_time": "2025-04-10T09:00:05.281Z"
   },
   {
    "duration": 101,
    "start_time": "2025-04-10T09:00:05.313Z"
   },
   {
    "duration": 39,
    "start_time": "2025-04-10T09:00:05.415Z"
   },
   {
    "duration": 59,
    "start_time": "2025-04-10T09:00:05.456Z"
   },
   {
    "duration": 57,
    "start_time": "2025-04-10T09:00:05.517Z"
   },
   {
    "duration": 34,
    "start_time": "2025-04-10T09:00:05.576Z"
   },
   {
    "duration": 10,
    "start_time": "2025-04-10T09:00:05.612Z"
   },
   {
    "duration": 63,
    "start_time": "2025-04-10T09:00:05.624Z"
   },
   {
    "duration": 9,
    "start_time": "2025-04-10T09:00:05.689Z"
   },
   {
    "duration": 21,
    "start_time": "2025-04-10T09:00:05.700Z"
   },
   {
    "duration": 63,
    "start_time": "2025-04-10T09:00:05.723Z"
   },
   {
    "duration": 10,
    "start_time": "2025-04-10T09:00:05.788Z"
   },
   {
    "duration": 165,
    "start_time": "2025-04-10T09:00:05.800Z"
   },
   {
    "duration": 11,
    "start_time": "2025-04-10T09:00:05.967Z"
   },
   {
    "duration": 95,
    "start_time": "2025-04-10T09:00:05.982Z"
   },
   {
    "duration": 16,
    "start_time": "2025-04-10T09:00:06.078Z"
   },
   {
    "duration": 41,
    "start_time": "2025-04-10T09:00:06.103Z"
   },
   {
    "duration": 216,
    "start_time": "2025-04-10T09:00:06.146Z"
   },
   {
    "duration": 425,
    "start_time": "2025-04-10T09:00:06.364Z"
   },
   {
    "duration": 255,
    "start_time": "2025-04-10T09:00:06.790Z"
   },
   {
    "duration": 15,
    "start_time": "2025-04-10T09:00:07.047Z"
   },
   {
    "duration": 1514,
    "start_time": "2025-04-10T09:00:07.064Z"
   },
   {
    "duration": 0,
    "start_time": "2025-04-10T09:00:08.580Z"
   },
   {
    "duration": 0,
    "start_time": "2025-04-10T09:00:08.581Z"
   },
   {
    "duration": 0,
    "start_time": "2025-04-10T09:00:08.582Z"
   },
   {
    "duration": 0,
    "start_time": "2025-04-10T09:00:08.583Z"
   },
   {
    "duration": 0,
    "start_time": "2025-04-10T09:00:08.585Z"
   },
   {
    "duration": 0,
    "start_time": "2025-04-10T09:00:08.586Z"
   },
   {
    "duration": 0,
    "start_time": "2025-04-10T09:00:08.604Z"
   },
   {
    "duration": 0,
    "start_time": "2025-04-10T09:00:08.605Z"
   },
   {
    "duration": 0,
    "start_time": "2025-04-10T09:00:08.606Z"
   },
   {
    "duration": 0,
    "start_time": "2025-04-10T09:00:08.608Z"
   },
   {
    "duration": 0,
    "start_time": "2025-04-10T09:00:08.609Z"
   },
   {
    "duration": 0,
    "start_time": "2025-04-10T09:00:08.610Z"
   },
   {
    "duration": 0,
    "start_time": "2025-04-10T09:00:08.611Z"
   },
   {
    "duration": 0,
    "start_time": "2025-04-10T09:00:08.613Z"
   },
   {
    "duration": 0,
    "start_time": "2025-04-10T09:00:08.614Z"
   },
   {
    "duration": 0,
    "start_time": "2025-04-10T09:00:08.615Z"
   },
   {
    "duration": 0,
    "start_time": "2025-04-10T09:00:08.616Z"
   },
   {
    "duration": 0,
    "start_time": "2025-04-10T09:00:08.617Z"
   },
   {
    "duration": 1399,
    "start_time": "2025-04-10T09:01:22.152Z"
   },
   {
    "duration": 3992,
    "start_time": "2025-04-10T09:01:33.344Z"
   },
   {
    "duration": 5276,
    "start_time": "2025-04-10T09:01:37.338Z"
   },
   {
    "duration": 14,
    "start_time": "2025-04-10T09:01:42.615Z"
   },
   {
    "duration": 20,
    "start_time": "2025-04-10T09:01:42.631Z"
   },
   {
    "duration": 18,
    "start_time": "2025-04-10T09:01:42.653Z"
   },
   {
    "duration": 53,
    "start_time": "2025-04-10T09:01:42.673Z"
   },
   {
    "duration": 112,
    "start_time": "2025-04-10T09:01:42.728Z"
   },
   {
    "duration": 102,
    "start_time": "2025-04-10T09:01:42.842Z"
   },
   {
    "duration": 105,
    "start_time": "2025-04-10T09:01:42.946Z"
   },
   {
    "duration": 109,
    "start_time": "2025-04-10T09:01:43.054Z"
   },
   {
    "duration": 8,
    "start_time": "2025-04-10T09:01:43.166Z"
   },
   {
    "duration": 37,
    "start_time": "2025-04-10T09:01:43.175Z"
   },
   {
    "duration": 21,
    "start_time": "2025-04-10T09:01:43.213Z"
   },
   {
    "duration": 9,
    "start_time": "2025-04-10T09:01:43.236Z"
   },
   {
    "duration": 207,
    "start_time": "2025-04-10T09:01:43.247Z"
   },
   {
    "duration": 48,
    "start_time": "2025-04-10T09:01:43.456Z"
   },
   {
    "duration": 9,
    "start_time": "2025-04-10T09:01:43.505Z"
   },
   {
    "duration": 32,
    "start_time": "2025-04-10T09:01:43.515Z"
   },
   {
    "duration": 21,
    "start_time": "2025-04-10T09:01:43.549Z"
   },
   {
    "duration": 40,
    "start_time": "2025-04-10T09:01:43.572Z"
   },
   {
    "duration": 24,
    "start_time": "2025-04-10T09:01:43.614Z"
   },
   {
    "duration": 10,
    "start_time": "2025-04-10T09:01:43.640Z"
   },
   {
    "duration": 21,
    "start_time": "2025-04-10T09:01:43.652Z"
   },
   {
    "duration": 20,
    "start_time": "2025-04-10T09:01:43.675Z"
   },
   {
    "duration": 7,
    "start_time": "2025-04-10T09:01:43.697Z"
   },
   {
    "duration": 164,
    "start_time": "2025-04-10T09:01:43.705Z"
   },
   {
    "duration": 11,
    "start_time": "2025-04-10T09:01:43.871Z"
   },
   {
    "duration": 96,
    "start_time": "2025-04-10T09:01:43.886Z"
   },
   {
    "duration": 20,
    "start_time": "2025-04-10T09:01:43.984Z"
   },
   {
    "duration": 29,
    "start_time": "2025-04-10T09:01:44.006Z"
   },
   {
    "duration": 225,
    "start_time": "2025-04-10T09:01:44.037Z"
   },
   {
    "duration": 325,
    "start_time": "2025-04-10T09:01:44.263Z"
   },
   {
    "duration": 284,
    "start_time": "2025-04-10T09:01:44.589Z"
   },
   {
    "duration": 16,
    "start_time": "2025-04-10T09:01:44.875Z"
   },
   {
    "duration": 1508,
    "start_time": "2025-04-10T09:01:44.903Z"
   },
   {
    "duration": 0,
    "start_time": "2025-04-10T09:01:46.413Z"
   },
   {
    "duration": 0,
    "start_time": "2025-04-10T09:01:46.414Z"
   },
   {
    "duration": 0,
    "start_time": "2025-04-10T09:01:46.415Z"
   },
   {
    "duration": 0,
    "start_time": "2025-04-10T09:01:46.417Z"
   },
   {
    "duration": 0,
    "start_time": "2025-04-10T09:01:46.418Z"
   },
   {
    "duration": 0,
    "start_time": "2025-04-10T09:01:46.419Z"
   },
   {
    "duration": 0,
    "start_time": "2025-04-10T09:01:46.421Z"
   },
   {
    "duration": 0,
    "start_time": "2025-04-10T09:01:46.422Z"
   },
   {
    "duration": 0,
    "start_time": "2025-04-10T09:01:46.423Z"
   },
   {
    "duration": 0,
    "start_time": "2025-04-10T09:01:46.424Z"
   },
   {
    "duration": 0,
    "start_time": "2025-04-10T09:01:46.425Z"
   },
   {
    "duration": 0,
    "start_time": "2025-04-10T09:01:46.426Z"
   },
   {
    "duration": 0,
    "start_time": "2025-04-10T09:01:46.427Z"
   },
   {
    "duration": 0,
    "start_time": "2025-04-10T09:01:46.429Z"
   },
   {
    "duration": 0,
    "start_time": "2025-04-10T09:01:46.430Z"
   },
   {
    "duration": 0,
    "start_time": "2025-04-10T09:01:46.431Z"
   },
   {
    "duration": 0,
    "start_time": "2025-04-10T09:01:46.432Z"
   },
   {
    "duration": 0,
    "start_time": "2025-04-10T09:01:46.433Z"
   },
   {
    "duration": 1754,
    "start_time": "2025-04-10T09:05:00.924Z"
   },
   {
    "duration": 4069,
    "start_time": "2025-04-10T09:05:07.363Z"
   },
   {
    "duration": 3323,
    "start_time": "2025-04-10T09:05:11.434Z"
   },
   {
    "duration": 14,
    "start_time": "2025-04-10T09:05:14.759Z"
   },
   {
    "duration": 25,
    "start_time": "2025-04-10T09:05:14.776Z"
   },
   {
    "duration": 12,
    "start_time": "2025-04-10T09:05:14.803Z"
   },
   {
    "duration": 26,
    "start_time": "2025-04-10T09:05:14.817Z"
   },
   {
    "duration": 123,
    "start_time": "2025-04-10T09:05:14.845Z"
   },
   {
    "duration": 112,
    "start_time": "2025-04-10T09:05:14.970Z"
   },
   {
    "duration": 105,
    "start_time": "2025-04-10T09:05:15.084Z"
   },
   {
    "duration": 115,
    "start_time": "2025-04-10T09:05:15.192Z"
   },
   {
    "duration": 8,
    "start_time": "2025-04-10T09:05:15.310Z"
   },
   {
    "duration": 149,
    "start_time": "2025-04-10T09:05:15.320Z"
   },
   {
    "duration": 37,
    "start_time": "2025-04-10T09:05:15.471Z"
   },
   {
    "duration": 19,
    "start_time": "2025-04-10T09:05:15.510Z"
   },
   {
    "duration": 60,
    "start_time": "2025-04-10T09:05:15.531Z"
   },
   {
    "duration": 41,
    "start_time": "2025-04-10T09:05:15.593Z"
   },
   {
    "duration": 8,
    "start_time": "2025-04-10T09:05:15.635Z"
   },
   {
    "duration": 62,
    "start_time": "2025-04-10T09:05:15.645Z"
   },
   {
    "duration": 47,
    "start_time": "2025-04-10T09:05:15.708Z"
   },
   {
    "duration": 70,
    "start_time": "2025-04-10T09:05:15.757Z"
   },
   {
    "duration": 24,
    "start_time": "2025-04-10T09:05:15.828Z"
   },
   {
    "duration": 12,
    "start_time": "2025-04-10T09:05:15.854Z"
   },
   {
    "duration": 12,
    "start_time": "2025-04-10T09:05:15.868Z"
   },
   {
    "duration": 26,
    "start_time": "2025-04-10T09:05:15.881Z"
   },
   {
    "duration": 11,
    "start_time": "2025-04-10T09:05:15.909Z"
   },
   {
    "duration": 169,
    "start_time": "2025-04-10T09:05:15.922Z"
   },
   {
    "duration": 15,
    "start_time": "2025-04-10T09:05:16.093Z"
   },
   {
    "duration": 93,
    "start_time": "2025-04-10T09:05:16.112Z"
   },
   {
    "duration": 17,
    "start_time": "2025-04-10T09:05:16.207Z"
   },
   {
    "duration": 44,
    "start_time": "2025-04-10T09:05:16.225Z"
   },
   {
    "duration": 213,
    "start_time": "2025-04-10T09:05:16.271Z"
   },
   {
    "duration": 350,
    "start_time": "2025-04-10T09:05:16.486Z"
   },
   {
    "duration": 0,
    "start_time": "2025-04-10T09:05:16.837Z"
   },
   {
    "duration": 0,
    "start_time": "2025-04-10T09:05:16.838Z"
   },
   {
    "duration": 0,
    "start_time": "2025-04-10T09:05:16.840Z"
   },
   {
    "duration": 0,
    "start_time": "2025-04-10T09:05:16.841Z"
   },
   {
    "duration": 0,
    "start_time": "2025-04-10T09:05:16.842Z"
   },
   {
    "duration": 0,
    "start_time": "2025-04-10T09:05:16.843Z"
   },
   {
    "duration": 0,
    "start_time": "2025-04-10T09:05:16.845Z"
   },
   {
    "duration": 0,
    "start_time": "2025-04-10T09:05:16.846Z"
   },
   {
    "duration": 0,
    "start_time": "2025-04-10T09:05:16.846Z"
   },
   {
    "duration": 0,
    "start_time": "2025-04-10T09:05:16.848Z"
   },
   {
    "duration": 0,
    "start_time": "2025-04-10T09:05:16.849Z"
   },
   {
    "duration": 0,
    "start_time": "2025-04-10T09:05:16.850Z"
   },
   {
    "duration": 0,
    "start_time": "2025-04-10T09:05:16.851Z"
   },
   {
    "duration": 0,
    "start_time": "2025-04-10T09:05:16.851Z"
   },
   {
    "duration": 0,
    "start_time": "2025-04-10T09:05:16.852Z"
   },
   {
    "duration": 0,
    "start_time": "2025-04-10T09:05:16.853Z"
   },
   {
    "duration": 0,
    "start_time": "2025-04-10T09:05:16.854Z"
   },
   {
    "duration": 0,
    "start_time": "2025-04-10T09:05:16.856Z"
   },
   {
    "duration": 0,
    "start_time": "2025-04-10T09:05:16.857Z"
   },
   {
    "duration": 0,
    "start_time": "2025-04-10T09:05:16.858Z"
   },
   {
    "duration": 0,
    "start_time": "2025-04-10T09:05:16.859Z"
   },
   {
    "duration": 302,
    "start_time": "2025-04-10T09:07:56.948Z"
   },
   {
    "duration": 16,
    "start_time": "2025-04-10T09:09:07.299Z"
   },
   {
    "duration": 4759,
    "start_time": "2025-04-10T09:14:20.944Z"
   },
   {
    "duration": 3674,
    "start_time": "2025-04-10T09:14:25.706Z"
   },
   {
    "duration": 14,
    "start_time": "2025-04-10T09:14:29.381Z"
   },
   {
    "duration": 98,
    "start_time": "2025-04-10T09:14:29.398Z"
   },
   {
    "duration": 14,
    "start_time": "2025-04-10T09:14:29.498Z"
   },
   {
    "duration": 26,
    "start_time": "2025-04-10T09:14:29.514Z"
   },
   {
    "duration": 122,
    "start_time": "2025-04-10T09:14:29.542Z"
   },
   {
    "duration": 120,
    "start_time": "2025-04-10T09:14:29.665Z"
   },
   {
    "duration": 104,
    "start_time": "2025-04-10T09:14:29.787Z"
   },
   {
    "duration": 125,
    "start_time": "2025-04-10T09:14:29.895Z"
   },
   {
    "duration": 9,
    "start_time": "2025-04-10T09:14:30.023Z"
   },
   {
    "duration": 58,
    "start_time": "2025-04-10T09:14:30.035Z"
   },
   {
    "duration": 42,
    "start_time": "2025-04-10T09:14:30.096Z"
   },
   {
    "duration": 31,
    "start_time": "2025-04-10T09:14:30.141Z"
   },
   {
    "duration": 107,
    "start_time": "2025-04-10T09:14:30.175Z"
   },
   {
    "duration": 42,
    "start_time": "2025-04-10T09:14:30.284Z"
   },
   {
    "duration": 55,
    "start_time": "2025-04-10T09:14:30.329Z"
   },
   {
    "duration": 34,
    "start_time": "2025-04-10T09:14:30.386Z"
   },
   {
    "duration": 92,
    "start_time": "2025-04-10T09:14:30.422Z"
   },
   {
    "duration": 136,
    "start_time": "2025-04-10T09:14:30.516Z"
   },
   {
    "duration": 54,
    "start_time": "2025-04-10T09:14:30.654Z"
   },
   {
    "duration": 14,
    "start_time": "2025-04-10T09:14:30.710Z"
   },
   {
    "duration": 28,
    "start_time": "2025-04-10T09:14:30.726Z"
   },
   {
    "duration": 61,
    "start_time": "2025-04-10T09:14:30.756Z"
   },
   {
    "duration": 9,
    "start_time": "2025-04-10T09:14:30.819Z"
   },
   {
    "duration": 214,
    "start_time": "2025-04-10T09:14:30.830Z"
   },
   {
    "duration": 14,
    "start_time": "2025-04-10T09:14:31.046Z"
   },
   {
    "duration": 108,
    "start_time": "2025-04-10T09:14:31.064Z"
   },
   {
    "duration": 23,
    "start_time": "2025-04-10T09:14:31.174Z"
   },
   {
    "duration": 36,
    "start_time": "2025-04-10T09:14:31.205Z"
   },
   {
    "duration": 410,
    "start_time": "2025-04-10T09:14:31.243Z"
   },
   {
    "duration": 50,
    "start_time": "2025-04-10T09:14:31.655Z"
   },
   {
    "duration": 2618,
    "start_time": "2025-04-10T09:14:31.707Z"
   },
   {
    "duration": 169,
    "start_time": "2025-04-10T09:14:34.326Z"
   },
   {
    "duration": 54,
    "start_time": "2025-04-10T09:14:34.497Z"
   },
   {
    "duration": 158,
    "start_time": "2025-04-10T09:14:34.552Z"
   },
   {
    "duration": 96,
    "start_time": "2025-04-10T09:14:34.712Z"
   },
   {
    "duration": 31,
    "start_time": "2025-04-10T09:14:34.810Z"
   },
   {
    "duration": 72,
    "start_time": "2025-04-10T09:14:34.843Z"
   },
   {
    "duration": 93,
    "start_time": "2025-04-10T09:14:34.917Z"
   },
   {
    "duration": 5,
    "start_time": "2025-04-10T09:14:35.012Z"
   },
   {
    "duration": 433,
    "start_time": "2025-04-10T09:14:35.018Z"
   },
   {
    "duration": 217,
    "start_time": "2025-04-10T09:14:35.454Z"
   },
   {
    "duration": 4,
    "start_time": "2025-04-10T09:14:35.673Z"
   },
   {
    "duration": 29,
    "start_time": "2025-04-10T09:14:35.678Z"
   },
   {
    "duration": 6,
    "start_time": "2025-04-10T09:14:35.709Z"
   },
   {
    "duration": 24,
    "start_time": "2025-04-10T09:14:35.717Z"
   },
   {
    "duration": 90,
    "start_time": "2025-04-10T09:14:35.742Z"
   },
   {
    "duration": 22,
    "start_time": "2025-04-10T09:14:35.834Z"
   },
   {
    "duration": 80,
    "start_time": "2025-04-10T09:16:40.589Z"
   },
   {
    "duration": 15,
    "start_time": "2025-04-10T09:59:05.862Z"
   },
   {
    "duration": 17,
    "start_time": "2025-04-10T10:04:22.831Z"
   },
   {
    "duration": 105,
    "start_time": "2025-04-10T10:04:57.021Z"
   },
   {
    "duration": 3030,
    "start_time": "2025-04-10T10:17:04.241Z"
   },
   {
    "duration": 71,
    "start_time": "2025-04-10T10:25:36.217Z"
   },
   {
    "duration": 136,
    "start_time": "2025-04-10T10:29:40.318Z"
   },
   {
    "duration": 11,
    "start_time": "2025-04-10T10:29:55.166Z"
   },
   {
    "duration": 89,
    "start_time": "2025-04-10T10:29:56.238Z"
   },
   {
    "duration": 2571,
    "start_time": "2025-04-10T10:31:56.949Z"
   },
   {
    "duration": 3614,
    "start_time": "2025-04-10T10:31:59.522Z"
   },
   {
    "duration": 10,
    "start_time": "2025-04-10T10:32:03.138Z"
   },
   {
    "duration": 35,
    "start_time": "2025-04-10T10:32:03.150Z"
   },
   {
    "duration": 25,
    "start_time": "2025-04-10T10:32:03.187Z"
   },
   {
    "duration": 36,
    "start_time": "2025-04-10T10:32:03.213Z"
   },
   {
    "duration": 133,
    "start_time": "2025-04-10T10:32:03.251Z"
   },
   {
    "duration": 103,
    "start_time": "2025-04-10T10:32:03.385Z"
   },
   {
    "duration": 67,
    "start_time": "2025-04-10T10:32:03.490Z"
   },
   {
    "duration": 110,
    "start_time": "2025-04-10T10:32:03.559Z"
   },
   {
    "duration": 8,
    "start_time": "2025-04-10T10:32:03.670Z"
   },
   {
    "duration": 39,
    "start_time": "2025-04-10T10:32:03.680Z"
   },
   {
    "duration": 99,
    "start_time": "2025-04-10T10:32:03.721Z"
   },
   {
    "duration": 25,
    "start_time": "2025-04-10T10:32:03.822Z"
   },
   {
    "duration": 66,
    "start_time": "2025-04-10T10:37:05.651Z"
   },
   {
    "duration": 37,
    "start_time": "2025-04-10T10:40:15.200Z"
   },
   {
    "duration": 102,
    "start_time": "2025-04-10T10:40:16.022Z"
   },
   {
    "duration": 4,
    "start_time": "2025-04-10T10:40:17.075Z"
   },
   {
    "duration": 109,
    "start_time": "2025-04-10T10:41:23.601Z"
   },
   {
    "duration": 20,
    "start_time": "2025-04-10T10:41:25.854Z"
   },
   {
    "duration": 81,
    "start_time": "2025-04-10T10:41:26.960Z"
   },
   {
    "duration": 28,
    "start_time": "2025-04-10T10:41:27.943Z"
   },
   {
    "duration": 105,
    "start_time": "2025-04-10T10:43:07.984Z"
   },
   {
    "duration": 26,
    "start_time": "2025-04-10T10:43:12.924Z"
   },
   {
    "duration": 81,
    "start_time": "2025-04-10T10:43:13.608Z"
   },
   {
    "duration": 29,
    "start_time": "2025-04-10T10:43:14.841Z"
   },
   {
    "duration": 4,
    "start_time": "2025-04-10T10:43:43.136Z"
   },
   {
    "duration": 272,
    "start_time": "2025-04-10T10:44:02.169Z"
   },
   {
    "duration": 4,
    "start_time": "2025-04-10T10:44:49.920Z"
   },
   {
    "duration": 246,
    "start_time": "2025-04-10T10:44:53.267Z"
   },
   {
    "duration": 504,
    "start_time": "2025-04-10T11:06:52.226Z"
   },
   {
    "duration": 515,
    "start_time": "2025-04-10T11:08:01.017Z"
   },
   {
    "duration": 120,
    "start_time": "2025-04-10T11:08:15.152Z"
   },
   {
    "duration": 6248,
    "start_time": "2025-04-10T11:09:17.187Z"
   },
   {
    "duration": 18,
    "start_time": "2025-04-10T11:10:22.582Z"
   },
   {
    "duration": 6415,
    "start_time": "2025-04-10T11:11:59.503Z"
   },
   {
    "duration": 6231,
    "start_time": "2025-04-10T11:12:07.093Z"
   },
   {
    "duration": 11,
    "start_time": "2025-04-10T11:17:05.826Z"
   },
   {
    "duration": 69,
    "start_time": "2025-04-10T11:17:25.810Z"
   },
   {
    "duration": 11,
    "start_time": "2025-04-10T11:18:54.251Z"
   },
   {
    "duration": 9,
    "start_time": "2025-04-10T11:19:38.233Z"
   },
   {
    "duration": 12,
    "start_time": "2025-04-10T11:19:39.260Z"
   },
   {
    "duration": 28,
    "start_time": "2025-04-10T11:20:08.768Z"
   },
   {
    "duration": 12,
    "start_time": "2025-04-10T11:20:10.228Z"
   },
   {
    "duration": 41,
    "start_time": "2025-04-10T11:20:24.274Z"
   },
   {
    "duration": 11,
    "start_time": "2025-04-10T11:20:32.502Z"
   },
   {
    "duration": 38,
    "start_time": "2025-04-10T11:20:33.459Z"
   },
   {
    "duration": 42,
    "start_time": "2025-04-10T11:22:15.052Z"
   },
   {
    "duration": 11,
    "start_time": "2025-04-10T11:22:19.218Z"
   },
   {
    "duration": 4,
    "start_time": "2025-04-10T11:23:19.508Z"
   },
   {
    "duration": 4,
    "start_time": "2025-04-10T11:24:16.476Z"
   },
   {
    "duration": 3,
    "start_time": "2025-04-10T11:24:43.508Z"
   },
   {
    "duration": 3,
    "start_time": "2025-04-10T11:24:59.451Z"
   },
   {
    "duration": 15,
    "start_time": "2025-04-10T11:25:00.354Z"
   },
   {
    "duration": 4,
    "start_time": "2025-04-10T11:25:04.867Z"
   },
   {
    "duration": 10,
    "start_time": "2025-04-10T11:25:31.451Z"
   },
   {
    "duration": 104,
    "start_time": "2025-04-10T11:25:31.764Z"
   },
   {
    "duration": 20,
    "start_time": "2025-04-10T11:25:31.948Z"
   },
   {
    "duration": 82,
    "start_time": "2025-04-10T11:25:32.200Z"
   },
   {
    "duration": 4,
    "start_time": "2025-04-10T11:25:32.432Z"
   },
   {
    "duration": 28,
    "start_time": "2025-04-10T11:25:33.285Z"
   },
   {
    "duration": 3,
    "start_time": "2025-04-10T11:25:34.109Z"
   },
   {
    "duration": 572,
    "start_time": "2025-04-10T11:25:34.760Z"
   },
   {
    "duration": 122,
    "start_time": "2025-04-10T11:25:35.348Z"
   },
   {
    "duration": 16,
    "start_time": "2025-04-10T11:25:36.259Z"
   },
   {
    "duration": 40,
    "start_time": "2025-04-10T11:25:36.793Z"
   },
   {
    "duration": 95,
    "start_time": "2025-04-10T11:44:12.562Z"
   },
   {
    "duration": 23,
    "start_time": "2025-04-10T11:44:12.784Z"
   },
   {
    "duration": 9,
    "start_time": "2025-04-10T11:44:14.042Z"
   },
   {
    "duration": 95,
    "start_time": "2025-04-10T11:44:14.437Z"
   },
   {
    "duration": 26,
    "start_time": "2025-04-10T11:44:14.670Z"
   },
   {
    "duration": 78,
    "start_time": "2025-04-10T11:44:14.953Z"
   },
   {
    "duration": 3,
    "start_time": "2025-04-10T11:44:15.503Z"
   },
   {
    "duration": 29,
    "start_time": "2025-04-10T11:44:16.028Z"
   },
   {
    "duration": 3,
    "start_time": "2025-04-10T11:44:16.587Z"
   },
   {
    "duration": 591,
    "start_time": "2025-04-10T11:44:17.137Z"
   },
   {
    "duration": 141,
    "start_time": "2025-04-10T11:44:17.731Z"
   },
   {
    "duration": 17,
    "start_time": "2025-04-10T11:44:18.970Z"
   },
   {
    "duration": 40,
    "start_time": "2025-04-10T11:44:20.112Z"
   },
   {
    "duration": 3854,
    "start_time": "2025-04-10T11:44:27.431Z"
   },
   {
    "duration": 2366,
    "start_time": "2025-04-10T11:44:31.287Z"
   },
   {
    "duration": 12,
    "start_time": "2025-04-10T11:44:33.654Z"
   },
   {
    "duration": 29,
    "start_time": "2025-04-10T11:44:33.668Z"
   },
   {
    "duration": 22,
    "start_time": "2025-04-10T11:44:33.699Z"
   },
   {
    "duration": 25,
    "start_time": "2025-04-10T11:44:33.724Z"
   },
   {
    "duration": 119,
    "start_time": "2025-04-10T11:44:33.751Z"
   },
   {
    "duration": 108,
    "start_time": "2025-04-10T11:44:33.872Z"
   },
   {
    "duration": 101,
    "start_time": "2025-04-10T11:44:33.981Z"
   },
   {
    "duration": 115,
    "start_time": "2025-04-10T11:44:34.084Z"
   },
   {
    "duration": 7,
    "start_time": "2025-04-10T11:44:34.203Z"
   },
   {
    "duration": 22,
    "start_time": "2025-04-10T11:44:34.212Z"
   },
   {
    "duration": 17,
    "start_time": "2025-04-10T11:44:34.236Z"
   },
   {
    "duration": 28,
    "start_time": "2025-04-10T11:44:34.255Z"
   },
   {
    "duration": 47,
    "start_time": "2025-04-10T11:44:34.285Z"
   },
   {
    "duration": 36,
    "start_time": "2025-04-10T11:44:34.334Z"
   },
   {
    "duration": 8,
    "start_time": "2025-04-10T11:44:34.371Z"
   },
   {
    "duration": 41,
    "start_time": "2025-04-10T11:44:34.381Z"
   },
   {
    "duration": 55,
    "start_time": "2025-04-10T11:44:34.424Z"
   },
   {
    "duration": 25,
    "start_time": "2025-04-10T11:44:34.481Z"
   },
   {
    "duration": 31,
    "start_time": "2025-04-10T11:44:34.508Z"
   },
   {
    "duration": 48,
    "start_time": "2025-04-10T11:44:34.540Z"
   },
   {
    "duration": 15,
    "start_time": "2025-04-10T11:44:34.590Z"
   },
   {
    "duration": 15,
    "start_time": "2025-04-10T11:44:34.607Z"
   },
   {
    "duration": 5,
    "start_time": "2025-04-10T11:44:34.624Z"
   },
   {
    "duration": 166,
    "start_time": "2025-04-10T11:44:34.630Z"
   },
   {
    "duration": 10,
    "start_time": "2025-04-10T11:44:34.797Z"
   },
   {
    "duration": 76,
    "start_time": "2025-04-10T11:44:34.811Z"
   },
   {
    "duration": 28,
    "start_time": "2025-04-10T11:44:34.889Z"
   },
   {
    "duration": 33,
    "start_time": "2025-04-10T11:44:34.919Z"
   },
   {
    "duration": 340,
    "start_time": "2025-04-10T11:44:34.954Z"
   },
   {
    "duration": 34,
    "start_time": "2025-04-10T11:44:35.303Z"
   },
   {
    "duration": 2923,
    "start_time": "2025-04-10T11:44:35.339Z"
   },
   {
    "duration": 173,
    "start_time": "2025-04-10T11:44:38.264Z"
   },
   {
    "duration": 43,
    "start_time": "2025-04-10T11:44:38.439Z"
   },
   {
    "duration": 32,
    "start_time": "2025-04-10T11:44:38.483Z"
   },
   {
    "duration": 89,
    "start_time": "2025-04-10T11:44:38.517Z"
   },
   {
    "duration": 26,
    "start_time": "2025-04-10T11:44:38.608Z"
   },
   {
    "duration": 40,
    "start_time": "2025-04-10T11:44:38.636Z"
   },
   {
    "duration": 97,
    "start_time": "2025-04-10T11:44:38.677Z"
   },
   {
    "duration": 29,
    "start_time": "2025-04-10T11:44:38.775Z"
   },
   {
    "duration": 65,
    "start_time": "2025-04-10T11:44:38.805Z"
   },
   {
    "duration": 3,
    "start_time": "2025-04-10T11:44:38.872Z"
   },
   {
    "duration": 40,
    "start_time": "2025-04-10T11:44:38.877Z"
   },
   {
    "duration": 3,
    "start_time": "2025-04-10T11:44:38.918Z"
   },
   {
    "duration": 529,
    "start_time": "2025-04-10T11:44:38.922Z"
   },
   {
    "duration": 134,
    "start_time": "2025-04-10T11:44:39.453Z"
   },
   {
    "duration": 24,
    "start_time": "2025-04-10T11:44:39.589Z"
   },
   {
    "duration": 36,
    "start_time": "2025-04-10T11:44:39.615Z"
   },
   {
    "duration": 3,
    "start_time": "2025-04-10T11:44:39.653Z"
   },
   {
    "duration": 128,
    "start_time": "2025-04-10T11:44:39.658Z"
   },
   {
    "duration": 0,
    "start_time": "2025-04-10T11:44:39.787Z"
   },
   {
    "duration": 3903,
    "start_time": "2025-04-10T11:46:45.076Z"
   },
   {
    "duration": 1973,
    "start_time": "2025-04-10T11:46:48.981Z"
   },
   {
    "duration": 13,
    "start_time": "2025-04-10T11:46:50.955Z"
   },
   {
    "duration": 22,
    "start_time": "2025-04-10T11:46:50.970Z"
   },
   {
    "duration": 23,
    "start_time": "2025-04-10T11:46:50.994Z"
   },
   {
    "duration": 33,
    "start_time": "2025-04-10T11:46:51.018Z"
   },
   {
    "duration": 100,
    "start_time": "2025-04-10T11:46:51.053Z"
   },
   {
    "duration": 99,
    "start_time": "2025-04-10T11:46:51.154Z"
   },
   {
    "duration": 143,
    "start_time": "2025-04-10T11:46:51.255Z"
   },
   {
    "duration": 95,
    "start_time": "2025-04-10T11:46:51.401Z"
   },
   {
    "duration": 7,
    "start_time": "2025-04-10T11:46:51.498Z"
   },
   {
    "duration": 34,
    "start_time": "2025-04-10T11:46:51.507Z"
   },
   {
    "duration": 19,
    "start_time": "2025-04-10T11:46:51.543Z"
   },
   {
    "duration": 29,
    "start_time": "2025-04-10T11:46:51.564Z"
   },
   {
    "duration": 54,
    "start_time": "2025-04-10T11:46:51.594Z"
   },
   {
    "duration": 36,
    "start_time": "2025-04-10T11:46:51.649Z"
   },
   {
    "duration": 9,
    "start_time": "2025-04-10T11:46:51.687Z"
   },
   {
    "duration": 24,
    "start_time": "2025-04-10T11:46:51.704Z"
   },
   {
    "duration": 57,
    "start_time": "2025-04-10T11:46:51.730Z"
   },
   {
    "duration": 29,
    "start_time": "2025-04-10T11:46:51.789Z"
   },
   {
    "duration": 27,
    "start_time": "2025-04-10T11:46:51.820Z"
   },
   {
    "duration": 10,
    "start_time": "2025-04-10T11:46:51.849Z"
   },
   {
    "duration": 28,
    "start_time": "2025-04-10T11:46:51.860Z"
   },
   {
    "duration": 52,
    "start_time": "2025-04-10T11:46:51.890Z"
   },
   {
    "duration": 17,
    "start_time": "2025-04-10T11:46:51.944Z"
   },
   {
    "duration": 318,
    "start_time": "2025-04-10T11:46:51.963Z"
   },
   {
    "duration": 11,
    "start_time": "2025-04-10T11:46:52.283Z"
   },
   {
    "duration": 89,
    "start_time": "2025-04-10T11:46:52.303Z"
   },
   {
    "duration": 15,
    "start_time": "2025-04-10T11:46:52.394Z"
   },
   {
    "duration": 34,
    "start_time": "2025-04-10T11:46:52.410Z"
   },
   {
    "duration": 324,
    "start_time": "2025-04-10T11:46:52.446Z"
   },
   {
    "duration": 47,
    "start_time": "2025-04-10T11:46:52.772Z"
   },
   {
    "duration": 2992,
    "start_time": "2025-04-10T11:46:52.821Z"
   },
   {
    "duration": 148,
    "start_time": "2025-04-10T11:46:55.814Z"
   },
   {
    "duration": 52,
    "start_time": "2025-04-10T11:46:55.964Z"
   },
   {
    "duration": 120,
    "start_time": "2025-04-10T11:46:56.018Z"
   },
   {
    "duration": 171,
    "start_time": "2025-04-10T11:46:56.140Z"
   },
   {
    "duration": 30,
    "start_time": "2025-04-10T11:46:56.313Z"
   },
   {
    "duration": 41,
    "start_time": "2025-04-10T11:46:56.345Z"
   },
   {
    "duration": 78,
    "start_time": "2025-04-10T11:46:56.403Z"
   },
   {
    "duration": 31,
    "start_time": "2025-04-10T11:46:56.483Z"
   },
   {
    "duration": 65,
    "start_time": "2025-04-10T11:46:56.516Z"
   },
   {
    "duration": 21,
    "start_time": "2025-04-10T11:46:56.582Z"
   },
   {
    "duration": 23,
    "start_time": "2025-04-10T11:46:56.605Z"
   },
   {
    "duration": 4,
    "start_time": "2025-04-10T11:46:56.629Z"
   },
   {
    "duration": 392,
    "start_time": "2025-04-10T11:46:56.634Z"
   },
   {
    "duration": 0,
    "start_time": "2025-04-10T11:46:57.028Z"
   },
   {
    "duration": 0,
    "start_time": "2025-04-10T11:46:57.029Z"
   },
   {
    "duration": 0,
    "start_time": "2025-04-10T11:46:57.030Z"
   },
   {
    "duration": 0,
    "start_time": "2025-04-10T11:46:57.031Z"
   },
   {
    "duration": 0,
    "start_time": "2025-04-10T11:46:57.032Z"
   },
   {
    "duration": 0,
    "start_time": "2025-04-10T11:46:57.033Z"
   },
   {
    "duration": 9,
    "start_time": "2025-04-10T11:56:03.750Z"
   },
   {
    "duration": 5,
    "start_time": "2025-04-10T11:56:15.514Z"
   },
   {
    "duration": 66,
    "start_time": "2025-04-10T11:56:16.281Z"
   },
   {
    "duration": 14,
    "start_time": "2025-04-10T11:56:24.433Z"
   },
   {
    "duration": 5,
    "start_time": "2025-04-10T11:56:36.114Z"
   },
   {
    "duration": 10,
    "start_time": "2025-04-10T11:56:46.742Z"
   },
   {
    "duration": 3820,
    "start_time": "2025-04-10T11:56:59.600Z"
   },
   {
    "duration": 2609,
    "start_time": "2025-04-10T11:57:03.422Z"
   },
   {
    "duration": 13,
    "start_time": "2025-04-10T11:57:06.033Z"
   },
   {
    "duration": 91,
    "start_time": "2025-04-10T11:57:06.048Z"
   },
   {
    "duration": 53,
    "start_time": "2025-04-10T11:57:06.140Z"
   },
   {
    "duration": 36,
    "start_time": "2025-04-10T11:57:06.194Z"
   },
   {
    "duration": 113,
    "start_time": "2025-04-10T11:57:06.232Z"
   },
   {
    "duration": 102,
    "start_time": "2025-04-10T11:57:06.347Z"
   },
   {
    "duration": 104,
    "start_time": "2025-04-10T11:57:06.451Z"
   },
   {
    "duration": 109,
    "start_time": "2025-04-10T11:57:06.558Z"
   },
   {
    "duration": 7,
    "start_time": "2025-04-10T11:57:06.669Z"
   },
   {
    "duration": 55,
    "start_time": "2025-04-10T11:57:06.678Z"
   },
   {
    "duration": 17,
    "start_time": "2025-04-10T11:57:06.734Z"
   },
   {
    "duration": 31,
    "start_time": "2025-04-10T11:57:06.752Z"
   },
   {
    "duration": 72,
    "start_time": "2025-04-10T11:57:06.784Z"
   },
   {
    "duration": 36,
    "start_time": "2025-04-10T11:57:06.858Z"
   },
   {
    "duration": 14,
    "start_time": "2025-04-10T11:57:06.896Z"
   },
   {
    "duration": 28,
    "start_time": "2025-04-10T11:57:06.912Z"
   },
   {
    "duration": 21,
    "start_time": "2025-04-10T11:57:06.941Z"
   },
   {
    "duration": 52,
    "start_time": "2025-04-10T11:57:06.964Z"
   },
   {
    "duration": 33,
    "start_time": "2025-04-10T11:57:07.017Z"
   },
   {
    "duration": 33,
    "start_time": "2025-04-10T11:57:07.052Z"
   },
   {
    "duration": 25,
    "start_time": "2025-04-10T11:57:07.087Z"
   },
   {
    "duration": 114,
    "start_time": "2025-04-10T11:57:07.113Z"
   },
   {
    "duration": 17,
    "start_time": "2025-04-10T11:57:07.229Z"
   },
   {
    "duration": 357,
    "start_time": "2025-04-10T11:57:07.247Z"
   },
   {
    "duration": 11,
    "start_time": "2025-04-10T11:57:07.606Z"
   },
   {
    "duration": 91,
    "start_time": "2025-04-10T11:57:07.621Z"
   },
   {
    "duration": 16,
    "start_time": "2025-04-10T11:57:07.714Z"
   },
   {
    "duration": 53,
    "start_time": "2025-04-10T11:57:07.731Z"
   },
   {
    "duration": 333,
    "start_time": "2025-04-10T11:57:07.786Z"
   },
   {
    "duration": 37,
    "start_time": "2025-04-10T11:57:08.121Z"
   },
   {
    "duration": 2869,
    "start_time": "2025-04-10T11:57:08.160Z"
   },
   {
    "duration": 149,
    "start_time": "2025-04-10T11:57:11.031Z"
   },
   {
    "duration": 48,
    "start_time": "2025-04-10T11:57:11.181Z"
   },
   {
    "duration": 29,
    "start_time": "2025-04-10T11:57:11.230Z"
   },
   {
    "duration": 196,
    "start_time": "2025-04-10T11:57:11.260Z"
   },
   {
    "duration": 24,
    "start_time": "2025-04-10T11:57:11.457Z"
   },
   {
    "duration": 57,
    "start_time": "2025-04-10T11:57:11.483Z"
   },
   {
    "duration": 80,
    "start_time": "2025-04-10T11:57:11.542Z"
   },
   {
    "duration": 19,
    "start_time": "2025-04-10T11:57:11.623Z"
   },
   {
    "duration": 77,
    "start_time": "2025-04-10T11:57:11.644Z"
   },
   {
    "duration": 3,
    "start_time": "2025-04-10T11:57:11.722Z"
   },
   {
    "duration": 40,
    "start_time": "2025-04-10T11:57:11.727Z"
   },
   {
    "duration": 2,
    "start_time": "2025-04-10T11:57:11.769Z"
   },
   {
    "duration": 283,
    "start_time": "2025-04-10T11:57:11.773Z"
   },
   {
    "duration": 69,
    "start_time": "2025-04-10T11:57:12.057Z"
   },
   {
    "duration": 170,
    "start_time": "2025-04-10T11:57:12.128Z"
   },
   {
    "duration": 0,
    "start_time": "2025-04-10T11:57:12.300Z"
   },
   {
    "duration": 0,
    "start_time": "2025-04-10T11:57:12.304Z"
   },
   {
    "duration": 0,
    "start_time": "2025-04-10T11:57:12.305Z"
   },
   {
    "duration": 0,
    "start_time": "2025-04-10T11:57:12.306Z"
   },
   {
    "duration": 7,
    "start_time": "2025-04-10T12:34:48.357Z"
   },
   {
    "duration": 10,
    "start_time": "2025-04-10T12:35:21.925Z"
   },
   {
    "duration": 5,
    "start_time": "2025-04-10T12:35:49.444Z"
   },
   {
    "duration": 5,
    "start_time": "2025-04-10T12:35:50.620Z"
   },
   {
    "duration": 4000,
    "start_time": "2025-04-10T12:36:02.507Z"
   },
   {
    "duration": 2506,
    "start_time": "2025-04-10T12:36:06.509Z"
   },
   {
    "duration": 14,
    "start_time": "2025-04-10T12:36:09.017Z"
   },
   {
    "duration": 15,
    "start_time": "2025-04-10T12:36:09.033Z"
   },
   {
    "duration": 19,
    "start_time": "2025-04-10T12:36:09.050Z"
   },
   {
    "duration": 39,
    "start_time": "2025-04-10T12:36:09.071Z"
   },
   {
    "duration": 116,
    "start_time": "2025-04-10T12:36:09.112Z"
   },
   {
    "duration": 109,
    "start_time": "2025-04-10T12:36:09.230Z"
   },
   {
    "duration": 106,
    "start_time": "2025-04-10T12:36:09.342Z"
   },
   {
    "duration": 104,
    "start_time": "2025-04-10T12:36:09.451Z"
   },
   {
    "duration": 44,
    "start_time": "2025-04-10T12:36:09.557Z"
   },
   {
    "duration": 21,
    "start_time": "2025-04-10T12:36:09.603Z"
   },
   {
    "duration": 18,
    "start_time": "2025-04-10T12:36:09.625Z"
   },
   {
    "duration": 9,
    "start_time": "2025-04-10T12:36:09.645Z"
   },
   {
    "duration": 71,
    "start_time": "2025-04-10T12:36:09.656Z"
   },
   {
    "duration": 39,
    "start_time": "2025-04-10T12:36:09.729Z"
   },
   {
    "duration": 14,
    "start_time": "2025-04-10T12:36:09.770Z"
   },
   {
    "duration": 39,
    "start_time": "2025-04-10T12:36:09.786Z"
   },
   {
    "duration": 21,
    "start_time": "2025-04-10T12:36:09.827Z"
   },
   {
    "duration": 21,
    "start_time": "2025-04-10T12:36:09.849Z"
   },
   {
    "duration": 14,
    "start_time": "2025-04-10T12:36:09.871Z"
   },
   {
    "duration": 22,
    "start_time": "2025-04-10T12:36:09.887Z"
   },
   {
    "duration": 26,
    "start_time": "2025-04-10T12:36:09.911Z"
   },
   {
    "duration": 15,
    "start_time": "2025-04-10T12:36:09.939Z"
   },
   {
    "duration": 7,
    "start_time": "2025-04-10T12:36:09.955Z"
   },
   {
    "duration": 167,
    "start_time": "2025-04-10T12:36:09.964Z"
   },
   {
    "duration": 10,
    "start_time": "2025-04-10T12:36:10.133Z"
   },
   {
    "duration": 92,
    "start_time": "2025-04-10T12:36:10.147Z"
   },
   {
    "duration": 16,
    "start_time": "2025-04-10T12:36:10.240Z"
   },
   {
    "duration": 125,
    "start_time": "2025-04-10T12:36:10.257Z"
   },
   {
    "duration": 327,
    "start_time": "2025-04-10T12:36:10.384Z"
   },
   {
    "duration": 35,
    "start_time": "2025-04-10T12:36:10.712Z"
   },
   {
    "duration": 2908,
    "start_time": "2025-04-10T12:36:10.749Z"
   },
   {
    "duration": 156,
    "start_time": "2025-04-10T12:36:13.659Z"
   },
   {
    "duration": 45,
    "start_time": "2025-04-10T12:36:13.817Z"
   },
   {
    "duration": 24,
    "start_time": "2025-04-10T12:36:13.864Z"
   },
   {
    "duration": 85,
    "start_time": "2025-04-10T12:36:13.905Z"
   },
   {
    "duration": 26,
    "start_time": "2025-04-10T12:36:14.004Z"
   },
   {
    "duration": 53,
    "start_time": "2025-04-10T12:36:14.031Z"
   },
   {
    "duration": 84,
    "start_time": "2025-04-10T12:36:14.085Z"
   },
   {
    "duration": 20,
    "start_time": "2025-04-10T12:36:14.171Z"
   },
   {
    "duration": 67,
    "start_time": "2025-04-10T12:36:14.205Z"
   },
   {
    "duration": 88,
    "start_time": "2025-04-10T12:36:14.274Z"
   },
   {
    "duration": 28,
    "start_time": "2025-04-10T12:36:14.363Z"
   },
   {
    "duration": 3,
    "start_time": "2025-04-10T12:36:14.393Z"
   },
   {
    "duration": 283,
    "start_time": "2025-04-10T12:36:14.398Z"
   },
   {
    "duration": 73,
    "start_time": "2025-04-10T12:36:14.683Z"
   },
   {
    "duration": 116,
    "start_time": "2025-04-10T12:36:14.758Z"
   },
   {
    "duration": 0,
    "start_time": "2025-04-10T12:36:14.876Z"
   },
   {
    "duration": 0,
    "start_time": "2025-04-10T12:36:14.878Z"
   },
   {
    "duration": 0,
    "start_time": "2025-04-10T12:36:14.879Z"
   },
   {
    "duration": 0,
    "start_time": "2025-04-10T12:36:14.880Z"
   },
   {
    "duration": 2,
    "start_time": "2025-04-10T12:38:04.522Z"
   },
   {
    "duration": 4,
    "start_time": "2025-04-10T12:38:11.839Z"
   },
   {
    "duration": 4001,
    "start_time": "2025-04-10T12:38:25.274Z"
   },
   {
    "duration": 4875,
    "start_time": "2025-04-10T12:38:29.277Z"
   },
   {
    "duration": 12,
    "start_time": "2025-04-10T12:38:34.154Z"
   },
   {
    "duration": 45,
    "start_time": "2025-04-10T12:38:34.167Z"
   },
   {
    "duration": 156,
    "start_time": "2025-04-10T12:38:34.216Z"
   },
   {
    "duration": 44,
    "start_time": "2025-04-10T12:38:34.374Z"
   },
   {
    "duration": 117,
    "start_time": "2025-04-10T12:38:34.420Z"
   },
   {
    "duration": 122,
    "start_time": "2025-04-10T12:38:34.539Z"
   },
   {
    "duration": 113,
    "start_time": "2025-04-10T12:38:34.663Z"
   },
   {
    "duration": 103,
    "start_time": "2025-04-10T12:38:34.778Z"
   },
   {
    "duration": 8,
    "start_time": "2025-04-10T12:38:34.882Z"
   },
   {
    "duration": 34,
    "start_time": "2025-04-10T12:38:34.891Z"
   },
   {
    "duration": 28,
    "start_time": "2025-04-10T12:38:34.928Z"
   },
   {
    "duration": 10,
    "start_time": "2025-04-10T12:38:34.959Z"
   },
   {
    "duration": 71,
    "start_time": "2025-04-10T12:38:34.971Z"
   },
   {
    "duration": 37,
    "start_time": "2025-04-10T12:38:35.044Z"
   },
   {
    "duration": 26,
    "start_time": "2025-04-10T12:38:35.083Z"
   },
   {
    "duration": 39,
    "start_time": "2025-04-10T12:38:35.111Z"
   },
   {
    "duration": 28,
    "start_time": "2025-04-10T12:38:35.152Z"
   },
   {
    "duration": 22,
    "start_time": "2025-04-10T12:38:35.182Z"
   },
   {
    "duration": 68,
    "start_time": "2025-04-10T12:38:35.206Z"
   },
   {
    "duration": 132,
    "start_time": "2025-04-10T12:38:35.275Z"
   },
   {
    "duration": 8,
    "start_time": "2025-04-10T12:38:35.408Z"
   },
   {
    "duration": 203,
    "start_time": "2025-04-10T12:38:35.418Z"
   },
   {
    "duration": 42,
    "start_time": "2025-04-10T12:38:35.623Z"
   },
   {
    "duration": 202,
    "start_time": "2025-04-10T12:38:35.667Z"
   },
   {
    "duration": 11,
    "start_time": "2025-04-10T12:38:35.871Z"
   },
   {
    "duration": 114,
    "start_time": "2025-04-10T12:38:35.883Z"
   },
   {
    "duration": 17,
    "start_time": "2025-04-10T12:38:35.998Z"
   },
   {
    "duration": 43,
    "start_time": "2025-04-10T12:38:36.017Z"
   },
   {
    "duration": 339,
    "start_time": "2025-04-10T12:38:36.062Z"
   },
   {
    "duration": 34,
    "start_time": "2025-04-10T12:38:36.403Z"
   },
   {
    "duration": 3166,
    "start_time": "2025-04-10T12:38:36.439Z"
   },
   {
    "duration": 161,
    "start_time": "2025-04-10T12:38:39.607Z"
   },
   {
    "duration": 52,
    "start_time": "2025-04-10T12:38:39.770Z"
   },
   {
    "duration": 23,
    "start_time": "2025-04-10T12:38:39.824Z"
   },
   {
    "duration": 92,
    "start_time": "2025-04-10T12:38:39.849Z"
   },
   {
    "duration": 26,
    "start_time": "2025-04-10T12:38:39.943Z"
   },
   {
    "duration": 60,
    "start_time": "2025-04-10T12:38:39.971Z"
   },
   {
    "duration": 84,
    "start_time": "2025-04-10T12:38:40.032Z"
   },
   {
    "duration": 19,
    "start_time": "2025-04-10T12:38:40.122Z"
   },
   {
    "duration": 88,
    "start_time": "2025-04-10T12:38:40.143Z"
   },
   {
    "duration": 127,
    "start_time": "2025-04-10T12:38:40.233Z"
   },
   {
    "duration": 38,
    "start_time": "2025-04-10T12:38:40.362Z"
   },
   {
    "duration": 5,
    "start_time": "2025-04-10T12:38:40.402Z"
   },
   {
    "duration": 309,
    "start_time": "2025-04-10T12:38:40.409Z"
   },
   {
    "duration": 68,
    "start_time": "2025-04-10T12:38:40.720Z"
   },
   {
    "duration": 126,
    "start_time": "2025-04-10T12:38:40.790Z"
   },
   {
    "duration": 0,
    "start_time": "2025-04-10T12:38:40.918Z"
   },
   {
    "duration": 0,
    "start_time": "2025-04-10T12:38:40.920Z"
   },
   {
    "duration": 0,
    "start_time": "2025-04-10T12:38:40.922Z"
   },
   {
    "duration": 0,
    "start_time": "2025-04-10T12:38:40.923Z"
   },
   {
    "duration": 4,
    "start_time": "2025-04-10T12:39:26.787Z"
   },
   {
    "duration": 4194,
    "start_time": "2025-04-10T12:39:47.291Z"
   },
   {
    "duration": 3021,
    "start_time": "2025-04-10T12:39:51.487Z"
   },
   {
    "duration": 14,
    "start_time": "2025-04-10T12:39:54.511Z"
   },
   {
    "duration": 37,
    "start_time": "2025-04-10T12:39:54.527Z"
   },
   {
    "duration": 19,
    "start_time": "2025-04-10T12:39:54.566Z"
   },
   {
    "duration": 61,
    "start_time": "2025-04-10T12:39:54.587Z"
   },
   {
    "duration": 113,
    "start_time": "2025-04-10T12:39:54.650Z"
   },
   {
    "duration": 104,
    "start_time": "2025-04-10T12:39:54.765Z"
   },
   {
    "duration": 102,
    "start_time": "2025-04-10T12:39:54.871Z"
   },
   {
    "duration": 108,
    "start_time": "2025-04-10T12:39:54.976Z"
   },
   {
    "duration": 8,
    "start_time": "2025-04-10T12:39:55.086Z"
   },
   {
    "duration": 62,
    "start_time": "2025-04-10T12:39:55.095Z"
   },
   {
    "duration": 32,
    "start_time": "2025-04-10T12:39:55.160Z"
   },
   {
    "duration": 44,
    "start_time": "2025-04-10T12:39:55.194Z"
   },
   {
    "duration": 124,
    "start_time": "2025-04-10T12:39:55.242Z"
   },
   {
    "duration": 54,
    "start_time": "2025-04-10T12:39:55.368Z"
   },
   {
    "duration": 11,
    "start_time": "2025-04-10T12:39:55.424Z"
   },
   {
    "duration": 194,
    "start_time": "2025-04-10T12:39:55.436Z"
   },
   {
    "duration": 24,
    "start_time": "2025-04-10T12:39:55.632Z"
   },
   {
    "duration": 10,
    "start_time": "2025-04-10T12:39:55.658Z"
   },
   {
    "duration": 37,
    "start_time": "2025-04-10T12:39:55.670Z"
   },
   {
    "duration": 13,
    "start_time": "2025-04-10T12:39:55.710Z"
   },
   {
    "duration": 9,
    "start_time": "2025-04-10T12:39:55.724Z"
   },
   {
    "duration": 26,
    "start_time": "2025-04-10T12:39:55.734Z"
   },
   {
    "duration": 12,
    "start_time": "2025-04-10T12:39:55.762Z"
   },
   {
    "duration": 168,
    "start_time": "2025-04-10T12:39:55.775Z"
   },
   {
    "duration": 10,
    "start_time": "2025-04-10T12:39:55.945Z"
   },
   {
    "duration": 97,
    "start_time": "2025-04-10T12:39:55.959Z"
   },
   {
    "duration": 14,
    "start_time": "2025-04-10T12:39:56.057Z"
   },
   {
    "duration": 39,
    "start_time": "2025-04-10T12:39:56.073Z"
   },
   {
    "duration": 356,
    "start_time": "2025-04-10T12:39:56.114Z"
   },
   {
    "duration": 51,
    "start_time": "2025-04-10T12:39:56.472Z"
   },
   {
    "duration": 3078,
    "start_time": "2025-04-10T12:39:56.526Z"
   },
   {
    "duration": 162,
    "start_time": "2025-04-10T12:39:59.606Z"
   },
   {
    "duration": 52,
    "start_time": "2025-04-10T12:39:59.769Z"
   },
   {
    "duration": 24,
    "start_time": "2025-04-10T12:39:59.823Z"
   },
   {
    "duration": 100,
    "start_time": "2025-04-10T12:39:59.849Z"
   },
   {
    "duration": 27,
    "start_time": "2025-04-10T12:39:59.951Z"
   },
   {
    "duration": 55,
    "start_time": "2025-04-10T12:39:59.980Z"
   },
   {
    "duration": 103,
    "start_time": "2025-04-10T12:40:00.037Z"
   },
   {
    "duration": 21,
    "start_time": "2025-04-10T12:40:00.142Z"
   },
   {
    "duration": 87,
    "start_time": "2025-04-10T12:40:00.165Z"
   },
   {
    "duration": 179,
    "start_time": "2025-04-10T12:40:00.254Z"
   },
   {
    "duration": 124,
    "start_time": "2025-04-10T12:40:00.436Z"
   },
   {
    "duration": 47,
    "start_time": "2025-04-10T12:40:00.561Z"
   },
   {
    "duration": 298,
    "start_time": "2025-04-10T12:40:00.610Z"
   },
   {
    "duration": 65,
    "start_time": "2025-04-10T12:40:00.910Z"
   },
   {
    "duration": 128,
    "start_time": "2025-04-10T12:40:00.976Z"
   },
   {
    "duration": 0,
    "start_time": "2025-04-10T12:40:01.105Z"
   },
   {
    "duration": 0,
    "start_time": "2025-04-10T12:40:01.107Z"
   },
   {
    "duration": 0,
    "start_time": "2025-04-10T12:40:01.108Z"
   },
   {
    "duration": 0,
    "start_time": "2025-04-10T12:40:01.110Z"
   },
   {
    "duration": 11,
    "start_time": "2025-04-10T12:42:14.404Z"
   },
   {
    "duration": 6,
    "start_time": "2025-04-10T12:43:40.741Z"
   },
   {
    "duration": 5,
    "start_time": "2025-04-10T12:53:13.387Z"
   },
   {
    "duration": 6,
    "start_time": "2025-04-10T12:54:33.778Z"
   },
   {
    "duration": 4,
    "start_time": "2025-04-10T12:55:27.772Z"
   },
   {
    "duration": 5,
    "start_time": "2025-04-10T12:58:23.292Z"
   },
   {
    "duration": 14,
    "start_time": "2025-04-10T13:09:18.423Z"
   },
   {
    "duration": 4,
    "start_time": "2025-04-10T13:21:01.147Z"
   },
   {
    "duration": 4,
    "start_time": "2025-04-10T13:21:18.092Z"
   },
   {
    "duration": 1026,
    "start_time": "2025-04-10T13:23:16.930Z"
   },
   {
    "duration": 956,
    "start_time": "2025-04-10T13:26:16.022Z"
   },
   {
    "duration": 14,
    "start_time": "2025-04-10T13:28:23.322Z"
   },
   {
    "duration": 4118,
    "start_time": "2025-04-10T13:28:34.985Z"
   },
   {
    "duration": 1991,
    "start_time": "2025-04-10T13:28:39.105Z"
   },
   {
    "duration": 13,
    "start_time": "2025-04-10T13:28:41.098Z"
   },
   {
    "duration": 14,
    "start_time": "2025-04-10T13:28:41.114Z"
   },
   {
    "duration": 11,
    "start_time": "2025-04-10T13:28:41.130Z"
   },
   {
    "duration": 26,
    "start_time": "2025-04-10T13:28:41.143Z"
   },
   {
    "duration": 132,
    "start_time": "2025-04-10T13:28:41.170Z"
   },
   {
    "duration": 102,
    "start_time": "2025-04-10T13:28:41.304Z"
   },
   {
    "duration": 110,
    "start_time": "2025-04-10T13:28:41.408Z"
   },
   {
    "duration": 133,
    "start_time": "2025-04-10T13:28:41.521Z"
   },
   {
    "duration": 8,
    "start_time": "2025-04-10T13:28:41.656Z"
   },
   {
    "duration": 54,
    "start_time": "2025-04-10T13:28:41.666Z"
   },
   {
    "duration": 16,
    "start_time": "2025-04-10T13:28:41.722Z"
   },
   {
    "duration": 41,
    "start_time": "2025-04-10T13:28:41.740Z"
   },
   {
    "duration": 93,
    "start_time": "2025-04-10T13:28:41.783Z"
   },
   {
    "duration": 40,
    "start_time": "2025-04-10T13:28:41.878Z"
   },
   {
    "duration": 9,
    "start_time": "2025-04-10T13:28:41.919Z"
   },
   {
    "duration": 31,
    "start_time": "2025-04-10T13:28:41.929Z"
   },
   {
    "duration": 22,
    "start_time": "2025-04-10T13:28:41.962Z"
   },
   {
    "duration": 12,
    "start_time": "2025-04-10T13:28:42.004Z"
   },
   {
    "duration": 25,
    "start_time": "2025-04-10T13:28:42.017Z"
   },
   {
    "duration": 11,
    "start_time": "2025-04-10T13:28:42.044Z"
   },
   {
    "duration": 16,
    "start_time": "2025-04-10T13:28:42.056Z"
   },
   {
    "duration": 31,
    "start_time": "2025-04-10T13:28:42.073Z"
   },
   {
    "duration": 7,
    "start_time": "2025-04-10T13:28:42.106Z"
   },
   {
    "duration": 185,
    "start_time": "2025-04-10T13:28:42.115Z"
   },
   {
    "duration": 12,
    "start_time": "2025-04-10T13:28:42.301Z"
   },
   {
    "duration": 94,
    "start_time": "2025-04-10T13:28:42.317Z"
   },
   {
    "duration": 16,
    "start_time": "2025-04-10T13:28:42.413Z"
   },
   {
    "duration": 120,
    "start_time": "2025-04-10T13:28:42.431Z"
   },
   {
    "duration": 343,
    "start_time": "2025-04-10T13:28:42.553Z"
   },
   {
    "duration": 42,
    "start_time": "2025-04-10T13:28:42.897Z"
   },
   {
    "duration": 3155,
    "start_time": "2025-04-10T13:28:42.942Z"
   },
   {
    "duration": 168,
    "start_time": "2025-04-10T13:28:46.099Z"
   },
   {
    "duration": 57,
    "start_time": "2025-04-10T13:28:46.269Z"
   },
   {
    "duration": 25,
    "start_time": "2025-04-10T13:28:46.329Z"
   },
   {
    "duration": 99,
    "start_time": "2025-04-10T13:28:46.355Z"
   },
   {
    "duration": 28,
    "start_time": "2025-04-10T13:28:46.457Z"
   },
   {
    "duration": 71,
    "start_time": "2025-04-10T13:28:46.486Z"
   },
   {
    "duration": 83,
    "start_time": "2025-04-10T13:28:46.559Z"
   },
   {
    "duration": 36,
    "start_time": "2025-04-10T13:28:46.644Z"
   },
   {
    "duration": 72,
    "start_time": "2025-04-10T13:28:46.682Z"
   },
   {
    "duration": 24,
    "start_time": "2025-04-10T13:28:46.756Z"
   },
   {
    "duration": 34,
    "start_time": "2025-04-10T13:28:46.781Z"
   },
   {
    "duration": 5,
    "start_time": "2025-04-10T13:28:46.817Z"
   },
   {
    "duration": 318,
    "start_time": "2025-04-10T13:28:46.824Z"
   },
   {
    "duration": 306,
    "start_time": "2025-04-10T13:28:47.144Z"
   },
   {
    "duration": 0,
    "start_time": "2025-04-10T13:28:47.452Z"
   },
   {
    "duration": 0,
    "start_time": "2025-04-10T13:28:47.453Z"
   },
   {
    "duration": 0,
    "start_time": "2025-04-10T13:28:47.454Z"
   },
   {
    "duration": 0,
    "start_time": "2025-04-10T13:28:47.456Z"
   },
   {
    "duration": 0,
    "start_time": "2025-04-10T13:28:47.457Z"
   },
   {
    "duration": 0,
    "start_time": "2025-04-10T13:28:47.458Z"
   },
   {
    "duration": 0,
    "start_time": "2025-04-10T13:28:47.459Z"
   },
   {
    "duration": 0,
    "start_time": "2025-04-10T13:28:47.460Z"
   },
   {
    "duration": 0,
    "start_time": "2025-04-10T13:28:47.462Z"
   },
   {
    "duration": 71,
    "start_time": "2025-04-10T13:31:12.723Z"
   },
   {
    "duration": 50,
    "start_time": "2025-04-10T17:12:09.882Z"
   },
   {
    "duration": 12,
    "start_time": "2025-04-10T17:12:48.876Z"
   },
   {
    "duration": 6,
    "start_time": "2025-04-10T17:12:49.286Z"
   },
   {
    "duration": 5,
    "start_time": "2025-04-10T17:12:50.529Z"
   },
   {
    "duration": 5,
    "start_time": "2025-04-10T17:12:56.021Z"
   },
   {
    "duration": 7704,
    "start_time": "2025-04-10T17:13:02.404Z"
   },
   {
    "duration": 2486,
    "start_time": "2025-04-10T17:13:10.110Z"
   },
   {
    "duration": 12,
    "start_time": "2025-04-10T17:13:12.598Z"
   },
   {
    "duration": 11,
    "start_time": "2025-04-10T17:13:12.612Z"
   },
   {
    "duration": 9,
    "start_time": "2025-04-10T17:13:12.624Z"
   },
   {
    "duration": 50,
    "start_time": "2025-04-10T17:13:12.635Z"
   },
   {
    "duration": 112,
    "start_time": "2025-04-10T17:13:12.688Z"
   },
   {
    "duration": 105,
    "start_time": "2025-04-10T17:13:12.801Z"
   },
   {
    "duration": 112,
    "start_time": "2025-04-10T17:13:12.907Z"
   },
   {
    "duration": 110,
    "start_time": "2025-04-10T17:13:13.022Z"
   },
   {
    "duration": 7,
    "start_time": "2025-04-10T17:13:13.133Z"
   },
   {
    "duration": 39,
    "start_time": "2025-04-10T17:13:13.142Z"
   },
   {
    "duration": 18,
    "start_time": "2025-04-10T17:13:13.184Z"
   },
   {
    "duration": 64,
    "start_time": "2025-04-10T17:13:13.204Z"
   },
   {
    "duration": 49,
    "start_time": "2025-04-10T17:13:13.272Z"
   },
   {
    "duration": 35,
    "start_time": "2025-04-10T17:13:13.323Z"
   },
   {
    "duration": 20,
    "start_time": "2025-04-10T17:13:13.359Z"
   },
   {
    "duration": 27,
    "start_time": "2025-04-10T17:13:13.381Z"
   },
   {
    "duration": 21,
    "start_time": "2025-04-10T17:13:13.409Z"
   },
   {
    "duration": 9,
    "start_time": "2025-04-10T17:13:13.431Z"
   },
   {
    "duration": 40,
    "start_time": "2025-04-10T17:13:13.441Z"
   },
   {
    "duration": 10,
    "start_time": "2025-04-10T17:13:13.484Z"
   },
   {
    "duration": 7,
    "start_time": "2025-04-10T17:13:13.495Z"
   },
   {
    "duration": 13,
    "start_time": "2025-04-10T17:13:13.503Z"
   },
   {
    "duration": 8,
    "start_time": "2025-04-10T17:13:13.518Z"
   },
   {
    "duration": 191,
    "start_time": "2025-04-10T17:13:13.527Z"
   },
   {
    "duration": 10,
    "start_time": "2025-04-10T17:13:13.720Z"
   },
   {
    "duration": 102,
    "start_time": "2025-04-10T17:13:13.733Z"
   },
   {
    "duration": 14,
    "start_time": "2025-04-10T17:13:13.837Z"
   },
   {
    "duration": 38,
    "start_time": "2025-04-10T17:13:13.853Z"
   },
   {
    "duration": 346,
    "start_time": "2025-04-10T17:13:13.893Z"
   },
   {
    "duration": 51,
    "start_time": "2025-04-10T17:13:14.240Z"
   },
   {
    "duration": 3150,
    "start_time": "2025-04-10T17:13:14.292Z"
   },
   {
    "duration": 162,
    "start_time": "2025-04-10T17:13:17.444Z"
   },
   {
    "duration": 43,
    "start_time": "2025-04-10T17:13:17.608Z"
   },
   {
    "duration": 37,
    "start_time": "2025-04-10T17:13:17.653Z"
   },
   {
    "duration": 94,
    "start_time": "2025-04-10T17:13:17.692Z"
   },
   {
    "duration": 25,
    "start_time": "2025-04-10T17:13:17.788Z"
   },
   {
    "duration": 37,
    "start_time": "2025-04-10T17:13:17.815Z"
   },
   {
    "duration": 81,
    "start_time": "2025-04-10T17:13:17.869Z"
   },
   {
    "duration": 32,
    "start_time": "2025-04-10T17:13:17.952Z"
   },
   {
    "duration": 64,
    "start_time": "2025-04-10T17:13:17.985Z"
   },
   {
    "duration": 4,
    "start_time": "2025-04-10T17:13:18.051Z"
   },
   {
    "duration": 24,
    "start_time": "2025-04-10T17:13:18.077Z"
   },
   {
    "duration": 4,
    "start_time": "2025-04-10T17:13:18.103Z"
   },
   {
    "duration": 313,
    "start_time": "2025-04-10T17:13:18.108Z"
   },
   {
    "duration": 264,
    "start_time": "2025-04-10T17:13:18.423Z"
   },
   {
    "duration": 57,
    "start_time": "2025-04-10T17:13:18.689Z"
   },
   {
    "duration": 2,
    "start_time": "2025-04-10T17:13:18.748Z"
   },
   {
    "duration": 33,
    "start_time": "2025-04-10T17:13:18.751Z"
   },
   {
    "duration": 117,
    "start_time": "2025-04-10T17:13:18.786Z"
   },
   {
    "duration": 14,
    "start_time": "2025-04-10T17:13:18.905Z"
   },
   {
    "duration": 33,
    "start_time": "2025-04-10T17:13:18.920Z"
   },
   {
    "duration": 10,
    "start_time": "2025-04-10T17:13:18.973Z"
   },
   {
    "duration": 117,
    "start_time": "2025-04-10T17:13:18.986Z"
   },
   {
    "duration": 0,
    "start_time": "2025-04-10T17:13:19.104Z"
   },
   {
    "duration": 21,
    "start_time": "2025-04-10T17:15:44.449Z"
   },
   {
    "duration": 3801,
    "start_time": "2025-04-10T17:16:13.098Z"
   },
   {
    "duration": 2124,
    "start_time": "2025-04-10T17:16:16.901Z"
   },
   {
    "duration": 16,
    "start_time": "2025-04-10T17:16:19.027Z"
   },
   {
    "duration": 17,
    "start_time": "2025-04-10T17:16:19.046Z"
   },
   {
    "duration": 11,
    "start_time": "2025-04-10T17:16:19.065Z"
   },
   {
    "duration": 35,
    "start_time": "2025-04-10T17:16:19.078Z"
   },
   {
    "duration": 128,
    "start_time": "2025-04-10T17:16:19.114Z"
   },
   {
    "duration": 119,
    "start_time": "2025-04-10T17:16:19.244Z"
   },
   {
    "duration": 86,
    "start_time": "2025-04-10T17:16:19.365Z"
   },
   {
    "duration": 117,
    "start_time": "2025-04-10T17:16:19.453Z"
   },
   {
    "duration": 7,
    "start_time": "2025-04-10T17:16:19.572Z"
   },
   {
    "duration": 50,
    "start_time": "2025-04-10T17:16:19.580Z"
   },
   {
    "duration": 19,
    "start_time": "2025-04-10T17:16:19.632Z"
   },
   {
    "duration": 12,
    "start_time": "2025-04-10T17:16:19.653Z"
   },
   {
    "duration": 46,
    "start_time": "2025-04-10T17:16:19.667Z"
   },
   {
    "duration": 56,
    "start_time": "2025-04-10T17:16:19.715Z"
   },
   {
    "duration": 11,
    "start_time": "2025-04-10T17:16:19.774Z"
   },
   {
    "duration": 25,
    "start_time": "2025-04-10T17:16:19.786Z"
   },
   {
    "duration": 23,
    "start_time": "2025-04-10T17:16:19.812Z"
   },
   {
    "duration": 36,
    "start_time": "2025-04-10T17:16:19.836Z"
   },
   {
    "duration": 13,
    "start_time": "2025-04-10T17:16:19.874Z"
   },
   {
    "duration": 9,
    "start_time": "2025-04-10T17:16:19.889Z"
   },
   {
    "duration": 6,
    "start_time": "2025-04-10T17:16:19.900Z"
   },
   {
    "duration": 9,
    "start_time": "2025-04-10T17:16:19.907Z"
   },
   {
    "duration": 6,
    "start_time": "2025-04-10T17:16:19.918Z"
   },
   {
    "duration": 200,
    "start_time": "2025-04-10T17:16:19.925Z"
   },
   {
    "duration": 12,
    "start_time": "2025-04-10T17:16:20.126Z"
   },
   {
    "duration": 90,
    "start_time": "2025-04-10T17:16:20.142Z"
   },
   {
    "duration": 15,
    "start_time": "2025-04-10T17:16:20.234Z"
   },
   {
    "duration": 39,
    "start_time": "2025-04-10T17:16:20.251Z"
   },
   {
    "duration": 330,
    "start_time": "2025-04-10T17:16:20.292Z"
   },
   {
    "duration": 47,
    "start_time": "2025-04-10T17:16:20.624Z"
   },
   {
    "duration": 2953,
    "start_time": "2025-04-10T17:16:20.673Z"
   },
   {
    "duration": 143,
    "start_time": "2025-04-10T17:16:23.627Z"
   },
   {
    "duration": 42,
    "start_time": "2025-04-10T17:16:23.772Z"
   },
   {
    "duration": 22,
    "start_time": "2025-04-10T17:16:23.815Z"
   },
   {
    "duration": 92,
    "start_time": "2025-04-10T17:16:23.838Z"
   },
   {
    "duration": 26,
    "start_time": "2025-04-10T17:16:23.931Z"
   },
   {
    "duration": 44,
    "start_time": "2025-04-10T17:16:23.958Z"
   },
   {
    "duration": 93,
    "start_time": "2025-04-10T17:16:24.003Z"
   },
   {
    "duration": 17,
    "start_time": "2025-04-10T17:16:24.098Z"
   },
   {
    "duration": 81,
    "start_time": "2025-04-10T17:16:24.117Z"
   },
   {
    "duration": 4,
    "start_time": "2025-04-10T17:16:24.200Z"
   },
   {
    "duration": 22,
    "start_time": "2025-04-10T17:16:24.205Z"
   },
   {
    "duration": 4,
    "start_time": "2025-04-10T17:16:24.228Z"
   },
   {
    "duration": 279,
    "start_time": "2025-04-10T17:16:24.234Z"
   },
   {
    "duration": 264,
    "start_time": "2025-04-10T17:16:24.515Z"
   },
   {
    "duration": 58,
    "start_time": "2025-04-10T17:16:24.781Z"
   },
   {
    "duration": 68,
    "start_time": "2025-04-10T17:16:24.841Z"
   },
   {
    "duration": 2,
    "start_time": "2025-04-10T17:16:24.911Z"
   },
   {
    "duration": 3,
    "start_time": "2025-04-10T17:16:24.915Z"
   },
   {
    "duration": 67,
    "start_time": "2025-04-10T17:16:24.920Z"
   },
   {
    "duration": 9,
    "start_time": "2025-04-10T17:16:24.989Z"
   },
   {
    "duration": 34,
    "start_time": "2025-04-10T17:16:25.000Z"
   },
   {
    "duration": 4,
    "start_time": "2025-04-10T17:16:25.036Z"
   },
   {
    "duration": 132,
    "start_time": "2025-04-10T17:16:25.041Z"
   },
   {
    "duration": 0,
    "start_time": "2025-04-10T17:16:25.175Z"
   },
   {
    "duration": 3,
    "start_time": "2025-04-10T17:32:56.131Z"
   },
   {
    "duration": 72,
    "start_time": "2025-04-10T17:33:55.683Z"
   },
   {
    "duration": 3,
    "start_time": "2025-04-10T17:34:17.660Z"
   },
   {
    "duration": 4,
    "start_time": "2025-04-10T17:35:40.381Z"
   },
   {
    "duration": 4,
    "start_time": "2025-04-10T17:35:51.830Z"
   },
   {
    "duration": 4,
    "start_time": "2025-04-10T17:36:32.332Z"
   },
   {
    "duration": 60,
    "start_time": "2025-04-10T17:36:53.257Z"
   },
   {
    "duration": 3,
    "start_time": "2025-04-10T17:36:59.541Z"
   },
   {
    "duration": 3,
    "start_time": "2025-04-10T17:37:11.064Z"
   },
   {
    "duration": 3,
    "start_time": "2025-04-10T17:37:39.324Z"
   },
   {
    "duration": 4,
    "start_time": "2025-04-10T17:38:50.445Z"
   },
   {
    "duration": 3,
    "start_time": "2025-04-10T17:38:57.191Z"
   },
   {
    "duration": 4,
    "start_time": "2025-04-10T17:41:00.080Z"
   },
   {
    "duration": 199,
    "start_time": "2025-04-10T17:42:23.765Z"
   },
   {
    "duration": 12,
    "start_time": "2025-04-10T17:42:35.598Z"
   },
   {
    "duration": 5,
    "start_time": "2025-04-10T17:42:36.283Z"
   },
   {
    "duration": 191,
    "start_time": "2025-04-10T17:42:37.834Z"
   },
   {
    "duration": 3650,
    "start_time": "2025-04-10T17:42:49.771Z"
   },
   {
    "duration": 1801,
    "start_time": "2025-04-10T17:42:53.423Z"
   },
   {
    "duration": 12,
    "start_time": "2025-04-10T17:42:55.226Z"
   },
   {
    "duration": 12,
    "start_time": "2025-04-10T17:42:55.239Z"
   },
   {
    "duration": 9,
    "start_time": "2025-04-10T17:42:55.252Z"
   },
   {
    "duration": 28,
    "start_time": "2025-04-10T17:42:55.262Z"
   },
   {
    "duration": 106,
    "start_time": "2025-04-10T17:42:55.292Z"
   },
   {
    "duration": 101,
    "start_time": "2025-04-10T17:42:55.399Z"
   },
   {
    "duration": 88,
    "start_time": "2025-04-10T17:42:55.502Z"
   },
   {
    "duration": 97,
    "start_time": "2025-04-10T17:42:55.593Z"
   },
   {
    "duration": 7,
    "start_time": "2025-04-10T17:42:55.691Z"
   },
   {
    "duration": 36,
    "start_time": "2025-04-10T17:42:55.699Z"
   },
   {
    "duration": 17,
    "start_time": "2025-04-10T17:42:55.737Z"
   },
   {
    "duration": 17,
    "start_time": "2025-04-10T17:42:55.756Z"
   },
   {
    "duration": 38,
    "start_time": "2025-04-10T17:42:55.774Z"
   },
   {
    "duration": 36,
    "start_time": "2025-04-10T17:42:55.814Z"
   },
   {
    "duration": 26,
    "start_time": "2025-04-10T17:42:55.851Z"
   },
   {
    "duration": 25,
    "start_time": "2025-04-10T17:42:55.878Z"
   },
   {
    "duration": 21,
    "start_time": "2025-04-10T17:42:55.905Z"
   },
   {
    "duration": 17,
    "start_time": "2025-04-10T17:42:55.928Z"
   },
   {
    "duration": 33,
    "start_time": "2025-04-10T17:42:55.947Z"
   },
   {
    "duration": 9,
    "start_time": "2025-04-10T17:42:55.981Z"
   },
   {
    "duration": 7,
    "start_time": "2025-04-10T17:42:55.991Z"
   },
   {
    "duration": 9,
    "start_time": "2025-04-10T17:42:55.999Z"
   },
   {
    "duration": 6,
    "start_time": "2025-04-10T17:42:56.009Z"
   },
   {
    "duration": 178,
    "start_time": "2025-04-10T17:42:56.016Z"
   },
   {
    "duration": 11,
    "start_time": "2025-04-10T17:42:56.195Z"
   },
   {
    "duration": 109,
    "start_time": "2025-04-10T17:42:56.210Z"
   },
   {
    "duration": 15,
    "start_time": "2025-04-10T17:42:56.320Z"
   },
   {
    "duration": 39,
    "start_time": "2025-04-10T17:42:56.336Z"
   },
   {
    "duration": 322,
    "start_time": "2025-04-10T17:42:56.377Z"
   },
   {
    "duration": 31,
    "start_time": "2025-04-10T17:42:56.701Z"
   },
   {
    "duration": 2728,
    "start_time": "2025-04-10T17:42:56.733Z"
   },
   {
    "duration": 132,
    "start_time": "2025-04-10T17:42:59.470Z"
   },
   {
    "duration": 40,
    "start_time": "2025-04-10T17:42:59.603Z"
   },
   {
    "duration": 33,
    "start_time": "2025-04-10T17:42:59.645Z"
   },
   {
    "duration": 74,
    "start_time": "2025-04-10T17:42:59.680Z"
   },
   {
    "duration": 34,
    "start_time": "2025-04-10T17:42:59.755Z"
   },
   {
    "duration": 31,
    "start_time": "2025-04-10T17:42:59.791Z"
   },
   {
    "duration": 88,
    "start_time": "2025-04-10T17:42:59.823Z"
   },
   {
    "duration": 16,
    "start_time": "2025-04-10T17:42:59.913Z"
   },
   {
    "duration": 74,
    "start_time": "2025-04-10T17:42:59.931Z"
   },
   {
    "duration": 4,
    "start_time": "2025-04-10T17:43:00.006Z"
   },
   {
    "duration": 22,
    "start_time": "2025-04-10T17:43:00.011Z"
   },
   {
    "duration": 3,
    "start_time": "2025-04-10T17:43:00.035Z"
   },
   {
    "duration": 284,
    "start_time": "2025-04-10T17:43:00.039Z"
   },
   {
    "duration": 269,
    "start_time": "2025-04-10T17:43:00.325Z"
   },
   {
    "duration": 60,
    "start_time": "2025-04-10T17:43:00.595Z"
   },
   {
    "duration": 80,
    "start_time": "2025-04-10T17:43:00.657Z"
   },
   {
    "duration": 4,
    "start_time": "2025-04-10T17:43:00.739Z"
   },
   {
    "duration": 3,
    "start_time": "2025-04-10T17:45:46.127Z"
   },
   {
    "duration": 5,
    "start_time": "2025-04-10T17:46:04.636Z"
   },
   {
    "duration": 71,
    "start_time": "2025-04-10T18:41:01.169Z"
   },
   {
    "duration": 120,
    "start_time": "2025-04-10T18:41:15.511Z"
   },
   {
    "duration": 73,
    "start_time": "2025-04-10T18:41:17.068Z"
   },
   {
    "duration": 127,
    "start_time": "2025-04-10T18:41:23.236Z"
   },
   {
    "duration": 74,
    "start_time": "2025-04-10T18:41:24.558Z"
   },
   {
    "duration": 76,
    "start_time": "2025-04-10T18:41:50.851Z"
   },
   {
    "duration": 78,
    "start_time": "2025-04-10T18:41:55.884Z"
   },
   {
    "duration": 33,
    "start_time": "2025-04-10T18:41:56.755Z"
   },
   {
    "duration": 82,
    "start_time": "2025-04-10T18:43:30.522Z"
   },
   {
    "duration": 25,
    "start_time": "2025-04-10T18:43:31.218Z"
   },
   {
    "duration": 30,
    "start_time": "2025-04-10T18:43:32.725Z"
   },
   {
    "duration": 59,
    "start_time": "2025-04-10T18:43:46.655Z"
   },
   {
    "duration": 17,
    "start_time": "2025-04-10T18:43:47.559Z"
   },
   {
    "duration": 30,
    "start_time": "2025-04-10T18:43:48.290Z"
   },
   {
    "duration": 133,
    "start_time": "2025-04-10T18:51:11.979Z"
   },
   {
    "duration": 87,
    "start_time": "2025-04-10T18:51:13.174Z"
   },
   {
    "duration": 32,
    "start_time": "2025-04-10T18:51:14.305Z"
   },
   {
    "duration": 81,
    "start_time": "2025-04-10T18:51:30.413Z"
   },
   {
    "duration": 24,
    "start_time": "2025-04-10T18:51:31.881Z"
   },
   {
    "duration": 31,
    "start_time": "2025-04-10T18:51:32.599Z"
   },
   {
    "duration": 52,
    "start_time": "2025-04-11T07:10:06.283Z"
   },
   {
    "duration": 8168,
    "start_time": "2025-04-11T07:10:19.951Z"
   },
   {
    "duration": 2463,
    "start_time": "2025-04-11T07:10:28.121Z"
   },
   {
    "duration": 15,
    "start_time": "2025-04-11T07:10:30.586Z"
   },
   {
    "duration": 63,
    "start_time": "2025-04-11T07:10:30.602Z"
   },
   {
    "duration": 11,
    "start_time": "2025-04-11T07:10:30.667Z"
   },
   {
    "duration": 29,
    "start_time": "2025-04-11T07:10:30.680Z"
   },
   {
    "duration": 146,
    "start_time": "2025-04-11T07:10:30.711Z"
   },
   {
    "duration": 125,
    "start_time": "2025-04-11T07:10:30.859Z"
   },
   {
    "duration": 104,
    "start_time": "2025-04-11T07:10:30.986Z"
   },
   {
    "duration": 114,
    "start_time": "2025-04-11T07:10:31.092Z"
   },
   {
    "duration": 9,
    "start_time": "2025-04-11T07:10:31.207Z"
   },
   {
    "duration": 38,
    "start_time": "2025-04-11T07:10:31.217Z"
   },
   {
    "duration": 42,
    "start_time": "2025-04-11T07:10:31.257Z"
   },
   {
    "duration": 49,
    "start_time": "2025-04-11T07:10:31.303Z"
   },
   {
    "duration": 66,
    "start_time": "2025-04-11T07:10:31.354Z"
   },
   {
    "duration": 50,
    "start_time": "2025-04-11T07:10:31.421Z"
   },
   {
    "duration": 8,
    "start_time": "2025-04-11T07:10:31.473Z"
   },
   {
    "duration": 76,
    "start_time": "2025-04-11T07:10:31.483Z"
   },
   {
    "duration": 24,
    "start_time": "2025-04-11T07:10:31.560Z"
   },
   {
    "duration": 79,
    "start_time": "2025-04-11T07:10:31.586Z"
   },
   {
    "duration": 14,
    "start_time": "2025-04-11T07:10:31.667Z"
   },
   {
    "duration": 9,
    "start_time": "2025-04-11T07:10:31.683Z"
   },
   {
    "duration": 39,
    "start_time": "2025-04-11T07:10:31.694Z"
   },
   {
    "duration": 11,
    "start_time": "2025-04-11T07:10:31.735Z"
   },
   {
    "duration": 11,
    "start_time": "2025-04-11T07:10:31.748Z"
   },
   {
    "duration": 190,
    "start_time": "2025-04-11T07:10:31.761Z"
   },
   {
    "duration": 13,
    "start_time": "2025-04-11T07:10:31.953Z"
   },
   {
    "duration": 103,
    "start_time": "2025-04-11T07:10:31.968Z"
   },
   {
    "duration": 17,
    "start_time": "2025-04-11T07:10:32.072Z"
   },
   {
    "duration": 30,
    "start_time": "2025-04-11T07:10:32.091Z"
   },
   {
    "duration": 352,
    "start_time": "2025-04-11T07:10:32.140Z"
   },
   {
    "duration": 36,
    "start_time": "2025-04-11T07:10:32.493Z"
   },
   {
    "duration": 3215,
    "start_time": "2025-04-11T07:10:32.530Z"
   },
   {
    "duration": 164,
    "start_time": "2025-04-11T07:10:35.747Z"
   },
   {
    "duration": 60,
    "start_time": "2025-04-11T07:10:35.913Z"
   },
   {
    "duration": 24,
    "start_time": "2025-04-11T07:10:35.975Z"
   },
   {
    "duration": 140,
    "start_time": "2025-04-11T07:10:36.001Z"
   },
   {
    "duration": 31,
    "start_time": "2025-04-11T07:10:36.145Z"
   },
   {
    "duration": 52,
    "start_time": "2025-04-11T07:10:36.178Z"
   },
   {
    "duration": 87,
    "start_time": "2025-04-11T07:10:36.232Z"
   },
   {
    "duration": 41,
    "start_time": "2025-04-11T07:10:36.324Z"
   },
   {
    "duration": 75,
    "start_time": "2025-04-11T07:10:36.367Z"
   },
   {
    "duration": 18,
    "start_time": "2025-04-11T07:10:36.444Z"
   },
   {
    "duration": 25,
    "start_time": "2025-04-11T07:10:36.464Z"
   },
   {
    "duration": 4,
    "start_time": "2025-04-11T07:10:36.491Z"
   },
   {
    "duration": 320,
    "start_time": "2025-04-11T07:10:36.497Z"
   },
   {
    "duration": 303,
    "start_time": "2025-04-11T07:10:36.818Z"
   },
   {
    "duration": 81,
    "start_time": "2025-04-11T07:10:37.123Z"
   },
   {
    "duration": 71,
    "start_time": "2025-04-11T07:10:37.206Z"
   },
   {
    "duration": 4,
    "start_time": "2025-04-11T07:10:37.279Z"
   },
   {
    "duration": 127,
    "start_time": "2025-04-11T07:10:37.286Z"
   },
   {
    "duration": 358,
    "start_time": "2025-04-11T07:10:37.415Z"
   },
   {
    "duration": 0,
    "start_time": "2025-04-11T07:10:37.775Z"
   },
   {
    "duration": 0,
    "start_time": "2025-04-11T07:10:37.777Z"
   },
   {
    "duration": 40,
    "start_time": "2025-04-11T07:12:53.427Z"
   },
   {
    "duration": 36,
    "start_time": "2025-04-11T07:13:06.111Z"
   },
   {
    "duration": 237,
    "start_time": "2025-04-11T07:20:11.238Z"
   },
   {
    "duration": 15,
    "start_time": "2025-04-11T07:26:26.291Z"
   },
   {
    "duration": 16,
    "start_time": "2025-04-11T07:27:32.480Z"
   },
   {
    "duration": 129,
    "start_time": "2025-04-11T07:35:35.875Z"
   },
   {
    "duration": 96,
    "start_time": "2025-04-11T07:35:37.461Z"
   },
   {
    "duration": 87,
    "start_time": "2025-04-11T07:36:02.726Z"
   },
   {
    "duration": 55,
    "start_time": "2025-04-11T07:42:53.416Z"
   },
   {
    "duration": 41,
    "start_time": "2025-04-11T07:43:02.753Z"
   },
   {
    "duration": 63,
    "start_time": "2025-04-11T07:52:43.263Z"
   },
   {
    "duration": 24,
    "start_time": "2025-04-11T07:52:49.244Z"
   },
   {
    "duration": 26,
    "start_time": "2025-04-11T07:52:50.309Z"
   },
   {
    "duration": 4180,
    "start_time": "2025-04-11T07:54:39.409Z"
   },
   {
    "duration": 2443,
    "start_time": "2025-04-11T07:54:43.591Z"
   },
   {
    "duration": 13,
    "start_time": "2025-04-11T07:54:46.036Z"
   },
   {
    "duration": 13,
    "start_time": "2025-04-11T07:54:46.051Z"
   },
   {
    "duration": 16,
    "start_time": "2025-04-11T07:54:46.066Z"
   },
   {
    "duration": 31,
    "start_time": "2025-04-11T07:54:46.084Z"
   },
   {
    "duration": 126,
    "start_time": "2025-04-11T07:54:46.117Z"
   },
   {
    "duration": 107,
    "start_time": "2025-04-11T07:54:46.245Z"
   },
   {
    "duration": 104,
    "start_time": "2025-04-11T07:54:46.354Z"
   },
   {
    "duration": 110,
    "start_time": "2025-04-11T07:54:46.461Z"
   },
   {
    "duration": 8,
    "start_time": "2025-04-11T07:54:46.573Z"
   },
   {
    "duration": 33,
    "start_time": "2025-04-11T07:54:46.583Z"
   },
   {
    "duration": 23,
    "start_time": "2025-04-11T07:54:46.617Z"
   },
   {
    "duration": 10,
    "start_time": "2025-04-11T07:54:46.642Z"
   },
   {
    "duration": 43,
    "start_time": "2025-04-11T07:54:46.654Z"
   },
   {
    "duration": 65,
    "start_time": "2025-04-11T07:54:46.698Z"
   },
   {
    "duration": 9,
    "start_time": "2025-04-11T07:54:46.765Z"
   },
   {
    "duration": 27,
    "start_time": "2025-04-11T07:54:46.776Z"
   },
   {
    "duration": 51,
    "start_time": "2025-04-11T07:54:46.805Z"
   },
   {
    "duration": 12,
    "start_time": "2025-04-11T07:54:46.858Z"
   },
   {
    "duration": 22,
    "start_time": "2025-04-11T07:54:46.872Z"
   },
   {
    "duration": 20,
    "start_time": "2025-04-11T07:54:46.896Z"
   },
   {
    "duration": 25,
    "start_time": "2025-04-11T07:54:46.917Z"
   },
   {
    "duration": 16,
    "start_time": "2025-04-11T07:54:46.945Z"
   },
   {
    "duration": 6,
    "start_time": "2025-04-11T07:54:46.963Z"
   },
   {
    "duration": 184,
    "start_time": "2025-04-11T07:54:46.971Z"
   },
   {
    "duration": 12,
    "start_time": "2025-04-11T07:54:47.157Z"
   },
   {
    "duration": 100,
    "start_time": "2025-04-11T07:54:47.172Z"
   },
   {
    "duration": 17,
    "start_time": "2025-04-11T07:54:47.274Z"
   },
   {
    "duration": 46,
    "start_time": "2025-04-11T07:54:47.294Z"
   },
   {
    "duration": 372,
    "start_time": "2025-04-11T07:54:47.342Z"
   },
   {
    "duration": 50,
    "start_time": "2025-04-11T07:54:47.716Z"
   },
   {
    "duration": 3066,
    "start_time": "2025-04-11T07:54:47.768Z"
   },
   {
    "duration": 191,
    "start_time": "2025-04-11T07:54:50.839Z"
   },
   {
    "duration": 48,
    "start_time": "2025-04-11T07:54:51.032Z"
   },
   {
    "duration": 24,
    "start_time": "2025-04-11T07:54:51.082Z"
   },
   {
    "duration": 102,
    "start_time": "2025-04-11T07:54:51.108Z"
   },
   {
    "duration": 39,
    "start_time": "2025-04-11T07:54:51.212Z"
   },
   {
    "duration": 37,
    "start_time": "2025-04-11T07:54:51.253Z"
   },
   {
    "duration": 102,
    "start_time": "2025-04-11T07:54:51.292Z"
   },
   {
    "duration": 19,
    "start_time": "2025-04-11T07:54:51.396Z"
   },
   {
    "duration": 77,
    "start_time": "2025-04-11T07:54:51.417Z"
   },
   {
    "duration": 4,
    "start_time": "2025-04-11T07:54:51.496Z"
   },
   {
    "duration": 95,
    "start_time": "2025-04-11T07:54:51.502Z"
   },
   {
    "duration": 21,
    "start_time": "2025-04-11T07:54:51.598Z"
   },
   {
    "duration": 308,
    "start_time": "2025-04-11T07:54:51.621Z"
   },
   {
    "duration": 304,
    "start_time": "2025-04-11T07:54:51.931Z"
   },
   {
    "duration": 68,
    "start_time": "2025-04-11T07:54:52.239Z"
   },
   {
    "duration": 80,
    "start_time": "2025-04-11T07:54:52.309Z"
   },
   {
    "duration": 4,
    "start_time": "2025-04-11T07:54:52.391Z"
   },
   {
    "duration": 51,
    "start_time": "2025-04-11T07:54:52.397Z"
   },
   {
    "duration": 27,
    "start_time": "2025-04-11T07:54:52.450Z"
   },
   {
    "duration": 18,
    "start_time": "2025-04-11T07:58:12.909Z"
   },
   {
    "duration": 14,
    "start_time": "2025-04-11T08:00:56.995Z"
   },
   {
    "duration": 27,
    "start_time": "2025-04-11T08:00:58.328Z"
   },
   {
    "duration": 16,
    "start_time": "2025-04-11T08:00:59.078Z"
   },
   {
    "duration": 11,
    "start_time": "2025-04-11T08:03:37.044Z"
   },
   {
    "duration": 205,
    "start_time": "2025-04-11T08:04:49.728Z"
   },
   {
    "duration": 305,
    "start_time": "2025-04-11T08:05:41.062Z"
   },
   {
    "duration": 229,
    "start_time": "2025-04-11T08:05:58.977Z"
   },
   {
    "duration": 105,
    "start_time": "2025-04-11T08:06:30.020Z"
   },
   {
    "duration": 113,
    "start_time": "2025-04-11T08:06:48.137Z"
   },
   {
    "duration": 126,
    "start_time": "2025-04-11T08:06:52.875Z"
   },
   {
    "duration": 5,
    "start_time": "2025-04-11T08:07:28.976Z"
   },
   {
    "duration": 83,
    "start_time": "2025-04-11T08:07:57.720Z"
   },
   {
    "duration": 143,
    "start_time": "2025-04-11T08:13:26.529Z"
   },
   {
    "duration": 226,
    "start_time": "2025-04-11T08:20:41.526Z"
   },
   {
    "duration": 125,
    "start_time": "2025-04-11T08:20:42.597Z"
   },
   {
    "duration": 11,
    "start_time": "2025-04-11T08:23:25.723Z"
   },
   {
    "duration": 11,
    "start_time": "2025-04-11T08:32:42.037Z"
   },
   {
    "duration": 12,
    "start_time": "2025-04-11T08:32:47.137Z"
   },
   {
    "duration": 10,
    "start_time": "2025-04-11T08:35:09.239Z"
   },
   {
    "duration": 11,
    "start_time": "2025-04-11T08:35:53.512Z"
   },
   {
    "duration": 231,
    "start_time": "2025-04-11T08:35:55.061Z"
   },
   {
    "duration": 124,
    "start_time": "2025-04-11T08:35:56.675Z"
   },
   {
    "duration": 140,
    "start_time": "2025-04-11T08:35:57.814Z"
   },
   {
    "duration": 114,
    "start_time": "2025-04-11T08:47:28.541Z"
   },
   {
    "duration": 345,
    "start_time": "2025-04-11T08:47:47.027Z"
   },
   {
    "duration": 79,
    "start_time": "2025-04-11T08:49:13.288Z"
   },
   {
    "duration": 53,
    "start_time": "2025-04-14T08:32:50.484Z"
   },
   {
    "duration": 9282,
    "start_time": "2025-04-14T08:32:58.689Z"
   },
   {
    "duration": 2490,
    "start_time": "2025-04-14T08:33:07.974Z"
   },
   {
    "duration": 14,
    "start_time": "2025-04-14T08:33:10.466Z"
   },
   {
    "duration": 14,
    "start_time": "2025-04-14T08:33:10.483Z"
   },
   {
    "duration": 14,
    "start_time": "2025-04-14T08:33:10.499Z"
   },
   {
    "duration": 34,
    "start_time": "2025-04-14T08:33:10.516Z"
   },
   {
    "duration": 121,
    "start_time": "2025-04-14T08:33:10.553Z"
   },
   {
    "duration": 115,
    "start_time": "2025-04-14T08:33:10.676Z"
   },
   {
    "duration": 99,
    "start_time": "2025-04-14T08:33:10.793Z"
   },
   {
    "duration": 118,
    "start_time": "2025-04-14T08:33:10.895Z"
   },
   {
    "duration": 13,
    "start_time": "2025-04-14T08:33:11.015Z"
   },
   {
    "duration": 29,
    "start_time": "2025-04-14T08:33:11.030Z"
   },
   {
    "duration": 42,
    "start_time": "2025-04-14T08:33:11.061Z"
   },
   {
    "duration": 38,
    "start_time": "2025-04-14T08:33:11.105Z"
   },
   {
    "duration": 54,
    "start_time": "2025-04-14T08:33:11.144Z"
   },
   {
    "duration": 38,
    "start_time": "2025-04-14T08:33:11.200Z"
   },
   {
    "duration": 14,
    "start_time": "2025-04-14T08:33:11.240Z"
   },
   {
    "duration": 30,
    "start_time": "2025-04-14T08:33:11.255Z"
   },
   {
    "duration": 51,
    "start_time": "2025-04-14T08:33:11.287Z"
   },
   {
    "duration": 12,
    "start_time": "2025-04-14T08:33:11.340Z"
   },
   {
    "duration": 35,
    "start_time": "2025-04-14T08:33:11.354Z"
   },
   {
    "duration": 13,
    "start_time": "2025-04-14T08:33:11.391Z"
   },
   {
    "duration": 27,
    "start_time": "2025-04-14T08:33:11.405Z"
   },
   {
    "duration": 37,
    "start_time": "2025-04-14T08:33:11.434Z"
   },
   {
    "duration": 6,
    "start_time": "2025-04-14T08:33:11.473Z"
   },
   {
    "duration": 179,
    "start_time": "2025-04-14T08:33:11.481Z"
   },
   {
    "duration": 14,
    "start_time": "2025-04-14T08:33:11.662Z"
   },
   {
    "duration": 160,
    "start_time": "2025-04-14T08:33:11.680Z"
   },
   {
    "duration": 17,
    "start_time": "2025-04-14T08:33:11.842Z"
   },
   {
    "duration": 54,
    "start_time": "2025-04-14T08:33:11.861Z"
   },
   {
    "duration": 368,
    "start_time": "2025-04-14T08:33:11.917Z"
   },
   {
    "duration": 41,
    "start_time": "2025-04-14T08:33:12.287Z"
   },
   {
    "duration": 3178,
    "start_time": "2025-04-14T08:33:12.329Z"
   },
   {
    "duration": 161,
    "start_time": "2025-04-14T08:33:15.509Z"
   },
   {
    "duration": 58,
    "start_time": "2025-04-14T08:33:15.672Z"
   },
   {
    "duration": 25,
    "start_time": "2025-04-14T08:33:15.731Z"
   },
   {
    "duration": 110,
    "start_time": "2025-04-14T08:33:15.758Z"
   },
   {
    "duration": 37,
    "start_time": "2025-04-14T08:33:15.870Z"
   },
   {
    "duration": 79,
    "start_time": "2025-04-14T08:33:15.909Z"
   },
   {
    "duration": 85,
    "start_time": "2025-04-14T08:33:15.990Z"
   },
   {
    "duration": 33,
    "start_time": "2025-04-14T08:33:16.078Z"
   },
   {
    "duration": 186,
    "start_time": "2025-04-14T08:33:16.113Z"
   },
   {
    "duration": 5,
    "start_time": "2025-04-14T08:33:16.302Z"
   },
   {
    "duration": 27,
    "start_time": "2025-04-14T08:33:16.309Z"
   },
   {
    "duration": 14,
    "start_time": "2025-04-14T08:33:16.338Z"
   },
   {
    "duration": 304,
    "start_time": "2025-04-14T08:33:16.354Z"
   },
   {
    "duration": 312,
    "start_time": "2025-04-14T08:33:16.660Z"
   },
   {
    "duration": 76,
    "start_time": "2025-04-14T08:33:16.974Z"
   },
   {
    "duration": 73,
    "start_time": "2025-04-14T08:33:17.052Z"
   },
   {
    "duration": 4,
    "start_time": "2025-04-14T08:33:17.127Z"
   },
   {
    "duration": 56,
    "start_time": "2025-04-14T08:33:17.133Z"
   },
   {
    "duration": 26,
    "start_time": "2025-04-14T08:33:17.191Z"
   },
   {
    "duration": 15,
    "start_time": "2025-04-14T08:33:17.219Z"
   },
   {
    "duration": 18,
    "start_time": "2025-04-14T08:33:17.236Z"
   },
   {
    "duration": 357,
    "start_time": "2025-04-14T08:33:17.256Z"
   },
   {
    "duration": 141,
    "start_time": "2025-04-14T08:33:17.615Z"
   },
   {
    "duration": 224,
    "start_time": "2025-04-14T08:33:17.757Z"
   },
   {
    "duration": 238,
    "start_time": "2025-04-14T08:50:14.486Z"
   },
   {
    "duration": 137,
    "start_time": "2025-04-14T08:51:01.565Z"
   },
   {
    "duration": 251,
    "start_time": "2025-04-14T08:52:26.339Z"
   },
   {
    "duration": 149,
    "start_time": "2025-04-14T08:52:27.454Z"
   },
   {
    "duration": 76,
    "start_time": "2025-04-14T08:52:43.237Z"
   },
   {
    "duration": 76,
    "start_time": "2025-04-14T08:53:00.407Z"
   },
   {
    "duration": 166,
    "start_time": "2025-04-14T08:53:28.136Z"
   },
   {
    "duration": 11,
    "start_time": "2025-04-14T09:05:09.350Z"
   },
   {
    "duration": 15,
    "start_time": "2025-04-14T09:05:15.569Z"
   },
   {
    "duration": 12,
    "start_time": "2025-04-14T09:05:15.855Z"
   },
   {
    "duration": 355,
    "start_time": "2025-04-14T12:41:54.578Z"
   },
   {
    "duration": 10,
    "start_time": "2025-04-14T12:42:00.727Z"
   },
   {
    "duration": 80,
    "start_time": "2025-04-14T12:42:52.384Z"
   },
   {
    "duration": 14,
    "start_time": "2025-04-14T12:42:57.291Z"
   },
   {
    "duration": 10,
    "start_time": "2025-04-14T12:43:10.885Z"
   },
   {
    "duration": 10,
    "start_time": "2025-04-14T12:43:23.375Z"
   },
   {
    "duration": 10,
    "start_time": "2025-04-14T12:44:52.926Z"
   },
   {
    "duration": 308,
    "start_time": "2025-04-14T12:45:00.455Z"
   },
   {
    "duration": 11,
    "start_time": "2025-04-14T12:45:07.272Z"
   },
   {
    "duration": 11,
    "start_time": "2025-04-14T12:45:48.990Z"
   },
   {
    "duration": 12,
    "start_time": "2025-04-14T12:46:04.442Z"
   },
   {
    "duration": 11,
    "start_time": "2025-04-14T12:46:15.575Z"
   },
   {
    "duration": 11,
    "start_time": "2025-04-14T12:46:32.188Z"
   },
   {
    "duration": 4352,
    "start_time": "2025-04-14T13:12:19.988Z"
   },
   {
    "duration": 3100,
    "start_time": "2025-04-14T13:12:24.342Z"
   },
   {
    "duration": 13,
    "start_time": "2025-04-14T13:12:27.444Z"
   },
   {
    "duration": 46,
    "start_time": "2025-04-14T13:12:27.459Z"
   },
   {
    "duration": 21,
    "start_time": "2025-04-14T13:12:27.507Z"
   },
   {
    "duration": 48,
    "start_time": "2025-04-14T13:12:27.530Z"
   },
   {
    "duration": 131,
    "start_time": "2025-04-14T13:12:27.581Z"
   },
   {
    "duration": 122,
    "start_time": "2025-04-14T13:12:27.714Z"
   },
   {
    "duration": 110,
    "start_time": "2025-04-14T13:12:27.839Z"
   },
   {
    "duration": 122,
    "start_time": "2025-04-14T13:12:27.952Z"
   },
   {
    "duration": 9,
    "start_time": "2025-04-14T13:12:28.076Z"
   },
   {
    "duration": 128,
    "start_time": "2025-04-14T13:12:28.087Z"
   },
   {
    "duration": 30,
    "start_time": "2025-04-14T13:12:28.216Z"
   },
   {
    "duration": 16,
    "start_time": "2025-04-14T13:12:28.249Z"
   },
   {
    "duration": 79,
    "start_time": "2025-04-14T13:12:28.268Z"
   },
   {
    "duration": 78,
    "start_time": "2025-04-14T13:12:28.350Z"
   },
   {
    "duration": 9,
    "start_time": "2025-04-14T13:12:28.430Z"
   },
   {
    "duration": 32,
    "start_time": "2025-04-14T13:12:28.441Z"
   },
   {
    "duration": 36,
    "start_time": "2025-04-14T13:12:28.475Z"
   },
   {
    "duration": 22,
    "start_time": "2025-04-14T13:12:28.513Z"
   },
   {
    "duration": 14,
    "start_time": "2025-04-14T13:12:28.537Z"
   },
   {
    "duration": 11,
    "start_time": "2025-04-14T13:12:28.553Z"
   },
   {
    "duration": 28,
    "start_time": "2025-04-14T13:12:28.566Z"
   },
   {
    "duration": 10,
    "start_time": "2025-04-14T13:12:28.605Z"
   },
   {
    "duration": 7,
    "start_time": "2025-04-14T13:12:28.617Z"
   },
   {
    "duration": 190,
    "start_time": "2025-04-14T13:12:28.625Z"
   },
   {
    "duration": 11,
    "start_time": "2025-04-14T13:12:28.817Z"
   },
   {
    "duration": 101,
    "start_time": "2025-04-14T13:12:28.832Z"
   },
   {
    "duration": 16,
    "start_time": "2025-04-14T13:12:28.935Z"
   },
   {
    "duration": 31,
    "start_time": "2025-04-14T13:12:28.953Z"
   },
   {
    "duration": 358,
    "start_time": "2025-04-14T13:12:29.005Z"
   },
   {
    "duration": 51,
    "start_time": "2025-04-14T13:12:29.365Z"
   },
   {
    "duration": 3260,
    "start_time": "2025-04-14T13:12:29.418Z"
   },
   {
    "duration": 155,
    "start_time": "2025-04-14T13:12:32.680Z"
   },
   {
    "duration": 50,
    "start_time": "2025-04-14T13:12:32.837Z"
   },
   {
    "duration": 35,
    "start_time": "2025-04-14T13:12:32.889Z"
   },
   {
    "duration": 88,
    "start_time": "2025-04-14T13:12:32.926Z"
   },
   {
    "duration": 27,
    "start_time": "2025-04-14T13:12:33.016Z"
   },
   {
    "duration": 57,
    "start_time": "2025-04-14T13:12:33.045Z"
   },
   {
    "duration": 101,
    "start_time": "2025-04-14T13:12:33.104Z"
   },
   {
    "duration": 19,
    "start_time": "2025-04-14T13:12:33.206Z"
   },
   {
    "duration": 118,
    "start_time": "2025-04-14T13:12:33.227Z"
   },
   {
    "duration": 122,
    "start_time": "2025-04-14T13:12:33.347Z"
   },
   {
    "duration": 36,
    "start_time": "2025-04-14T13:12:33.471Z"
   },
   {
    "duration": 6,
    "start_time": "2025-04-14T13:12:33.509Z"
   },
   {
    "duration": 272,
    "start_time": "2025-04-14T13:12:33.517Z"
   },
   {
    "duration": 291,
    "start_time": "2025-04-14T13:12:33.790Z"
   },
   {
    "duration": 73,
    "start_time": "2025-04-14T13:12:34.083Z"
   },
   {
    "duration": 94,
    "start_time": "2025-04-14T13:12:34.158Z"
   },
   {
    "duration": 3,
    "start_time": "2025-04-14T13:12:34.254Z"
   },
   {
    "duration": 148,
    "start_time": "2025-04-14T13:12:34.259Z"
   },
   {
    "duration": 24,
    "start_time": "2025-04-14T13:12:34.409Z"
   },
   {
    "duration": 15,
    "start_time": "2025-04-14T13:12:34.435Z"
   },
   {
    "duration": 25,
    "start_time": "2025-04-14T13:12:34.452Z"
   },
   {
    "duration": 16,
    "start_time": "2025-04-14T13:12:34.479Z"
   },
   {
    "duration": 227,
    "start_time": "2025-04-14T13:12:34.504Z"
   },
   {
    "duration": 222,
    "start_time": "2025-04-14T13:12:34.732Z"
   },
   {
    "duration": 214,
    "start_time": "2025-04-14T13:12:34.956Z"
   },
   {
    "duration": 25,
    "start_time": "2025-04-14T13:27:39.681Z"
   },
   {
    "duration": 17,
    "start_time": "2025-04-14T13:27:48.715Z"
   },
   {
    "duration": 206,
    "start_time": "2025-04-14T13:29:09.190Z"
   },
   {
    "duration": 124,
    "start_time": "2025-04-14T13:29:24.851Z"
   },
   {
    "duration": 13,
    "start_time": "2025-04-14T13:32:58.377Z"
   },
   {
    "duration": 449,
    "start_time": "2025-04-14T13:33:15.017Z"
   },
   {
    "duration": 54,
    "start_time": "2025-04-14T18:40:44.985Z"
   },
   {
    "duration": 8164,
    "start_time": "2025-04-14T18:41:39.536Z"
   },
   {
    "duration": 2417,
    "start_time": "2025-04-14T18:41:47.702Z"
   },
   {
    "duration": 15,
    "start_time": "2025-04-14T18:41:50.121Z"
   },
   {
    "duration": 13,
    "start_time": "2025-04-14T18:41:50.138Z"
   },
   {
    "duration": 15,
    "start_time": "2025-04-14T18:41:50.153Z"
   },
   {
    "duration": 27,
    "start_time": "2025-04-14T18:41:50.169Z"
   },
   {
    "duration": 158,
    "start_time": "2025-04-14T18:41:50.197Z"
   },
   {
    "duration": 110,
    "start_time": "2025-04-14T18:41:50.361Z"
   },
   {
    "duration": 99,
    "start_time": "2025-04-14T18:41:50.473Z"
   },
   {
    "duration": 112,
    "start_time": "2025-04-14T18:41:50.575Z"
   },
   {
    "duration": 8,
    "start_time": "2025-04-14T18:41:50.689Z"
   },
   {
    "duration": 35,
    "start_time": "2025-04-14T18:41:50.699Z"
   },
   {
    "duration": 84,
    "start_time": "2025-04-14T18:41:50.735Z"
   },
   {
    "duration": 8,
    "start_time": "2025-04-14T18:41:50.821Z"
   },
   {
    "duration": 44,
    "start_time": "2025-04-14T18:41:50.831Z"
   },
   {
    "duration": 37,
    "start_time": "2025-04-14T18:41:50.876Z"
   },
   {
    "duration": 9,
    "start_time": "2025-04-14T18:41:50.915Z"
   },
   {
    "duration": 109,
    "start_time": "2025-04-14T18:41:50.925Z"
   },
   {
    "duration": 34,
    "start_time": "2025-04-14T18:41:51.036Z"
   },
   {
    "duration": 10,
    "start_time": "2025-04-14T18:41:51.072Z"
   },
   {
    "duration": 13,
    "start_time": "2025-04-14T18:41:51.084Z"
   },
   {
    "duration": 11,
    "start_time": "2025-04-14T18:41:51.098Z"
   },
   {
    "duration": 7,
    "start_time": "2025-04-14T18:41:51.111Z"
   },
   {
    "duration": 42,
    "start_time": "2025-04-14T18:41:51.119Z"
   },
   {
    "duration": 6,
    "start_time": "2025-04-14T18:41:51.163Z"
   },
   {
    "duration": 167,
    "start_time": "2025-04-14T18:41:51.171Z"
   },
   {
    "duration": 11,
    "start_time": "2025-04-14T18:41:51.340Z"
   },
   {
    "duration": 79,
    "start_time": "2025-04-14T18:41:51.363Z"
   },
   {
    "duration": 25,
    "start_time": "2025-04-14T18:41:51.444Z"
   },
   {
    "duration": 28,
    "start_time": "2025-04-14T18:41:51.471Z"
   },
   {
    "duration": 352,
    "start_time": "2025-04-14T18:41:51.501Z"
   },
   {
    "duration": 37,
    "start_time": "2025-04-14T18:41:51.855Z"
   },
   {
    "duration": 3023,
    "start_time": "2025-04-14T18:41:51.894Z"
   },
   {
    "duration": 158,
    "start_time": "2025-04-14T18:41:54.920Z"
   },
   {
    "duration": 45,
    "start_time": "2025-04-14T18:41:55.080Z"
   },
   {
    "duration": 36,
    "start_time": "2025-04-14T18:41:55.127Z"
   },
   {
    "duration": 95,
    "start_time": "2025-04-14T18:41:55.165Z"
   },
   {
    "duration": 28,
    "start_time": "2025-04-14T18:41:55.263Z"
   },
   {
    "duration": 37,
    "start_time": "2025-04-14T18:41:55.293Z"
   },
   {
    "duration": 104,
    "start_time": "2025-04-14T18:41:55.332Z"
   },
   {
    "duration": 34,
    "start_time": "2025-04-14T18:41:55.438Z"
   },
   {
    "duration": 71,
    "start_time": "2025-04-14T18:41:55.473Z"
   },
   {
    "duration": 18,
    "start_time": "2025-04-14T18:41:55.546Z"
   },
   {
    "duration": 26,
    "start_time": "2025-04-14T18:41:55.566Z"
   },
   {
    "duration": 3,
    "start_time": "2025-04-14T18:41:55.594Z"
   },
   {
    "duration": 337,
    "start_time": "2025-04-14T18:41:55.599Z"
   },
   {
    "duration": 291,
    "start_time": "2025-04-14T18:41:55.937Z"
   },
   {
    "duration": 73,
    "start_time": "2025-04-14T18:41:56.229Z"
   },
   {
    "duration": 68,
    "start_time": "2025-04-14T18:41:56.304Z"
   },
   {
    "duration": 4,
    "start_time": "2025-04-14T18:41:56.373Z"
   },
   {
    "duration": 40,
    "start_time": "2025-04-14T18:41:56.379Z"
   },
   {
    "duration": 25,
    "start_time": "2025-04-14T18:41:56.421Z"
   },
   {
    "duration": 16,
    "start_time": "2025-04-14T18:41:56.460Z"
   },
   {
    "duration": 10,
    "start_time": "2025-04-14T18:41:56.478Z"
   },
   {
    "duration": 10,
    "start_time": "2025-04-14T18:41:56.490Z"
   },
   {
    "duration": 349,
    "start_time": "2025-04-14T18:41:56.502Z"
   },
   {
    "duration": 128,
    "start_time": "2025-04-14T18:41:56.860Z"
   },
   {
    "duration": 220,
    "start_time": "2025-04-14T18:41:56.990Z"
   },
   {
    "duration": 216,
    "start_time": "2025-04-14T18:41:57.211Z"
   },
   {
    "duration": 215,
    "start_time": "2025-04-14T18:42:49.612Z"
   },
   {
    "duration": 220,
    "start_time": "2025-04-14T18:42:57.710Z"
   },
   {
    "duration": 241,
    "start_time": "2025-04-14T18:43:04.409Z"
   },
   {
    "duration": 214,
    "start_time": "2025-04-14T18:43:11.976Z"
   },
   {
    "duration": 228,
    "start_time": "2025-04-14T18:43:19.695Z"
   },
   {
    "duration": 6,
    "start_time": "2025-04-14T18:46:20.008Z"
   },
   {
    "duration": 9,
    "start_time": "2025-04-14T18:47:00.574Z"
   },
   {
    "duration": 10,
    "start_time": "2025-04-14T18:47:23.268Z"
   },
   {
    "duration": 13,
    "start_time": "2025-04-14T19:04:58.865Z"
   },
   {
    "duration": 119,
    "start_time": "2025-04-14T19:06:53.319Z"
   },
   {
    "duration": 129,
    "start_time": "2025-04-14T19:07:28.112Z"
   },
   {
    "duration": 241,
    "start_time": "2025-04-14T19:07:47.312Z"
   },
   {
    "duration": 218,
    "start_time": "2025-04-14T19:09:04.563Z"
   },
   {
    "duration": 123,
    "start_time": "2025-04-14T19:13:12.274Z"
   },
   {
    "duration": 141,
    "start_time": "2025-04-14T19:13:18.895Z"
   },
   {
    "duration": 131,
    "start_time": "2025-04-14T19:13:35.378Z"
   },
   {
    "duration": 126,
    "start_time": "2025-04-14T19:13:56.011Z"
   },
   {
    "duration": 115,
    "start_time": "2025-04-14T19:15:57.962Z"
   },
   {
    "duration": 103,
    "start_time": "2025-04-14T19:17:04.094Z"
   },
   {
    "duration": 14,
    "start_time": "2025-04-14T19:17:46.540Z"
   },
   {
    "duration": 12,
    "start_time": "2025-04-14T19:24:20.533Z"
   },
   {
    "duration": 25,
    "start_time": "2025-04-14T19:25:21.194Z"
   },
   {
    "duration": 25,
    "start_time": "2025-04-14T19:26:11.334Z"
   },
   {
    "duration": 19,
    "start_time": "2025-04-14T19:26:31.484Z"
   },
   {
    "duration": 10,
    "start_time": "2025-04-14T19:27:23.918Z"
   },
   {
    "duration": 10,
    "start_time": "2025-04-14T19:27:24.299Z"
   },
   {
    "duration": 116,
    "start_time": "2025-04-14T19:27:25.833Z"
   },
   {
    "duration": 18,
    "start_time": "2025-04-14T19:27:27.833Z"
   },
   {
    "duration": 3664,
    "start_time": "2025-04-14T19:30:44.047Z"
   },
   {
    "duration": 2588,
    "start_time": "2025-04-14T19:30:47.713Z"
   },
   {
    "duration": 11,
    "start_time": "2025-04-14T19:30:50.303Z"
   },
   {
    "duration": 49,
    "start_time": "2025-04-14T19:30:50.316Z"
   },
   {
    "duration": 17,
    "start_time": "2025-04-14T19:30:50.366Z"
   },
   {
    "duration": 21,
    "start_time": "2025-04-14T19:30:50.385Z"
   },
   {
    "duration": 103,
    "start_time": "2025-04-14T19:30:50.408Z"
   },
   {
    "duration": 94,
    "start_time": "2025-04-14T19:30:50.513Z"
   },
   {
    "duration": 92,
    "start_time": "2025-04-14T19:30:50.609Z"
   },
   {
    "duration": 99,
    "start_time": "2025-04-14T19:30:50.703Z"
   },
   {
    "duration": 7,
    "start_time": "2025-04-14T19:30:50.803Z"
   },
   {
    "duration": 23,
    "start_time": "2025-04-14T19:30:50.811Z"
   },
   {
    "duration": 53,
    "start_time": "2025-04-14T19:30:50.835Z"
   },
   {
    "duration": 52,
    "start_time": "2025-04-14T19:30:50.890Z"
   },
   {
    "duration": 39,
    "start_time": "2025-04-14T19:30:50.944Z"
   },
   {
    "duration": 34,
    "start_time": "2025-04-14T19:30:50.984Z"
   },
   {
    "duration": 7,
    "start_time": "2025-04-14T19:30:51.019Z"
   },
   {
    "duration": 34,
    "start_time": "2025-04-14T19:30:51.027Z"
   },
   {
    "duration": 20,
    "start_time": "2025-04-14T19:30:51.062Z"
   },
   {
    "duration": 9,
    "start_time": "2025-04-14T19:30:51.083Z"
   },
   {
    "duration": 105,
    "start_time": "2025-04-14T19:30:51.093Z"
   },
   {
    "duration": 9,
    "start_time": "2025-04-14T19:30:51.199Z"
   },
   {
    "duration": 13,
    "start_time": "2025-04-14T19:30:51.210Z"
   },
   {
    "duration": 13,
    "start_time": "2025-04-14T19:30:51.224Z"
   },
   {
    "duration": 7,
    "start_time": "2025-04-14T19:30:51.238Z"
   },
   {
    "duration": 144,
    "start_time": "2025-04-14T19:30:51.246Z"
   },
   {
    "duration": 11,
    "start_time": "2025-04-14T19:30:51.392Z"
   },
   {
    "duration": 85,
    "start_time": "2025-04-14T19:30:51.406Z"
   },
   {
    "duration": 15,
    "start_time": "2025-04-14T19:30:51.493Z"
   },
   {
    "duration": 33,
    "start_time": "2025-04-14T19:30:51.509Z"
   },
   {
    "duration": 316,
    "start_time": "2025-04-14T19:30:51.543Z"
   },
   {
    "duration": 33,
    "start_time": "2025-04-14T19:30:51.860Z"
   },
   {
    "duration": 2710,
    "start_time": "2025-04-14T19:30:51.895Z"
   },
   {
    "duration": 139,
    "start_time": "2025-04-14T19:30:54.606Z"
   },
   {
    "duration": 45,
    "start_time": "2025-04-14T19:30:54.746Z"
   },
   {
    "duration": 20,
    "start_time": "2025-04-14T19:30:54.793Z"
   },
   {
    "duration": 87,
    "start_time": "2025-04-14T19:30:54.815Z"
   },
   {
    "duration": 24,
    "start_time": "2025-04-14T19:30:54.904Z"
   },
   {
    "duration": 54,
    "start_time": "2025-04-14T19:30:54.929Z"
   },
   {
    "duration": 76,
    "start_time": "2025-04-14T19:30:54.985Z"
   },
   {
    "duration": 18,
    "start_time": "2025-04-14T19:30:55.062Z"
   },
   {
    "duration": 61,
    "start_time": "2025-04-14T19:30:55.081Z"
   },
   {
    "duration": 9,
    "start_time": "2025-04-14T19:30:55.160Z"
   },
   {
    "duration": 22,
    "start_time": "2025-04-14T19:30:55.170Z"
   },
   {
    "duration": 4,
    "start_time": "2025-04-14T19:30:55.193Z"
   },
   {
    "duration": 273,
    "start_time": "2025-04-14T19:30:55.198Z"
   },
   {
    "duration": 274,
    "start_time": "2025-04-14T19:30:55.473Z"
   },
   {
    "duration": 81,
    "start_time": "2025-04-14T19:30:55.750Z"
   },
   {
    "duration": 69,
    "start_time": "2025-04-14T19:30:55.833Z"
   },
   {
    "duration": 4,
    "start_time": "2025-04-14T19:30:55.903Z"
   },
   {
    "duration": 27,
    "start_time": "2025-04-14T19:30:55.908Z"
   },
   {
    "duration": 37,
    "start_time": "2025-04-14T19:30:55.937Z"
   },
   {
    "duration": 16,
    "start_time": "2025-04-14T19:30:55.976Z"
   },
   {
    "duration": 85,
    "start_time": "2025-04-14T19:30:55.993Z"
   },
   {
    "duration": 16,
    "start_time": "2025-04-14T19:30:56.080Z"
   },
   {
    "duration": 110,
    "start_time": "2025-04-14T19:30:56.098Z"
   },
   {
    "duration": 59025,
    "start_time": "2025-04-14T19:30:56.210Z"
   },
   {
    "duration": 5814,
    "start_time": "2025-04-14T19:39:22.374Z"
   },
   {
    "duration": 980,
    "start_time": "2025-04-14T19:41:57.956Z"
   },
   {
    "duration": 113,
    "start_time": "2025-04-14T19:42:09.290Z"
   },
   {
    "duration": 135,
    "start_time": "2025-04-14T19:42:19.340Z"
   },
   {
    "duration": 176,
    "start_time": "2025-04-14T19:43:03.338Z"
   },
   {
    "duration": 183,
    "start_time": "2025-04-14T19:43:12.690Z"
   },
   {
    "duration": 188,
    "start_time": "2025-04-14T19:43:25.822Z"
   },
   {
    "duration": 190,
    "start_time": "2025-04-14T19:43:34.305Z"
   },
   {
    "duration": 189,
    "start_time": "2025-04-14T19:44:06.622Z"
   },
   {
    "duration": 187,
    "start_time": "2025-04-14T19:44:12.863Z"
   },
   {
    "duration": 147,
    "start_time": "2025-04-14T19:48:27.472Z"
   },
   {
    "duration": 413,
    "start_time": "2025-04-14T19:48:41.060Z"
   },
   {
    "duration": 123,
    "start_time": "2025-04-14T19:52:30.773Z"
   },
   {
    "duration": 131,
    "start_time": "2025-04-14T19:52:41.539Z"
   },
   {
    "duration": 101,
    "start_time": "2025-04-14T19:54:15.597Z"
   },
   {
    "duration": 3804,
    "start_time": "2025-04-14T19:54:35.256Z"
   },
   {
    "duration": 2357,
    "start_time": "2025-04-14T19:54:39.062Z"
   },
   {
    "duration": 12,
    "start_time": "2025-04-14T19:54:41.421Z"
   },
   {
    "duration": 11,
    "start_time": "2025-04-14T19:54:41.435Z"
   },
   {
    "duration": 12,
    "start_time": "2025-04-14T19:54:41.448Z"
   },
   {
    "duration": 24,
    "start_time": "2025-04-14T19:54:41.461Z"
   },
   {
    "duration": 100,
    "start_time": "2025-04-14T19:54:41.486Z"
   },
   {
    "duration": 96,
    "start_time": "2025-04-14T19:54:41.588Z"
   },
   {
    "duration": 91,
    "start_time": "2025-04-14T19:54:41.685Z"
   },
   {
    "duration": 97,
    "start_time": "2025-04-14T19:54:41.778Z"
   },
   {
    "duration": 7,
    "start_time": "2025-04-14T19:54:41.876Z"
   },
   {
    "duration": 20,
    "start_time": "2025-04-14T19:54:41.885Z"
   },
   {
    "duration": 15,
    "start_time": "2025-04-14T19:54:41.907Z"
   },
   {
    "duration": 8,
    "start_time": "2025-04-14T19:54:41.924Z"
   },
   {
    "duration": 37,
    "start_time": "2025-04-14T19:54:41.961Z"
   },
   {
    "duration": 34,
    "start_time": "2025-04-14T19:54:42.000Z"
   },
   {
    "duration": 26,
    "start_time": "2025-04-14T19:54:42.036Z"
   },
   {
    "duration": 23,
    "start_time": "2025-04-14T19:54:42.064Z"
   },
   {
    "duration": 63,
    "start_time": "2025-04-14T19:54:42.088Z"
   },
   {
    "duration": 9,
    "start_time": "2025-04-14T19:54:42.152Z"
   },
   {
    "duration": 16,
    "start_time": "2025-04-14T19:54:42.163Z"
   },
   {
    "duration": 9,
    "start_time": "2025-04-14T19:54:42.181Z"
   },
   {
    "duration": 11,
    "start_time": "2025-04-14T19:54:42.191Z"
   },
   {
    "duration": 18,
    "start_time": "2025-04-14T19:54:42.204Z"
   },
   {
    "duration": 6,
    "start_time": "2025-04-14T19:54:42.224Z"
   },
   {
    "duration": 163,
    "start_time": "2025-04-14T19:54:42.231Z"
   },
   {
    "duration": 10,
    "start_time": "2025-04-14T19:54:42.395Z"
   },
   {
    "duration": 134,
    "start_time": "2025-04-14T19:54:42.408Z"
   },
   {
    "duration": 15,
    "start_time": "2025-04-14T19:54:42.544Z"
   },
   {
    "duration": 27,
    "start_time": "2025-04-14T19:54:42.561Z"
   },
   {
    "duration": 351,
    "start_time": "2025-04-14T19:54:42.590Z"
   },
   {
    "duration": 31,
    "start_time": "2025-04-14T19:54:42.943Z"
   },
   {
    "duration": 2713,
    "start_time": "2025-04-14T19:54:42.976Z"
   },
   {
    "duration": 184,
    "start_time": "2025-04-14T19:54:45.691Z"
   },
   {
    "duration": 40,
    "start_time": "2025-04-14T19:54:45.876Z"
   },
   {
    "duration": 21,
    "start_time": "2025-04-14T19:54:45.918Z"
   },
   {
    "duration": 92,
    "start_time": "2025-04-14T19:54:45.941Z"
   },
   {
    "duration": 39,
    "start_time": "2025-04-14T19:54:46.034Z"
   },
   {
    "duration": 128,
    "start_time": "2025-04-14T19:54:46.075Z"
   },
   {
    "duration": 73,
    "start_time": "2025-04-14T19:54:46.204Z"
   },
   {
    "duration": 17,
    "start_time": "2025-04-14T19:54:46.279Z"
   },
   {
    "duration": 78,
    "start_time": "2025-04-14T19:54:46.298Z"
   },
   {
    "duration": 4,
    "start_time": "2025-04-14T19:54:46.378Z"
   },
   {
    "duration": 29,
    "start_time": "2025-04-14T19:54:46.383Z"
   },
   {
    "duration": 71,
    "start_time": "2025-04-14T19:54:46.413Z"
   },
   {
    "duration": 315,
    "start_time": "2025-04-14T19:54:46.485Z"
   },
   {
    "duration": 270,
    "start_time": "2025-04-14T19:54:46.801Z"
   },
   {
    "duration": 64,
    "start_time": "2025-04-14T19:54:47.073Z"
   },
   {
    "duration": 73,
    "start_time": "2025-04-14T19:54:47.139Z"
   },
   {
    "duration": 3,
    "start_time": "2025-04-14T19:54:47.214Z"
   },
   {
    "duration": 45,
    "start_time": "2025-04-14T19:54:47.218Z"
   },
   {
    "duration": 23,
    "start_time": "2025-04-14T19:54:47.265Z"
   },
   {
    "duration": 15,
    "start_time": "2025-04-14T19:54:47.289Z"
   },
   {
    "duration": 22,
    "start_time": "2025-04-14T19:54:47.305Z"
   },
   {
    "duration": 9,
    "start_time": "2025-04-14T19:54:47.328Z"
   },
   {
    "duration": 208,
    "start_time": "2025-04-14T19:54:47.339Z"
   },
   {
    "duration": 114,
    "start_time": "2025-04-14T19:54:47.549Z"
   },
   {
    "duration": 13,
    "start_time": "2025-04-14T19:55:27.022Z"
   },
   {
    "duration": 631,
    "start_time": "2025-04-14T19:56:04.039Z"
   },
   {
    "duration": 553,
    "start_time": "2025-04-14T19:57:35.525Z"
   },
   {
    "duration": 194,
    "start_time": "2025-04-14T20:02:28.449Z"
   },
   {
    "duration": 37,
    "start_time": "2025-04-14T20:03:27.685Z"
   },
   {
    "duration": 15,
    "start_time": "2025-04-14T20:11:10.895Z"
   },
   {
    "duration": 10,
    "start_time": "2025-04-14T20:11:27.617Z"
   },
   {
    "duration": 16,
    "start_time": "2025-04-14T20:14:28.719Z"
   },
   {
    "duration": 43,
    "start_time": "2025-04-14T20:15:58.342Z"
   },
   {
    "duration": 7,
    "start_time": "2025-04-14T20:16:28.720Z"
   },
   {
    "duration": 13,
    "start_time": "2025-04-14T20:16:40.426Z"
   },
   {
    "duration": 15,
    "start_time": "2025-04-14T20:16:58.683Z"
   },
   {
    "duration": 50,
    "start_time": "2025-04-15T08:52:52.127Z"
   },
   {
    "duration": 8612,
    "start_time": "2025-04-15T08:57:16.113Z"
   },
   {
    "duration": 2961,
    "start_time": "2025-04-15T08:57:24.727Z"
   },
   {
    "duration": 16,
    "start_time": "2025-04-15T08:57:27.691Z"
   },
   {
    "duration": 73,
    "start_time": "2025-04-15T08:57:27.709Z"
   },
   {
    "duration": 10,
    "start_time": "2025-04-15T08:57:27.783Z"
   },
   {
    "duration": 34,
    "start_time": "2025-04-15T08:57:27.794Z"
   },
   {
    "duration": 106,
    "start_time": "2025-04-15T08:57:27.830Z"
   },
   {
    "duration": 111,
    "start_time": "2025-04-15T08:57:27.937Z"
   },
   {
    "duration": 98,
    "start_time": "2025-04-15T08:57:28.049Z"
   },
   {
    "duration": 119,
    "start_time": "2025-04-15T08:57:28.150Z"
   },
   {
    "duration": 12,
    "start_time": "2025-04-15T08:57:28.271Z"
   },
   {
    "duration": 23,
    "start_time": "2025-04-15T08:57:28.286Z"
   },
   {
    "duration": 53,
    "start_time": "2025-04-15T08:57:28.310Z"
   },
   {
    "duration": 39,
    "start_time": "2025-04-15T08:57:28.365Z"
   },
   {
    "duration": 46,
    "start_time": "2025-04-15T08:57:28.406Z"
   },
   {
    "duration": 47,
    "start_time": "2025-04-15T08:57:28.454Z"
   },
   {
    "duration": 94,
    "start_time": "2025-04-15T08:57:28.503Z"
   },
   {
    "duration": 29,
    "start_time": "2025-04-15T08:57:28.600Z"
   },
   {
    "duration": 22,
    "start_time": "2025-04-15T08:57:28.631Z"
   },
   {
    "duration": 16,
    "start_time": "2025-04-15T08:57:28.655Z"
   },
   {
    "duration": 23,
    "start_time": "2025-04-15T08:57:28.674Z"
   },
   {
    "duration": 18,
    "start_time": "2025-04-15T08:57:28.698Z"
   },
   {
    "duration": 32,
    "start_time": "2025-04-15T08:57:28.718Z"
   },
   {
    "duration": 64,
    "start_time": "2025-04-15T08:57:28.753Z"
   },
   {
    "duration": 77,
    "start_time": "2025-04-15T08:57:28.819Z"
   },
   {
    "duration": 172,
    "start_time": "2025-04-15T08:57:28.898Z"
   },
   {
    "duration": 12,
    "start_time": "2025-04-15T08:57:29.073Z"
   },
   {
    "duration": 100,
    "start_time": "2025-04-15T08:57:29.088Z"
   },
   {
    "duration": 15,
    "start_time": "2025-04-15T08:57:29.189Z"
   },
   {
    "duration": 30,
    "start_time": "2025-04-15T08:57:29.205Z"
   },
   {
    "duration": 410,
    "start_time": "2025-04-15T08:57:29.237Z"
   },
   {
    "duration": 36,
    "start_time": "2025-04-15T08:57:29.649Z"
   },
   {
    "duration": 3127,
    "start_time": "2025-04-15T08:57:29.687Z"
   },
   {
    "duration": 176,
    "start_time": "2025-04-15T08:57:32.815Z"
   },
   {
    "duration": 45,
    "start_time": "2025-04-15T08:57:32.992Z"
   },
   {
    "duration": 45,
    "start_time": "2025-04-15T08:57:33.039Z"
   },
   {
    "duration": 88,
    "start_time": "2025-04-15T08:57:33.086Z"
   },
   {
    "duration": 32,
    "start_time": "2025-04-15T08:57:33.176Z"
   },
   {
    "duration": 63,
    "start_time": "2025-04-15T08:57:33.210Z"
   },
   {
    "duration": 78,
    "start_time": "2025-04-15T08:57:33.277Z"
   },
   {
    "duration": 20,
    "start_time": "2025-04-15T08:57:33.357Z"
   },
   {
    "duration": 84,
    "start_time": "2025-04-15T08:57:33.379Z"
   },
   {
    "duration": 6,
    "start_time": "2025-04-15T08:57:33.465Z"
   },
   {
    "duration": 35,
    "start_time": "2025-04-15T08:57:33.473Z"
   },
   {
    "duration": 9,
    "start_time": "2025-04-15T08:57:33.510Z"
   },
   {
    "duration": 294,
    "start_time": "2025-04-15T08:57:33.520Z"
   },
   {
    "duration": 287,
    "start_time": "2025-04-15T08:57:33.816Z"
   },
   {
    "duration": 79,
    "start_time": "2025-04-15T08:57:34.105Z"
   },
   {
    "duration": 59,
    "start_time": "2025-04-15T08:57:34.185Z"
   },
   {
    "duration": 16,
    "start_time": "2025-04-15T08:57:34.246Z"
   },
   {
    "duration": 38,
    "start_time": "2025-04-15T08:57:34.264Z"
   },
   {
    "duration": 24,
    "start_time": "2025-04-15T08:57:34.304Z"
   },
   {
    "duration": 90,
    "start_time": "2025-04-15T08:57:34.330Z"
   },
   {
    "duration": 18,
    "start_time": "2025-04-15T08:57:34.422Z"
   },
   {
    "duration": 9,
    "start_time": "2025-04-15T08:57:34.442Z"
   },
   {
    "duration": 221,
    "start_time": "2025-04-15T08:57:34.452Z"
   },
   {
    "duration": 10,
    "start_time": "2025-04-15T08:57:34.674Z"
   },
   {
    "duration": 24,
    "start_time": "2025-04-15T08:57:34.687Z"
   },
   {
    "duration": 101,
    "start_time": "2025-04-15T08:57:34.712Z"
   },
   {
    "duration": 320,
    "start_time": "2025-04-15T09:01:14.319Z"
   },
   {
    "duration": 9,
    "start_time": "2025-04-15T09:02:51.793Z"
   },
   {
    "duration": 8,
    "start_time": "2025-04-15T09:03:13.810Z"
   },
   {
    "duration": 8,
    "start_time": "2025-04-15T09:11:18.288Z"
   },
   {
    "duration": 29,
    "start_time": "2025-04-15T09:18:58.327Z"
   },
   {
    "duration": 34,
    "start_time": "2025-04-15T09:19:37.137Z"
   },
   {
    "duration": 118,
    "start_time": "2025-04-15T09:20:46.922Z"
   },
   {
    "duration": 65,
    "start_time": "2025-04-15T09:21:00.861Z"
   },
   {
    "duration": 26,
    "start_time": "2025-04-15T09:26:20.072Z"
   },
   {
    "duration": 18,
    "start_time": "2025-04-15T09:26:22.175Z"
   },
   {
    "duration": 60,
    "start_time": "2025-04-15T09:29:40.841Z"
   },
   {
    "duration": 18,
    "start_time": "2025-04-15T09:29:41.340Z"
   },
   {
    "duration": 15,
    "start_time": "2025-04-15T09:30:24.960Z"
   },
   {
    "duration": 11,
    "start_time": "2025-04-15T09:31:17.596Z"
   },
   {
    "duration": 21,
    "start_time": "2025-04-15T09:36:57.510Z"
   },
   {
    "duration": 901,
    "start_time": "2025-04-15T09:37:25.591Z"
   },
   {
    "duration": 47,
    "start_time": "2025-04-15T09:38:50.790Z"
   },
   {
    "duration": 9417,
    "start_time": "2025-04-15T09:41:51.446Z"
   },
   {
    "duration": 32,
    "start_time": "2025-04-15T09:46:09.775Z"
   },
   {
    "duration": 12,
    "start_time": "2025-04-15T09:46:17.786Z"
   },
   {
    "duration": 9451,
    "start_time": "2025-04-15T09:46:19.560Z"
   },
   {
    "duration": 53,
    "start_time": "2025-04-15T09:46:38.043Z"
   },
   {
    "duration": 21,
    "start_time": "2025-04-15T09:46:59.677Z"
   },
   {
    "duration": 69,
    "start_time": "2025-04-15T09:47:12.978Z"
   },
   {
    "duration": 19,
    "start_time": "2025-04-15T09:47:25.960Z"
   },
   {
    "duration": 52,
    "start_time": "2025-04-15T09:47:29.524Z"
   },
   {
    "duration": 18,
    "start_time": "2025-04-15T09:47:30.697Z"
   },
   {
    "duration": 33,
    "start_time": "2025-04-15T09:48:07.996Z"
   },
   {
    "duration": 52,
    "start_time": "2025-04-15T09:48:12.992Z"
   },
   {
    "duration": 13,
    "start_time": "2025-04-15T09:49:33.212Z"
   },
   {
    "duration": 4014,
    "start_time": "2025-04-15T09:55:50.104Z"
   },
   {
    "duration": 3046,
    "start_time": "2025-04-15T09:55:54.120Z"
   },
   {
    "duration": 12,
    "start_time": "2025-04-15T09:55:57.168Z"
   },
   {
    "duration": 13,
    "start_time": "2025-04-15T09:55:57.182Z"
   },
   {
    "duration": 23,
    "start_time": "2025-04-15T09:55:57.197Z"
   },
   {
    "duration": 42,
    "start_time": "2025-04-15T09:55:57.222Z"
   },
   {
    "duration": 173,
    "start_time": "2025-04-15T09:55:57.266Z"
   },
   {
    "duration": 103,
    "start_time": "2025-04-15T09:55:57.441Z"
   },
   {
    "duration": 96,
    "start_time": "2025-04-15T09:55:57.545Z"
   },
   {
    "duration": 117,
    "start_time": "2025-04-15T09:55:57.645Z"
   },
   {
    "duration": 8,
    "start_time": "2025-04-15T09:55:57.764Z"
   },
   {
    "duration": 34,
    "start_time": "2025-04-15T09:55:57.773Z"
   },
   {
    "duration": 19,
    "start_time": "2025-04-15T09:55:57.809Z"
   },
   {
    "duration": 18,
    "start_time": "2025-04-15T09:55:57.830Z"
   },
   {
    "duration": 47,
    "start_time": "2025-04-15T09:55:57.849Z"
   },
   {
    "duration": 50,
    "start_time": "2025-04-15T09:55:57.898Z"
   },
   {
    "duration": 12,
    "start_time": "2025-04-15T09:55:57.950Z"
   },
   {
    "duration": 25,
    "start_time": "2025-04-15T09:55:57.964Z"
   },
   {
    "duration": 98,
    "start_time": "2025-04-15T09:55:57.990Z"
   },
   {
    "duration": 27,
    "start_time": "2025-04-15T09:55:58.090Z"
   },
   {
    "duration": 30,
    "start_time": "2025-04-15T09:55:58.119Z"
   },
   {
    "duration": 11,
    "start_time": "2025-04-15T09:55:58.150Z"
   },
   {
    "duration": 13,
    "start_time": "2025-04-15T09:55:58.162Z"
   },
   {
    "duration": 9,
    "start_time": "2025-04-15T09:55:58.177Z"
   },
   {
    "duration": 6,
    "start_time": "2025-04-15T09:55:58.188Z"
   },
   {
    "duration": 226,
    "start_time": "2025-04-15T09:55:58.196Z"
   },
   {
    "duration": 12,
    "start_time": "2025-04-15T09:55:58.424Z"
   },
   {
    "duration": 94,
    "start_time": "2025-04-15T09:55:58.440Z"
   },
   {
    "duration": 15,
    "start_time": "2025-04-15T09:55:58.536Z"
   },
   {
    "duration": 36,
    "start_time": "2025-04-15T09:55:58.553Z"
   },
   {
    "duration": 421,
    "start_time": "2025-04-15T09:55:58.590Z"
   },
   {
    "duration": 35,
    "start_time": "2025-04-15T09:55:59.013Z"
   },
   {
    "duration": 3093,
    "start_time": "2025-04-15T09:55:59.050Z"
   },
   {
    "duration": 179,
    "start_time": "2025-04-15T09:56:02.145Z"
   },
   {
    "duration": 55,
    "start_time": "2025-04-15T09:56:02.326Z"
   },
   {
    "duration": 23,
    "start_time": "2025-04-15T09:56:02.383Z"
   },
   {
    "duration": 103,
    "start_time": "2025-04-15T09:56:02.408Z"
   },
   {
    "duration": 29,
    "start_time": "2025-04-15T09:56:02.513Z"
   },
   {
    "duration": 69,
    "start_time": "2025-04-15T09:56:02.543Z"
   },
   {
    "duration": 96,
    "start_time": "2025-04-15T09:56:02.614Z"
   },
   {
    "duration": 39,
    "start_time": "2025-04-15T09:56:02.711Z"
   },
   {
    "duration": 69,
    "start_time": "2025-04-15T09:56:02.752Z"
   },
   {
    "duration": 25,
    "start_time": "2025-04-15T09:56:02.822Z"
   },
   {
    "duration": 108,
    "start_time": "2025-04-15T09:56:02.849Z"
   },
   {
    "duration": 60,
    "start_time": "2025-04-15T09:56:02.958Z"
   },
   {
    "duration": 294,
    "start_time": "2025-04-15T09:56:03.020Z"
   },
   {
    "duration": 299,
    "start_time": "2025-04-15T09:56:03.316Z"
   },
   {
    "duration": 75,
    "start_time": "2025-04-15T09:56:03.617Z"
   },
   {
    "duration": 59,
    "start_time": "2025-04-15T09:56:03.694Z"
   },
   {
    "duration": 3,
    "start_time": "2025-04-15T09:56:03.763Z"
   },
   {
    "duration": 48,
    "start_time": "2025-04-15T09:56:03.768Z"
   },
   {
    "duration": 25,
    "start_time": "2025-04-15T09:56:03.818Z"
   },
   {
    "duration": 20,
    "start_time": "2025-04-15T09:56:03.844Z"
   },
   {
    "duration": 50,
    "start_time": "2025-04-15T09:56:03.866Z"
   },
   {
    "duration": 13,
    "start_time": "2025-04-15T09:56:03.918Z"
   },
   {
    "duration": 13,
    "start_time": "2025-04-15T09:56:03.933Z"
   },
   {
    "duration": 223,
    "start_time": "2025-04-15T09:56:03.948Z"
   },
   {
    "duration": 4033,
    "start_time": "2025-04-15T09:56:27.185Z"
   },
   {
    "duration": 2473,
    "start_time": "2025-04-15T09:56:31.220Z"
   },
   {
    "duration": 14,
    "start_time": "2025-04-15T09:56:33.695Z"
   },
   {
    "duration": 13,
    "start_time": "2025-04-15T09:56:33.711Z"
   },
   {
    "duration": 25,
    "start_time": "2025-04-15T09:56:33.725Z"
   },
   {
    "duration": 25,
    "start_time": "2025-04-15T09:56:33.751Z"
   },
   {
    "duration": 116,
    "start_time": "2025-04-15T09:56:33.778Z"
   },
   {
    "duration": 103,
    "start_time": "2025-04-15T09:56:33.896Z"
   },
   {
    "duration": 103,
    "start_time": "2025-04-15T09:56:34.001Z"
   },
   {
    "duration": 110,
    "start_time": "2025-04-15T09:56:34.107Z"
   },
   {
    "duration": 8,
    "start_time": "2025-04-15T09:56:34.219Z"
   },
   {
    "duration": 99,
    "start_time": "2025-04-15T09:56:34.228Z"
   },
   {
    "duration": 36,
    "start_time": "2025-04-15T09:56:34.329Z"
   },
   {
    "duration": 10,
    "start_time": "2025-04-15T09:56:34.367Z"
   },
   {
    "duration": 63,
    "start_time": "2025-04-15T09:56:34.378Z"
   },
   {
    "duration": 37,
    "start_time": "2025-04-15T09:56:34.443Z"
   },
   {
    "duration": 40,
    "start_time": "2025-04-15T09:56:34.481Z"
   },
   {
    "duration": 34,
    "start_time": "2025-04-15T09:56:34.523Z"
   },
   {
    "duration": 22,
    "start_time": "2025-04-15T09:56:34.559Z"
   },
   {
    "duration": 17,
    "start_time": "2025-04-15T09:56:34.582Z"
   },
   {
    "duration": 45,
    "start_time": "2025-04-15T09:56:34.601Z"
   },
   {
    "duration": 112,
    "start_time": "2025-04-15T09:56:34.647Z"
   },
   {
    "duration": 27,
    "start_time": "2025-04-15T09:56:34.761Z"
   },
   {
    "duration": 22,
    "start_time": "2025-04-15T09:56:34.790Z"
   },
   {
    "duration": 19,
    "start_time": "2025-04-15T09:56:34.813Z"
   },
   {
    "duration": 161,
    "start_time": "2025-04-15T09:56:34.834Z"
   },
   {
    "duration": 12,
    "start_time": "2025-04-15T09:56:34.997Z"
   },
   {
    "duration": 99,
    "start_time": "2025-04-15T09:56:35.014Z"
   },
   {
    "duration": 17,
    "start_time": "2025-04-15T09:56:35.114Z"
   },
   {
    "duration": 90,
    "start_time": "2025-04-15T09:56:35.133Z"
   },
   {
    "duration": 402,
    "start_time": "2025-04-15T09:56:35.225Z"
   },
   {
    "duration": 36,
    "start_time": "2025-04-15T09:56:35.628Z"
   },
   {
    "duration": 3068,
    "start_time": "2025-04-15T09:56:35.666Z"
   },
   {
    "duration": 169,
    "start_time": "2025-04-15T09:56:38.736Z"
   },
   {
    "duration": 55,
    "start_time": "2025-04-15T09:56:38.907Z"
   },
   {
    "duration": 24,
    "start_time": "2025-04-15T09:56:38.964Z"
   },
   {
    "duration": 94,
    "start_time": "2025-04-15T09:56:38.989Z"
   },
   {
    "duration": 29,
    "start_time": "2025-04-15T09:56:39.084Z"
   },
   {
    "duration": 114,
    "start_time": "2025-04-15T09:56:39.114Z"
   },
   {
    "duration": 81,
    "start_time": "2025-04-15T09:56:39.230Z"
   },
   {
    "duration": 18,
    "start_time": "2025-04-15T09:56:39.313Z"
   },
   {
    "duration": 75,
    "start_time": "2025-04-15T09:56:39.332Z"
   },
   {
    "duration": 4,
    "start_time": "2025-04-15T09:56:39.409Z"
   },
   {
    "duration": 31,
    "start_time": "2025-04-15T09:56:39.414Z"
   },
   {
    "duration": 17,
    "start_time": "2025-04-15T09:56:39.447Z"
   },
   {
    "duration": 278,
    "start_time": "2025-04-15T09:56:39.466Z"
   },
   {
    "duration": 293,
    "start_time": "2025-04-15T09:56:39.746Z"
   },
   {
    "duration": 70,
    "start_time": "2025-04-15T09:56:40.040Z"
   },
   {
    "duration": 68,
    "start_time": "2025-04-15T09:56:40.111Z"
   },
   {
    "duration": 3,
    "start_time": "2025-04-15T09:56:40.181Z"
   },
   {
    "duration": 41,
    "start_time": "2025-04-15T09:56:40.186Z"
   },
   {
    "duration": 91,
    "start_time": "2025-04-15T09:56:40.228Z"
   },
   {
    "duration": 18,
    "start_time": "2025-04-15T09:56:40.320Z"
   },
   {
    "duration": 11,
    "start_time": "2025-04-15T09:56:40.340Z"
   },
   {
    "duration": 11,
    "start_time": "2025-04-15T09:56:40.353Z"
   },
   {
    "duration": 8,
    "start_time": "2025-04-15T09:56:40.366Z"
   },
   {
    "duration": 243,
    "start_time": "2025-04-15T09:56:40.375Z"
   },
   {
    "duration": 62,
    "start_time": "2025-04-15T09:58:01.412Z"
   },
   {
    "duration": 6,
    "start_time": "2025-04-15T09:58:08.180Z"
   },
   {
    "duration": 7,
    "start_time": "2025-04-15T09:59:14.278Z"
   },
   {
    "duration": 8,
    "start_time": "2025-04-15T09:59:14.973Z"
   },
   {
    "duration": 4078,
    "start_time": "2025-04-15T09:59:25.387Z"
   },
   {
    "duration": 1955,
    "start_time": "2025-04-15T09:59:29.467Z"
   },
   {
    "duration": 13,
    "start_time": "2025-04-15T09:59:31.424Z"
   },
   {
    "duration": 23,
    "start_time": "2025-04-15T09:59:31.439Z"
   },
   {
    "duration": 32,
    "start_time": "2025-04-15T09:59:31.463Z"
   },
   {
    "duration": 101,
    "start_time": "2025-04-15T09:59:31.498Z"
   },
   {
    "duration": 123,
    "start_time": "2025-04-15T09:59:31.601Z"
   },
   {
    "duration": 104,
    "start_time": "2025-04-15T09:59:31.726Z"
   },
   {
    "duration": 97,
    "start_time": "2025-04-15T09:59:31.832Z"
   },
   {
    "duration": 109,
    "start_time": "2025-04-15T09:59:31.933Z"
   },
   {
    "duration": 9,
    "start_time": "2025-04-15T09:59:32.044Z"
   },
   {
    "duration": 92,
    "start_time": "2025-04-15T09:59:32.063Z"
   },
   {
    "duration": 55,
    "start_time": "2025-04-15T09:59:32.157Z"
   },
   {
    "duration": 66,
    "start_time": "2025-04-15T09:59:32.214Z"
   },
   {
    "duration": 84,
    "start_time": "2025-04-15T09:59:32.282Z"
   },
   {
    "duration": 38,
    "start_time": "2025-04-15T09:59:32.368Z"
   },
   {
    "duration": 18,
    "start_time": "2025-04-15T09:59:32.408Z"
   },
   {
    "duration": 41,
    "start_time": "2025-04-15T09:59:32.428Z"
   },
   {
    "duration": 52,
    "start_time": "2025-04-15T09:59:32.471Z"
   },
   {
    "duration": 46,
    "start_time": "2025-04-15T09:59:32.525Z"
   },
   {
    "duration": 80,
    "start_time": "2025-04-15T09:59:32.573Z"
   },
   {
    "duration": 99,
    "start_time": "2025-04-15T09:59:32.655Z"
   },
   {
    "duration": 62,
    "start_time": "2025-04-15T09:59:32.756Z"
   },
   {
    "duration": 59,
    "start_time": "2025-04-15T09:59:32.820Z"
   },
   {
    "duration": 95,
    "start_time": "2025-04-15T09:59:32.882Z"
   },
   {
    "duration": 189,
    "start_time": "2025-04-15T09:59:32.979Z"
   },
   {
    "duration": 12,
    "start_time": "2025-04-15T09:59:33.170Z"
   },
   {
    "duration": 158,
    "start_time": "2025-04-15T09:59:33.186Z"
   },
   {
    "duration": 21,
    "start_time": "2025-04-15T09:59:33.345Z"
   },
   {
    "duration": 47,
    "start_time": "2025-04-15T09:59:33.367Z"
   },
   {
    "duration": 387,
    "start_time": "2025-04-15T09:59:33.416Z"
   },
   {
    "duration": 34,
    "start_time": "2025-04-15T09:59:33.806Z"
   },
   {
    "duration": 3104,
    "start_time": "2025-04-15T09:59:33.842Z"
   },
   {
    "duration": 174,
    "start_time": "2025-04-15T09:59:36.948Z"
   },
   {
    "duration": 59,
    "start_time": "2025-04-15T09:59:37.124Z"
   },
   {
    "duration": 93,
    "start_time": "2025-04-15T09:59:37.185Z"
   },
   {
    "duration": 142,
    "start_time": "2025-04-15T09:59:37.280Z"
   },
   {
    "duration": 26,
    "start_time": "2025-04-15T09:59:37.424Z"
   },
   {
    "duration": 66,
    "start_time": "2025-04-15T09:59:37.451Z"
   },
   {
    "duration": 95,
    "start_time": "2025-04-15T09:59:37.519Z"
   },
   {
    "duration": 18,
    "start_time": "2025-04-15T09:59:37.616Z"
   },
   {
    "duration": 86,
    "start_time": "2025-04-15T09:59:37.636Z"
   },
   {
    "duration": 19,
    "start_time": "2025-04-15T09:59:37.724Z"
   },
   {
    "duration": 33,
    "start_time": "2025-04-15T09:59:37.745Z"
   },
   {
    "duration": 4,
    "start_time": "2025-04-15T09:59:37.780Z"
   },
   {
    "duration": 277,
    "start_time": "2025-04-15T09:59:37.786Z"
   },
   {
    "duration": 292,
    "start_time": "2025-04-15T09:59:38.065Z"
   },
   {
    "duration": 71,
    "start_time": "2025-04-15T09:59:38.359Z"
   },
   {
    "duration": 80,
    "start_time": "2025-04-15T09:59:38.432Z"
   },
   {
    "duration": 4,
    "start_time": "2025-04-15T09:59:38.513Z"
   },
   {
    "duration": 45,
    "start_time": "2025-04-15T09:59:38.518Z"
   },
   {
    "duration": 26,
    "start_time": "2025-04-15T09:59:38.564Z"
   },
   {
    "duration": 15,
    "start_time": "2025-04-15T09:59:38.592Z"
   },
   {
    "duration": 26,
    "start_time": "2025-04-15T09:59:38.609Z"
   },
   {
    "duration": 13,
    "start_time": "2025-04-15T09:59:38.637Z"
   },
   {
    "duration": 9,
    "start_time": "2025-04-15T09:59:38.663Z"
   },
   {
    "duration": 298,
    "start_time": "2025-04-15T09:59:38.674Z"
   },
   {
    "duration": 51,
    "start_time": "2025-04-15T10:00:03.092Z"
   },
   {
    "duration": 7,
    "start_time": "2025-04-15T10:00:04.809Z"
   },
   {
    "duration": 8,
    "start_time": "2025-04-15T10:00:28.060Z"
   },
   {
    "duration": 8,
    "start_time": "2025-04-15T10:00:28.844Z"
   },
   {
    "duration": 8,
    "start_time": "2025-04-15T10:00:32.646Z"
   },
   {
    "duration": 7,
    "start_time": "2025-04-15T10:00:36.078Z"
   },
   {
    "duration": 8,
    "start_time": "2025-04-15T10:00:39.778Z"
   },
   {
    "duration": 10,
    "start_time": "2025-04-15T10:00:43.406Z"
   },
   {
    "duration": 7,
    "start_time": "2025-04-15T10:00:44.095Z"
   },
   {
    "duration": 4182,
    "start_time": "2025-04-15T10:00:49.344Z"
   },
   {
    "duration": 2086,
    "start_time": "2025-04-15T10:00:53.528Z"
   },
   {
    "duration": 20,
    "start_time": "2025-04-15T10:00:55.616Z"
   },
   {
    "duration": 19,
    "start_time": "2025-04-15T10:00:55.639Z"
   },
   {
    "duration": 12,
    "start_time": "2025-04-15T10:00:55.661Z"
   },
   {
    "duration": 41,
    "start_time": "2025-04-15T10:00:55.675Z"
   },
   {
    "duration": 116,
    "start_time": "2025-04-15T10:00:55.718Z"
   },
   {
    "duration": 115,
    "start_time": "2025-04-15T10:00:55.836Z"
   },
   {
    "duration": 94,
    "start_time": "2025-04-15T10:00:55.953Z"
   },
   {
    "duration": 114,
    "start_time": "2025-04-15T10:00:56.050Z"
   },
   {
    "duration": 8,
    "start_time": "2025-04-15T10:00:56.166Z"
   },
   {
    "duration": 26,
    "start_time": "2025-04-15T10:00:56.175Z"
   },
   {
    "duration": 17,
    "start_time": "2025-04-15T10:00:56.203Z"
   },
   {
    "duration": 12,
    "start_time": "2025-04-15T10:00:56.221Z"
   },
   {
    "duration": 133,
    "start_time": "2025-04-15T10:00:56.235Z"
   },
   {
    "duration": 59,
    "start_time": "2025-04-15T10:00:56.369Z"
   },
   {
    "duration": 13,
    "start_time": "2025-04-15T10:00:56.430Z"
   },
   {
    "duration": 28,
    "start_time": "2025-04-15T10:00:56.445Z"
   },
   {
    "duration": 23,
    "start_time": "2025-04-15T10:00:56.475Z"
   },
   {
    "duration": 44,
    "start_time": "2025-04-15T10:00:56.499Z"
   },
   {
    "duration": 24,
    "start_time": "2025-04-15T10:00:56.545Z"
   },
   {
    "duration": 10,
    "start_time": "2025-04-15T10:00:56.570Z"
   },
   {
    "duration": 17,
    "start_time": "2025-04-15T10:00:56.581Z"
   },
   {
    "duration": 45,
    "start_time": "2025-04-15T10:00:56.600Z"
   },
   {
    "duration": 6,
    "start_time": "2025-04-15T10:00:56.647Z"
   },
   {
    "duration": 167,
    "start_time": "2025-04-15T10:00:56.655Z"
   },
   {
    "duration": 11,
    "start_time": "2025-04-15T10:00:56.824Z"
   },
   {
    "duration": 90,
    "start_time": "2025-04-15T10:00:56.839Z"
   },
   {
    "duration": 15,
    "start_time": "2025-04-15T10:00:56.931Z"
   },
   {
    "duration": 69,
    "start_time": "2025-04-15T10:00:56.947Z"
   },
   {
    "duration": 405,
    "start_time": "2025-04-15T10:00:57.018Z"
   },
   {
    "duration": 35,
    "start_time": "2025-04-15T10:00:57.425Z"
   },
   {
    "duration": 3160,
    "start_time": "2025-04-15T10:00:57.461Z"
   },
   {
    "duration": 172,
    "start_time": "2025-04-15T10:01:00.623Z"
   },
   {
    "duration": 44,
    "start_time": "2025-04-15T10:01:00.797Z"
   },
   {
    "duration": 36,
    "start_time": "2025-04-15T10:01:00.842Z"
   },
   {
    "duration": 237,
    "start_time": "2025-04-15T10:01:00.880Z"
   },
   {
    "duration": 26,
    "start_time": "2025-04-15T10:01:01.119Z"
   },
   {
    "duration": 182,
    "start_time": "2025-04-15T10:01:01.147Z"
   },
   {
    "duration": 94,
    "start_time": "2025-04-15T10:01:01.331Z"
   },
   {
    "duration": 36,
    "start_time": "2025-04-15T10:01:01.427Z"
   },
   {
    "duration": 69,
    "start_time": "2025-04-15T10:01:01.465Z"
   },
   {
    "duration": 30,
    "start_time": "2025-04-15T10:01:01.536Z"
   },
   {
    "duration": 60,
    "start_time": "2025-04-15T10:01:01.568Z"
   },
   {
    "duration": 60,
    "start_time": "2025-04-15T10:01:01.629Z"
   },
   {
    "duration": 312,
    "start_time": "2025-04-15T10:01:01.692Z"
   },
   {
    "duration": 293,
    "start_time": "2025-04-15T10:01:02.006Z"
   },
   {
    "duration": 74,
    "start_time": "2025-04-15T10:01:02.300Z"
   },
   {
    "duration": 96,
    "start_time": "2025-04-15T10:01:02.376Z"
   },
   {
    "duration": 4,
    "start_time": "2025-04-15T10:01:02.474Z"
   },
   {
    "duration": 36,
    "start_time": "2025-04-15T10:01:02.480Z"
   },
   {
    "duration": 73,
    "start_time": "2025-04-15T10:01:02.519Z"
   },
   {
    "duration": 61,
    "start_time": "2025-04-15T10:01:02.594Z"
   },
   {
    "duration": 191,
    "start_time": "2025-04-15T10:01:02.657Z"
   },
   {
    "duration": 186,
    "start_time": "2025-04-15T10:01:02.849Z"
   },
   {
    "duration": 48,
    "start_time": "2025-04-15T10:01:03.037Z"
   },
   {
    "duration": 252,
    "start_time": "2025-04-15T10:01:03.087Z"
   },
   {
    "duration": 50,
    "start_time": "2025-04-15T10:02:03.328Z"
   },
   {
    "duration": 6,
    "start_time": "2025-04-15T10:02:06.822Z"
   },
   {
    "duration": 4181,
    "start_time": "2025-04-15T10:02:22.000Z"
   },
   {
    "duration": 2522,
    "start_time": "2025-04-15T10:02:26.183Z"
   },
   {
    "duration": 12,
    "start_time": "2025-04-15T10:02:28.707Z"
   },
   {
    "duration": 105,
    "start_time": "2025-04-15T10:02:28.721Z"
   },
   {
    "duration": 66,
    "start_time": "2025-04-15T10:02:28.827Z"
   },
   {
    "duration": 161,
    "start_time": "2025-04-15T10:02:28.895Z"
   },
   {
    "duration": 145,
    "start_time": "2025-04-15T10:02:29.057Z"
   },
   {
    "duration": 107,
    "start_time": "2025-04-15T10:02:29.204Z"
   },
   {
    "duration": 144,
    "start_time": "2025-04-15T10:02:29.312Z"
   },
   {
    "duration": 110,
    "start_time": "2025-04-15T10:02:29.459Z"
   },
   {
    "duration": 7,
    "start_time": "2025-04-15T10:02:29.571Z"
   },
   {
    "duration": 59,
    "start_time": "2025-04-15T10:02:29.579Z"
   },
   {
    "duration": 62,
    "start_time": "2025-04-15T10:02:29.640Z"
   },
   {
    "duration": 35,
    "start_time": "2025-04-15T10:02:29.704Z"
   },
   {
    "duration": 62,
    "start_time": "2025-04-15T10:02:29.741Z"
   },
   {
    "duration": 68,
    "start_time": "2025-04-15T10:02:29.805Z"
   },
   {
    "duration": 48,
    "start_time": "2025-04-15T10:02:29.875Z"
   },
   {
    "duration": 80,
    "start_time": "2025-04-15T10:02:29.924Z"
   },
   {
    "duration": 178,
    "start_time": "2025-04-15T10:02:30.006Z"
   },
   {
    "duration": 50,
    "start_time": "2025-04-15T10:02:30.186Z"
   },
   {
    "duration": 193,
    "start_time": "2025-04-15T10:02:30.238Z"
   },
   {
    "duration": 73,
    "start_time": "2025-04-15T10:02:30.433Z"
   },
   {
    "duration": 47,
    "start_time": "2025-04-15T10:02:30.508Z"
   },
   {
    "duration": 57,
    "start_time": "2025-04-15T10:02:30.557Z"
   },
   {
    "duration": 50,
    "start_time": "2025-04-15T10:02:30.616Z"
   },
   {
    "duration": 284,
    "start_time": "2025-04-15T10:02:30.667Z"
   },
   {
    "duration": 59,
    "start_time": "2025-04-15T10:02:30.953Z"
   },
   {
    "duration": 152,
    "start_time": "2025-04-15T10:02:31.017Z"
   },
   {
    "duration": 66,
    "start_time": "2025-04-15T10:02:31.170Z"
   },
   {
    "duration": 104,
    "start_time": "2025-04-15T10:02:31.237Z"
   },
   {
    "duration": 412,
    "start_time": "2025-04-15T10:02:31.343Z"
   },
   {
    "duration": 35,
    "start_time": "2025-04-15T10:02:31.757Z"
   },
   {
    "duration": 3053,
    "start_time": "2025-04-15T10:02:31.794Z"
   },
   {
    "duration": 197,
    "start_time": "2025-04-15T10:02:34.849Z"
   },
   {
    "duration": 54,
    "start_time": "2025-04-15T10:02:35.047Z"
   },
   {
    "duration": 33,
    "start_time": "2025-04-15T10:02:35.103Z"
   },
   {
    "duration": 190,
    "start_time": "2025-04-15T10:02:35.138Z"
   },
   {
    "duration": 33,
    "start_time": "2025-04-15T10:02:35.330Z"
   },
   {
    "duration": 39,
    "start_time": "2025-04-15T10:02:35.365Z"
   },
   {
    "duration": 104,
    "start_time": "2025-04-15T10:02:35.406Z"
   },
   {
    "duration": 19,
    "start_time": "2025-04-15T10:02:35.512Z"
   },
   {
    "duration": 84,
    "start_time": "2025-04-15T10:02:35.533Z"
   },
   {
    "duration": 40,
    "start_time": "2025-04-15T10:02:35.620Z"
   },
   {
    "duration": 50,
    "start_time": "2025-04-15T10:02:35.662Z"
   },
   {
    "duration": 48,
    "start_time": "2025-04-15T10:02:35.714Z"
   },
   {
    "duration": 316,
    "start_time": "2025-04-15T10:02:35.764Z"
   },
   {
    "duration": 271,
    "start_time": "2025-04-15T10:02:36.081Z"
   },
   {
    "duration": 72,
    "start_time": "2025-04-15T10:02:36.354Z"
   },
   {
    "duration": 73,
    "start_time": "2025-04-15T10:02:36.428Z"
   },
   {
    "duration": 4,
    "start_time": "2025-04-15T10:02:36.503Z"
   },
   {
    "duration": 68,
    "start_time": "2025-04-15T10:02:36.509Z"
   },
   {
    "duration": 24,
    "start_time": "2025-04-15T10:02:36.579Z"
   },
   {
    "duration": 62,
    "start_time": "2025-04-15T10:02:36.605Z"
   },
   {
    "duration": 159,
    "start_time": "2025-04-15T10:02:36.669Z"
   },
   {
    "duration": 16,
    "start_time": "2025-04-15T10:02:36.830Z"
   },
   {
    "duration": 19,
    "start_time": "2025-04-15T10:02:36.848Z"
   },
   {
    "duration": 236,
    "start_time": "2025-04-15T10:02:36.868Z"
   },
   {
    "duration": 73,
    "start_time": "2025-04-15T10:15:50.993Z"
   },
   {
    "duration": 4231,
    "start_time": "2025-04-15T10:15:58.962Z"
   },
   {
    "duration": 2399,
    "start_time": "2025-04-15T10:16:03.195Z"
   },
   {
    "duration": 13,
    "start_time": "2025-04-15T10:16:05.596Z"
   },
   {
    "duration": 33,
    "start_time": "2025-04-15T10:16:05.611Z"
   },
   {
    "duration": 10,
    "start_time": "2025-04-15T10:16:05.647Z"
   },
   {
    "duration": 25,
    "start_time": "2025-04-15T10:16:05.659Z"
   },
   {
    "duration": 109,
    "start_time": "2025-04-15T10:16:05.686Z"
   },
   {
    "duration": 102,
    "start_time": "2025-04-15T10:16:05.797Z"
   },
   {
    "duration": 100,
    "start_time": "2025-04-15T10:16:05.901Z"
   },
   {
    "duration": 108,
    "start_time": "2025-04-15T10:16:06.003Z"
   },
   {
    "duration": 8,
    "start_time": "2025-04-15T10:16:06.113Z"
   },
   {
    "duration": 103,
    "start_time": "2025-04-15T10:16:06.123Z"
   },
   {
    "duration": 33,
    "start_time": "2025-04-15T10:16:06.228Z"
   },
   {
    "duration": 10,
    "start_time": "2025-04-15T10:16:06.264Z"
   },
   {
    "duration": 53,
    "start_time": "2025-04-15T10:16:06.277Z"
   },
   {
    "duration": 82,
    "start_time": "2025-04-15T10:16:06.332Z"
   },
   {
    "duration": 22,
    "start_time": "2025-04-15T10:16:06.416Z"
   },
   {
    "duration": 51,
    "start_time": "2025-04-15T10:16:06.439Z"
   },
   {
    "duration": 39,
    "start_time": "2025-04-15T10:16:06.492Z"
   },
   {
    "duration": 27,
    "start_time": "2025-04-15T10:16:06.532Z"
   },
   {
    "duration": 34,
    "start_time": "2025-04-15T10:16:06.561Z"
   },
   {
    "duration": 46,
    "start_time": "2025-04-15T10:16:06.597Z"
   },
   {
    "duration": 8,
    "start_time": "2025-04-15T10:16:06.645Z"
   },
   {
    "duration": 25,
    "start_time": "2025-04-15T10:16:06.655Z"
   },
   {
    "duration": 10,
    "start_time": "2025-04-15T10:16:06.683Z"
   },
   {
    "duration": 191,
    "start_time": "2025-04-15T10:16:06.695Z"
   },
   {
    "duration": 13,
    "start_time": "2025-04-15T10:16:06.887Z"
   },
   {
    "duration": 102,
    "start_time": "2025-04-15T10:16:06.901Z"
   },
   {
    "duration": 19,
    "start_time": "2025-04-15T10:16:07.005Z"
   },
   {
    "duration": 83,
    "start_time": "2025-04-15T10:16:07.025Z"
   },
   {
    "duration": 425,
    "start_time": "2025-04-15T10:16:07.110Z"
   },
   {
    "duration": 36,
    "start_time": "2025-04-15T10:16:07.537Z"
   },
   {
    "duration": 3046,
    "start_time": "2025-04-15T10:16:07.575Z"
   },
   {
    "duration": 173,
    "start_time": "2025-04-15T10:16:10.622Z"
   },
   {
    "duration": 44,
    "start_time": "2025-04-15T10:16:10.796Z"
   },
   {
    "duration": 39,
    "start_time": "2025-04-15T10:16:10.842Z"
   },
   {
    "duration": 100,
    "start_time": "2025-04-15T10:16:10.883Z"
   },
   {
    "duration": 26,
    "start_time": "2025-04-15T10:16:10.985Z"
   },
   {
    "duration": 113,
    "start_time": "2025-04-15T10:16:11.013Z"
   },
   {
    "duration": 81,
    "start_time": "2025-04-15T10:16:11.128Z"
   },
   {
    "duration": 20,
    "start_time": "2025-04-15T10:16:11.215Z"
   },
   {
    "duration": 94,
    "start_time": "2025-04-15T10:16:11.237Z"
   },
   {
    "duration": 22,
    "start_time": "2025-04-15T10:16:11.333Z"
   },
   {
    "duration": 26,
    "start_time": "2025-04-15T10:16:11.357Z"
   },
   {
    "duration": 4,
    "start_time": "2025-04-15T10:16:11.384Z"
   },
   {
    "duration": 287,
    "start_time": "2025-04-15T10:16:11.390Z"
   },
   {
    "duration": 290,
    "start_time": "2025-04-15T10:16:11.679Z"
   },
   {
    "duration": 65,
    "start_time": "2025-04-15T10:16:11.971Z"
   },
   {
    "duration": 80,
    "start_time": "2025-04-15T10:16:12.038Z"
   },
   {
    "duration": 4,
    "start_time": "2025-04-15T10:16:12.119Z"
   },
   {
    "duration": 132,
    "start_time": "2025-04-15T10:16:12.124Z"
   },
   {
    "duration": 25,
    "start_time": "2025-04-15T10:16:12.258Z"
   },
   {
    "duration": 15,
    "start_time": "2025-04-15T10:16:12.285Z"
   },
   {
    "duration": 86,
    "start_time": "2025-04-15T10:16:12.302Z"
   },
   {
    "duration": 16,
    "start_time": "2025-04-15T10:16:12.389Z"
   },
   {
    "duration": 8,
    "start_time": "2025-04-15T10:16:12.407Z"
   },
   {
    "duration": 214,
    "start_time": "2025-04-15T10:16:12.416Z"
   },
   {
    "duration": 4180,
    "start_time": "2025-04-15T11:34:09.236Z"
   },
   {
    "duration": 3238,
    "start_time": "2025-04-15T11:34:13.418Z"
   },
   {
    "duration": 14,
    "start_time": "2025-04-15T11:34:16.657Z"
   },
   {
    "duration": 17,
    "start_time": "2025-04-15T11:34:16.673Z"
   },
   {
    "duration": 29,
    "start_time": "2025-04-15T11:34:16.692Z"
   },
   {
    "duration": 100,
    "start_time": "2025-04-15T11:34:16.723Z"
   },
   {
    "duration": 110,
    "start_time": "2025-04-15T11:34:16.824Z"
   },
   {
    "duration": 106,
    "start_time": "2025-04-15T11:34:16.936Z"
   },
   {
    "duration": 94,
    "start_time": "2025-04-15T11:34:17.044Z"
   },
   {
    "duration": 115,
    "start_time": "2025-04-15T11:34:17.139Z"
   },
   {
    "duration": 8,
    "start_time": "2025-04-15T11:34:17.256Z"
   },
   {
    "duration": 41,
    "start_time": "2025-04-15T11:34:17.266Z"
   },
   {
    "duration": 34,
    "start_time": "2025-04-15T11:34:17.309Z"
   },
   {
    "duration": 33,
    "start_time": "2025-04-15T11:34:17.347Z"
   },
   {
    "duration": 70,
    "start_time": "2025-04-15T11:34:17.382Z"
   },
   {
    "duration": 86,
    "start_time": "2025-04-15T11:34:17.454Z"
   },
   {
    "duration": 13,
    "start_time": "2025-04-15T11:34:17.542Z"
   },
   {
    "duration": 37,
    "start_time": "2025-04-15T11:34:17.556Z"
   },
   {
    "duration": 29,
    "start_time": "2025-04-15T11:34:17.595Z"
   },
   {
    "duration": 30,
    "start_time": "2025-04-15T11:34:17.626Z"
   },
   {
    "duration": 66,
    "start_time": "2025-04-15T11:34:17.658Z"
   },
   {
    "duration": 77,
    "start_time": "2025-04-15T11:34:17.726Z"
   },
   {
    "duration": 17,
    "start_time": "2025-04-15T11:34:17.805Z"
   },
   {
    "duration": 18,
    "start_time": "2025-04-15T11:34:17.823Z"
   },
   {
    "duration": 10,
    "start_time": "2025-04-15T11:34:17.843Z"
   },
   {
    "duration": 169,
    "start_time": "2025-04-15T11:34:17.855Z"
   },
   {
    "duration": 10,
    "start_time": "2025-04-15T11:34:18.026Z"
   },
   {
    "duration": 98,
    "start_time": "2025-04-15T11:34:18.037Z"
   },
   {
    "duration": 15,
    "start_time": "2025-04-15T11:34:18.137Z"
   },
   {
    "duration": 43,
    "start_time": "2025-04-15T11:34:18.163Z"
   },
   {
    "duration": 408,
    "start_time": "2025-04-15T11:34:18.207Z"
   },
   {
    "duration": 35,
    "start_time": "2025-04-15T11:34:18.617Z"
   },
   {
    "duration": 3177,
    "start_time": "2025-04-15T11:34:18.655Z"
   },
   {
    "duration": 173,
    "start_time": "2025-04-15T11:34:21.834Z"
   },
   {
    "duration": 43,
    "start_time": "2025-04-15T11:34:22.008Z"
   },
   {
    "duration": 28,
    "start_time": "2025-04-15T11:34:22.063Z"
   },
   {
    "duration": 92,
    "start_time": "2025-04-15T11:34:22.092Z"
   },
   {
    "duration": 27,
    "start_time": "2025-04-15T11:34:22.187Z"
   },
   {
    "duration": 59,
    "start_time": "2025-04-15T11:34:22.216Z"
   },
   {
    "duration": 85,
    "start_time": "2025-04-15T11:34:22.277Z"
   },
   {
    "duration": 20,
    "start_time": "2025-04-15T11:34:22.372Z"
   },
   {
    "duration": 87,
    "start_time": "2025-04-15T11:34:22.393Z"
   },
   {
    "duration": 4,
    "start_time": "2025-04-15T11:34:22.481Z"
   },
   {
    "duration": 26,
    "start_time": "2025-04-15T11:34:22.488Z"
   },
   {
    "duration": 4,
    "start_time": "2025-04-15T11:34:22.516Z"
   },
   {
    "duration": 301,
    "start_time": "2025-04-15T11:34:22.522Z"
   },
   {
    "duration": 293,
    "start_time": "2025-04-15T11:34:22.825Z"
   },
   {
    "duration": 78,
    "start_time": "2025-04-15T11:34:23.119Z"
   },
   {
    "duration": 68,
    "start_time": "2025-04-15T11:34:23.199Z"
   },
   {
    "duration": 5,
    "start_time": "2025-04-15T11:34:23.269Z"
   },
   {
    "duration": 29,
    "start_time": "2025-04-15T11:34:23.276Z"
   },
   {
    "duration": 24,
    "start_time": "2025-04-15T11:34:23.306Z"
   },
   {
    "duration": 46,
    "start_time": "2025-04-15T11:34:23.332Z"
   },
   {
    "duration": 11,
    "start_time": "2025-04-15T11:34:23.379Z"
   },
   {
    "duration": 10,
    "start_time": "2025-04-15T11:34:23.391Z"
   },
   {
    "duration": 6,
    "start_time": "2025-04-15T11:34:23.403Z"
   },
   {
    "duration": 261,
    "start_time": "2025-04-15T11:34:23.411Z"
   },
   {
    "duration": 49,
    "start_time": "2025-04-15T11:34:38.911Z"
   },
   {
    "duration": 3960,
    "start_time": "2025-04-15T11:34:46.511Z"
   },
   {
    "duration": 3392,
    "start_time": "2025-04-15T11:34:50.473Z"
   },
   {
    "duration": 22,
    "start_time": "2025-04-15T11:34:53.867Z"
   },
   {
    "duration": 13,
    "start_time": "2025-04-15T11:34:53.893Z"
   },
   {
    "duration": 15,
    "start_time": "2025-04-15T11:34:53.908Z"
   },
   {
    "duration": 54,
    "start_time": "2025-04-15T11:34:53.925Z"
   },
   {
    "duration": 109,
    "start_time": "2025-04-15T11:34:53.981Z"
   },
   {
    "duration": 114,
    "start_time": "2025-04-15T11:34:54.092Z"
   },
   {
    "duration": 100,
    "start_time": "2025-04-15T11:34:54.207Z"
   },
   {
    "duration": 121,
    "start_time": "2025-04-15T11:34:54.309Z"
   },
   {
    "duration": 7,
    "start_time": "2025-04-15T11:34:54.432Z"
   },
   {
    "duration": 44,
    "start_time": "2025-04-15T11:34:54.441Z"
   },
   {
    "duration": 26,
    "start_time": "2025-04-15T11:34:54.487Z"
   },
   {
    "duration": 9,
    "start_time": "2025-04-15T11:34:54.515Z"
   },
   {
    "duration": 70,
    "start_time": "2025-04-15T11:34:54.526Z"
   },
   {
    "duration": 39,
    "start_time": "2025-04-15T11:34:54.598Z"
   },
   {
    "duration": 26,
    "start_time": "2025-04-15T11:34:54.639Z"
   },
   {
    "duration": 31,
    "start_time": "2025-04-15T11:34:54.667Z"
   },
   {
    "duration": 20,
    "start_time": "2025-04-15T11:34:54.700Z"
   },
   {
    "duration": 82,
    "start_time": "2025-04-15T11:34:54.722Z"
   },
   {
    "duration": 23,
    "start_time": "2025-04-15T11:34:54.805Z"
   },
   {
    "duration": 9,
    "start_time": "2025-04-15T11:34:54.830Z"
   },
   {
    "duration": 13,
    "start_time": "2025-04-15T11:34:54.841Z"
   },
   {
    "duration": 35,
    "start_time": "2025-04-15T11:34:54.855Z"
   },
   {
    "duration": 19,
    "start_time": "2025-04-15T11:34:54.892Z"
   },
   {
    "duration": 240,
    "start_time": "2025-04-15T11:34:54.913Z"
   },
   {
    "duration": 20,
    "start_time": "2025-04-15T11:34:55.155Z"
   },
   {
    "duration": 93,
    "start_time": "2025-04-15T11:34:55.179Z"
   },
   {
    "duration": 19,
    "start_time": "2025-04-15T11:34:55.274Z"
   },
   {
    "duration": 47,
    "start_time": "2025-04-15T11:34:55.295Z"
   },
   {
    "duration": 399,
    "start_time": "2025-04-15T11:34:55.344Z"
   },
   {
    "duration": 39,
    "start_time": "2025-04-15T11:34:55.745Z"
   },
   {
    "duration": 3178,
    "start_time": "2025-04-15T11:34:55.786Z"
   },
   {
    "duration": 176,
    "start_time": "2025-04-15T11:34:58.966Z"
   },
   {
    "duration": 55,
    "start_time": "2025-04-15T11:34:59.144Z"
   },
   {
    "duration": 21,
    "start_time": "2025-04-15T11:34:59.200Z"
   },
   {
    "duration": 98,
    "start_time": "2025-04-15T11:34:59.223Z"
   },
   {
    "duration": 25,
    "start_time": "2025-04-15T11:34:59.322Z"
   },
   {
    "duration": 53,
    "start_time": "2025-04-15T11:34:59.348Z"
   },
   {
    "duration": 103,
    "start_time": "2025-04-15T11:34:59.403Z"
   },
   {
    "duration": 18,
    "start_time": "2025-04-15T11:34:59.507Z"
   },
   {
    "duration": 111,
    "start_time": "2025-04-15T11:34:59.526Z"
   },
   {
    "duration": 4,
    "start_time": "2025-04-15T11:34:59.638Z"
   },
   {
    "duration": 43,
    "start_time": "2025-04-15T11:34:59.643Z"
   },
   {
    "duration": 3,
    "start_time": "2025-04-15T11:34:59.688Z"
   },
   {
    "duration": 355,
    "start_time": "2025-04-15T11:34:59.692Z"
   },
   {
    "duration": 291,
    "start_time": "2025-04-15T11:35:00.049Z"
   },
   {
    "duration": 71,
    "start_time": "2025-04-15T11:35:00.342Z"
   },
   {
    "duration": 83,
    "start_time": "2025-04-15T11:35:00.414Z"
   },
   {
    "duration": 26,
    "start_time": "2025-04-15T11:35:00.499Z"
   },
   {
    "duration": 50,
    "start_time": "2025-04-15T11:35:00.527Z"
   },
   {
    "duration": 56,
    "start_time": "2025-04-15T11:35:00.579Z"
   },
   {
    "duration": 156,
    "start_time": "2025-04-15T11:35:00.636Z"
   },
   {
    "duration": 48,
    "start_time": "2025-04-15T11:35:00.793Z"
   },
   {
    "duration": 12,
    "start_time": "2025-04-15T11:35:00.843Z"
   },
   {
    "duration": 13,
    "start_time": "2025-04-15T11:35:00.856Z"
   },
   {
    "duration": 236,
    "start_time": "2025-04-15T11:35:00.870Z"
   },
   {
    "duration": 68,
    "start_time": "2025-04-15T11:35:01.108Z"
   },
   {
    "duration": 20,
    "start_time": "2025-04-15T11:35:01.177Z"
   },
   {
    "duration": 129,
    "start_time": "2025-04-15T11:35:01.198Z"
   },
   {
    "duration": 58,
    "start_time": "2025-04-15T11:35:43.866Z"
   },
   {
    "duration": 20,
    "start_time": "2025-04-15T11:35:45.346Z"
   },
   {
    "duration": 11,
    "start_time": "2025-04-15T11:35:56.823Z"
   },
   {
    "duration": 11,
    "start_time": "2025-04-15T11:36:04.106Z"
   },
   {
    "duration": 63,
    "start_time": "2025-04-15T11:37:20.094Z"
   },
   {
    "duration": 19,
    "start_time": "2025-04-15T11:37:21.280Z"
   },
   {
    "duration": 16,
    "start_time": "2025-04-15T11:40:04.432Z"
   },
   {
    "duration": 10,
    "start_time": "2025-04-15T11:40:13.750Z"
   },
   {
    "duration": 179,
    "start_time": "2025-04-15T11:40:43.777Z"
   },
   {
    "duration": 17,
    "start_time": "2025-04-15T11:40:53.753Z"
   },
   {
    "duration": 10,
    "start_time": "2025-04-15T11:41:51.114Z"
   },
   {
    "duration": 8,
    "start_time": "2025-04-15T11:43:06.482Z"
   },
   {
    "duration": 8,
    "start_time": "2025-04-15T11:44:01.847Z"
   },
   {
    "duration": 10,
    "start_time": "2025-04-15T11:44:04.330Z"
   },
   {
    "duration": 9,
    "start_time": "2025-04-15T11:44:05.829Z"
   },
   {
    "duration": 36,
    "start_time": "2025-04-15T11:46:35.063Z"
   },
   {
    "duration": 42,
    "start_time": "2025-04-15T11:47:05.951Z"
   },
   {
    "duration": 38,
    "start_time": "2025-04-15T11:47:25.963Z"
   },
   {
    "duration": 37,
    "start_time": "2025-04-15T11:47:37.980Z"
   },
   {
    "duration": 39,
    "start_time": "2025-04-15T11:47:42.466Z"
   },
   {
    "duration": 8,
    "start_time": "2025-04-15T11:47:59.482Z"
   },
   {
    "duration": 246,
    "start_time": "2025-04-15T11:48:50.447Z"
   },
   {
    "duration": 331,
    "start_time": "2025-04-15T11:49:16.950Z"
   },
   {
    "duration": 259,
    "start_time": "2025-04-15T11:51:33.575Z"
   },
   {
    "duration": 226,
    "start_time": "2025-04-15T11:51:47.615Z"
   },
   {
    "duration": 868,
    "start_time": "2025-04-15T11:53:02.009Z"
   },
   {
    "duration": 324,
    "start_time": "2025-04-15T11:53:13.445Z"
   },
   {
    "duration": 263,
    "start_time": "2025-04-15T11:53:22.699Z"
   },
   {
    "duration": 234,
    "start_time": "2025-04-15T11:53:34.665Z"
   },
   {
    "duration": 3420,
    "start_time": "2025-04-15T11:54:27.767Z"
   },
   {
    "duration": 314,
    "start_time": "2025-04-15T11:54:36.250Z"
   },
   {
    "duration": 222,
    "start_time": "2025-04-15T11:54:44.207Z"
   },
   {
    "duration": 27,
    "start_time": "2025-04-15T12:31:57.509Z"
   },
   {
    "duration": 19,
    "start_time": "2025-04-15T12:36:17.952Z"
   },
   {
    "duration": 21,
    "start_time": "2025-04-15T12:37:26.389Z"
   },
   {
    "duration": 81,
    "start_time": "2025-04-15T12:38:34.572Z"
   },
   {
    "duration": 23,
    "start_time": "2025-04-15T12:40:55.779Z"
   },
   {
    "duration": 22,
    "start_time": "2025-04-15T12:41:02.067Z"
   },
   {
    "duration": 21,
    "start_time": "2025-04-15T12:41:18.634Z"
   },
   {
    "duration": 22,
    "start_time": "2025-04-15T12:41:34.083Z"
   },
   {
    "duration": 19,
    "start_time": "2025-04-15T12:42:35.993Z"
   },
   {
    "duration": 37,
    "start_time": "2025-04-15T12:42:45.684Z"
   },
   {
    "duration": 19,
    "start_time": "2025-04-15T12:42:50.541Z"
   },
   {
    "duration": 10,
    "start_time": "2025-04-15T12:43:34.277Z"
   },
   {
    "duration": 11,
    "start_time": "2025-04-15T12:44:11.768Z"
   },
   {
    "duration": 21,
    "start_time": "2025-04-15T12:44:23.866Z"
   },
   {
    "duration": 21,
    "start_time": "2025-04-15T12:46:31.650Z"
   },
   {
    "duration": 21,
    "start_time": "2025-04-15T13:33:26.803Z"
   },
   {
    "duration": 13,
    "start_time": "2025-04-15T13:33:33.468Z"
   },
   {
    "duration": 21,
    "start_time": "2025-04-15T13:33:56.051Z"
   },
   {
    "duration": 48,
    "start_time": "2025-04-16T07:07:42.631Z"
   },
   {
    "duration": 8112,
    "start_time": "2025-04-16T07:08:47.457Z"
   },
   {
    "duration": 10587,
    "start_time": "2025-04-16T07:08:55.572Z"
   },
   {
    "duration": 12,
    "start_time": "2025-04-16T07:09:06.160Z"
   },
   {
    "duration": 34,
    "start_time": "2025-04-16T07:09:06.174Z"
   },
   {
    "duration": 12,
    "start_time": "2025-04-16T07:09:06.209Z"
   },
   {
    "duration": 22,
    "start_time": "2025-04-16T07:09:06.222Z"
   },
   {
    "duration": 101,
    "start_time": "2025-04-16T07:09:06.245Z"
   },
   {
    "duration": 99,
    "start_time": "2025-04-16T07:09:06.347Z"
   },
   {
    "duration": 104,
    "start_time": "2025-04-16T07:09:06.447Z"
   },
   {
    "duration": 101,
    "start_time": "2025-04-16T07:09:06.554Z"
   },
   {
    "duration": 7,
    "start_time": "2025-04-16T07:09:06.656Z"
   },
   {
    "duration": 20,
    "start_time": "2025-04-16T07:09:06.665Z"
   },
   {
    "duration": 18,
    "start_time": "2025-04-16T07:09:06.687Z"
   },
   {
    "duration": 8,
    "start_time": "2025-04-16T07:09:06.706Z"
   },
   {
    "duration": 54,
    "start_time": "2025-04-16T07:09:06.715Z"
   },
   {
    "duration": 33,
    "start_time": "2025-04-16T07:09:06.771Z"
   },
   {
    "duration": 7,
    "start_time": "2025-04-16T07:09:06.806Z"
   },
   {
    "duration": 43,
    "start_time": "2025-04-16T07:09:06.814Z"
   },
   {
    "duration": 47,
    "start_time": "2025-04-16T07:09:06.859Z"
   },
   {
    "duration": 9,
    "start_time": "2025-04-16T07:09:06.908Z"
   },
   {
    "duration": 11,
    "start_time": "2025-04-16T07:09:06.919Z"
   },
   {
    "duration": 8,
    "start_time": "2025-04-16T07:09:06.935Z"
   },
   {
    "duration": 11,
    "start_time": "2025-04-16T07:09:06.945Z"
   },
   {
    "duration": 15,
    "start_time": "2025-04-16T07:09:06.957Z"
   },
   {
    "duration": 6,
    "start_time": "2025-04-16T07:09:06.974Z"
   },
   {
    "duration": 163,
    "start_time": "2025-04-16T07:09:06.981Z"
   },
   {
    "duration": 10,
    "start_time": "2025-04-16T07:09:07.146Z"
   },
   {
    "duration": 125,
    "start_time": "2025-04-16T07:09:07.159Z"
   },
   {
    "duration": 14,
    "start_time": "2025-04-16T07:09:07.285Z"
   },
   {
    "duration": 43,
    "start_time": "2025-04-16T07:09:07.301Z"
   },
   {
    "duration": 351,
    "start_time": "2025-04-16T07:09:07.345Z"
   },
   {
    "duration": 33,
    "start_time": "2025-04-16T07:09:07.698Z"
   },
   {
    "duration": 2750,
    "start_time": "2025-04-16T07:09:07.732Z"
   },
   {
    "duration": 160,
    "start_time": "2025-04-16T07:09:10.484Z"
   },
   {
    "duration": 42,
    "start_time": "2025-04-16T07:09:10.645Z"
   },
   {
    "duration": 21,
    "start_time": "2025-04-16T07:09:10.689Z"
   },
   {
    "duration": 94,
    "start_time": "2025-04-16T07:09:10.712Z"
   },
   {
    "duration": 32,
    "start_time": "2025-04-16T07:09:10.808Z"
   },
   {
    "duration": 37,
    "start_time": "2025-04-16T07:09:10.841Z"
   },
   {
    "duration": 91,
    "start_time": "2025-04-16T07:09:10.880Z"
   },
   {
    "duration": 21,
    "start_time": "2025-04-16T07:09:10.972Z"
   },
   {
    "duration": 75,
    "start_time": "2025-04-16T07:09:10.995Z"
   },
   {
    "duration": 4,
    "start_time": "2025-04-16T07:09:11.071Z"
   },
   {
    "duration": 20,
    "start_time": "2025-04-16T07:09:11.076Z"
   },
   {
    "duration": 24,
    "start_time": "2025-04-16T07:09:11.097Z"
   },
   {
    "duration": 303,
    "start_time": "2025-04-16T07:09:11.122Z"
   },
   {
    "duration": 264,
    "start_time": "2025-04-16T07:09:11.427Z"
   },
   {
    "duration": 71,
    "start_time": "2025-04-16T07:09:11.693Z"
   },
   {
    "duration": 58,
    "start_time": "2025-04-16T07:09:11.765Z"
   },
   {
    "duration": 13,
    "start_time": "2025-04-16T07:09:11.824Z"
   },
   {
    "duration": 27,
    "start_time": "2025-04-16T07:09:11.839Z"
   },
   {
    "duration": 25,
    "start_time": "2025-04-16T07:09:11.868Z"
   },
   {
    "duration": 42,
    "start_time": "2025-04-16T07:09:11.895Z"
   },
   {
    "duration": 40,
    "start_time": "2025-04-16T07:09:11.939Z"
   },
   {
    "duration": 10,
    "start_time": "2025-04-16T07:09:11.981Z"
   },
   {
    "duration": 7,
    "start_time": "2025-04-16T07:09:11.993Z"
   },
   {
    "duration": 193,
    "start_time": "2025-04-16T07:09:12.001Z"
   },
   {
    "duration": 58,
    "start_time": "2025-04-16T07:09:12.195Z"
   },
   {
    "duration": 100,
    "start_time": "2025-04-16T07:09:12.255Z"
   },
   {
    "duration": 8,
    "start_time": "2025-04-16T07:09:12.356Z"
   },
   {
    "duration": 217,
    "start_time": "2025-04-16T07:09:12.365Z"
   },
   {
    "duration": 20,
    "start_time": "2025-04-16T07:09:12.584Z"
   },
   {
    "duration": 6,
    "start_time": "2025-04-16T07:09:12.606Z"
   },
   {
    "duration": 7,
    "start_time": "2025-04-16T07:28:27.257Z"
   },
   {
    "duration": 138,
    "start_time": "2025-04-16T07:37:25.652Z"
   },
   {
    "duration": 140,
    "start_time": "2025-04-16T07:37:51.704Z"
   },
   {
    "duration": 120,
    "start_time": "2025-04-16T07:38:04.156Z"
   },
   {
    "duration": 150,
    "start_time": "2025-04-16T07:38:54.005Z"
   },
   {
    "duration": 145,
    "start_time": "2025-04-16T07:39:26.005Z"
   },
   {
    "duration": 212,
    "start_time": "2025-04-16T07:39:54.389Z"
   },
   {
    "duration": 207,
    "start_time": "2025-04-16T07:40:10.340Z"
   },
   {
    "duration": 121,
    "start_time": "2025-04-16T07:40:27.456Z"
   },
   {
    "duration": 144,
    "start_time": "2025-04-16T07:40:32.606Z"
   },
   {
    "duration": 9,
    "start_time": "2025-04-16T07:43:35.174Z"
   },
   {
    "duration": 4139,
    "start_time": "2025-04-16T07:50:31.583Z"
   },
   {
    "duration": 10125,
    "start_time": "2025-04-16T07:50:35.724Z"
   },
   {
    "duration": 11,
    "start_time": "2025-04-16T07:50:45.851Z"
   },
   {
    "duration": 26,
    "start_time": "2025-04-16T07:50:45.864Z"
   },
   {
    "duration": 8,
    "start_time": "2025-04-16T07:50:45.891Z"
   },
   {
    "duration": 22,
    "start_time": "2025-04-16T07:50:45.900Z"
   },
   {
    "duration": 97,
    "start_time": "2025-04-16T07:50:45.923Z"
   },
   {
    "duration": 118,
    "start_time": "2025-04-16T07:50:46.022Z"
   },
   {
    "duration": 86,
    "start_time": "2025-04-16T07:50:46.141Z"
   },
   {
    "duration": 90,
    "start_time": "2025-04-16T07:50:46.230Z"
   },
   {
    "duration": 19,
    "start_time": "2025-04-16T07:50:46.321Z"
   },
   {
    "duration": 18,
    "start_time": "2025-04-16T07:50:46.342Z"
   },
   {
    "duration": 15,
    "start_time": "2025-04-16T07:50:46.361Z"
   },
   {
    "duration": 8,
    "start_time": "2025-04-16T07:50:46.377Z"
   },
   {
    "duration": 60,
    "start_time": "2025-04-16T07:50:46.387Z"
   },
   {
    "duration": 72,
    "start_time": "2025-04-16T07:50:46.449Z"
   },
   {
    "duration": 11,
    "start_time": "2025-04-16T07:50:46.523Z"
   },
   {
    "duration": 46,
    "start_time": "2025-04-16T07:50:46.536Z"
   },
   {
    "duration": 20,
    "start_time": "2025-04-16T07:50:46.583Z"
   },
   {
    "duration": 37,
    "start_time": "2025-04-16T07:50:46.604Z"
   },
   {
    "duration": 12,
    "start_time": "2025-04-16T07:50:46.642Z"
   },
   {
    "duration": 8,
    "start_time": "2025-04-16T07:50:46.655Z"
   },
   {
    "duration": 9,
    "start_time": "2025-04-16T07:50:46.665Z"
   },
   {
    "duration": 10,
    "start_time": "2025-04-16T07:50:46.676Z"
   },
   {
    "duration": 6,
    "start_time": "2025-04-16T07:50:46.687Z"
   },
   {
    "duration": 167,
    "start_time": "2025-04-16T07:50:46.695Z"
   },
   {
    "duration": 11,
    "start_time": "2025-04-16T07:50:46.863Z"
   },
   {
    "duration": 91,
    "start_time": "2025-04-16T07:50:46.877Z"
   },
   {
    "duration": 16,
    "start_time": "2025-04-16T07:50:46.969Z"
   },
   {
    "duration": 25,
    "start_time": "2025-04-16T07:50:46.987Z"
   },
   {
    "duration": 370,
    "start_time": "2025-04-16T07:50:47.014Z"
   },
   {
    "duration": 33,
    "start_time": "2025-04-16T07:50:47.385Z"
   },
   {
    "duration": 2767,
    "start_time": "2025-04-16T07:50:47.419Z"
   },
   {
    "duration": 157,
    "start_time": "2025-04-16T07:50:50.187Z"
   },
   {
    "duration": 40,
    "start_time": "2025-04-16T07:50:50.345Z"
   },
   {
    "duration": 22,
    "start_time": "2025-04-16T07:50:50.386Z"
   },
   {
    "duration": 129,
    "start_time": "2025-04-16T07:50:50.410Z"
   },
   {
    "duration": 26,
    "start_time": "2025-04-16T07:50:50.541Z"
   },
   {
    "duration": 83,
    "start_time": "2025-04-16T07:50:50.568Z"
   },
   {
    "duration": 72,
    "start_time": "2025-04-16T07:50:50.652Z"
   },
   {
    "duration": 18,
    "start_time": "2025-04-16T07:50:50.734Z"
   },
   {
    "duration": 62,
    "start_time": "2025-04-16T07:50:50.753Z"
   },
   {
    "duration": 19,
    "start_time": "2025-04-16T07:50:50.817Z"
   },
   {
    "duration": 21,
    "start_time": "2025-04-16T07:50:50.838Z"
   },
   {
    "duration": 4,
    "start_time": "2025-04-16T07:50:50.860Z"
   },
   {
    "duration": 259,
    "start_time": "2025-04-16T07:50:50.866Z"
   },
   {
    "duration": 258,
    "start_time": "2025-04-16T07:50:51.126Z"
   },
   {
    "duration": 73,
    "start_time": "2025-04-16T07:50:51.385Z"
   },
   {
    "duration": 56,
    "start_time": "2025-04-16T07:50:51.459Z"
   },
   {
    "duration": 3,
    "start_time": "2025-04-16T07:50:51.517Z"
   },
   {
    "duration": 176,
    "start_time": "2025-04-16T07:50:51.521Z"
   },
   {
    "duration": 24,
    "start_time": "2025-04-16T07:50:51.699Z"
   },
   {
    "duration": 15,
    "start_time": "2025-04-16T07:50:51.725Z"
   },
   {
    "duration": 53,
    "start_time": "2025-04-16T07:50:51.742Z"
   },
   {
    "duration": 9,
    "start_time": "2025-04-16T07:50:51.796Z"
   },
   {
    "duration": 17,
    "start_time": "2025-04-16T07:50:51.807Z"
   },
   {
    "duration": 194,
    "start_time": "2025-04-16T07:50:51.825Z"
   },
   {
    "duration": 50,
    "start_time": "2025-04-16T07:50:52.021Z"
   },
   {
    "duration": 22,
    "start_time": "2025-04-16T07:50:52.073Z"
   },
   {
    "duration": 15,
    "start_time": "2025-04-16T07:50:52.097Z"
   },
   {
    "duration": 213,
    "start_time": "2025-04-16T07:50:52.113Z"
   },
   {
    "duration": 92,
    "start_time": "2025-04-16T07:50:52.328Z"
   },
   {
    "duration": 16,
    "start_time": "2025-04-16T07:50:52.422Z"
   },
   {
    "duration": 189,
    "start_time": "2025-04-16T07:50:52.439Z"
   },
   {
    "duration": 3728,
    "start_time": "2025-04-16T08:51:50.046Z"
   },
   {
    "duration": 112,
    "start_time": "2025-04-16T08:51:53.776Z"
   },
   {
    "duration": 0,
    "start_time": "2025-04-16T08:51:53.891Z"
   },
   {
    "duration": 0,
    "start_time": "2025-04-16T08:51:53.892Z"
   },
   {
    "duration": 0,
    "start_time": "2025-04-16T08:51:53.893Z"
   },
   {
    "duration": 0,
    "start_time": "2025-04-16T08:51:53.894Z"
   },
   {
    "duration": 0,
    "start_time": "2025-04-16T08:51:53.895Z"
   },
   {
    "duration": 0,
    "start_time": "2025-04-16T08:51:53.896Z"
   },
   {
    "duration": 0,
    "start_time": "2025-04-16T08:51:53.898Z"
   },
   {
    "duration": 0,
    "start_time": "2025-04-16T08:51:53.899Z"
   },
   {
    "duration": 0,
    "start_time": "2025-04-16T08:51:53.900Z"
   },
   {
    "duration": 0,
    "start_time": "2025-04-16T08:51:53.901Z"
   },
   {
    "duration": 0,
    "start_time": "2025-04-16T08:51:53.902Z"
   },
   {
    "duration": 0,
    "start_time": "2025-04-16T08:51:53.903Z"
   },
   {
    "duration": 0,
    "start_time": "2025-04-16T08:51:53.904Z"
   },
   {
    "duration": 0,
    "start_time": "2025-04-16T08:51:53.905Z"
   },
   {
    "duration": 0,
    "start_time": "2025-04-16T08:51:53.906Z"
   },
   {
    "duration": 0,
    "start_time": "2025-04-16T08:51:53.908Z"
   },
   {
    "duration": 0,
    "start_time": "2025-04-16T08:51:53.909Z"
   },
   {
    "duration": 0,
    "start_time": "2025-04-16T08:51:53.910Z"
   },
   {
    "duration": 0,
    "start_time": "2025-04-16T08:51:53.911Z"
   },
   {
    "duration": 0,
    "start_time": "2025-04-16T08:51:53.912Z"
   },
   {
    "duration": 0,
    "start_time": "2025-04-16T08:51:53.913Z"
   },
   {
    "duration": 0,
    "start_time": "2025-04-16T08:51:53.914Z"
   },
   {
    "duration": 0,
    "start_time": "2025-04-16T08:51:53.914Z"
   },
   {
    "duration": 0,
    "start_time": "2025-04-16T08:51:53.916Z"
   },
   {
    "duration": 0,
    "start_time": "2025-04-16T08:51:53.917Z"
   },
   {
    "duration": 0,
    "start_time": "2025-04-16T08:51:53.919Z"
   },
   {
    "duration": 0,
    "start_time": "2025-04-16T08:51:53.920Z"
   },
   {
    "duration": 0,
    "start_time": "2025-04-16T08:51:53.921Z"
   },
   {
    "duration": 0,
    "start_time": "2025-04-16T08:51:53.922Z"
   },
   {
    "duration": 0,
    "start_time": "2025-04-16T08:51:53.923Z"
   },
   {
    "duration": 0,
    "start_time": "2025-04-16T08:51:53.924Z"
   },
   {
    "duration": 0,
    "start_time": "2025-04-16T08:51:53.925Z"
   },
   {
    "duration": 0,
    "start_time": "2025-04-16T08:51:53.926Z"
   },
   {
    "duration": 0,
    "start_time": "2025-04-16T08:51:53.927Z"
   },
   {
    "duration": 0,
    "start_time": "2025-04-16T08:51:53.928Z"
   },
   {
    "duration": 0,
    "start_time": "2025-04-16T08:51:53.929Z"
   },
   {
    "duration": 0,
    "start_time": "2025-04-16T08:51:53.935Z"
   },
   {
    "duration": 0,
    "start_time": "2025-04-16T08:51:53.936Z"
   },
   {
    "duration": 0,
    "start_time": "2025-04-16T08:51:53.937Z"
   },
   {
    "duration": 0,
    "start_time": "2025-04-16T08:51:53.938Z"
   },
   {
    "duration": 0,
    "start_time": "2025-04-16T08:51:53.939Z"
   },
   {
    "duration": 0,
    "start_time": "2025-04-16T08:51:53.940Z"
   },
   {
    "duration": 0,
    "start_time": "2025-04-16T08:51:53.940Z"
   },
   {
    "duration": 0,
    "start_time": "2025-04-16T08:51:53.941Z"
   },
   {
    "duration": 0,
    "start_time": "2025-04-16T08:51:53.942Z"
   },
   {
    "duration": 0,
    "start_time": "2025-04-16T08:51:53.943Z"
   },
   {
    "duration": 0,
    "start_time": "2025-04-16T08:51:53.944Z"
   },
   {
    "duration": 0,
    "start_time": "2025-04-16T08:51:53.945Z"
   },
   {
    "duration": 0,
    "start_time": "2025-04-16T08:51:53.946Z"
   },
   {
    "duration": 0,
    "start_time": "2025-04-16T08:51:53.947Z"
   },
   {
    "duration": 0,
    "start_time": "2025-04-16T08:51:53.948Z"
   },
   {
    "duration": 0,
    "start_time": "2025-04-16T08:51:53.949Z"
   },
   {
    "duration": 1,
    "start_time": "2025-04-16T08:51:53.949Z"
   },
   {
    "duration": 0,
    "start_time": "2025-04-16T08:51:53.950Z"
   },
   {
    "duration": 0,
    "start_time": "2025-04-16T08:51:53.952Z"
   },
   {
    "duration": 0,
    "start_time": "2025-04-16T08:51:53.952Z"
   },
   {
    "duration": 0,
    "start_time": "2025-04-16T08:51:53.953Z"
   },
   {
    "duration": 0,
    "start_time": "2025-04-16T08:51:53.955Z"
   },
   {
    "duration": 0,
    "start_time": "2025-04-16T08:51:53.956Z"
   },
   {
    "duration": 0,
    "start_time": "2025-04-16T08:51:53.957Z"
   },
   {
    "duration": 0,
    "start_time": "2025-04-16T08:51:53.958Z"
   },
   {
    "duration": 0,
    "start_time": "2025-04-16T08:51:53.959Z"
   },
   {
    "duration": 0,
    "start_time": "2025-04-16T08:51:53.960Z"
   },
   {
    "duration": 122,
    "start_time": "2025-04-16T08:54:11.321Z"
   },
   {
    "duration": 99,
    "start_time": "2025-04-16T08:54:52.407Z"
   },
   {
    "duration": 3919,
    "start_time": "2025-04-16T08:55:04.083Z"
   },
   {
    "duration": 3946,
    "start_time": "2025-04-16T08:55:08.004Z"
   },
   {
    "duration": 12,
    "start_time": "2025-04-16T08:55:11.951Z"
   },
   {
    "duration": 11,
    "start_time": "2025-04-16T08:55:11.965Z"
   },
   {
    "duration": 11,
    "start_time": "2025-04-16T08:55:11.977Z"
   },
   {
    "duration": 22,
    "start_time": "2025-04-16T08:55:11.989Z"
   },
   {
    "duration": 112,
    "start_time": "2025-04-16T08:55:12.013Z"
   },
   {
    "duration": 88,
    "start_time": "2025-04-16T08:55:12.136Z"
   },
   {
    "duration": 91,
    "start_time": "2025-04-16T08:55:12.226Z"
   },
   {
    "duration": 102,
    "start_time": "2025-04-16T08:55:12.319Z"
   },
   {
    "duration": 13,
    "start_time": "2025-04-16T08:55:12.423Z"
   },
   {
    "duration": 17,
    "start_time": "2025-04-16T08:55:12.438Z"
   },
   {
    "duration": 15,
    "start_time": "2025-04-16T08:55:12.457Z"
   },
   {
    "duration": 8,
    "start_time": "2025-04-16T08:55:12.473Z"
   },
   {
    "duration": 61,
    "start_time": "2025-04-16T08:55:12.482Z"
   },
   {
    "duration": 34,
    "start_time": "2025-04-16T08:55:12.545Z"
   },
   {
    "duration": 35,
    "start_time": "2025-04-16T08:55:12.580Z"
   },
   {
    "duration": 28,
    "start_time": "2025-04-16T08:55:12.617Z"
   },
   {
    "duration": 25,
    "start_time": "2025-04-16T08:55:12.647Z"
   },
   {
    "duration": 10,
    "start_time": "2025-04-16T08:55:12.674Z"
   },
   {
    "duration": 11,
    "start_time": "2025-04-16T08:55:12.685Z"
   },
   {
    "duration": 7,
    "start_time": "2025-04-16T08:55:12.698Z"
   },
   {
    "duration": 30,
    "start_time": "2025-04-16T08:55:12.707Z"
   },
   {
    "duration": 11,
    "start_time": "2025-04-16T08:55:12.738Z"
   },
   {
    "duration": 6,
    "start_time": "2025-04-16T08:55:12.751Z"
   },
   {
    "duration": 170,
    "start_time": "2025-04-16T08:55:12.759Z"
   },
   {
    "duration": 13,
    "start_time": "2025-04-16T08:55:12.930Z"
   },
   {
    "duration": 70,
    "start_time": "2025-04-16T08:55:12.947Z"
   },
   {
    "duration": 29,
    "start_time": "2025-04-16T08:55:13.019Z"
   },
   {
    "duration": 27,
    "start_time": "2025-04-16T08:55:13.050Z"
   },
   {
    "duration": 365,
    "start_time": "2025-04-16T08:55:13.079Z"
   },
   {
    "duration": 30,
    "start_time": "2025-04-16T08:55:13.446Z"
   },
   {
    "duration": 2765,
    "start_time": "2025-04-16T08:55:13.477Z"
   },
   {
    "duration": 148,
    "start_time": "2025-04-16T08:55:16.244Z"
   },
   {
    "duration": 49,
    "start_time": "2025-04-16T08:55:16.394Z"
   },
   {
    "duration": 22,
    "start_time": "2025-04-16T08:55:16.444Z"
   },
   {
    "duration": 109,
    "start_time": "2025-04-16T08:55:16.467Z"
   },
   {
    "duration": 25,
    "start_time": "2025-04-16T08:55:16.577Z"
   },
   {
    "duration": 47,
    "start_time": "2025-04-16T08:55:16.603Z"
   },
   {
    "duration": 72,
    "start_time": "2025-04-16T08:55:16.652Z"
   },
   {
    "duration": 18,
    "start_time": "2025-04-16T08:55:16.736Z"
   },
   {
    "duration": 63,
    "start_time": "2025-04-16T08:55:16.755Z"
   },
   {
    "duration": 17,
    "start_time": "2025-04-16T08:55:16.819Z"
   },
   {
    "duration": 22,
    "start_time": "2025-04-16T08:55:16.838Z"
   },
   {
    "duration": 3,
    "start_time": "2025-04-16T08:55:16.862Z"
   },
   {
    "duration": 261,
    "start_time": "2025-04-16T08:55:16.867Z"
   },
   {
    "duration": 259,
    "start_time": "2025-04-16T08:55:17.130Z"
   },
   {
    "duration": 70,
    "start_time": "2025-04-16T08:55:17.390Z"
   },
   {
    "duration": 55,
    "start_time": "2025-04-16T08:55:17.462Z"
   },
   {
    "duration": 28,
    "start_time": "2025-04-16T08:55:17.519Z"
   },
   {
    "duration": 32,
    "start_time": "2025-04-16T08:55:17.549Z"
   },
   {
    "duration": 24,
    "start_time": "2025-04-16T08:55:17.583Z"
   },
   {
    "duration": 16,
    "start_time": "2025-04-16T08:55:17.609Z"
   },
   {
    "duration": 16,
    "start_time": "2025-04-16T08:55:17.627Z"
   },
   {
    "duration": 9,
    "start_time": "2025-04-16T08:55:17.645Z"
   },
   {
    "duration": 6,
    "start_time": "2025-04-16T08:55:17.656Z"
   },
   {
    "duration": 216,
    "start_time": "2025-04-16T08:55:17.664Z"
   },
   {
    "duration": 54,
    "start_time": "2025-04-16T08:55:17.881Z"
   },
   {
    "duration": 43,
    "start_time": "2025-04-16T08:55:17.938Z"
   },
   {
    "duration": 7,
    "start_time": "2025-04-16T08:55:17.983Z"
   },
   {
    "duration": 198,
    "start_time": "2025-04-16T08:55:17.991Z"
   },
   {
    "duration": 94,
    "start_time": "2025-04-16T08:55:18.191Z"
   },
   {
    "duration": 7,
    "start_time": "2025-04-16T08:55:18.287Z"
   },
   {
    "duration": 164,
    "start_time": "2025-04-16T08:55:18.295Z"
   },
   {
    "duration": 56,
    "start_time": "2025-04-16T21:16:37.611Z"
   },
   {
    "duration": 8,
    "start_time": "2025-04-16T21:18:52.241Z"
   },
   {
    "duration": 4824,
    "start_time": "2025-04-16T21:19:01.961Z"
   },
   {
    "duration": 2392,
    "start_time": "2025-04-16T21:19:06.787Z"
   },
   {
    "duration": 13,
    "start_time": "2025-04-16T21:19:09.180Z"
   },
   {
    "duration": 12,
    "start_time": "2025-04-16T21:19:09.195Z"
   },
   {
    "duration": 10,
    "start_time": "2025-04-16T21:19:09.208Z"
   },
   {
    "duration": 26,
    "start_time": "2025-04-16T21:19:09.220Z"
   },
   {
    "duration": 103,
    "start_time": "2025-04-16T21:19:09.248Z"
   },
   {
    "duration": 100,
    "start_time": "2025-04-16T21:19:09.352Z"
   },
   {
    "duration": 101,
    "start_time": "2025-04-16T21:19:09.454Z"
   },
   {
    "duration": 105,
    "start_time": "2025-04-16T21:19:09.557Z"
   },
   {
    "duration": 7,
    "start_time": "2025-04-16T21:19:09.664Z"
   },
   {
    "duration": 17,
    "start_time": "2025-04-16T21:19:09.673Z"
   },
   {
    "duration": 16,
    "start_time": "2025-04-16T21:19:09.692Z"
   },
   {
    "duration": 32,
    "start_time": "2025-04-16T21:19:09.709Z"
   },
   {
    "duration": 63,
    "start_time": "2025-04-16T21:19:09.742Z"
   },
   {
    "duration": 36,
    "start_time": "2025-04-16T21:19:09.806Z"
   },
   {
    "duration": 109,
    "start_time": "2025-04-16T21:19:09.844Z"
   },
   {
    "duration": 25,
    "start_time": "2025-04-16T21:19:09.955Z"
   },
   {
    "duration": 20,
    "start_time": "2025-04-16T21:19:09.982Z"
   },
   {
    "duration": 21,
    "start_time": "2025-04-16T21:19:10.004Z"
   },
   {
    "duration": 43,
    "start_time": "2025-04-16T21:19:10.027Z"
   },
   {
    "duration": 131,
    "start_time": "2025-04-16T21:19:10.072Z"
   },
   {
    "duration": 23,
    "start_time": "2025-04-16T21:19:10.204Z"
   },
   {
    "duration": 27,
    "start_time": "2025-04-16T21:19:10.229Z"
   },
   {
    "duration": 7,
    "start_time": "2025-04-16T21:19:10.257Z"
   },
   {
    "duration": 164,
    "start_time": "2025-04-16T21:19:10.266Z"
   },
   {
    "duration": 48,
    "start_time": "2025-04-16T21:19:10.432Z"
   },
   {
    "duration": 12,
    "start_time": "2025-04-16T21:19:10.484Z"
   },
   {
    "duration": 91,
    "start_time": "2025-04-16T21:19:10.497Z"
   },
   {
    "duration": 14,
    "start_time": "2025-04-16T21:19:10.590Z"
   },
   {
    "duration": 38,
    "start_time": "2025-04-16T21:19:10.606Z"
   },
   {
    "duration": 420,
    "start_time": "2025-04-16T21:19:10.645Z"
   },
   {
    "duration": 32,
    "start_time": "2025-04-16T21:19:11.067Z"
   },
   {
    "duration": 2841,
    "start_time": "2025-04-16T21:19:11.101Z"
   },
   {
    "duration": 158,
    "start_time": "2025-04-16T21:19:13.944Z"
   },
   {
    "duration": 51,
    "start_time": "2025-04-16T21:19:14.104Z"
   },
   {
    "duration": 114,
    "start_time": "2025-04-16T21:19:14.157Z"
   },
   {
    "duration": 107,
    "start_time": "2025-04-16T21:19:14.273Z"
   },
   {
    "duration": 40,
    "start_time": "2025-04-16T21:19:14.383Z"
   },
   {
    "duration": 40,
    "start_time": "2025-04-16T21:19:14.435Z"
   },
   {
    "duration": 88,
    "start_time": "2025-04-16T21:19:14.477Z"
   },
   {
    "duration": 18,
    "start_time": "2025-04-16T21:19:14.567Z"
   },
   {
    "duration": 76,
    "start_time": "2025-04-16T21:19:14.587Z"
   },
   {
    "duration": 69,
    "start_time": "2025-04-16T21:19:14.664Z"
   },
   {
    "duration": 36,
    "start_time": "2025-04-16T21:19:14.735Z"
   },
   {
    "duration": 9,
    "start_time": "2025-04-16T21:19:14.773Z"
   },
   {
    "duration": 295,
    "start_time": "2025-04-16T21:19:14.784Z"
   },
   {
    "duration": 281,
    "start_time": "2025-04-16T21:19:15.080Z"
   },
   {
    "duration": 75,
    "start_time": "2025-04-16T21:19:15.362Z"
   },
   {
    "duration": 96,
    "start_time": "2025-04-16T21:19:15.439Z"
   },
   {
    "duration": 3,
    "start_time": "2025-04-16T21:19:15.537Z"
   },
   {
    "duration": 85,
    "start_time": "2025-04-16T21:19:15.542Z"
   },
   {
    "duration": 25,
    "start_time": "2025-04-16T21:19:15.628Z"
   },
   {
    "duration": 44,
    "start_time": "2025-04-16T21:19:15.655Z"
   },
   {
    "duration": 25,
    "start_time": "2025-04-16T21:19:15.701Z"
   },
   {
    "duration": 34,
    "start_time": "2025-04-16T21:19:15.727Z"
   },
   {
    "duration": 20,
    "start_time": "2025-04-16T21:19:15.762Z"
   },
   {
    "duration": 227,
    "start_time": "2025-04-16T21:19:15.784Z"
   },
   {
    "duration": 184,
    "start_time": "2025-04-16T21:19:16.013Z"
   },
   {
    "duration": 63,
    "start_time": "2025-04-16T21:19:16.199Z"
   },
   {
    "duration": 20,
    "start_time": "2025-04-16T21:19:16.263Z"
   },
   {
    "duration": 7,
    "start_time": "2025-04-16T21:19:16.285Z"
   },
   {
    "duration": 245,
    "start_time": "2025-04-16T21:19:16.294Z"
   },
   {
    "duration": 20,
    "start_time": "2025-04-16T21:19:16.540Z"
   },
   {
    "duration": 11,
    "start_time": "2025-04-16T21:19:16.562Z"
   },
   {
    "duration": 172,
    "start_time": "2025-04-16T21:19:16.575Z"
   },
   {
    "duration": 128,
    "start_time": "2025-04-16T21:20:09.040Z"
   },
   {
    "duration": 129,
    "start_time": "2025-04-16T21:20:41.098Z"
   },
   {
    "duration": 124,
    "start_time": "2025-04-16T21:21:13.465Z"
   },
   {
    "duration": 132,
    "start_time": "2025-04-16T21:21:33.321Z"
   },
   {
    "duration": 145,
    "start_time": "2025-04-16T21:21:51.364Z"
   },
   {
    "duration": 228,
    "start_time": "2025-04-16T21:22:05.022Z"
   },
   {
    "duration": 113,
    "start_time": "2025-04-16T21:23:08.565Z"
   },
   {
    "duration": 128,
    "start_time": "2025-04-16T21:23:18.383Z"
   },
   {
    "duration": 129,
    "start_time": "2025-04-16T21:23:36.204Z"
   },
   {
    "duration": 126,
    "start_time": "2025-04-16T21:23:43.053Z"
   },
   {
    "duration": 137,
    "start_time": "2025-04-16T21:24:23.582Z"
   },
   {
    "duration": 145,
    "start_time": "2025-04-16T21:24:39.352Z"
   },
   {
    "duration": 125,
    "start_time": "2025-04-16T21:25:03.731Z"
   },
   {
    "duration": 102,
    "start_time": "2025-04-16T21:25:10.193Z"
   },
   {
    "duration": 134,
    "start_time": "2025-04-16T21:25:21.870Z"
   },
   {
    "duration": 124,
    "start_time": "2025-04-16T21:26:21.015Z"
   },
   {
    "duration": 108,
    "start_time": "2025-04-16T21:26:50.169Z"
   },
   {
    "duration": 99,
    "start_time": "2025-04-16T21:28:00.454Z"
   },
   {
    "duration": 143,
    "start_time": "2025-04-16T21:28:55.190Z"
   },
   {
    "duration": 242,
    "start_time": "2025-04-16T21:30:08.037Z"
   },
   {
    "duration": 104,
    "start_time": "2025-04-16T21:40:31.440Z"
   },
   {
    "duration": 10,
    "start_time": "2025-04-16T21:40:56.137Z"
   },
   {
    "duration": 18,
    "start_time": "2025-04-16T21:41:02.714Z"
   },
   {
    "duration": 110,
    "start_time": "2025-04-16T21:41:17.405Z"
   },
   {
    "duration": 10,
    "start_time": "2025-04-16T21:43:14.512Z"
   },
   {
    "duration": 10,
    "start_time": "2025-04-16T21:43:40.856Z"
   },
   {
    "duration": 9,
    "start_time": "2025-04-16T21:46:12.581Z"
   },
   {
    "duration": 10,
    "start_time": "2025-04-16T21:46:22.221Z"
   },
   {
    "duration": 10,
    "start_time": "2025-04-16T21:46:29.034Z"
   },
   {
    "duration": 10,
    "start_time": "2025-04-16T21:46:35.805Z"
   },
   {
    "duration": 10,
    "start_time": "2025-04-16T21:46:41.788Z"
   },
   {
    "duration": 11,
    "start_time": "2025-04-16T21:46:47.648Z"
   },
   {
    "duration": 10,
    "start_time": "2025-04-16T21:46:52.357Z"
   },
   {
    "duration": 9,
    "start_time": "2025-04-16T21:46:58.504Z"
   },
   {
    "duration": 8,
    "start_time": "2025-04-16T21:47:15.821Z"
   },
   {
    "duration": 17,
    "start_time": "2025-04-16T21:48:33.166Z"
   },
   {
    "duration": 8,
    "start_time": "2025-04-16T21:50:46.351Z"
   },
   {
    "duration": 11,
    "start_time": "2025-04-16T21:51:19.269Z"
   },
   {
    "duration": 8,
    "start_time": "2025-04-16T21:51:24.618Z"
   },
   {
    "duration": 10,
    "start_time": "2025-04-16T21:52:23.639Z"
   },
   {
    "duration": 9,
    "start_time": "2025-04-16T21:52:28.871Z"
   },
   {
    "duration": 10,
    "start_time": "2025-04-16T21:59:21.319Z"
   },
   {
    "duration": 9,
    "start_time": "2025-04-16T22:02:48.853Z"
   },
   {
    "duration": 8,
    "start_time": "2025-04-16T22:03:24.929Z"
   },
   {
    "duration": 8,
    "start_time": "2025-04-16T22:04:17.486Z"
   },
   {
    "duration": 13,
    "start_time": "2025-04-16T22:18:38.112Z"
   },
   {
    "duration": 21,
    "start_time": "2025-04-16T22:20:17.266Z"
   },
   {
    "duration": 67,
    "start_time": "2025-04-16T22:25:10.149Z"
   },
   {
    "duration": 20,
    "start_time": "2025-04-16T22:28:11.923Z"
   },
   {
    "duration": 16,
    "start_time": "2025-04-16T22:36:53.149Z"
   },
   {
    "duration": 20,
    "start_time": "2025-04-16T22:36:54.002Z"
   },
   {
    "duration": 169,
    "start_time": "2025-04-16T22:50:19.560Z"
   },
   {
    "duration": 151,
    "start_time": "2025-04-16T22:50:28.826Z"
   },
   {
    "duration": 145,
    "start_time": "2025-04-16T22:52:51.795Z"
   },
   {
    "duration": 154,
    "start_time": "2025-04-16T22:55:19.595Z"
   },
   {
    "duration": 154,
    "start_time": "2025-04-16T23:14:22.505Z"
   },
   {
    "duration": 68,
    "start_time": "2025-04-16T23:24:08.672Z"
   },
   {
    "duration": 70,
    "start_time": "2025-04-16T23:27:40.977Z"
   },
   {
    "duration": 3711,
    "start_time": "2025-04-16T23:28:18.663Z"
   },
   {
    "duration": 4176,
    "start_time": "2025-04-16T23:28:22.376Z"
   },
   {
    "duration": 11,
    "start_time": "2025-04-16T23:28:26.554Z"
   },
   {
    "duration": 22,
    "start_time": "2025-04-16T23:28:26.567Z"
   },
   {
    "duration": 22,
    "start_time": "2025-04-16T23:28:26.591Z"
   },
   {
    "duration": 89,
    "start_time": "2025-04-16T23:28:26.614Z"
   },
   {
    "duration": 99,
    "start_time": "2025-04-16T23:28:26.705Z"
   },
   {
    "duration": 93,
    "start_time": "2025-04-16T23:28:26.806Z"
   },
   {
    "duration": 94,
    "start_time": "2025-04-16T23:28:26.901Z"
   },
   {
    "duration": 97,
    "start_time": "2025-04-16T23:28:26.998Z"
   },
   {
    "duration": 7,
    "start_time": "2025-04-16T23:28:27.096Z"
   },
   {
    "duration": 77,
    "start_time": "2025-04-16T23:28:27.105Z"
   },
   {
    "duration": 16,
    "start_time": "2025-04-16T23:28:27.184Z"
   },
   {
    "duration": 9,
    "start_time": "2025-04-16T23:28:27.201Z"
   },
   {
    "duration": 38,
    "start_time": "2025-04-16T23:28:27.211Z"
   },
   {
    "duration": 36,
    "start_time": "2025-04-16T23:28:27.251Z"
   },
   {
    "duration": 9,
    "start_time": "2025-04-16T23:28:27.288Z"
   },
   {
    "duration": 44,
    "start_time": "2025-04-16T23:28:27.299Z"
   },
   {
    "duration": 21,
    "start_time": "2025-04-16T23:28:27.345Z"
   },
   {
    "duration": 20,
    "start_time": "2025-04-16T23:28:27.368Z"
   },
   {
    "duration": 14,
    "start_time": "2025-04-16T23:28:27.390Z"
   },
   {
    "duration": 9,
    "start_time": "2025-04-16T23:28:27.405Z"
   },
   {
    "duration": 23,
    "start_time": "2025-04-16T23:28:27.416Z"
   },
   {
    "duration": 14,
    "start_time": "2025-04-16T23:28:27.440Z"
   },
   {
    "duration": 5,
    "start_time": "2025-04-16T23:28:27.456Z"
   },
   {
    "duration": 169,
    "start_time": "2025-04-16T23:28:27.463Z"
   },
   {
    "duration": 47,
    "start_time": "2025-04-16T23:28:27.633Z"
   },
   {
    "duration": 10,
    "start_time": "2025-04-16T23:28:27.684Z"
   },
   {
    "duration": 95,
    "start_time": "2025-04-16T23:28:27.696Z"
   },
   {
    "duration": 15,
    "start_time": "2025-04-16T23:28:27.793Z"
   },
   {
    "duration": 39,
    "start_time": "2025-04-16T23:28:27.809Z"
   },
   {
    "duration": 347,
    "start_time": "2025-04-16T23:28:27.850Z"
   },
   {
    "duration": 32,
    "start_time": "2025-04-16T23:28:28.198Z"
   },
   {
    "duration": 2856,
    "start_time": "2025-04-16T23:28:28.232Z"
   },
   {
    "duration": 154,
    "start_time": "2025-04-16T23:28:31.089Z"
   },
   {
    "duration": 42,
    "start_time": "2025-04-16T23:28:31.245Z"
   },
   {
    "duration": 21,
    "start_time": "2025-04-16T23:28:31.288Z"
   },
   {
    "duration": 94,
    "start_time": "2025-04-16T23:28:31.311Z"
   },
   {
    "duration": 36,
    "start_time": "2025-04-16T23:28:31.407Z"
   },
   {
    "duration": 40,
    "start_time": "2025-04-16T23:28:31.444Z"
   },
   {
    "duration": 83,
    "start_time": "2025-04-16T23:28:31.486Z"
   },
   {
    "duration": 18,
    "start_time": "2025-04-16T23:28:31.570Z"
   },
   {
    "duration": 74,
    "start_time": "2025-04-16T23:28:31.590Z"
   },
   {
    "duration": 4,
    "start_time": "2025-04-16T23:28:31.666Z"
   },
   {
    "duration": 37,
    "start_time": "2025-04-16T23:28:31.671Z"
   },
   {
    "duration": 22,
    "start_time": "2025-04-16T23:28:31.709Z"
   },
   {
    "duration": 272,
    "start_time": "2025-04-16T23:28:31.733Z"
   },
   {
    "duration": 293,
    "start_time": "2025-04-16T23:28:32.007Z"
   },
   {
    "duration": 69,
    "start_time": "2025-04-16T23:28:32.302Z"
   },
   {
    "duration": 66,
    "start_time": "2025-04-16T23:28:32.372Z"
   },
   {
    "duration": 4,
    "start_time": "2025-04-16T23:28:32.439Z"
   },
   {
    "duration": 131,
    "start_time": "2025-04-16T23:28:32.444Z"
   },
   {
    "duration": 23,
    "start_time": "2025-04-16T23:28:32.576Z"
   },
   {
    "duration": 20,
    "start_time": "2025-04-16T23:28:32.601Z"
   },
   {
    "duration": 110,
    "start_time": "2025-04-16T23:28:32.623Z"
   },
   {
    "duration": 9,
    "start_time": "2025-04-16T23:28:32.735Z"
   },
   {
    "duration": 7,
    "start_time": "2025-04-16T23:28:32.745Z"
   },
   {
    "duration": 210,
    "start_time": "2025-04-16T23:28:32.753Z"
   },
   {
    "duration": 147,
    "start_time": "2025-04-16T23:28:32.964Z"
   },
   {
    "duration": 63,
    "start_time": "2025-04-16T23:28:33.113Z"
   },
   {
    "duration": 18,
    "start_time": "2025-04-16T23:28:33.178Z"
   },
   {
    "duration": 7,
    "start_time": "2025-04-16T23:28:33.198Z"
   },
   {
    "duration": 233,
    "start_time": "2025-04-16T23:28:33.206Z"
   },
   {
    "duration": 15,
    "start_time": "2025-04-16T23:28:33.440Z"
   },
   {
    "duration": 28,
    "start_time": "2025-04-16T23:28:33.456Z"
   },
   {
    "duration": 8,
    "start_time": "2025-04-16T23:28:33.485Z"
   },
   {
    "duration": 165,
    "start_time": "2025-04-16T23:28:33.494Z"
   },
   {
    "duration": 160,
    "start_time": "2025-04-16T23:28:33.660Z"
   }
  ],
  "colab": {
   "provenance": []
  },
  "kernelspec": {
   "display_name": "Python 3 (ipykernel)",
   "language": "python",
   "name": "python3"
  },
  "language_info": {
   "codemirror_mode": {
    "name": "ipython",
    "version": 3
   },
   "file_extension": ".py",
   "mimetype": "text/x-python",
   "name": "python",
   "nbconvert_exporter": "python",
   "pygments_lexer": "ipython3",
   "version": "3.9.5"
  },
  "toc": {
   "base_numbering": 1,
   "nav_menu": {},
   "number_sections": true,
   "sideBar": true,
   "skip_h1_title": true,
   "title_cell": "Table of Contents",
   "title_sidebar": "Contents",
   "toc_cell": false,
   "toc_position": {},
   "toc_section_display": true,
   "toc_window_display": false
  }
 },
 "nbformat": 4,
 "nbformat_minor": 1
}
